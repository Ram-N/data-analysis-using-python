{
 "cells": [
  {
   "cell_type": "markdown",
   "metadata": {
    "slideshow": {
     "slide_type": "slide"
    }
   },
   "source": [
    "### Day 1\n",
    "\n",
    "# Introduction to Jupyter Notebooks\n",
    "\n",
    "<img src = \"images/logo.jpg\", width=\"100\" align=\"left\">\n",
    "\n",
    "Ram Narasimhan"
   ]
  },
  {
   "cell_type": "markdown",
   "metadata": {
    "collapsed": true,
    "slideshow": {
     "slide_type": "slide"
    }
   },
   "source": [
    "# What we will cover\n",
    "\n"
   ]
  },
  {
   "cell_type": "markdown",
   "metadata": {
    "collapsed": true,
    "slideshow": {
     "slide_type": "fragment"
    }
   },
   "source": [
    "1. What are Jupyter notebooks? Purpose?\n",
    "2. What are its components?\n",
    "3. How to start our own Jupyter Notebook\n",
    "4. Edit mode vs. Command Mode\n",
    "4. Python vs. \"Markdown\"\n",
    "4. Save and Sharing (Exporting) notebooks\n"
   ]
  },
  {
   "cell_type": "markdown",
   "metadata": {
    "slideshow": {
     "slide_type": "slide"
    }
   },
   "source": [
    "# Jupyter Notebook\n",
    "\n",
    "**<div class=\"alert alert-block alert-warning\">A notebook is an interactive document containing code, ouput, text, plots and images.\n",
    "</div> **\n",
    "\n",
    "A notebook is saved in a file with the **`.ipynb extension`**. \n",
    "\n",
    "(This file is a plain text file storing a JSON data structure.)\n",
    "\n",
    "<div class=\"alert alert-block alert-info\">Tip: This is in itself a Jupyter Notebook.</div>"
   ]
  },
  {
   "cell_type": "markdown",
   "metadata": {
    "slideshow": {
     "slide_type": "slide"
    }
   },
   "source": [
    "# How to Launch a Jupyter Notebook?"
   ]
  },
  {
   "cell_type": "markdown",
   "metadata": {
    "slideshow": {
     "slide_type": "slide"
    }
   },
   "source": [
    "Type `jupyter notebook`\n",
    "\n",
    "This will start the Jupyter server and open a new window in your browser (if that's not the case, go to the following URL: http://localhost:8888). Here is what Jupyter's entry point - the Notebook dashboard looks like:\n",
    "\n",
    "\n",
    "<img src = \"images/jupyter/j1.png\", align=\"left\">"
   ]
  },
  {
   "cell_type": "markdown",
   "metadata": {
    "slideshow": {
     "slide_type": "slide"
    }
   },
   "source": [
    "# The dashboard contains 3 tabs:\n",
    "\n",
    "### Files: shows all files and notebooks in the current directory\n",
    "### Running: shows all kernels currently running on your computer\n",
    "### Clusters: lets you launch kernels for parallel computing"
   ]
  },
  {
   "cell_type": "markdown",
   "metadata": {
    "slideshow": {
     "slide_type": "slide"
    }
   },
   "source": [
    "\n",
    "<img src = \"images/jupyter/j3.png\", align=\"left\">"
   ]
  },
  {
   "cell_type": "markdown",
   "metadata": {
    "slideshow": {
     "slide_type": "slide"
    }
   },
   "source": [
    "# To start a New Notebook, click the \"NEW\" dropdown... (top right)"
   ]
  },
  {
   "cell_type": "markdown",
   "metadata": {
    "slideshow": {
     "slide_type": "slide"
    }
   },
   "source": [
    "\n",
    "<img src = \"images/jupyter/j4.png\", align=\"left\">"
   ]
  },
  {
   "cell_type": "markdown",
   "metadata": {
    "slideshow": {
     "slide_type": "slide"
    }
   },
   "source": [
    "# Cells \n",
    "\n",
    "These are the basic blocks of a Jupyter Notebook.\n",
    "Inside each cell, you can enter text (Python Code) and when you execute the code (Run it), you will see the cell output.\n",
    "\n",
    "All Python cells (code cells) have a sequence number."
   ]
  },
  {
   "cell_type": "markdown",
   "metadata": {
    "slideshow": {
     "slide_type": "slide"
    }
   },
   "source": [
    "\n",
    "<img src = \"images/jupyter/j5.png\", width=700, align=\"left\">"
   ]
  },
  {
   "cell_type": "markdown",
   "metadata": {
    "slideshow": {
     "slide_type": "slide"
    }
   },
   "source": [
    "# When a Cell is Busy\n",
    "<img src = \"images/jupyter/j7.png\", width=700, align=\"left\">"
   ]
  },
  {
   "cell_type": "markdown",
   "metadata": {
    "slideshow": {
     "slide_type": "slide"
    }
   },
   "source": [
    "There are two main types of cells: Markdown cells and code cells, and they are described as follows:"
   ]
  },
  {
   "cell_type": "markdown",
   "metadata": {
    "slideshow": {
     "slide_type": "fragment"
    }
   },
   "source": [
    "A **Markdown cell** contains rich text. In addition to classic formatting options like bold or italics, we can add links, images, HTML elements, mathematical equations etc."
   ]
  },
  {
   "cell_type": "markdown",
   "metadata": {
    "slideshow": {
     "slide_type": "fragment"
    }
   },
   "source": [
    "A **code cell** contains code to be executed by the kernel. The programming language corresponds to the kernel's language. We will only use Python in this course.\n"
   ]
  },
  {
   "cell_type": "markdown",
   "metadata": {
    "slideshow": {
     "slide_type": "slide"
    }
   },
   "source": [
    "# You can be in one of 2 MODES"
   ]
  },
  {
   "cell_type": "markdown",
   "metadata": {
    "slideshow": {
     "slide_type": "fragment"
    }
   },
   "source": [
    "The **Edit mode** to write code (the selected cell has a green border, and a pen icon appears at the top right of the interface). Click inside a cell to enable the edit mode for this cell (you need to double-click with Markdown cells)."
   ]
  },
  {
   "cell_type": "markdown",
   "metadata": {
    "slideshow": {
     "slide_type": "fragment"
    }
   },
   "source": [
    "Use the **Command mode** to operate on cells (the selected cell has a gray border, and there is no pencil icon). Click outside the text area of a cell to enable the command mode (you can also press the Esc key)."
   ]
  },
  {
   "cell_type": "markdown",
   "metadata": {
    "slideshow": {
     "slide_type": "slide"
    }
   },
   "source": [
    "\n",
    "<img src = \"images/jupyter/j2.png\", align=\"left\">"
   ]
  },
  {
   "cell_type": "markdown",
   "metadata": {
    "slideshow": {
     "slide_type": "fragment"
    }
   },
   "source": [
    "Here are the main components of the interface, from top to bottom:\n",
    "\n",
    "- The **notebook name**, which you can change by clicking on it. This is also the name of the .ipynb file.\n",
    "- The **Menu bar** gives you access to several actions pertaining to either the notebook or the kernel.\n",
    "- To the right of the menu bar is the **Kernel name**. You can change the kernel language of your notebook from the Kernel menu.\n",
    "- The **Toolbar** contains icons for common actions. The dropdown menu showing Code lets you change the type of a cell."
   ]
  },
  {
   "cell_type": "markdown",
   "metadata": {
    "slideshow": {
     "slide_type": "slide"
    }
   },
   "source": [
    "# Getting Help\n",
    "\n",
    "Jupyter comes pre-packaged with Excellent Help. \n",
    "All we have to do is look!"
   ]
  },
  {
   "cell_type": "markdown",
   "metadata": {
    "slideshow": {
     "slide_type": "slide"
    }
   },
   "source": [
    "\n",
    "<img src = \"images/jupyter/j6.png\", align=\"left\">"
   ]
  },
  {
   "cell_type": "markdown",
   "metadata": {
    "slideshow": {
     "slide_type": "slide"
    }
   },
   "source": [
    "Here are a few keyboard shortcuts when a cell is selected:\n",
    "\n",
    "- Ctrl + Enter: run the cell\n",
    "- Shift + Enter: run the cell and select the cell below\n",
    "- Alt + Enter: run the cell and insert a new cell below\n",
    "- Ctrl + S: save the notebook"
   ]
  },
  {
   "cell_type": "markdown",
   "metadata": {
    "slideshow": {
     "slide_type": "slide"
    }
   },
   "source": [
    "# Go ahead and take the \"User Interface Tour\""
   ]
  },
  {
   "cell_type": "markdown",
   "metadata": {
    "slideshow": {
     "slide_type": "slide"
    }
   },
   "source": [
    "# <div class=\"alert alert-block alert-success\"> Exercises    </div>"
   ]
  },
  {
   "cell_type": "markdown",
   "metadata": {
    "slideshow": {
     "slide_type": "slide"
    }
   },
   "source": [
    "# Rename your notebook to some other name.\n"
   ]
  },
  {
   "cell_type": "markdown",
   "metadata": {
    "slideshow": {
     "slide_type": "slide"
    }
   },
   "source": [
    "Try to:\n",
    "\n",
    "# Turn off the Header. (Bring it back on)\n",
    "\n",
    "# Turn off the Toolbar. (Bring it back on)\n"
   ]
  },
  {
   "cell_type": "markdown",
   "metadata": {
    "slideshow": {
     "slide_type": "slide"
    }
   },
   "source": [
    "# In a cell type \n",
    "`print(hello world!\")`\n",
    "\n",
    "Run this cell.\n",
    "\n",
    "Make a copy of this cell."
   ]
  },
  {
   "cell_type": "markdown",
   "metadata": {
    "slideshow": {
     "slide_type": "slide"
    }
   },
   "source": [
    "## Save your notebook.\n",
    "\n",
    "## Go and see which Notebooks are 'active'"
   ]
  },
  {
   "cell_type": "markdown",
   "metadata": {
    "slideshow": {
     "slide_type": "slide"
    }
   },
   "source": [
    "\n",
    "<img src = \"images/jupyter/j10.png\", align=\"left\">"
   ]
  },
  {
   "cell_type": "markdown",
   "metadata": {
    "slideshow": {
     "slide_type": "slide"
    }
   },
   "source": [
    "A **kernel** is a process running an interactive session. When using Jupyter, this kernel is a Python process. There are kernels in many languages other than Python.\n",
    "\n",
    "In Jupyter, notebooks and kernels are strongly separated. A notebook is a file, whereas a kernel is a process. The kernel receives snippets of code from the Notebook interface, executes them, and sends the outputs and possible errors back to the Notebook interface. "
   ]
  },
  {
   "cell_type": "markdown",
   "metadata": {
    "slideshow": {
     "slide_type": "slide"
    }
   },
   "source": [
    "A notebook is persistent (it's a file), whereas a kernel may be closed at the end of an interactive session.\n",
    "\n",
    "When a notebook is re-opened, it needs to be re-executed."
   ]
  },
  {
   "cell_type": "markdown",
   "metadata": {
    "slideshow": {
     "slide_type": "slide"
    }
   },
   "source": [
    "![Questions](images/questions.png)"
   ]
  },
  {
   "cell_type": "markdown",
   "metadata": {},
   "source": [
    "# References & Acknowledgements\n",
    "\n",
    "- https://www.packtpub.com/books/content/basics-jupyter-notebook-and-\n",
    "- Jupyter Notebook interface explained at http://jupyter-notebook.readthedocs.org/en/latest/notebook.html"
   ]
  },
  {
   "cell_type": "markdown",
   "metadata": {
    "collapsed": true,
    "slideshow": {
     "slide_type": "slide"
    }
   },
   "source": [
    "[section title](#section_ID)"
   ]
  },
  {
   "cell_type": "markdown",
   "metadata": {
    "collapsed": true,
    "slideshow": {
     "slide_type": "slide"
    }
   },
   "source": [
    "__[link text](http://url)__ : External Link\n"
   ]
  },
  {
   "cell_type": "code",
   "execution_count": null,
   "metadata": {
    "collapsed": true
   },
   "outputs": [],
   "source": []
  },
  {
   "cell_type": "code",
   "execution_count": null,
   "metadata": {
    "collapsed": true
   },
   "outputs": [],
   "source": []
  },
  {
   "cell_type": "markdown",
   "metadata": {
    "slideshow": {
     "slide_type": "slide"
    }
   },
   "source": [
    "<a id=\"section_ID\"></a>\n",
    "# Subsection"
   ]
  },
  {
   "cell_type": "markdown",
   "metadata": {},
   "source": [
    "***"
   ]
  },
  {
   "cell_type": "markdown",
   "metadata": {},
   "source": [
    "<div class=\"alert alert-block alert-info\">Tip: Use blue boxes for Tips and notes. If it’s a note, you don’t have to include the word “Note”.</div>"
   ]
  },
  {
   "cell_type": "markdown",
   "metadata": {},
   "source": [
    "<div class=\"alert alert-block alert-warning\">Example: Use yellow boxes for examples that are not inside code cells, or use for mathematical formulas if needed.</div>\n",
    "<div class=\"alert alert-block alert-success\">Up to you: Use green boxes sparingly, and only for some specific purpose that the other boxes can't cover. For example, if you have a lot of related content to link to, maybe you decide to use green boxes for related links from each section of a notebook. </div>\n",
    "\n",
    "<div class=\"alert alert-block alert-danger\">**Just don't: In general, just avoid the red boxes.**</div>"
   ]
  },
  {
   "cell_type": "code",
   "execution_count": null,
   "metadata": {
    "collapsed": true
   },
   "outputs": [],
   "source": []
  }
 ],
 "metadata": {
  "celltoolbar": "Slideshow",
  "kernelspec": {
   "display_name": "Python 3",
   "language": "python",
   "name": "python3"
  },
  "language_info": {
   "codemirror_mode": {
    "name": "ipython",
    "version": 3
   },
   "file_extension": ".py",
   "mimetype": "text/x-python",
   "name": "python",
   "nbconvert_exporter": "python",
   "pygments_lexer": "ipython3",
   "version": "3.6.0"
  }
 },
 "nbformat": 4,
 "nbformat_minor": 2
}
