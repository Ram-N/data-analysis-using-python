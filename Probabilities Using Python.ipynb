{
 "cells": [
  {
   "cell_type": "markdown",
   "metadata": {},
   "source": [
    "# The Basics of Probability Using Python\n",
    "\n",
    "### Ram Narasimhan\n"
   ]
  },
  {
   "cell_type": "markdown",
   "metadata": {
    "slideshow": {
     "slide_type": "slide"
    }
   },
   "source": [
    "# Introduction to Probability using Python"
   ]
  },
  {
   "cell_type": "markdown",
   "metadata": {
    "slideshow": {
     "slide_type": "slide"
    }
   },
   "source": [
    " * How to use probability using numpy\n",
    " * Basic Concepts Revisited\n",
    " * Bernoulli Trials\n",
    " * Let's take it for a test drive\n",
    " * Multiple Coin Tosses\n",
    " "
   ]
  },
  {
   "cell_type": "code",
   "execution_count": 3,
   "metadata": {
    "collapsed": true,
    "slideshow": {
     "slide_type": "slide"
    }
   },
   "outputs": [],
   "source": [
    "%matplotlib inline\n",
    "import matplotlib.pyplot as plt\n",
    "import matplotlib\n",
    "import numpy as np\n",
    "import random"
   ]
  },
  {
   "cell_type": "code",
   "execution_count": 23,
   "metadata": {
    "collapsed": false,
    "slideshow": {
     "slide_type": "slide"
    }
   },
   "outputs": [
    {
     "data": {
      "text/plain": [
       "0"
      ]
     },
     "execution_count": 23,
     "metadata": {},
     "output_type": "execute_result"
    }
   ],
   "source": [
    "#Let's toss a coin once\n",
    "random.randint(0,1)"
   ]
  },
  {
   "cell_type": "code",
   "execution_count": 24,
   "metadata": {
    "collapsed": false,
    "slideshow": {
     "slide_type": "slide"
    }
   },
   "outputs": [
    {
     "name": "stdout",
     "output_type": "stream",
     "text": [
      "Tails\n",
      "heads\n",
      "Tails\n",
      "heads\n",
      "heads\n",
      "Tails\n",
      "heads\n",
      "heads\n",
      "Tails\n",
      "heads\n"
     ]
    }
   ],
   "source": [
    "for flip in range(10):\n",
    "    result = random.randint(0,1)\n",
    "    print(\"heads\") if result else print(\"Tails\")"
   ]
  },
  {
   "cell_type": "code",
   "execution_count": 28,
   "metadata": {
    "collapsed": false,
    "slideshow": {
     "slide_type": "subslide"
    }
   },
   "outputs": [
    {
     "name": "stdout",
     "output_type": "stream",
     "text": [
      "heads heads heads heads Tails heads Tails Tails Tails Tails "
     ]
    }
   ],
   "source": [
    "#If we want to print it all in the same line\n",
    "for flip in range(10):\n",
    "    result = random.randint(0,1)\n",
    "    print(\"heads\", end=\" \") if result else print(\"Tails\", end=\" \")"
   ]
  },
  {
   "cell_type": "code",
   "execution_count": null,
   "metadata": {
    "collapsed": true
   },
   "outputs": [],
   "source": [
    "def tossCoin(numFlips):      \n",
    "    flips= ['Heads' if x==1 else 'Tails' for x in [random.randint(0,1) for x in range(numflips)]]\n",
    "    heads=sum([x=='Heads' for x in flips])\n",
    "    tails=numFlips-heads"
   ]
  },
  {
   "cell_type": "markdown",
   "metadata": {
    "slideshow": {
     "slide_type": "slide"
    }
   },
   "source": [
    "# Let's try this using Numpy"
   ]
  },
  {
   "cell_type": "code",
   "execution_count": 31,
   "metadata": {
    "collapsed": true,
    "slideshow": {
     "slide_type": "slide"
    }
   },
   "outputs": [],
   "source": [
    "# result of flipping a coin 10 times, repeated 1000 times.\n",
    ">>> n, p = 10, .5  # number of trials, probability of each trial\n",
    ">>> s = np.random.binomial(n, p, 1000)\n"
   ]
  },
  {
   "cell_type": "code",
   "execution_count": 34,
   "metadata": {
    "collapsed": true,
    "slideshow": {
     "slide_type": "slide"
    }
   },
   "outputs": [
    {
     "name": "stdout",
     "output_type": "stream",
     "text": [
      "[2 6 6 7 8 5 5 8 8 8 6 4 4 7 6 5 5 7 6 2 4 6 5 5 4 4 4 6 7 6 6 8 8 5 5 4 5\n",
      " 6 4 5 4 5 6 4 4 6 5 5 6 7 7 5 8 5 8 3 5 7 3 5 6 4 6 6 6 5 3 7 9 3 6 4 5 6\n",
      " 5 3 1 5 4 5 5 6 6 5 3 5 3 5 3 4 6 5 4 6 4 6 7 7 6 3 3 3 9 9 4 6 6 5 3 5 6\n",
      " 5 5 5 5 7 3 6 4 5 3 3 6 4 3 5 4 8 7 2 5 4 7 6 6 4 4 7 5 3 7 3 6 5 6 8 3 2\n",
      " 4 5 4 5 4 4 7 4 3 7 4 2 3 3 1 8 5 7 5 4 6 4 7 4 7 5 4 5 6 8 5 5 5 3 5 4 6\n",
      " 4 5 5 5 5 3 7 4 3 4 5 6 6 3 6 5 4 6 7 4 5 3 7 8 6 3 7 3 6 5 5 7 4 3 6 2 5\n",
      " 4 4 3 5 2 4 6 6 2 5 7 5 4 6 4 5 7 5 5 4 6 5 3 9 7 6 5 6 5 4 6 5 6 6 7 5 5\n",
      " 8 4 5 6 6 4 4 5 4 4 6 2 4 4 7 7 5 7 8 4 7 4 6 6 6 5 5 6 7 4 3 5 5 4 2 4 4\n",
      " 4 5 6 4 3 4 8 6 4 5 8 3 7 5 4 5 5 7 9 6 4 6 5 6 7 5 8 8 8 4 5 2 4 5 4 4 7\n",
      " 3 3 5 4 3 4 6 3 1 4 3 7 5 0 5 7 7 7 4 5 3 4 4 5 6 5 6 6 8 2 7 5 6 3 7 6 4\n",
      " 5 3 6 5 5 5 4 6 4 3 5 7 4 6 6 1 3 5 4 3 6 3 8 6 6 2 4 4 5 6 5 8 6 3 6 6 7\n",
      " 6 5 5 5 5 4 7 2 5 6 3 6 4 3 6 5 5 6 7 6 4 6 8 7 3 8 6 6 5 4 6 4 5 6 2 5 5\n",
      " 3 9 5 5 6 6 3 3 6 7 6 4 7 8 7 5 1 7 2 6 6 5 6 3 7 8 5 5 3 7 4 5 3 4 2 6 6\n",
      " 5 7 6 6 6 5 7 6 5 5 6 7 7 5 5 6 2 5 4 6 6 4 3 6 3 5 3 5 4 6 4 5 4 5 4 4 5\n",
      " 4 2 4 2 4 4 5 7 8 4 8 6 7 7 1 5 6 4 6 6 6 8 5 4 5 7 4 6 6 5 6 4 4 6 3 6 6\n",
      " 6 2 3 4 6 7 8 4 7 3 5 3 7 4 6 6 4 5 5 4 4 6 5 2 4 1 4 6 7 4 5 0 3 3 6 4 3\n",
      " 4 6 6 3 4 6 5 6 6 6 4 2 2 5 4 6 5 3 3 7 5 4 5 5 1 6 4 2 4 4 6 4 5 6 8 6 5\n",
      " 4 6 4 5 6 8 3 7 6 6 5 7 6 2 5 3 5 6 5 4 5 2 5 5 5 5 6 4 4 3 5 6 2 7 3 7 7\n",
      " 6 5 6 4 2 6 4 7 9 4 6 6 6 6 3 5 4 7 7 4 2 6 6 3 7 4 5 6 4 8 8 3 6 5 6 5 4\n",
      " 5 7 7 3 7 6 5 4 7 2 7 4 5 5 5 6 5 3 5 4 6 4 5 4 4 4 4 5 4 4 5 4 5 4 4 4 4\n",
      " 4 3 8 7 5 6 6 5 5 4 6 6 6 5 2 4 7 5 4 6 5 4 2 7 4 6 4 8 5 7 5 6 7 5 2 4 6\n",
      " 8 6 4 3 6 2 3 5 7 6 5 4 3 5 7 4 2 5 4 3 3 8 8 6 3 4 5 5 6 6 5 5 4 6 5 9 5\n",
      " 6 4 5 5 6 6 5 4 4 8 7 2 4 4 9 6 5 5 4 3 4 4 6 3 4 3 5 3 4 2 3 5 5 6 4 6 4\n",
      " 6 4 9 2 6 9 5 5 7 3 5 6 4 9 7 5 6 5 9 3 3 7 8 6 6 4 3 5 7 7 4 7 2 4 6 3 6\n",
      " 4 4 4 5 7 4 6 9 1 5 2 7 6 8 6 5 5 8 4 5 7 8 4 5 6 7 8 5 6 4 5 4 5 4 6 5 5\n",
      " 5 7 6 4 5 6 4 5 2 6 7 8 6 6 5 3 5 8 4 8 3 5 5 7 4 5 1 3 5 3 9 5 5 6 3 5 5\n",
      " 5 3 7 4 4 3 4 3 6 4 5 7 7 6 5 7 4 6 3 1 7 5 7 7 7 5 4 4 7 2 3 5 7 4 4 6 4\n",
      " 5]\n"
     ]
    }
   ],
   "source": [
    "print(s)"
   ]
  },
  {
   "cell_type": "markdown",
   "metadata": {
    "slideshow": {
     "slide_type": "slide"
    }
   },
   "source": [
    "A company drills 9 wild-cat oil exploration wells, each with an estimated probability of success of 0.1. \n",
    "\n",
    "Corporation: Even if one well is successful, that's good\n",
    "\n",
    "Would like to avoid: All nine wells failing.\n",
    "\n",
    "What is the probability of that happening?\n",
    "\n",
    "What is your gut instinct telling you?"
   ]
  },
  {
   "cell_type": "markdown",
   "metadata": {
    "slideshow": {
     "slide_type": "subslide"
    }
   },
   "source": [
    "Let’s do 20,000 trials of the model, and count the number that generate zero positive results."
   ]
  },
  {
   "cell_type": "code",
   "execution_count": 35,
   "metadata": {
    "collapsed": false,
    "slideshow": {
     "slide_type": "slide"
    }
   },
   "outputs": [
    {
     "data": {
      "text/plain": [
       "7757"
      ]
     },
     "execution_count": 35,
     "metadata": {},
     "output_type": "execute_result"
    }
   ],
   "source": [
    "sum(np.random.binomial(9, 0.1, 20000) == 0)\n",
    "\n",
    "#Notice many things in this one line of code:\n",
    "# 1. Just np.random.binomial(9, 0.1, 20000) is a 20,000 long vector\n",
    "# 2. np.random.binomial(9, 0.1, 20000) == 0 # makes it into a true false \"mask\"\n",
    "# 3. sum() just totals up all the \"1\"s and gives the total number of successful trials \n"
   ]
  },
  {
   "cell_type": "code",
   "execution_count": 36,
   "metadata": {
    "collapsed": false,
    "slideshow": {
     "slide_type": "subslide"
    }
   },
   "outputs": [
    {
     "data": {
      "text/plain": [
       "0.39255000000000001"
      ]
     },
     "execution_count": 36,
     "metadata": {},
     "output_type": "execute_result"
    }
   ],
   "source": [
    "# To get the answer, let's divide it by the number of trails (make it a percentage or a fraction)\n",
    "sum(np.random.binomial(9, 0.1, 20000) == 0)/20000.\n"
   ]
  },
  {
   "cell_type": "code",
   "execution_count": null,
   "metadata": {
    "collapsed": true
   },
   "outputs": [],
   "source": []
  },
  {
   "cell_type": "code",
   "execution_count": 32,
   "metadata": {
    "collapsed": false,
    "slideshow": {
     "slide_type": "subslide"
    }
   },
   "outputs": [
    {
     "data": {
      "text/plain": [
       "0.39450000000000002"
      ]
     },
     "execution_count": 32,
     "metadata": {},
     "output_type": "execute_result"
    }
   ],
   "source": [
    "sum(np.random.binomial(9, 0.1, 20000) == 0)/20000.\n",
    "# answer = 0.38885, or 38%."
   ]
  },
  {
   "cell_type": "markdown",
   "metadata": {
    "slideshow": {
     "slide_type": "slide"
    }
   },
   "source": [
    "### One common task is for us to \n",
    "### Pick one item from N\n",
    "\n",
    "To do this, we use the `sample()` command in the `random` module.\n",
    "The sample command takes in a List, as well as the number of entries to be returned"
   ]
  },
  {
   "cell_type": "code",
   "execution_count": null,
   "metadata": {
    "collapsed": true,
    "slideshow": {
     "slide_type": "slide"
    }
   },
   "outputs": [],
   "source": [
    "import random\n",
    "a = [1,3,7, 15]\n",
    "random.sample(a,1)"
   ]
  },
  {
   "cell_type": "code",
   "execution_count": null,
   "metadata": {
    "collapsed": true,
    "slideshow": {
     "slide_type": "subslide"
    }
   },
   "outputs": [],
   "source": [
    "random.sample(a,1)"
   ]
  },
  {
   "cell_type": "code",
   "execution_count": null,
   "metadata": {
    "collapsed": true,
    "slideshow": {
     "slide_type": "subslide"
    }
   },
   "outputs": [],
   "source": [
    "random.sample(a,3) # note that order doesn't have to be maintained\n"
   ]
  },
  {
   "cell_type": "code",
   "execution_count": 40,
   "metadata": {
    "collapsed": false,
    "slideshow": {
     "slide_type": "slide"
    }
   },
   "outputs": [],
   "source": [
    "import itertools\n",
    "from string import ascii_lowercase\n",
    "def sample_wr(population, _choose=random.choice):\n",
    "    while True: yield _choose(population)\n",
    "    \n",
    "    \n",
    "l50 = list(x for x in (sample_wr(ascii_lowercase), 50))"
   ]
  },
  {
   "cell_type": "code",
   "execution_count": 41,
   "metadata": {
    "collapsed": false
   },
   "outputs": [
    {
     "name": "stdout",
     "output_type": "stream",
     "text": [
      "<generator object sample_wr at 0x0000000007F80A98>50"
     ]
    }
   ],
   "source": [
    "for l in l50:\n",
    "    print(l, end=\"\")"
   ]
  },
  {
   "cell_type": "code",
   "execution_count": 42,
   "metadata": {
    "collapsed": false
   },
   "outputs": [
    {
     "data": {
      "text/plain": [
       "<generator object sample_wr at 0x0000000007F80DB0>"
      ]
     },
     "execution_count": 42,
     "metadata": {},
     "output_type": "execute_result"
    }
   ],
   "source": [
    "    sample_wr([1,2,3])"
   ]
  },
  {
   "cell_type": "code",
   "execution_count": null,
   "metadata": {
    "collapsed": true
   },
   "outputs": [],
   "source": []
  },
  {
   "cell_type": "code",
   "execution_count": null,
   "metadata": {
    "collapsed": true,
    "slideshow": {
     "slide_type": "slide"
    }
   },
   "outputs": [],
   "source": [
    "## Use numpy.random.choice to find sampling with REPLACEMENT\n"
   ]
  },
  {
   "cell_type": "code",
   "execution_count": null,
   "metadata": {
    "collapsed": true,
    "slideshow": {
     "slide_type": "slide"
    }
   },
   "outputs": [],
   "source": [
    "import numpy as np\n",
    "\n",
    "np.random.choice(a, 7)"
   ]
  },
  {
   "cell_type": "code",
   "execution_count": null,
   "metadata": {
    "collapsed": true
   },
   "outputs": [],
   "source": []
  },
  {
   "cell_type": "code",
   "execution_count": null,
   "metadata": {
    "collapsed": true
   },
   "outputs": [],
   "source": []
  },
  {
   "cell_type": "code",
   "execution_count": null,
   "metadata": {
    "collapsed": true
   },
   "outputs": [],
   "source": []
  },
  {
   "cell_type": "code",
   "execution_count": null,
   "metadata": {
    "collapsed": true
   },
   "outputs": [],
   "source": []
  }
 ],
 "metadata": {
  "celltoolbar": "Slideshow",
  "kernelspec": {
   "display_name": "Python 3",
   "language": "python",
   "name": "python3"
  },
  "language_info": {
   "codemirror_mode": {
    "name": "ipython",
    "version": 3
   },
   "file_extension": ".py",
   "mimetype": "text/x-python",
   "name": "python",
   "nbconvert_exporter": "python",
   "pygments_lexer": "ipython3",
   "version": "3.6.0"
  }
 },
 "nbformat": 4,
 "nbformat_minor": 2
}
