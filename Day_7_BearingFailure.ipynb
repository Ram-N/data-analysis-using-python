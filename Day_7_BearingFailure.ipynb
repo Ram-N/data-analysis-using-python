{
 "cells": [
  {
   "cell_type": "code",
   "execution_count": 17,
   "metadata": {
    "collapsed": true,
    "slideshow": {
     "slide_type": "slide"
    }
   },
   "outputs": [],
   "source": [
    "import numpy as np\n",
    "import pandas as pd\n",
    "import matplotlib.pyplot as plt"
   ]
  },
  {
   "cell_type": "code",
   "execution_count": 16,
   "metadata": {
    "collapsed": true,
    "slideshow": {
     "slide_type": "slide"
    }
   },
   "outputs": [],
   "source": [
    "%matplotlib inline"
   ]
  },
  {
   "cell_type": "markdown",
   "metadata": {
    "slideshow": {
     "slide_type": "slide"
    }
   },
   "source": [
    "# Bearing Failures occur Uniformly between 800 and 2000 days"
   ]
  },
  {
   "cell_type": "code",
   "execution_count": 6,
   "metadata": {
    "slideshow": {
     "slide_type": "slide"
    }
   },
   "outputs": [
    {
     "data": {
      "text/plain": [
       "1198"
      ]
     },
     "execution_count": 6,
     "metadata": {},
     "output_type": "execute_result"
    }
   ],
   "source": [
    "np.random.randint(800,2000)"
   ]
  },
  {
   "cell_type": "code",
   "execution_count": 8,
   "metadata": {
    "slideshow": {
     "slide_type": "slide"
    }
   },
   "outputs": [
    {
     "name": "stdout",
     "output_type": "stream",
     "text": [
      "1462 1184\n"
     ]
    }
   ],
   "source": [
    "fail1 = np.random.randint(800,2000)\n",
    "fail2 = np.random.randint(800,2000)\n",
    "print(fail1, fail2)"
   ]
  },
  {
   "cell_type": "markdown",
   "metadata": {
    "slideshow": {
     "slide_type": "slide"
    }
   },
   "source": [
    "# Now let's define a function that calculates days until \"RED\" state\n"
   ]
  },
  {
   "cell_type": "code",
   "execution_count": 9,
   "metadata": {
    "collapsed": true,
    "slideshow": {
     "slide_type": "slide"
    }
   },
   "outputs": [],
   "source": [
    "def days_until_red():\n",
    "\n",
    "    fail1 = np.random.randint(800,2000)\n",
    "    fail2 = np.random.randint(800,2000)\n",
    "    return(max(fail1, fail2))"
   ]
  },
  {
   "cell_type": "code",
   "execution_count": 28,
   "metadata": {
    "slideshow": {
     "slide_type": "slide"
    }
   },
   "outputs": [
    {
     "data": {
      "text/plain": [
       "1293"
      ]
     },
     "execution_count": 28,
     "metadata": {},
     "output_type": "execute_result"
    }
   ],
   "source": [
    "days_until_red() "
   ]
  },
  {
   "cell_type": "code",
   "execution_count": 15,
   "metadata": {
    "slideshow": {
     "slide_type": "slide"
    }
   },
   "outputs": [],
   "source": [
    "results = [days_until_red() for x in range(1000)]"
   ]
  },
  {
   "cell_type": "code",
   "execution_count": 20,
   "metadata": {},
   "outputs": [
    {
     "data": {
      "text/plain": [
       "1000"
      ]
     },
     "execution_count": 20,
     "metadata": {},
     "output_type": "execute_result"
    }
   ],
   "source": [
    "len(results)"
   ]
  },
  {
   "cell_type": "code",
   "execution_count": 30,
   "metadata": {},
   "outputs": [
    {
     "data": {
      "text/plain": [
       "1594.1130000000001"
      ]
     },
     "execution_count": 30,
     "metadata": {},
     "output_type": "execute_result"
    }
   ],
   "source": [
    "np.mean(results)"
   ]
  },
  {
   "cell_type": "markdown",
   "metadata": {
    "slideshow": {
     "slide_type": "slide"
    }
   },
   "source": [
    "# Toss 2 coins at the same time"
   ]
  },
  {
   "cell_type": "code",
   "execution_count": 29,
   "metadata": {
    "slideshow": {
     "slide_type": "slide"
    }
   },
   "outputs": [
    {
     "data": {
      "text/plain": [
       "(array([  1.,   0.,   0.,   0.,   1.,   0.,   1.,   0.,   0.,   0.,   1.,\n",
       "          1.,   0.,   0.,   1.,   0.,   0.,   0.,   0.,   0.,   0.,   1.,\n",
       "          0.,   0.,   1.,   1.,   0.,   0.,   0.,   0.,   1.,   1.,   0.,\n",
       "          1.,   1.,   1.,   0.,   0.,   1.,   1.,   0.,   2.,   0.,   2.,\n",
       "          1.,   1.,   0.,   0.,   1.,   0.,   1.,   1.,   0.,   1.,   0.,\n",
       "          0.,   0.,   4.,   0.,   0.,   0.,   2.,   1.,   0.,   1.,   1.,\n",
       "          1.,   1.,   4.,   1.,   0.,   0.,   2.,   0.,   4.,   0.,   0.,\n",
       "          1.,   0.,   1.,   2.,   0.,   1.,   0.,   3.,   2.,   2.,   0.,\n",
       "          2.,   6.,   3.,   2.,   0.,   1.,   1.,   1.,   1.,   2.,   1.,\n",
       "          2.,   0.,   3.,   2.,   1.,   2.,   1.,   0.,   1.,   1.,   1.,\n",
       "          2.,   3.,   0.,   1.,   1.,   4.,   2.,   2.,   0.,   2.,   6.,\n",
       "          5.,   0.,   2.,   1.,   0.,   0.,   1.,   3.,   2.,   1.,   1.,\n",
       "          0.,   2.,   2.,   1.,   3.,   1.,   1.,   0.,   2.,   3.,   1.,\n",
       "          2.,   1.,   4.,   1.,   4.,   1.,   1.,   2.,   1.,   1.,   0.,\n",
       "          1.,   3.,   0.,   0.,   1.,   1.,   2.,   0.,   1.,   4.,   2.,\n",
       "          3.,   1.,   5.,   1.,   4.,   5.,   1.,   2.,   0.,   5.,   2.,\n",
       "          4.,   2.,   3.,   3.,   3.,   0.,   3.,   2.,   3.,   1.,   2.,\n",
       "          1.,   3.,   3.,   4.,   2.,   1.,   3.,   2.,   2.,   4.,   1.,\n",
       "          2.,   2.,   5.,   2.,   1.,   2.,   2.,   3.,   3.,   2.,   4.,\n",
       "          5.,   2.,   1.,   4.,   1.,   3.,   5.,   4.,   4.,   2.,   3.,\n",
       "          4.,   4.,   4.,   3.,   3.,   1.,   0.,   5.,   3.,   0.,   2.,\n",
       "          0.,   3.,   0.,   4.,   4.,   1.,   3.,   5.,   0.,   5.,   1.,\n",
       "          3.,   6.,   2.,   4.,   2.,   2.,   7.,   2.,   6.,   2.,   5.,\n",
       "          3.,   4.,   4.,   4.,   6.,   3.,   1.,   4.,   1.,   2.,   2.,\n",
       "          0.,   3.,   0.,   3.,   2.,   1.,   3.,   8.,   5.,   4.,   1.,\n",
       "          2.,   3.,   3.,   5.,   3.,   1.,   3.,   3.,   3.,   2.,   2.,\n",
       "          4.,   2.,   7.,   3.,   2.,   5.,   4.,   5.,   4.,   6.,   3.,\n",
       "          4.,   3.,   4.,   4.,   4.,   7.,   3.,   4.,   4.,   4.,   3.,\n",
       "          1.,   6.,   1.,   3.,   9.,   3.,   5.,   6.,   3.,   2.,   4.,\n",
       "          3.,   4.,   3.,   6.,   6.,   1.,   2.,   4.,   3.,   4.,   4.,\n",
       "          6.,   3.,   4.,   0.,   3.,   7.,   7.,   5.,   5.,   8.,  10.,\n",
       "          4.,   6.,   4.,   4.,   1.,   2.,   3.,   8.,   3.,   4.,   2.,\n",
       "          7.,   4.,   3.,   7.,   2.,   3.,   1.,   1.,   7.,   8.,   7.,\n",
       "          3.,   7.,   6.,   3.,   2.,   0.,   4.,   5.,   4.,   6.,   0.,\n",
       "          3.,   4.,   3.,  10.,   4.,   4.,   6.,   7.,   8.,   2.,   6.,\n",
       "          2.,   1.,   1.,   3.,   4.,   4.,   7.,   6.,   5.,   3.,   6.,\n",
       "          6.,   3.,   5.,  11.]),\n",
       " array([  829.   ,   831.925,   834.85 ,   837.775,   840.7  ,   843.625,\n",
       "          846.55 ,   849.475,   852.4  ,   855.325,   858.25 ,   861.175,\n",
       "          864.1  ,   867.025,   869.95 ,   872.875,   875.8  ,   878.725,\n",
       "          881.65 ,   884.575,   887.5  ,   890.425,   893.35 ,   896.275,\n",
       "          899.2  ,   902.125,   905.05 ,   907.975,   910.9  ,   913.825,\n",
       "          916.75 ,   919.675,   922.6  ,   925.525,   928.45 ,   931.375,\n",
       "          934.3  ,   937.225,   940.15 ,   943.075,   946.   ,   948.925,\n",
       "          951.85 ,   954.775,   957.7  ,   960.625,   963.55 ,   966.475,\n",
       "          969.4  ,   972.325,   975.25 ,   978.175,   981.1  ,   984.025,\n",
       "          986.95 ,   989.875,   992.8  ,   995.725,   998.65 ,  1001.575,\n",
       "         1004.5  ,  1007.425,  1010.35 ,  1013.275,  1016.2  ,  1019.125,\n",
       "         1022.05 ,  1024.975,  1027.9  ,  1030.825,  1033.75 ,  1036.675,\n",
       "         1039.6  ,  1042.525,  1045.45 ,  1048.375,  1051.3  ,  1054.225,\n",
       "         1057.15 ,  1060.075,  1063.   ,  1065.925,  1068.85 ,  1071.775,\n",
       "         1074.7  ,  1077.625,  1080.55 ,  1083.475,  1086.4  ,  1089.325,\n",
       "         1092.25 ,  1095.175,  1098.1  ,  1101.025,  1103.95 ,  1106.875,\n",
       "         1109.8  ,  1112.725,  1115.65 ,  1118.575,  1121.5  ,  1124.425,\n",
       "         1127.35 ,  1130.275,  1133.2  ,  1136.125,  1139.05 ,  1141.975,\n",
       "         1144.9  ,  1147.825,  1150.75 ,  1153.675,  1156.6  ,  1159.525,\n",
       "         1162.45 ,  1165.375,  1168.3  ,  1171.225,  1174.15 ,  1177.075,\n",
       "         1180.   ,  1182.925,  1185.85 ,  1188.775,  1191.7  ,  1194.625,\n",
       "         1197.55 ,  1200.475,  1203.4  ,  1206.325,  1209.25 ,  1212.175,\n",
       "         1215.1  ,  1218.025,  1220.95 ,  1223.875,  1226.8  ,  1229.725,\n",
       "         1232.65 ,  1235.575,  1238.5  ,  1241.425,  1244.35 ,  1247.275,\n",
       "         1250.2  ,  1253.125,  1256.05 ,  1258.975,  1261.9  ,  1264.825,\n",
       "         1267.75 ,  1270.675,  1273.6  ,  1276.525,  1279.45 ,  1282.375,\n",
       "         1285.3  ,  1288.225,  1291.15 ,  1294.075,  1297.   ,  1299.925,\n",
       "         1302.85 ,  1305.775,  1308.7  ,  1311.625,  1314.55 ,  1317.475,\n",
       "         1320.4  ,  1323.325,  1326.25 ,  1329.175,  1332.1  ,  1335.025,\n",
       "         1337.95 ,  1340.875,  1343.8  ,  1346.725,  1349.65 ,  1352.575,\n",
       "         1355.5  ,  1358.425,  1361.35 ,  1364.275,  1367.2  ,  1370.125,\n",
       "         1373.05 ,  1375.975,  1378.9  ,  1381.825,  1384.75 ,  1387.675,\n",
       "         1390.6  ,  1393.525,  1396.45 ,  1399.375,  1402.3  ,  1405.225,\n",
       "         1408.15 ,  1411.075,  1414.   ,  1416.925,  1419.85 ,  1422.775,\n",
       "         1425.7  ,  1428.625,  1431.55 ,  1434.475,  1437.4  ,  1440.325,\n",
       "         1443.25 ,  1446.175,  1449.1  ,  1452.025,  1454.95 ,  1457.875,\n",
       "         1460.8  ,  1463.725,  1466.65 ,  1469.575,  1472.5  ,  1475.425,\n",
       "         1478.35 ,  1481.275,  1484.2  ,  1487.125,  1490.05 ,  1492.975,\n",
       "         1495.9  ,  1498.825,  1501.75 ,  1504.675,  1507.6  ,  1510.525,\n",
       "         1513.45 ,  1516.375,  1519.3  ,  1522.225,  1525.15 ,  1528.075,\n",
       "         1531.   ,  1533.925,  1536.85 ,  1539.775,  1542.7  ,  1545.625,\n",
       "         1548.55 ,  1551.475,  1554.4  ,  1557.325,  1560.25 ,  1563.175,\n",
       "         1566.1  ,  1569.025,  1571.95 ,  1574.875,  1577.8  ,  1580.725,\n",
       "         1583.65 ,  1586.575,  1589.5  ,  1592.425,  1595.35 ,  1598.275,\n",
       "         1601.2  ,  1604.125,  1607.05 ,  1609.975,  1612.9  ,  1615.825,\n",
       "         1618.75 ,  1621.675,  1624.6  ,  1627.525,  1630.45 ,  1633.375,\n",
       "         1636.3  ,  1639.225,  1642.15 ,  1645.075,  1648.   ,  1650.925,\n",
       "         1653.85 ,  1656.775,  1659.7  ,  1662.625,  1665.55 ,  1668.475,\n",
       "         1671.4  ,  1674.325,  1677.25 ,  1680.175,  1683.1  ,  1686.025,\n",
       "         1688.95 ,  1691.875,  1694.8  ,  1697.725,  1700.65 ,  1703.575,\n",
       "         1706.5  ,  1709.425,  1712.35 ,  1715.275,  1718.2  ,  1721.125,\n",
       "         1724.05 ,  1726.975,  1729.9  ,  1732.825,  1735.75 ,  1738.675,\n",
       "         1741.6  ,  1744.525,  1747.45 ,  1750.375,  1753.3  ,  1756.225,\n",
       "         1759.15 ,  1762.075,  1765.   ,  1767.925,  1770.85 ,  1773.775,\n",
       "         1776.7  ,  1779.625,  1782.55 ,  1785.475,  1788.4  ,  1791.325,\n",
       "         1794.25 ,  1797.175,  1800.1  ,  1803.025,  1805.95 ,  1808.875,\n",
       "         1811.8  ,  1814.725,  1817.65 ,  1820.575,  1823.5  ,  1826.425,\n",
       "         1829.35 ,  1832.275,  1835.2  ,  1838.125,  1841.05 ,  1843.975,\n",
       "         1846.9  ,  1849.825,  1852.75 ,  1855.675,  1858.6  ,  1861.525,\n",
       "         1864.45 ,  1867.375,  1870.3  ,  1873.225,  1876.15 ,  1879.075,\n",
       "         1882.   ,  1884.925,  1887.85 ,  1890.775,  1893.7  ,  1896.625,\n",
       "         1899.55 ,  1902.475,  1905.4  ,  1908.325,  1911.25 ,  1914.175,\n",
       "         1917.1  ,  1920.025,  1922.95 ,  1925.875,  1928.8  ,  1931.725,\n",
       "         1934.65 ,  1937.575,  1940.5  ,  1943.425,  1946.35 ,  1949.275,\n",
       "         1952.2  ,  1955.125,  1958.05 ,  1960.975,  1963.9  ,  1966.825,\n",
       "         1969.75 ,  1972.675,  1975.6  ,  1978.525,  1981.45 ,  1984.375,\n",
       "         1987.3  ,  1990.225,  1993.15 ,  1996.075,  1999.   ]),\n",
       " <a list of 400 Patch objects>)"
      ]
     },
     "execution_count": 29,
     "metadata": {},
     "output_type": "execute_result"
    },
    {
     "data": {
      "image/png": "[encoded data removed]",
      "text/plain": [
       "<matplotlib.figure.Figure at 0x9baacc0>"
      ]
     },
     "metadata": {},
     "output_type": "display_data"
    }
   ],
   "source": [
    "plt.hist(results, bins=400)"
   ]
  },
  {
   "cell_type": "markdown",
   "metadata": {
    "slideshow": {
     "slide_type": "slide"
    }
   },
   "source": [
    "## Toss k coins at the same time\n"
   ]
  },
  {
   "cell_type": "code",
   "execution_count": 25,
   "metadata": {
    "collapsed": true,
    "slideshow": {
     "slide_type": "slide"
    }
   },
   "outputs": [],
   "source": [
    "def toss_k(k):\n",
    "    return [toss() for x in range(k)]"
   ]
  },
  {
   "cell_type": "code",
   "execution_count": 32,
   "metadata": {
    "slideshow": {
     "slide_type": "slide"
    }
   },
   "outputs": [
    {
     "name": "stdout",
     "output_type": "stream",
     "text": [
      "[1, 0, 0, 1]\n"
     ]
    }
   ],
   "source": [
    "print(toss_k(4))"
   ]
  },
  {
   "cell_type": "markdown",
   "metadata": {
    "slideshow": {
     "slide_type": "slide"
    }
   },
   "source": [
    "# Toss K coins, return Number of Heads\n",
    "\n",
    "We are not interested in what happended to each of the k coins. We just want to know the total number of heads"
   ]
  },
  {
   "cell_type": "code",
   "execution_count": 35,
   "metadata": {
    "collapsed": true,
    "slideshow": {
     "slide_type": "slide"
    }
   },
   "outputs": [],
   "source": [
    "def heads_for_k_cointoss(k):\n",
    "    '''\n",
    "    Return the total number of heads, from tossing k coins\n",
    "    '''\n",
    "    return sum(toss_k(k))"
   ]
  },
  {
   "cell_type": "code",
   "execution_count": 52,
   "metadata": {
    "slideshow": {
     "slide_type": "slide"
    }
   },
   "outputs": [
    {
     "data": {
      "text/plain": [
       "5"
      ]
     },
     "execution_count": 52,
     "metadata": {},
     "output_type": "execute_result"
    }
   ],
   "source": [
    "heads_for_k_cointoss(10)"
   ]
  },
  {
   "cell_type": "markdown",
   "metadata": {
    "slideshow": {
     "slide_type": "slide"
    }
   },
   "source": [
    "# Why are we not getting 5 heads from 10 tosses every time?"
   ]
  },
  {
   "cell_type": "markdown",
   "metadata": {
    "slideshow": {
     "slide_type": "slide"
    }
   },
   "source": [
    "Answer: Because this works only in the Average. Not every time."
   ]
  },
  {
   "cell_type": "markdown",
   "metadata": {
    "slideshow": {
     "slide_type": "slide"
    }
   },
   "source": [
    "One typical thing to do is to create a **histogram** of the #heads from (say) 10 tosses.\n",
    "\n",
    "This will give us an idea of the **DISTRIBUTION** of the number of heads from k=10 tosses."
   ]
  },
  {
   "cell_type": "markdown",
   "metadata": {
    "slideshow": {
     "slide_type": "slide"
    }
   },
   "source": [
    "How to do this?\n",
    "\n",
    "- Step 1: You toss 10 coins once, record number of heads\n",
    "- Step 2: Do the same thing, a 1000 times. (Called \"replications\")\n",
    "- Step 3: Note down the results.\n",
    "- Step 4: Plot the results\n"
   ]
  },
  {
   "cell_type": "code",
   "execution_count": 55,
   "metadata": {
    "collapsed": true,
    "slideshow": {
     "slide_type": "slide"
    }
   },
   "outputs": [],
   "source": [
    "results = []\n",
    "for rep in range(1000):\n",
    "    num_heads = heads_for_k_cointoss(10)\n",
    "    results.append(num_heads)"
   ]
  },
  {
   "cell_type": "code",
   "execution_count": 63,
   "metadata": {
    "collapsed": true,
    "slideshow": {
     "slide_type": "slide"
    }
   },
   "outputs": [],
   "source": [
    "import matplotlib.pyplot as plt"
   ]
  },
  {
   "cell_type": "code",
   "execution_count": 60,
   "metadata": {
    "collapsed": true,
    "slideshow": {
     "slide_type": "slide"
    }
   },
   "outputs": [],
   "source": [
    "% matplotlib inline"
   ]
  },
  {
   "cell_type": "code",
   "execution_count": 62,
   "metadata": {
    "slideshow": {
     "slide_type": "slide"
    }
   },
   "outputs": [
    {
     "data": {
      "text/plain": [
       "[<matplotlib.lines.Line2D at 0x8264a58>]"
      ]
     },
     "execution_count": 62,
     "metadata": {},
     "output_type": "execute_result"
    },
    {
     "data": {
      "image/png": "[encoded data removed]",
      "text/plain": [
       "<matplotlib.figure.Figure at 0x81d7cc0>"
      ]
     },
     "metadata": {},
     "output_type": "display_data"
    }
   ],
   "source": [
    "plt.plot(results)"
   ]
  },
  {
   "cell_type": "markdown",
   "metadata": {
    "slideshow": {
     "slide_type": "slide"
    }
   },
   "source": [
    "## That didn't go as planned!\n",
    "\n",
    "What is the problem?"
   ]
  },
  {
   "cell_type": "markdown",
   "metadata": {
    "slideshow": {
     "slide_type": "slide"
    }
   },
   "source": [
    "We need a **HISTOGRAM**, not a simple plot"
   ]
  },
  {
   "cell_type": "code",
   "execution_count": 64,
   "metadata": {
    "slideshow": {
     "slide_type": "slide"
    }
   },
   "outputs": [
    {
     "data": {
      "text/plain": [
       "(array([  14.,   51.,  103.,  213.,  242.,  207.,  121.,   37.,   11.,    1.]),\n",
       " array([  1. ,   1.9,   2.8,   3.7,   4.6,   5.5,   6.4,   7.3,   8.2,\n",
       "          9.1,  10. ]),\n",
       " <a list of 10 Patch objects>)"
      ]
     },
     "execution_count": 64,
     "metadata": {},
     "output_type": "execute_result"
    },
    {
     "data": {
      "image/png": "[encoded data removed]",
      "text/plain": [
       "<matplotlib.figure.Figure at 0x82741d0>"
      ]
     },
     "metadata": {},
     "output_type": "display_data"
    }
   ],
   "source": [
    "plt.hist(results)"
   ]
  },
  {
   "cell_type": "markdown",
   "metadata": {
    "slideshow": {
     "slide_type": "slide"
    }
   },
   "source": [
    "# Probabilistic Experiments…\n",
    "\n",
    "• Toss 5 coins.\n",
    "\n",
    "## Question: What are the chances that you will get >= 4 heads?\n"
   ]
  },
  {
   "cell_type": "markdown",
   "metadata": {
    "slideshow": {
     "slide_type": "slide"
    }
   },
   "source": [
    "# Let's discuss this. How should we approach this?"
   ]
  },
  {
   "cell_type": "code",
   "execution_count": 95,
   "metadata": {
    "collapsed": true,
    "slideshow": {
     "slide_type": "slide"
    }
   },
   "outputs": [],
   "source": [
    "results2 = [heads_for_k_cointoss(5) for x in range(10000)]"
   ]
  },
  {
   "cell_type": "markdown",
   "metadata": {
    "slideshow": {
     "slide_type": "slide"
    }
   },
   "source": [
    "### Next task to see how many of the entries inside the list called \"results2\" have a value of >=4"
   ]
  },
  {
   "cell_type": "code",
   "execution_count": 102,
   "metadata": {
    "collapsed": true,
    "slideshow": {
     "slide_type": "slide"
    }
   },
   "outputs": [],
   "source": [
    "# Using Pandas\n",
    "\n",
    "res_df = pd.DataFrame({'Heads': results2})"
   ]
  },
  {
   "cell_type": "code",
   "execution_count": 103,
   "metadata": {
    "slideshow": {
     "slide_type": "slide"
    }
   },
   "outputs": [
    {
     "data": {
      "text/plain": [
       "0       False\n",
       "1       False\n",
       "2       False\n",
       "3       False\n",
       "4       False\n",
       "5       False\n",
       "6       False\n",
       "7        True\n",
       "8       False\n",
       "9       False\n",
       "10      False\n",
       "11      False\n",
       "12      False\n",
       "13      False\n",
       "14      False\n",
       "15       True\n",
       "16      False\n",
       "17      False\n",
       "18      False\n",
       "19      False\n",
       "20      False\n",
       "21      False\n",
       "22      False\n",
       "23      False\n",
       "24      False\n",
       "25      False\n",
       "26      False\n",
       "27      False\n",
       "28      False\n",
       "29      False\n",
       "        ...  \n",
       "9970    False\n",
       "9971    False\n",
       "9972    False\n",
       "9973    False\n",
       "9974    False\n",
       "9975    False\n",
       "9976    False\n",
       "9977    False\n",
       "9978    False\n",
       "9979    False\n",
       "9980     True\n",
       "9981     True\n",
       "9982    False\n",
       "9983     True\n",
       "9984     True\n",
       "9985    False\n",
       "9986    False\n",
       "9987    False\n",
       "9988    False\n",
       "9989    False\n",
       "9990     True\n",
       "9991    False\n",
       "9992    False\n",
       "9993    False\n",
       "9994     True\n",
       "9995     True\n",
       "9996    False\n",
       "9997    False\n",
       "9998    False\n",
       "9999    False\n",
       "Name: Heads, dtype: bool"
      ]
     },
     "execution_count": 103,
     "metadata": {},
     "output_type": "execute_result"
    }
   ],
   "source": [
    "res_df['Heads'] >= 4"
   ]
  },
  {
   "cell_type": "code",
   "execution_count": 104,
   "metadata": {
    "slideshow": {
     "slide_type": "slide"
    }
   },
   "outputs": [
    {
     "data": {
      "text/plain": [
       "1900"
      ]
     },
     "execution_count": 104,
     "metadata": {},
     "output_type": "execute_result"
    }
   ],
   "source": [
    "sum(res_df['Heads'] >= 4)"
   ]
  },
  {
   "cell_type": "markdown",
   "metadata": {
    "slideshow": {
     "slide_type": "slide"
    }
   },
   "source": [
    "# Can also be done using numpy and conditions"
   ]
  },
  {
   "cell_type": "code",
   "execution_count": 105,
   "metadata": {
    "collapsed": true,
    "slideshow": {
     "slide_type": "slide"
    }
   },
   "outputs": [],
   "source": [
    "np_res = np.array(results2) # store it as a numpy array"
   ]
  },
  {
   "cell_type": "code",
   "execution_count": 106,
   "metadata": {
    "slideshow": {
     "slide_type": "slide"
    }
   },
   "outputs": [
    {
     "data": {
      "text/plain": [
       "array([4, 4, 4, ..., 4, 4, 4])"
      ]
     },
     "execution_count": 106,
     "metadata": {},
     "output_type": "execute_result"
    }
   ],
   "source": [
    "cond = np_res >=4\n",
    "np_res[cond] # keep only elements that satisfy the condition"
   ]
  },
  {
   "cell_type": "markdown",
   "metadata": {
    "slideshow": {
     "slide_type": "slide"
    }
   },
   "source": [
    "But we want to know how many of these elements satisfy the condition (>=4)"
   ]
  },
  {
   "cell_type": "code",
   "execution_count": 101,
   "metadata": {
    "slideshow": {
     "slide_type": "slide"
    }
   },
   "outputs": [
    {
     "data": {
      "text/plain": [
       "1900"
      ]
     },
     "execution_count": 101,
     "metadata": {},
     "output_type": "execute_result"
    }
   ],
   "source": [
    "len(np_res[cond])"
   ]
  },
  {
   "cell_type": "markdown",
   "metadata": {
    "slideshow": {
     "slide_type": "slide"
    }
   },
   "source": [
    "# Homework challenge\n",
    "\n",
    "### Find the fraction of Instances when >=4 heads occurred in a row!"
   ]
  },
  {
   "cell_type": "code",
   "execution_count": null,
   "metadata": {
    "collapsed": true
   },
   "outputs": [],
   "source": []
  }
 ],
 "metadata": {
  "celltoolbar": "Slideshow",
  "kernelspec": {
   "display_name": "Python 3",
   "language": "python",
   "name": "python3"
  },
  "language_info": {
   "codemirror_mode": {
    "name": "ipython",
    "version": 3
   },
   "file_extension": ".py",
   "mimetype": "text/x-python",
   "name": "python",
   "nbconvert_exporter": "python",
   "pygments_lexer": "ipython3",
   "version": "3.6.0"
  }
 },
 "nbformat": 4,
 "nbformat_minor": 2
}
