{
 "cells": [
  {
   "cell_type": "markdown",
   "metadata": {
    "slideshow": {
     "slide_type": "slide"
    }
   },
   "source": [
    "### Day 5\n",
    "\n",
    "# PaSTAtistics\n",
    "\n",
    "<img src = \"images/logo.jpg\", width=\"100\" align=\"left\">\n",
    "\n",
    "<br><br><br><br>Instructor: Ram Narasimhan"
   ]
  },
  {
   "cell_type": "markdown",
   "metadata": {
    "slideshow": {
     "slide_type": "slide"
    }
   },
   "source": [
    "Open this notebook on your laptops. Let's go these together, slowly, step-by-step.\n",
    "\n",
    "We will work on it together"
   ]
  },
  {
   "cell_type": "markdown",
   "metadata": {
    "slideshow": {
     "slide_type": "slide"
    }
   },
   "source": [
    "# <div class=\"alert alert-block alert-warning\">  All of our Pasta Guesses have been loaded into a file.\n",
    "Let's read that CSV file and answer the following questions:</div>\n"
   ]
  },
  {
   "cell_type": "markdown",
   "metadata": {
    "slideshow": {
     "slide_type": "slide"
    }
   },
   "source": [
    "# <div class=\"alert alert-block alert-warning\">  Q1: How many people have guessed. <br>What is the range of guesses (Max and Min guesses). </div>\n"
   ]
  },
  {
   "cell_type": "markdown",
   "metadata": {
    "slideshow": {
     "slide_type": "slide"
    }
   },
   "source": [
    "# <div class=\"alert alert-block alert-warning\">  Q2: What is the `mean` guess? <br> What is the `median` guess?</div>\n"
   ]
  },
  {
   "cell_type": "markdown",
   "metadata": {
    "slideshow": {
     "slide_type": "slide"
    }
   },
   "source": [
    "# <div class=\"alert alert-block alert-warning\">  Q3: Outlier Removal: What is the range of the middle 80% of the guesses?\n",
    "</div>\n",
    "This is one standard practice, wherein we can remove the outliers. Go and ahead think of ways to remove the top and bottom 10% of the guesses. Any thoughts on how to do this?\n",
    "Search the Internet for \"Removing Outliers from a Pandas column\" and see if you find anything.\n"
   ]
  },
  {
   "cell_type": "markdown",
   "metadata": {
    "slideshow": {
     "slide_type": "slide"
    }
   },
   "source": [
    "# <div class=\"alert alert-block alert-warning\">  Q4: Plotting a Histogram.<br> The next logical thing we want to know, how are the guesses distributed?\n",
    "</div>\n",
    "\n",
    "A histogram is a very standard way of looking at the \"distribution\" of the guesses. Are they concentrated in one area? Are they uniformly spread across a wide range. This tells us a lot about the data.\n",
    "\n",
    "We will use `Seaborn` to plot the histogram.\n"
   ]
  },
  {
   "cell_type": "markdown",
   "metadata": {
    "slideshow": {
     "slide_type": "slide"
    }
   },
   "source": [
    "# <div class=\"alert alert-block alert-warning\">  Q5: Creating a Boxplot.\n",
    "</div>\n",
    "\n",
    "Again, we will use `Seaborn` to plot the Box Plot of people's guesses.\n"
   ]
  },
  {
   "cell_type": "markdown",
   "metadata": {
    "slideshow": {
     "slide_type": "slide"
    }
   },
   "source": [
    "# Solutions Follow...\n",
    "\n",
    "Please think about each question before simply running the commands. (That way you will learn)"
   ]
  },
  {
   "cell_type": "markdown",
   "metadata": {
    "slideshow": {
     "slide_type": "slide"
    }
   },
   "source": [
    "# <div class=\"alert alert-block alert-warning\">  All of our Pasta Guesses have been loaded into a file.\n",
    "Let's read that CSV file and answer the following questions:</div>\n"
   ]
  },
  {
   "cell_type": "code",
   "execution_count": 4,
   "metadata": {
    "slideshow": {
     "slide_type": "slide"
    }
   },
   "outputs": [],
   "source": [
    "import numpy as np #load all needed modules\n",
    "import matplotlib.pyplot as plt\n",
    "import pandas as pd\n",
    "import seaborn as sns\n",
    "#will create plots in the notebook itself\n",
    "%matplotlib inline \n"
   ]
  },
  {
   "cell_type": "code",
   "execution_count": 5,
   "metadata": {
    "collapsed": true,
    "slideshow": {
     "slide_type": "slide"
    }
   },
   "outputs": [],
   "source": [
    "guess_df = pd.read_csv(\"data/pasta/pasta_guess.csv\")"
   ]
  },
  {
   "cell_type": "markdown",
   "metadata": {
    "slideshow": {
     "slide_type": "slide"
    }
   },
   "source": [
    "# <div class=\"alert alert-block alert-warning\">  Q1: How many people have guessed. <br>What is the range of guesses (Max and Min guesses). </div>\n"
   ]
  },
  {
   "cell_type": "code",
   "execution_count": 7,
   "metadata": {
    "slideshow": {
     "slide_type": "slide"
    }
   },
   "outputs": [
    {
     "data": {
      "text/plain": [
       "33"
      ]
     },
     "execution_count": 7,
     "metadata": {},
     "output_type": "execute_result"
    }
   ],
   "source": [
    "# Number of people guessing is just the number of rows.\n",
    "guess_df.shape\n",
    "\n",
    "#If you want to be even more accurate...\n",
    "guess_df.shape[0]\n",
    "len(guess_df)"
   ]
  },
  {
   "cell_type": "markdown",
   "metadata": {
    "slideshow": {
     "slide_type": "slide"
    }
   },
   "source": [
    "# <div class=\"alert alert-block alert-warning\">  Q2: What is the `mean` guess? <br> What is the `median` guess?</div>\n"
   ]
  },
  {
   "cell_type": "code",
   "execution_count": 11,
   "metadata": {},
   "outputs": [
    {
     "name": "stdout",
     "output_type": "stream",
     "text": [
      "Index(['Family Name', 'First Name', 'Guess'], dtype='object')\n",
      "445.3636363636364\n",
      "350.0\n"
     ]
    }
   ],
   "source": [
    "print(guess_df.columns)\n",
    "print(guess_df.Guess.mean())\n",
    "print(guess_df.Guess.median())\n",
    "\n",
    "# Question to think about, is median or mean a better overall guess?"
   ]
  },
  {
   "cell_type": "markdown",
   "metadata": {
    "slideshow": {
     "slide_type": "slide"
    }
   },
   "source": [
    "# <div class=\"alert alert-block alert-warning\">  Q3: Outlier Removal: What is the range of the middle 80% of the guesses?\n",
    "</div>\n",
    "This is one standard practice, wherein we can remove the outliers. Go and ahead think of ways to remove the top and bottom 10% of the guesses. Any thoughts on how to do this?\n",
    "Search the Internet for \"Removing Outliers from a Pandas column\" and see if you find anything.\n"
   ]
  },
  {
   "cell_type": "code",
   "execution_count": 23,
   "metadata": {},
   "outputs": [],
   "source": [
    "# We use the quantile function for this.\n",
    "\n",
    "value90 = guess_df.Guess.quantile(.90)\n",
    "value10 = guess_df.Guess.quantile(.10)\n",
    "\n",
    "high_rows = guess_df.Guess > value90\n",
    "low_rows = guess_df.Guess < value10\n",
    "\n"
   ]
  },
  {
   "cell_type": "code",
   "execution_count": 24,
   "metadata": {},
   "outputs": [
    {
     "data": {
      "text/plain": [
       "3"
      ]
     },
     "execution_count": 24,
     "metadata": {},
     "output_type": "execute_result"
    }
   ],
   "source": [
    "#verify:\n",
    "#How many high rows should be there?\n",
    "high_rows.sum()\n",
    "low_rows.sum()"
   ]
  },
  {
   "cell_type": "code",
   "execution_count": 42,
   "metadata": {},
   "outputs": [],
   "source": [
    "#Use a Boolean Mask. \n",
    "# In English: If a row is not high and if it is NOT Low, keep it.\n",
    "#Delete the high and low rows... and keep the rest\n",
    "keep_rows = ~high_rows & ~low_rows"
   ]
  },
  {
   "cell_type": "code",
   "execution_count": 67,
   "metadata": {},
   "outputs": [],
   "source": [
    "guess_df[high_rows]\n",
    "guess_df[low_rows]\n",
    "guess_df[high_rows | low_rows]\n",
    "guess_df[~high_rows & ~ low_rows]\n",
    "guess_df[~(high_rows | row_rows)]\n",
    "mid_df = guess_df[~(high_rows | row_rows)]"
   ]
  },
  {
   "cell_type": "code",
   "execution_count": 50,
   "metadata": {},
   "outputs": [
    {
     "data": {
      "text/plain": [
       "Guess    341.5\n",
       "dtype: float64"
      ]
     },
     "execution_count": 50,
     "metadata": {},
     "output_type": "execute_result"
    }
   ],
   "source": [
    "guess_df[keep_rows].shape\n",
    "guess_df[keep_rows].median()"
   ]
  },
  {
   "cell_type": "markdown",
   "metadata": {
    "slideshow": {
     "slide_type": "slide"
    }
   },
   "source": [
    "# <div class=\"alert alert-block alert-warning\">  Q4: Plotting a Histogram.<br> The next logical thing we want to know, how are the guesses distributed?\n",
    "</div>\n",
    "\n",
    "A histogram is a very standard way of looking at the \"distribution\" of the guesses. Are they concentrated in one area? Are they uniformly spread across a wide range. This tells us a lot about the data.\n",
    "\n",
    "We will use `Seaborn` to plot the histogram.\n"
   ]
  },
  {
   "cell_type": "code",
   "execution_count": 63,
   "metadata": {},
   "outputs": [
    {
     "data": {
      "text/plain": [
       "<matplotlib.axes._subplots.AxesSubplot at 0xbe0ef28>"
      ]
     },
     "execution_count": 63,
     "metadata": {},
     "output_type": "execute_result"
    },
    {
     "data": {
      "image/png": "[encoded data removed]",
      "text/plain": [
       "<matplotlib.figure.Figure at 0xbdc4c50>"
      ]
     },
     "metadata": {},
     "output_type": "display_data"
    }
   ],
   "source": [
    "sns.distplot(guess_df.Guess, kde = False, bins= 50,rug=True)\n"
   ]
  },
  {
   "cell_type": "code",
   "execution_count": 69,
   "metadata": {
    "slideshow": {
     "slide_type": "slide"
    }
   },
   "outputs": [
    {
     "data": {
      "text/plain": [
       "<matplotlib.axes._subplots.AxesSubplot at 0xc605a20>"
      ]
     },
     "execution_count": 69,
     "metadata": {},
     "output_type": "execute_result"
    },
    {
     "data": {
      "image/png": "[encoded data removed]",
      "text/plain": [
       "<matplotlib.figure.Figure at 0xc418470>"
      ]
     },
     "metadata": {},
     "output_type": "display_data"
    }
   ],
   "source": [
    "sns.distplot(mid_df.Guess, kde = False, bins= 10,rug=True)\n"
   ]
  },
  {
   "cell_type": "markdown",
   "metadata": {
    "slideshow": {
     "slide_type": "slide"
    }
   },
   "source": [
    "# <div class=\"alert alert-block alert-warning\">  Q5: Creating a Boxplot.\n",
    "</div>\n",
    "\n",
    "Again, we will use `Seaborn` to plot the Box Plot of people's guesses.\n"
   ]
  },
  {
   "cell_type": "code",
   "execution_count": 65,
   "metadata": {
    "slideshow": {
     "slide_type": "slide"
    }
   },
   "outputs": [
    {
     "data": {
      "text/plain": [
       "<matplotlib.axes._subplots.AxesSubplot at 0xc4b2550>"
      ]
     },
     "execution_count": 65,
     "metadata": {},
     "output_type": "execute_result"
    },
    {
     "data": {
      "image/png": "[encoded data removed]",
      "text/plain": [
       "<matplotlib.figure.Figure at 0xc2aa780>"
      ]
     },
     "metadata": {},
     "output_type": "display_data"
    }
   ],
   "source": [
    "sns.boxplot(guess_df.Guess)"
   ]
  },
  {
   "cell_type": "code",
   "execution_count": 70,
   "metadata": {
    "slideshow": {
     "slide_type": "slide"
    }
   },
   "outputs": [
    {
     "data": {
      "text/plain": [
       "<matplotlib.axes._subplots.AxesSubplot at 0xc84ecf8>"
      ]
     },
     "execution_count": 70,
     "metadata": {},
     "output_type": "execute_result"
    },
    {
     "data": {
      "image/png": "[encoded data removed]",
      "text/plain": [
       "<matplotlib.figure.Figure at 0xc55e7f0>"
      ]
     },
     "metadata": {},
     "output_type": "display_data"
    }
   ],
   "source": [
    "sns.boxplot(mid_df.Guess)"
   ]
  },
  {
   "cell_type": "markdown",
   "metadata": {},
   "source": [
    "![Image Woc](images/wisdom_crowd_2.jpg)\n",
    "<img src = \"images/wisdom_crowd_1.jpg\", width=\"250\" align=\"left\">"
   ]
  },
  {
   "cell_type": "markdown",
   "metadata": {
    "slideshow": {
     "slide_type": "slide"
    }
   },
   "source": [
    "![Questions](images/questions.png)"
   ]
  },
  {
   "cell_type": "markdown",
   "metadata": {
    "collapsed": true
   },
   "source": [
    "# <div class=\"alert alert-block alert-warning\">  Bonus: Frequency Counts...<br><br> Which English letter do most of the Family Names start with?\n",
    "</div>\n",
    "\n",
    "This is called the Frequency, or the count of the frequency of occurrences.\n",
    "\n",
    "There is a one line command in Pandas to calculate the frequency...\n",
    "\n",
    "For any column, we can calculate its `value_counts()` \n"
   ]
  },
  {
   "cell_type": "code",
   "execution_count": 66,
   "metadata": {
    "slideshow": {
     "slide_type": "slide"
    }
   },
   "outputs": [
    {
     "data": {
      "text/plain": [
       "A    10\n",
       "H     3\n",
       "S     3\n",
       "D     2\n",
       "N     2\n",
       "C     2\n",
       "M     2\n",
       "B     2\n",
       "I     1\n",
       "Y     1\n",
       "T     1\n",
       "V     1\n",
       "E     1\n",
       "K     1\n",
       "R     1\n",
       "Name: Family Name, dtype: int64"
      ]
     },
     "execution_count": 66,
     "metadata": {},
     "output_type": "execute_result"
    }
   ],
   "source": [
    "guess_df['Family Name'].value_counts()\n"
   ]
  },
  {
   "cell_type": "code",
   "execution_count": null,
   "metadata": {
    "collapsed": true
   },
   "outputs": [],
   "source": []
  }
 ],
 "metadata": {
  "celltoolbar": "Slideshow",
  "kernelspec": {
   "display_name": "Python 3",
   "language": "python",
   "name": "python3"
  },
  "language_info": {
   "codemirror_mode": {
    "name": "ipython",
    "version": 3
   },
   "file_extension": ".py",
   "mimetype": "text/x-python",
   "name": "python",
   "nbconvert_exporter": "python",
   "pygments_lexer": "ipython3",
   "version": "3.6.0"
  }
 },
 "nbformat": 4,
 "nbformat_minor": 2
}
