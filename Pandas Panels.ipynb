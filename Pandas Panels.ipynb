{
 "cells": [
  {
   "cell_type": "code",
   "execution_count": 130,
   "metadata": {
    "collapsed": false
   },
   "outputs": [],
   "source": [
    "import pandas as pd\n",
    "import numpy as np\n",
    "import matplotlib.pyplot as plt\n",
    "%matplotlib inline"
   ]
  },
  {
   "cell_type": "code",
   "execution_count": null,
   "metadata": {
    "collapsed": true
   },
   "outputs": [],
   "source": []
  },
  {
   "cell_type": "code",
   "execution_count": 3,
   "metadata": {
    "collapsed": false
   },
   "outputs": [],
   "source": [
    "range = pd.date_range('2015-01-01', '2015-01-02', freq='15min')\n",
    "df = pd.DataFrame(index = range)\n",
    "\n",
    "# Average speed in miles per hour\n",
    "df['speed'] = np.random.randint(low=0, high=60, size=len(df.index))\n",
    "# Distance in miles (speed * 0.5 hours)\n",
    "df['distance'] = df['speed'] * 0.25 \n",
    "# Cumulative distance travelled\n",
    "df['cumulative_distance'] = df.distance.cumsum()"
   ]
  },
  {
   "cell_type": "code",
   "execution_count": 4,
   "metadata": {
    "collapsed": false
   },
   "outputs": [
    {
     "data": {
      "text/html": [
       "<div>\n",
       "<table border=\"1\" class=\"dataframe\">\n",
       "  <thead>\n",
       "    <tr style=\"text-align: right;\">\n",
       "      <th></th>\n",
       "      <th>speed</th>\n",
       "      <th>distance</th>\n",
       "      <th>cumulative_distance</th>\n",
       "    </tr>\n",
       "  </thead>\n",
       "  <tbody>\n",
       "    <tr>\n",
       "      <th>2015-01-01 00:00:00</th>\n",
       "      <td>18</td>\n",
       "      <td>4.50</td>\n",
       "      <td>4.50</td>\n",
       "    </tr>\n",
       "    <tr>\n",
       "      <th>2015-01-01 00:15:00</th>\n",
       "      <td>18</td>\n",
       "      <td>4.50</td>\n",
       "      <td>9.00</td>\n",
       "    </tr>\n",
       "    <tr>\n",
       "      <th>2015-01-01 00:30:00</th>\n",
       "      <td>49</td>\n",
       "      <td>12.25</td>\n",
       "      <td>21.25</td>\n",
       "    </tr>\n",
       "    <tr>\n",
       "      <th>2015-01-01 00:45:00</th>\n",
       "      <td>56</td>\n",
       "      <td>14.00</td>\n",
       "      <td>35.25</td>\n",
       "    </tr>\n",
       "    <tr>\n",
       "      <th>2015-01-01 01:00:00</th>\n",
       "      <td>39</td>\n",
       "      <td>9.75</td>\n",
       "      <td>45.00</td>\n",
       "    </tr>\n",
       "  </tbody>\n",
       "</table>\n",
       "</div>"
      ],
      "text/plain": [
       "                     speed  distance  cumulative_distance\n",
       "2015-01-01 00:00:00     18      4.50                 4.50\n",
       "2015-01-01 00:15:00     18      4.50                 9.00\n",
       "2015-01-01 00:30:00     49     12.25                21.25\n",
       "2015-01-01 00:45:00     56     14.00                35.25\n",
       "2015-01-01 01:00:00     39      9.75                45.00"
      ]
     },
     "execution_count": 4,
     "metadata": {},
     "output_type": "execute_result"
    }
   ],
   "source": [
    "df.head()"
   ]
  },
  {
   "cell_type": "code",
   "execution_count": 7,
   "metadata": {
    "collapsed": false
   },
   "outputs": [],
   "source": [
    "df1 = df.resample(\"H\").mean() #1 row per hour"
   ]
  },
  {
   "cell_type": "code",
   "execution_count": 48,
   "metadata": {
    "collapsed": false
   },
   "outputs": [
    {
     "data": {
      "text/plain": [
       "<class 'pandas.core.panel.Panel'>\n",
       "Dimensions: 25 (items) x 3 (major_axis) x 3 (minor_axis)\n",
       "Items axis: 2015-01-01 00:00:00 to 2015-01-02 00:00:00\n",
       "Major_axis axis: speed to cumulative_distance\n",
       "Minor_axis axis: speed to cumulative_distance"
      ]
     },
     "execution_count": 48,
     "metadata": {},
     "output_type": "execute_result"
    }
   ],
   "source": [
    "df1.rolling(window=4, min_periods=4).cov().apply(lambda x: x)"
   ]
  },
  {
   "cell_type": "markdown",
   "metadata": {},
   "source": [
    "### After taking the covariance at each time instant, the resulting structure is a `panel`"
   ]
  },
  {
   "cell_type": "code",
   "execution_count": 51,
   "metadata": {
    "collapsed": false
   },
   "outputs": [],
   "source": [
    "pnl = df1.rolling(window=4, min_periods=4).cov(pairwise=True)"
   ]
  },
  {
   "cell_type": "markdown",
   "metadata": {},
   "source": [
    "\n",
    "<img src=\"https://raw.githubusercontent.com/mbonvini/EnergyAnalysisWithPandas/master/imgs/panel.png\",width=300>"
   ]
  },
  {
   "cell_type": "markdown",
   "metadata": {},
   "source": [
    "## Understanding how the panel works and how to iterate over it"
   ]
  },
  {
   "cell_type": "code",
   "execution_count": 70,
   "metadata": {
    "collapsed": false
   },
   "outputs": [
    {
     "name": "stdout",
     "output_type": "stream",
     "text": [
      "(25, 3, 3)\n"
     ]
    }
   ],
   "source": [
    "print pnl.shape"
   ]
  },
  {
   "cell_type": "code",
   "execution_count": 76,
   "metadata": {
    "collapsed": false
   },
   "outputs": [
    {
     "name": "stdout",
     "output_type": "stream",
     "text": [
      "(DatetimeIndex(['2015-01-01 00:00:00', '2015-01-01 01:00:00',\n",
      "               '2015-01-01 02:00:00', '2015-01-01 03:00:00',\n",
      "               '2015-01-01 04:00:00', '2015-01-01 05:00:00',\n",
      "               '2015-01-01 06:00:00', '2015-01-01 07:00:00',\n",
      "               '2015-01-01 08:00:00', '2015-01-01 09:00:00',\n",
      "               '2015-01-01 10:00:00', '2015-01-01 11:00:00',\n",
      "               '2015-01-01 12:00:00', '2015-01-01 13:00:00',\n",
      "               '2015-01-01 14:00:00', '2015-01-01 15:00:00',\n",
      "               '2015-01-01 16:00:00', '2015-01-01 17:00:00',\n",
      "               '2015-01-01 18:00:00', '2015-01-01 19:00:00',\n",
      "               '2015-01-01 20:00:00', '2015-01-01 21:00:00',\n",
      "               '2015-01-01 22:00:00', '2015-01-01 23:00:00',\n",
      "               '2015-01-02 00:00:00'],\n",
      "              dtype='datetime64[ns]', freq='H'), Index([u'speed', u'distance', u'cumulative_distance'], dtype='object'), Index([u'speed', u'distance', u'cumulative_distance'], dtype='object'))\n"
     ]
    }
   ],
   "source": [
    "print(pnl.items, pnl.major_axis, pnl.minor_axis)"
   ]
  },
  {
   "cell_type": "code",
   "execution_count": 89,
   "metadata": {
    "collapsed": false
   },
   "outputs": [
    {
     "data": {
      "text/html": [
       "<div>\n",
       "<table border=\"1\" class=\"dataframe\">\n",
       "  <thead>\n",
       "    <tr style=\"text-align: right;\">\n",
       "      <th></th>\n",
       "      <th>2015-01-01 00:00:00</th>\n",
       "      <th>2015-01-01 01:00:00</th>\n",
       "      <th>2015-01-01 02:00:00</th>\n",
       "      <th>2015-01-01 03:00:00</th>\n",
       "      <th>2015-01-01 04:00:00</th>\n",
       "      <th>2015-01-01 05:00:00</th>\n",
       "      <th>2015-01-01 06:00:00</th>\n",
       "      <th>2015-01-01 07:00:00</th>\n",
       "      <th>2015-01-01 08:00:00</th>\n",
       "      <th>2015-01-01 09:00:00</th>\n",
       "      <th>...</th>\n",
       "      <th>2015-01-01 15:00:00</th>\n",
       "      <th>2015-01-01 16:00:00</th>\n",
       "      <th>2015-01-01 17:00:00</th>\n",
       "      <th>2015-01-01 18:00:00</th>\n",
       "      <th>2015-01-01 19:00:00</th>\n",
       "      <th>2015-01-01 20:00:00</th>\n",
       "      <th>2015-01-01 21:00:00</th>\n",
       "      <th>2015-01-01 22:00:00</th>\n",
       "      <th>2015-01-01 23:00:00</th>\n",
       "      <th>2015-01-02 00:00:00</th>\n",
       "    </tr>\n",
       "  </thead>\n",
       "  <tbody>\n",
       "    <tr>\n",
       "      <th>speed</th>\n",
       "      <td>NaN</td>\n",
       "      <td>NaN</td>\n",
       "      <td>NaN</td>\n",
       "      <td>52.682292</td>\n",
       "      <td>73.098958</td>\n",
       "      <td>6.562500</td>\n",
       "      <td>49.746094</td>\n",
       "      <td>60.755208</td>\n",
       "      <td>240.463542</td>\n",
       "      <td>345.502604</td>\n",
       "      <td>...</td>\n",
       "      <td>139.473958</td>\n",
       "      <td>118.562500</td>\n",
       "      <td>124.611979</td>\n",
       "      <td>88.307292</td>\n",
       "      <td>115.854167</td>\n",
       "      <td>182.218750</td>\n",
       "      <td>114.265625</td>\n",
       "      <td>75.125000</td>\n",
       "      <td>47.557292</td>\n",
       "      <td>100.057292</td>\n",
       "    </tr>\n",
       "    <tr>\n",
       "      <th>distance</th>\n",
       "      <td>NaN</td>\n",
       "      <td>NaN</td>\n",
       "      <td>NaN</td>\n",
       "      <td>13.170573</td>\n",
       "      <td>18.274740</td>\n",
       "      <td>1.640625</td>\n",
       "      <td>12.436523</td>\n",
       "      <td>15.188802</td>\n",
       "      <td>60.115885</td>\n",
       "      <td>86.375651</td>\n",
       "      <td>...</td>\n",
       "      <td>34.868490</td>\n",
       "      <td>29.640625</td>\n",
       "      <td>31.152995</td>\n",
       "      <td>22.076823</td>\n",
       "      <td>28.963542</td>\n",
       "      <td>45.554688</td>\n",
       "      <td>28.566406</td>\n",
       "      <td>18.781250</td>\n",
       "      <td>11.889323</td>\n",
       "      <td>25.014323</td>\n",
       "    </tr>\n",
       "    <tr>\n",
       "      <th>cumulative_distance</th>\n",
       "      <td>NaN</td>\n",
       "      <td>NaN</td>\n",
       "      <td>NaN</td>\n",
       "      <td>1903.385417</td>\n",
       "      <td>1216.745768</td>\n",
       "      <td>986.980143</td>\n",
       "      <td>944.089518</td>\n",
       "      <td>1135.549479</td>\n",
       "      <td>1436.174479</td>\n",
       "      <td>2199.378581</td>\n",
       "      <td>...</td>\n",
       "      <td>1769.105143</td>\n",
       "      <td>1663.912435</td>\n",
       "      <td>1957.839844</td>\n",
       "      <td>1702.768229</td>\n",
       "      <td>1363.271810</td>\n",
       "      <td>1497.746094</td>\n",
       "      <td>1586.821289</td>\n",
       "      <td>1353.282552</td>\n",
       "      <td>1094.407552</td>\n",
       "      <td>786.782552</td>\n",
       "    </tr>\n",
       "  </tbody>\n",
       "</table>\n",
       "<p>3 rows × 25 columns</p>\n",
       "</div>"
      ],
      "text/plain": [
       "                     2015-01-01 00:00:00  2015-01-01 01:00:00  \\\n",
       "speed                                NaN                  NaN   \n",
       "distance                             NaN                  NaN   \n",
       "cumulative_distance                  NaN                  NaN   \n",
       "\n",
       "                     2015-01-01 02:00:00  2015-01-01 03:00:00  \\\n",
       "speed                                NaN            52.682292   \n",
       "distance                             NaN            13.170573   \n",
       "cumulative_distance                  NaN          1903.385417   \n",
       "\n",
       "                     2015-01-01 04:00:00  2015-01-01 05:00:00  \\\n",
       "speed                          73.098958             6.562500   \n",
       "distance                       18.274740             1.640625   \n",
       "cumulative_distance          1216.745768           986.980143   \n",
       "\n",
       "                     2015-01-01 06:00:00  2015-01-01 07:00:00  \\\n",
       "speed                          49.746094            60.755208   \n",
       "distance                       12.436523            15.188802   \n",
       "cumulative_distance           944.089518          1135.549479   \n",
       "\n",
       "                     2015-01-01 08:00:00  2015-01-01 09:00:00  \\\n",
       "speed                         240.463542           345.502604   \n",
       "distance                       60.115885            86.375651   \n",
       "cumulative_distance          1436.174479          2199.378581   \n",
       "\n",
       "                            ...           2015-01-01 15:00:00  \\\n",
       "speed                       ...                    139.473958   \n",
       "distance                    ...                     34.868490   \n",
       "cumulative_distance         ...                   1769.105143   \n",
       "\n",
       "                     2015-01-01 16:00:00  2015-01-01 17:00:00  \\\n",
       "speed                         118.562500           124.611979   \n",
       "distance                       29.640625            31.152995   \n",
       "cumulative_distance          1663.912435          1957.839844   \n",
       "\n",
       "                     2015-01-01 18:00:00  2015-01-01 19:00:00  \\\n",
       "speed                          88.307292           115.854167   \n",
       "distance                       22.076823            28.963542   \n",
       "cumulative_distance          1702.768229          1363.271810   \n",
       "\n",
       "                     2015-01-01 20:00:00  2015-01-01 21:00:00  \\\n",
       "speed                         182.218750           114.265625   \n",
       "distance                       45.554688            28.566406   \n",
       "cumulative_distance          1497.746094          1586.821289   \n",
       "\n",
       "                     2015-01-01 22:00:00  2015-01-01 23:00:00  \\\n",
       "speed                          75.125000            47.557292   \n",
       "distance                       18.781250            11.889323   \n",
       "cumulative_distance          1353.282552          1094.407552   \n",
       "\n",
       "                     2015-01-02 00:00:00  \n",
       "speed                         100.057292  \n",
       "distance                       25.014323  \n",
       "cumulative_distance           786.782552  \n",
       "\n",
       "[3 rows x 25 columns]"
      ]
     },
     "execution_count": 89,
     "metadata": {},
     "output_type": "execute_result"
    }
   ],
   "source": [
    "pnl.mean()\n",
    "pnl.max()"
   ]
  },
  {
   "cell_type": "code",
   "execution_count": 96,
   "metadata": {
    "collapsed": false
   },
   "outputs": [
    {
     "data": {
      "text/html": [
       "<div>\n",
       "<table border=\"1\" class=\"dataframe\">\n",
       "  <thead>\n",
       "    <tr style=\"text-align: right;\">\n",
       "      <th></th>\n",
       "      <th>distance</th>\n",
       "      <th>speed</th>\n",
       "    </tr>\n",
       "  </thead>\n",
       "  <tbody>\n",
       "    <tr>\n",
       "      <th>speed</th>\n",
       "      <td>3.651042</td>\n",
       "      <td>14.604167</td>\n",
       "    </tr>\n",
       "    <tr>\n",
       "      <th>distance</th>\n",
       "      <td>0.912760</td>\n",
       "      <td>3.651042</td>\n",
       "    </tr>\n",
       "    <tr>\n",
       "      <th>cumulative_distance</th>\n",
       "      <td>15.188802</td>\n",
       "      <td>60.755208</td>\n",
       "    </tr>\n",
       "  </tbody>\n",
       "</table>\n",
       "</div>"
      ],
      "text/plain": [
       "                      distance      speed\n",
       "speed                 3.651042  14.604167\n",
       "distance              0.912760   3.651042\n",
       "cumulative_distance  15.188802  60.755208"
      ]
     },
     "execution_count": 96,
     "metadata": {},
     "output_type": "execute_result"
    }
   ],
   "source": [
    "pnl[\"2015-01-01 07:00:00\",:,['distance','speed']]"
   ]
  },
  {
   "cell_type": "code",
   "execution_count": 97,
   "metadata": {
    "collapsed": false
   },
   "outputs": [
    {
     "data": {
      "text/html": [
       "<div>\n",
       "<table border=\"1\" class=\"dataframe\">\n",
       "  <thead>\n",
       "    <tr style=\"text-align: right;\">\n",
       "      <th></th>\n",
       "      <th>distance</th>\n",
       "      <th>speed</th>\n",
       "    </tr>\n",
       "  </thead>\n",
       "  <tbody>\n",
       "    <tr>\n",
       "      <th>speed</th>\n",
       "      <td>3.651042</td>\n",
       "      <td>14.604167</td>\n",
       "    </tr>\n",
       "    <tr>\n",
       "      <th>distance</th>\n",
       "      <td>0.912760</td>\n",
       "      <td>3.651042</td>\n",
       "    </tr>\n",
       "    <tr>\n",
       "      <th>cumulative_distance</th>\n",
       "      <td>15.188802</td>\n",
       "      <td>60.755208</td>\n",
       "    </tr>\n",
       "  </tbody>\n",
       "</table>\n",
       "</div>"
      ],
      "text/plain": [
       "                      distance      speed\n",
       "speed                 3.651042  14.604167\n",
       "distance              0.912760   3.651042\n",
       "cumulative_distance  15.188802  60.755208"
      ]
     },
     "execution_count": 97,
     "metadata": {},
     "output_type": "execute_result"
    }
   ],
   "source": [
    "pnl.ix[\"2015-01-01 07:00:00\",:,['distance','speed']]"
   ]
  },
  {
   "cell_type": "code",
   "execution_count": 86,
   "metadata": {
    "collapsed": false
   },
   "outputs": [
    {
     "data": {
      "text/plain": [
       "<bound method Panel.major_xs of <class 'pandas.core.panel.Panel'>\n",
       "Dimensions: 25 (items) x 3 (major_axis) x 3 (minor_axis)\n",
       "Items axis: 2015-01-01 00:00:00 to 2015-01-02 00:00:00\n",
       "Major_axis axis: speed to cumulative_distance\n",
       "Minor_axis axis: speed to cumulative_distance>"
      ]
     },
     "execution_count": 86,
     "metadata": {},
     "output_type": "execute_result"
    }
   ],
   "source": [
    "pnl.major_xs"
   ]
  },
  {
   "cell_type": "code",
   "execution_count": 87,
   "metadata": {
    "collapsed": false
   },
   "outputs": [
    {
     "data": {
      "text/html": [
       "<div>\n",
       "<table border=\"1\" class=\"dataframe\">\n",
       "  <thead>\n",
       "    <tr style=\"text-align: right;\">\n",
       "      <th></th>\n",
       "      <th>2015-01-01 00:00:00</th>\n",
       "      <th>2015-01-01 01:00:00</th>\n",
       "      <th>2015-01-01 02:00:00</th>\n",
       "      <th>2015-01-01 03:00:00</th>\n",
       "      <th>2015-01-01 04:00:00</th>\n",
       "      <th>2015-01-01 05:00:00</th>\n",
       "      <th>2015-01-01 06:00:00</th>\n",
       "      <th>2015-01-01 07:00:00</th>\n",
       "      <th>2015-01-01 08:00:00</th>\n",
       "      <th>2015-01-01 09:00:00</th>\n",
       "      <th>...</th>\n",
       "      <th>2015-01-01 15:00:00</th>\n",
       "      <th>2015-01-01 16:00:00</th>\n",
       "      <th>2015-01-01 17:00:00</th>\n",
       "      <th>2015-01-01 18:00:00</th>\n",
       "      <th>2015-01-01 19:00:00</th>\n",
       "      <th>2015-01-01 20:00:00</th>\n",
       "      <th>2015-01-01 21:00:00</th>\n",
       "      <th>2015-01-01 22:00:00</th>\n",
       "      <th>2015-01-01 23:00:00</th>\n",
       "      <th>2015-01-02 00:00:00</th>\n",
       "    </tr>\n",
       "  </thead>\n",
       "  <tbody>\n",
       "    <tr>\n",
       "      <th>speed</th>\n",
       "      <td>NaN</td>\n",
       "      <td>NaN</td>\n",
       "      <td>NaN</td>\n",
       "      <td>-230.072917</td>\n",
       "      <td>-283.220052</td>\n",
       "      <td>-66.726562</td>\n",
       "      <td>49.746094</td>\n",
       "      <td>60.755208</td>\n",
       "      <td>240.463542</td>\n",
       "      <td>345.502604</td>\n",
       "      <td>...</td>\n",
       "      <td>-4.787760</td>\n",
       "      <td>-88.138021</td>\n",
       "      <td>124.611979</td>\n",
       "      <td>-225.364583</td>\n",
       "      <td>-73.226562</td>\n",
       "      <td>182.218750</td>\n",
       "      <td>6.753906</td>\n",
       "      <td>-211.192708</td>\n",
       "      <td>-109.205729</td>\n",
       "      <td>-130.773438</td>\n",
       "    </tr>\n",
       "    <tr>\n",
       "      <th>distance</th>\n",
       "      <td>NaN</td>\n",
       "      <td>NaN</td>\n",
       "      <td>NaN</td>\n",
       "      <td>-57.518229</td>\n",
       "      <td>-70.805013</td>\n",
       "      <td>-16.681641</td>\n",
       "      <td>12.436523</td>\n",
       "      <td>15.188802</td>\n",
       "      <td>60.115885</td>\n",
       "      <td>86.375651</td>\n",
       "      <td>...</td>\n",
       "      <td>-1.196940</td>\n",
       "      <td>-22.034505</td>\n",
       "      <td>31.152995</td>\n",
       "      <td>-56.341146</td>\n",
       "      <td>-18.306641</td>\n",
       "      <td>45.554688</td>\n",
       "      <td>1.688477</td>\n",
       "      <td>-52.798177</td>\n",
       "      <td>-27.301432</td>\n",
       "      <td>-32.693359</td>\n",
       "    </tr>\n",
       "    <tr>\n",
       "      <th>cumulative_distance</th>\n",
       "      <td>NaN</td>\n",
       "      <td>NaN</td>\n",
       "      <td>NaN</td>\n",
       "      <td>1903.385417</td>\n",
       "      <td>1216.745768</td>\n",
       "      <td>986.980143</td>\n",
       "      <td>944.089518</td>\n",
       "      <td>1135.549479</td>\n",
       "      <td>1436.174479</td>\n",
       "      <td>2199.378581</td>\n",
       "      <td>...</td>\n",
       "      <td>1769.105143</td>\n",
       "      <td>1663.912435</td>\n",
       "      <td>1957.839844</td>\n",
       "      <td>1702.768229</td>\n",
       "      <td>1363.271810</td>\n",
       "      <td>1497.746094</td>\n",
       "      <td>1586.821289</td>\n",
       "      <td>1353.282552</td>\n",
       "      <td>1094.407552</td>\n",
       "      <td>786.782552</td>\n",
       "    </tr>\n",
       "  </tbody>\n",
       "</table>\n",
       "<p>3 rows × 25 columns</p>\n",
       "</div>"
      ],
      "text/plain": [
       "                     2015-01-01 00:00:00  2015-01-01 01:00:00  \\\n",
       "speed                                NaN                  NaN   \n",
       "distance                             NaN                  NaN   \n",
       "cumulative_distance                  NaN                  NaN   \n",
       "\n",
       "                     2015-01-01 02:00:00  2015-01-01 03:00:00  \\\n",
       "speed                                NaN          -230.072917   \n",
       "distance                             NaN           -57.518229   \n",
       "cumulative_distance                  NaN          1903.385417   \n",
       "\n",
       "                     2015-01-01 04:00:00  2015-01-01 05:00:00  \\\n",
       "speed                        -283.220052           -66.726562   \n",
       "distance                      -70.805013           -16.681641   \n",
       "cumulative_distance          1216.745768           986.980143   \n",
       "\n",
       "                     2015-01-01 06:00:00  2015-01-01 07:00:00  \\\n",
       "speed                          49.746094            60.755208   \n",
       "distance                       12.436523            15.188802   \n",
       "cumulative_distance           944.089518          1135.549479   \n",
       "\n",
       "                     2015-01-01 08:00:00  2015-01-01 09:00:00  \\\n",
       "speed                         240.463542           345.502604   \n",
       "distance                       60.115885            86.375651   \n",
       "cumulative_distance          1436.174479          2199.378581   \n",
       "\n",
       "                            ...           2015-01-01 15:00:00  \\\n",
       "speed                       ...                     -4.787760   \n",
       "distance                    ...                     -1.196940   \n",
       "cumulative_distance         ...                   1769.105143   \n",
       "\n",
       "                     2015-01-01 16:00:00  2015-01-01 17:00:00  \\\n",
       "speed                         -88.138021           124.611979   \n",
       "distance                      -22.034505            31.152995   \n",
       "cumulative_distance          1663.912435          1957.839844   \n",
       "\n",
       "                     2015-01-01 18:00:00  2015-01-01 19:00:00  \\\n",
       "speed                        -225.364583           -73.226562   \n",
       "distance                      -56.341146           -18.306641   \n",
       "cumulative_distance          1702.768229          1363.271810   \n",
       "\n",
       "                     2015-01-01 20:00:00  2015-01-01 21:00:00  \\\n",
       "speed                         182.218750             6.753906   \n",
       "distance                       45.554688             1.688477   \n",
       "cumulative_distance          1497.746094          1586.821289   \n",
       "\n",
       "                     2015-01-01 22:00:00  2015-01-01 23:00:00  \\\n",
       "speed                        -211.192708          -109.205729   \n",
       "distance                      -52.798177           -27.301432   \n",
       "cumulative_distance          1353.282552          1094.407552   \n",
       "\n",
       "                     2015-01-02 00:00:00  \n",
       "speed                        -130.773438  \n",
       "distance                      -32.693359  \n",
       "cumulative_distance           786.782552  \n",
       "\n",
       "[3 rows x 25 columns]"
      ]
     },
     "execution_count": 87,
     "metadata": {},
     "output_type": "execute_result"
    }
   ],
   "source": [
    "#a panel's major slices, will be a dataframe.\n",
    "#It's index will be the minor-axis, and the columns are the items\n",
    "pnl.major_xs(key=\"cumulative_distance\")"
   ]
  },
  {
   "cell_type": "code",
   "execution_count": 83,
   "metadata": {
    "collapsed": false
   },
   "outputs": [
    {
     "data": {
      "text/plain": [
       "<bound method Panel.minor_xs of <class 'pandas.core.panel.Panel'>\n",
       "Dimensions: 25 (items) x 3 (major_axis) x 3 (minor_axis)\n",
       "Items axis: 2015-01-01 00:00:00 to 2015-01-02 00:00:00\n",
       "Major_axis axis: speed to cumulative_distance\n",
       "Minor_axis axis: speed to cumulative_distance>"
      ]
     },
     "execution_count": 83,
     "metadata": {},
     "output_type": "execute_result"
    }
   ],
   "source": [
    "pnl.minor_xs"
   ]
  },
  {
   "cell_type": "code",
   "execution_count": 84,
   "metadata": {
    "collapsed": false
   },
   "outputs": [
    {
     "data": {
      "text/html": [
       "<div>\n",
       "<table border=\"1\" class=\"dataframe\">\n",
       "  <thead>\n",
       "    <tr style=\"text-align: right;\">\n",
       "      <th></th>\n",
       "      <th>2015-01-01 00:00:00</th>\n",
       "      <th>2015-01-01 01:00:00</th>\n",
       "      <th>2015-01-01 02:00:00</th>\n",
       "      <th>2015-01-01 03:00:00</th>\n",
       "      <th>2015-01-01 04:00:00</th>\n",
       "      <th>2015-01-01 05:00:00</th>\n",
       "      <th>2015-01-01 06:00:00</th>\n",
       "      <th>2015-01-01 07:00:00</th>\n",
       "      <th>2015-01-01 08:00:00</th>\n",
       "      <th>2015-01-01 09:00:00</th>\n",
       "      <th>...</th>\n",
       "      <th>2015-01-01 15:00:00</th>\n",
       "      <th>2015-01-01 16:00:00</th>\n",
       "      <th>2015-01-01 17:00:00</th>\n",
       "      <th>2015-01-01 18:00:00</th>\n",
       "      <th>2015-01-01 19:00:00</th>\n",
       "      <th>2015-01-01 20:00:00</th>\n",
       "      <th>2015-01-01 21:00:00</th>\n",
       "      <th>2015-01-01 22:00:00</th>\n",
       "      <th>2015-01-01 23:00:00</th>\n",
       "      <th>2015-01-02 00:00:00</th>\n",
       "    </tr>\n",
       "  </thead>\n",
       "  <tbody>\n",
       "    <tr>\n",
       "      <th>speed</th>\n",
       "      <td>NaN</td>\n",
       "      <td>NaN</td>\n",
       "      <td>NaN</td>\n",
       "      <td>52.682292</td>\n",
       "      <td>73.098958</td>\n",
       "      <td>6.562500</td>\n",
       "      <td>14.890625</td>\n",
       "      <td>14.604167</td>\n",
       "      <td>69.604167</td>\n",
       "      <td>83.604167</td>\n",
       "      <td>...</td>\n",
       "      <td>139.473958</td>\n",
       "      <td>118.562500</td>\n",
       "      <td>49.848958</td>\n",
       "      <td>88.307292</td>\n",
       "      <td>115.854167</td>\n",
       "      <td>83.187500</td>\n",
       "      <td>114.265625</td>\n",
       "      <td>75.125000</td>\n",
       "      <td>47.557292</td>\n",
       "      <td>100.057292</td>\n",
       "    </tr>\n",
       "    <tr>\n",
       "      <th>distance</th>\n",
       "      <td>NaN</td>\n",
       "      <td>NaN</td>\n",
       "      <td>NaN</td>\n",
       "      <td>13.170573</td>\n",
       "      <td>18.274740</td>\n",
       "      <td>1.640625</td>\n",
       "      <td>3.722656</td>\n",
       "      <td>3.651042</td>\n",
       "      <td>17.401042</td>\n",
       "      <td>20.901042</td>\n",
       "      <td>...</td>\n",
       "      <td>34.868490</td>\n",
       "      <td>29.640625</td>\n",
       "      <td>12.462240</td>\n",
       "      <td>22.076823</td>\n",
       "      <td>28.963542</td>\n",
       "      <td>20.796875</td>\n",
       "      <td>28.566406</td>\n",
       "      <td>18.781250</td>\n",
       "      <td>11.889323</td>\n",
       "      <td>25.014323</td>\n",
       "    </tr>\n",
       "    <tr>\n",
       "      <th>cumulative_distance</th>\n",
       "      <td>NaN</td>\n",
       "      <td>NaN</td>\n",
       "      <td>NaN</td>\n",
       "      <td>-230.072917</td>\n",
       "      <td>-283.220052</td>\n",
       "      <td>-66.726562</td>\n",
       "      <td>49.746094</td>\n",
       "      <td>60.755208</td>\n",
       "      <td>240.463542</td>\n",
       "      <td>345.502604</td>\n",
       "      <td>...</td>\n",
       "      <td>-4.787760</td>\n",
       "      <td>-88.138021</td>\n",
       "      <td>124.611979</td>\n",
       "      <td>-225.364583</td>\n",
       "      <td>-73.226562</td>\n",
       "      <td>182.218750</td>\n",
       "      <td>6.753906</td>\n",
       "      <td>-211.192708</td>\n",
       "      <td>-109.205729</td>\n",
       "      <td>-130.773438</td>\n",
       "    </tr>\n",
       "  </tbody>\n",
       "</table>\n",
       "<p>3 rows × 25 columns</p>\n",
       "</div>"
      ],
      "text/plain": [
       "                     2015-01-01 00:00:00  2015-01-01 01:00:00  \\\n",
       "speed                                NaN                  NaN   \n",
       "distance                             NaN                  NaN   \n",
       "cumulative_distance                  NaN                  NaN   \n",
       "\n",
       "                     2015-01-01 02:00:00  2015-01-01 03:00:00  \\\n",
       "speed                                NaN            52.682292   \n",
       "distance                             NaN            13.170573   \n",
       "cumulative_distance                  NaN          -230.072917   \n",
       "\n",
       "                     2015-01-01 04:00:00  2015-01-01 05:00:00  \\\n",
       "speed                          73.098958             6.562500   \n",
       "distance                       18.274740             1.640625   \n",
       "cumulative_distance          -283.220052           -66.726562   \n",
       "\n",
       "                     2015-01-01 06:00:00  2015-01-01 07:00:00  \\\n",
       "speed                          14.890625            14.604167   \n",
       "distance                        3.722656             3.651042   \n",
       "cumulative_distance            49.746094            60.755208   \n",
       "\n",
       "                     2015-01-01 08:00:00  2015-01-01 09:00:00  \\\n",
       "speed                          69.604167            83.604167   \n",
       "distance                       17.401042            20.901042   \n",
       "cumulative_distance           240.463542           345.502604   \n",
       "\n",
       "                            ...           2015-01-01 15:00:00  \\\n",
       "speed                       ...                    139.473958   \n",
       "distance                    ...                     34.868490   \n",
       "cumulative_distance         ...                     -4.787760   \n",
       "\n",
       "                     2015-01-01 16:00:00  2015-01-01 17:00:00  \\\n",
       "speed                         118.562500            49.848958   \n",
       "distance                       29.640625            12.462240   \n",
       "cumulative_distance           -88.138021           124.611979   \n",
       "\n",
       "                     2015-01-01 18:00:00  2015-01-01 19:00:00  \\\n",
       "speed                          88.307292           115.854167   \n",
       "distance                       22.076823            28.963542   \n",
       "cumulative_distance          -225.364583           -73.226562   \n",
       "\n",
       "                     2015-01-01 20:00:00  2015-01-01 21:00:00  \\\n",
       "speed                          83.187500           114.265625   \n",
       "distance                       20.796875            28.566406   \n",
       "cumulative_distance           182.218750             6.753906   \n",
       "\n",
       "                     2015-01-01 22:00:00  2015-01-01 23:00:00  \\\n",
       "speed                          75.125000            47.557292   \n",
       "distance                       18.781250            11.889323   \n",
       "cumulative_distance          -211.192708          -109.205729   \n",
       "\n",
       "                     2015-01-02 00:00:00  \n",
       "speed                         100.057292  \n",
       "distance                       25.014323  \n",
       "cumulative_distance          -130.773438  \n",
       "\n",
       "[3 rows x 25 columns]"
      ]
     },
     "execution_count": 84,
     "metadata": {},
     "output_type": "execute_result"
    }
   ],
   "source": [
    "#minor_xs is useful for getting a \"Slice\" of the Panel, which is a dataframe with the other two axes - \n",
    "# Index as Major Axis of Panel, and columns are the items\n",
    "pnl.minor_xs(key='speed')"
   ]
  },
  {
   "cell_type": "markdown",
   "metadata": {},
   "source": [
    "### Iterating along the \"Items\" axis"
   ]
  },
  {
   "cell_type": "code",
   "execution_count": 118,
   "metadata": {
    "collapsed": false
   },
   "outputs": [
    {
     "name": "stdout",
     "output_type": "stream",
     "text": [
      "2015-01-01 00:00:00                      speed  distance  cumulative_distance\n",
      "speed                  NaN       NaN                  NaN\n",
      "distance               NaN       NaN                  NaN\n",
      "cumulative_distance    NaN       NaN                  NaN\n",
      "2015-01-01 01:00:00                      speed  distance  cumulative_distance\n",
      "speed                  NaN       NaN                  NaN\n",
      "distance               NaN       NaN                  NaN\n",
      "cumulative_distance    NaN       NaN                  NaN\n",
      "2015-01-01 02:00:00                      speed  distance  cumulative_distance\n",
      "speed                  NaN       NaN                  NaN\n",
      "distance               NaN       NaN                  NaN\n",
      "cumulative_distance    NaN       NaN                  NaN\n",
      "2015-01-01 03:00:00                           speed   distance  cumulative_distance\n",
      "speed                 52.682292  13.170573          -230.072917\n",
      "distance              13.170573   3.292643           -57.518229\n",
      "cumulative_distance -230.072917 -57.518229          1903.385417\n",
      "2015-01-01 04:00:00                           speed   distance  cumulative_distance\n",
      "speed                 73.098958  18.274740          -283.220052\n",
      "distance              18.274740   4.568685           -70.805013\n",
      "cumulative_distance -283.220052 -70.805013          1216.745768\n",
      "2015-01-01 05:00:00                          speed   distance  cumulative_distance\n",
      "speed                 6.562500   1.640625           -66.726562\n",
      "distance              1.640625   0.410156           -16.681641\n",
      "cumulative_distance -66.726562 -16.681641           986.980143\n",
      "2015-01-01 06:00:00                          speed   distance  cumulative_distance\n",
      "speed                14.890625   3.722656            49.746094\n",
      "distance              3.722656   0.930664            12.436523\n",
      "cumulative_distance  49.746094  12.436523           944.089518\n",
      "2015-01-01 07:00:00                          speed   distance  cumulative_distance\n",
      "speed                14.604167   3.651042            60.755208\n",
      "distance              3.651042   0.912760            15.188802\n",
      "cumulative_distance  60.755208  15.188802          1135.549479\n",
      "2015-01-01 08:00:00                           speed   distance  cumulative_distance\n",
      "speed                 69.604167  17.401042           240.463542\n",
      "distance              17.401042   4.350260            60.115885\n",
      "cumulative_distance  240.463542  60.115885          1436.174479\n",
      "2015-01-01 09:00:00                           speed   distance  cumulative_distance\n",
      "speed                 83.604167  20.901042           345.502604\n",
      "distance              20.901042   5.225260            86.375651\n",
      "cumulative_distance  345.502604  86.375651          2199.378581\n",
      "2015-01-01 10:00:00                           speed   distance  cumulative_distance\n",
      "speed                 82.041667  20.510417           126.385417\n",
      "distance              20.510417   5.127604            31.596354\n",
      "cumulative_distance  126.385417  31.596354          2157.760417\n",
      "2015-01-01 11:00:00                          speed   distance  cumulative_distance\n",
      "speed                34.041667   8.510417           -81.197917\n",
      "distance              8.510417   2.127604           -20.299479\n",
      "cumulative_distance -81.197917 -20.299479          2409.739583\n",
      "2015-01-01 12:00:00                           speed   distance  cumulative_distance\n",
      "speed                 91.854167  22.963542          -278.645833\n",
      "distance              22.963542   5.740885           -69.661458\n",
      "cumulative_distance -278.645833 -69.661458          1973.984375\n",
      "2015-01-01 13:00:00                           speed   distance  cumulative_distance\n",
      "speed                127.182292  31.795573           232.648438\n",
      "distance              31.795573   7.948893            58.162109\n",
      "cumulative_distance  232.648438  58.162109          2052.545573\n",
      "2015-01-01 14:00:00                           speed   distance  cumulative_distance\n",
      "speed                156.432292  39.108073          -103.015625\n",
      "distance              39.108073   9.777018           -25.753906\n",
      "cumulative_distance -103.015625 -25.753906          1806.307292\n",
      "2015-01-01 15:00:00                           speed   distance  cumulative_distance\n",
      "speed                139.473958  34.868490            -4.787760\n",
      "distance              34.868490   8.717122            -1.196940\n",
      "cumulative_distance   -4.787760  -1.196940          1769.105143\n",
      "2015-01-01 16:00:00                           speed   distance  cumulative_distance\n",
      "speed                118.562500  29.640625           -88.138021\n",
      "distance              29.640625   7.410156           -22.034505\n",
      "cumulative_distance  -88.138021 -22.034505          1663.912435\n",
      "2015-01-01 17:00:00                           speed   distance  cumulative_distance\n",
      "speed                 49.848958  12.462240           124.611979\n",
      "distance              12.462240   3.115560            31.152995\n",
      "cumulative_distance  124.611979  31.152995          1957.839844\n",
      "2015-01-01 18:00:00                           speed   distance  cumulative_distance\n",
      "speed                 88.307292  22.076823          -225.364583\n",
      "distance              22.076823   5.519206           -56.341146\n",
      "cumulative_distance -225.364583 -56.341146          1702.768229\n",
      "2015-01-01 19:00:00                           speed   distance  cumulative_distance\n",
      "speed                115.854167  28.963542           -73.226562\n",
      "distance              28.963542   7.240885           -18.306641\n",
      "cumulative_distance  -73.226562 -18.306641          1363.271810\n",
      "2015-01-01 20:00:00                           speed   distance  cumulative_distance\n",
      "speed                 83.187500  20.796875           182.218750\n",
      "distance              20.796875   5.199219            45.554688\n",
      "cumulative_distance  182.218750  45.554688          1497.746094\n",
      "2015-01-01 21:00:00                           speed   distance  cumulative_distance\n",
      "speed                114.265625  28.566406             6.753906\n",
      "distance              28.566406   7.141602             1.688477\n",
      "cumulative_distance    6.753906   1.688477          1586.821289\n",
      "2015-01-01 22:00:00                           speed   distance  cumulative_distance\n",
      "speed                 75.125000  18.781250          -211.192708\n",
      "distance              18.781250   4.695312           -52.798177\n",
      "cumulative_distance -211.192708 -52.798177          1353.282552\n",
      "2015-01-01 23:00:00                           speed   distance  cumulative_distance\n",
      "speed                 47.557292  11.889323          -109.205729\n",
      "distance              11.889323   2.972331           -27.301432\n",
      "cumulative_distance -109.205729 -27.301432          1094.407552\n",
      "2015-01-02 00:00:00                           speed   distance  cumulative_distance\n",
      "speed                100.057292  25.014323          -130.773438\n",
      "distance              25.014323   6.253581           -32.693359\n",
      "cumulative_distance -130.773438 -32.693359           786.782552\n"
     ]
    }
   ],
   "source": [
    "# We can iterate over the ITEMS axis, using iteritems()\n",
    "for key, dframe in pnl.iteritems():\n",
    "    print key, dframe"
   ]
  },
  {
   "cell_type": "markdown",
   "metadata": {},
   "source": [
    "# Iterating along the Major Axis of a Panel"
   ]
  },
  {
   "cell_type": "code",
   "execution_count": 67,
   "metadata": {
    "collapsed": false
   },
   "outputs": [
    {
     "name": "stdout",
     "output_type": "stream",
     "text": [
      "speed\n",
      "distance\n",
      "cumulative_distance\n"
     ]
    }
   ],
   "source": [
    "for key in pnl.major_axis:\n",
    "    print key"
   ]
  },
  {
   "cell_type": "markdown",
   "metadata": {},
   "source": [
    "## Iterating along the Minor Axis of a Panel"
   ]
  },
  {
   "cell_type": "code",
   "execution_count": 105,
   "metadata": {
    "collapsed": false
   },
   "outputs": [
    {
     "name": "stdout",
     "output_type": "stream",
     "text": [
      "speed\n",
      "distance\n",
      "cumulative_distance\n"
     ]
    }
   ],
   "source": [
    "for key in pnl.minor_axis:\n",
    "    print key\n",
    "    \n",
    "# In this case, the keys are the \"Items\" of the Panel"
   ]
  },
  {
   "cell_type": "markdown",
   "metadata": {},
   "source": [
    "## Iterating along the Minor Axis of a Panel"
   ]
  },
  {
   "cell_type": "code",
   "execution_count": 65,
   "metadata": {
    "collapsed": false
   },
   "outputs": [
    {
     "name": "stdout",
     "output_type": "stream",
     "text": [
      "2015-01-01 00:00:00\n",
      "2015-01-01 01:00:00\n",
      "2015-01-01 02:00:00\n",
      "2015-01-01 03:00:00\n",
      "2015-01-01 04:00:00\n",
      "2015-01-01 05:00:00\n",
      "2015-01-01 06:00:00\n",
      "2015-01-01 07:00:00\n",
      "2015-01-01 08:00:00\n",
      "2015-01-01 09:00:00\n",
      "2015-01-01 10:00:00\n",
      "2015-01-01 11:00:00\n",
      "2015-01-01 12:00:00\n",
      "2015-01-01 13:00:00\n",
      "2015-01-01 14:00:00\n",
      "2015-01-01 15:00:00\n",
      "2015-01-01 16:00:00\n",
      "2015-01-01 17:00:00\n",
      "2015-01-01 18:00:00\n",
      "2015-01-01 19:00:00\n",
      "2015-01-01 20:00:00\n",
      "2015-01-01 21:00:00\n",
      "2015-01-01 22:00:00\n",
      "2015-01-01 23:00:00\n",
      "2015-01-02 00:00:00\n"
     ]
    }
   ],
   "source": [
    "for key in pnl:\n",
    "    print key"
   ]
  },
  {
   "cell_type": "markdown",
   "metadata": {},
   "source": [
    "### `minor_xs` is a slice of the panel along the minor_axis\n",
    "Result (the slice) is a data frame"
   ]
  },
  {
   "cell_type": "code",
   "execution_count": 104,
   "metadata": {
    "collapsed": false
   },
   "outputs": [
    {
     "name": "stdout",
     "output_type": "stream",
     "text": [
      "speed\n",
      "--\n",
      "                     2015-01-01 00:00:00  2015-01-01 01:00:00  \\\n",
      "speed                                NaN                  NaN   \n",
      "distance                             NaN                  NaN   \n",
      "cumulative_distance                  NaN                  NaN   \n",
      "\n",
      "                     2015-01-01 02:00:00  2015-01-01 03:00:00  \\\n",
      "speed                                NaN            52.682292   \n",
      "distance                             NaN            13.170573   \n",
      "cumulative_distance                  NaN          -230.072917   \n",
      "\n",
      "                     2015-01-01 04:00:00  2015-01-01 05:00:00  \\\n",
      "speed                          73.098958             6.562500   \n",
      "distance                       18.274740             1.640625   \n",
      "cumulative_distance          -283.220052           -66.726562   \n",
      "\n",
      "                     2015-01-01 06:00:00  2015-01-01 07:00:00  \\\n",
      "speed                          14.890625            14.604167   \n",
      "distance                        3.722656             3.651042   \n",
      "cumulative_distance            49.746094            60.755208   \n",
      "\n",
      "                     2015-01-01 08:00:00  2015-01-01 09:00:00  \\\n",
      "speed                          69.604167            83.604167   \n",
      "distance                       17.401042            20.901042   \n",
      "cumulative_distance           240.463542           345.502604   \n",
      "\n",
      "                            ...           2015-01-01 15:00:00  \\\n",
      "speed                       ...                    139.473958   \n",
      "distance                    ...                     34.868490   \n",
      "cumulative_distance         ...                     -4.787760   \n",
      "\n",
      "                     2015-01-01 16:00:00  2015-01-01 17:00:00  \\\n",
      "speed                         118.562500            49.848958   \n",
      "distance                       29.640625            12.462240   \n",
      "cumulative_distance           -88.138021           124.611979   \n",
      "\n",
      "                     2015-01-01 18:00:00  2015-01-01 19:00:00  \\\n",
      "speed                          88.307292           115.854167   \n",
      "distance                       22.076823            28.963542   \n",
      "cumulative_distance          -225.364583           -73.226562   \n",
      "\n",
      "                     2015-01-01 20:00:00  2015-01-01 21:00:00  \\\n",
      "speed                          83.187500           114.265625   \n",
      "distance                       20.796875            28.566406   \n",
      "cumulative_distance           182.218750             6.753906   \n",
      "\n",
      "                     2015-01-01 22:00:00  2015-01-01 23:00:00  \\\n",
      "speed                          75.125000            47.557292   \n",
      "distance                       18.781250            11.889323   \n",
      "cumulative_distance          -211.192708          -109.205729   \n",
      "\n",
      "                     2015-01-02 00:00:00  \n",
      "speed                         100.057292  \n",
      "distance                       25.014323  \n",
      "cumulative_distance          -130.773438  \n",
      "\n",
      "[3 rows x 25 columns]\n"
     ]
    }
   ],
   "source": [
    "for key in pnl.minor_axis[0:1]:\n",
    "    print key # each \"panel item\" is the key in this case\n",
    "    print \"--\"\n",
    "    print pnl.minor_xs(key)"
   ]
  },
  {
   "cell_type": "markdown",
   "metadata": {},
   "source": [
    "## Calculating the \"matrix norm\" of each slice, using `numpy.linalg`"
   ]
  },
  {
   "cell_type": "code",
   "execution_count": 124,
   "metadata": {
    "collapsed": false
   },
   "outputs": [
    {
     "name": "stdout",
     "output_type": "stream",
     "text": [
      "2015-01-01 00:00:00 nan\n",
      "2015-01-01 01:00:00 nan\n",
      "2015-01-01 02:00:00 nan\n",
      "2015-01-01 03:00:00 1933.51830223\n",
      "2015-01-01 04:00:00 1287.22819378\n",
      "2015-01-01 05:00:00 991.786188459\n",
      "2015-01-01 06:00:00 947.002647058\n",
      "2015-01-01 07:00:00 1139.10367604\n",
      "2015-01-01 08:00:00 1480.18230668\n",
      "2015-01-01 09:00:00 2258.05722107\n",
      "2015-01-01 10:00:00 2167.36515239\n",
      "2015-01-01 11:00:00 2412.91595724\n",
      "2015-01-01 12:00:00 2017.7045238\n",
      "2015-01-01 13:00:00 2084.75898341\n",
      "2015-01-01 14:00:00 1820.14354708\n",
      "2015-01-01 15:00:00 1775.31470868\n",
      "2015-01-01 16:00:00 1673.61326518\n",
      "2015-01-01 17:00:00 1966.9619729\n",
      "2015-01-01 18:00:00 1736.70668051\n",
      "2015-01-01 19:00:00 1372.97375962\n",
      "2015-01-01 20:00:00 1523.68414647\n",
      "2015-01-01 21:00:00 1591.48938121\n",
      "2015-01-01 22:00:00 1390.15285605\n",
      "2015-01-01 23:00:00 1107.07888236\n",
      "2015-01-02 00:00:00 816.498549452\n"
     ]
    }
   ],
   "source": [
    "from numpy import linalg as LA\n",
    "for item in pnl:\n",
    "    print  item, LA.norm(pnl[item])"
   ]
  },
  {
   "cell_type": "markdown",
   "metadata": {},
   "source": [
    "### Everything in one line!\n",
    "Thanks to the power of chaining in Pandas, we can start from an hourly time series dataframe with multiple variables, take a rolling window of a certain size (4), compute the covariance matrix at each timestamp and calculate the norm of each of those matrices."
   ]
  },
  {
   "cell_type": "code",
   "execution_count": 108,
   "metadata": {
    "collapsed": false
   },
   "outputs": [
    {
     "data": {
      "text/html": [
       "<div>\n",
       "<table border=\"1\" class=\"dataframe\">\n",
       "  <thead>\n",
       "    <tr style=\"text-align: right;\">\n",
       "      <th></th>\n",
       "      <th>speed</th>\n",
       "      <th>distance</th>\n",
       "      <th>cumulative_distance</th>\n",
       "    </tr>\n",
       "  </thead>\n",
       "  <tbody>\n",
       "    <tr>\n",
       "      <th>2015-01-01 00:00:00</th>\n",
       "      <td>NaN</td>\n",
       "      <td>NaN</td>\n",
       "      <td>NaN</td>\n",
       "    </tr>\n",
       "    <tr>\n",
       "      <th>2015-01-01 01:00:00</th>\n",
       "      <td>NaN</td>\n",
       "      <td>NaN</td>\n",
       "      <td>NaN</td>\n",
       "    </tr>\n",
       "    <tr>\n",
       "      <th>2015-01-01 02:00:00</th>\n",
       "      <td>NaN</td>\n",
       "      <td>NaN</td>\n",
       "      <td>NaN</td>\n",
       "    </tr>\n",
       "    <tr>\n",
       "      <th>2015-01-01 03:00:00</th>\n",
       "      <td>236.394659</td>\n",
       "      <td>59.098665</td>\n",
       "      <td>1918.102692</td>\n",
       "    </tr>\n",
       "    <tr>\n",
       "      <th>2015-01-01 04:00:00</th>\n",
       "      <td>293.071701</td>\n",
       "      <td>73.267925</td>\n",
       "      <td>1251.278231</td>\n",
       "    </tr>\n",
       "    <tr>\n",
       "      <th>2015-01-01 05:00:00</th>\n",
       "      <td>67.068563</td>\n",
       "      <td>16.767141</td>\n",
       "      <td>989.373799</td>\n",
       "    </tr>\n",
       "    <tr>\n",
       "      <th>2015-01-01 06:00:00</th>\n",
       "      <td>52.060184</td>\n",
       "      <td>13.015046</td>\n",
       "      <td>945.481020</td>\n",
       "    </tr>\n",
       "    <tr>\n",
       "      <th>2015-01-01 07:00:00</th>\n",
       "      <td>62.592389</td>\n",
       "      <td>15.648097</td>\n",
       "      <td>1137.275039</td>\n",
       "    </tr>\n",
       "    <tr>\n",
       "      <th>2015-01-01 08:00:00</th>\n",
       "      <td>250.938740</td>\n",
       "      <td>62.734685</td>\n",
       "      <td>1457.406522</td>\n",
       "    </tr>\n",
       "    <tr>\n",
       "      <th>2015-01-01 09:00:00</th>\n",
       "      <td>356.087854</td>\n",
       "      <td>89.021963</td>\n",
       "      <td>2228.025795</td>\n",
       "    </tr>\n",
       "    <tr>\n",
       "      <th>2015-01-01 10:00:00</th>\n",
       "      <td>152.068359</td>\n",
       "      <td>38.017090</td>\n",
       "      <td>2161.689529</td>\n",
       "    </tr>\n",
       "    <tr>\n",
       "      <th>2015-01-01 11:00:00</th>\n",
       "      <td>88.455435</td>\n",
       "      <td>22.113859</td>\n",
       "      <td>2411.192657</td>\n",
       "    </tr>\n",
       "    <tr>\n",
       "      <th>2015-01-01 12:00:00</th>\n",
       "      <td>294.292393</td>\n",
       "      <td>73.573098</td>\n",
       "      <td>1994.770797</td>\n",
       "    </tr>\n",
       "    <tr>\n",
       "      <th>2015-01-01 13:00:00</th>\n",
       "      <td>267.042299</td>\n",
       "      <td>66.760575</td>\n",
       "      <td>2066.507066</td>\n",
       "    </tr>\n",
       "    <tr>\n",
       "      <th>2015-01-01 14:00:00</th>\n",
       "      <td>191.344512</td>\n",
       "      <td>47.836128</td>\n",
       "      <td>1809.425742</td>\n",
       "    </tr>\n",
       "    <tr>\n",
       "      <th>2015-01-01 15:00:00</th>\n",
       "      <td>143.846165</td>\n",
       "      <td>35.961541</td>\n",
       "      <td>1769.112027</td>\n",
       "    </tr>\n",
       "    <tr>\n",
       "      <th>2015-01-01 16:00:00</th>\n",
       "      <td>150.678279</td>\n",
       "      <td>37.669570</td>\n",
       "      <td>1666.390837</td>\n",
       "    </tr>\n",
       "    <tr>\n",
       "      <th>2015-01-01 17:00:00</th>\n",
       "      <td>134.790101</td>\n",
       "      <td>33.697525</td>\n",
       "      <td>1962.048804</td>\n",
       "    </tr>\n",
       "    <tr>\n",
       "      <th>2015-01-01 18:00:00</th>\n",
       "      <td>243.052997</td>\n",
       "      <td>60.763249</td>\n",
       "      <td>1718.540998</td>\n",
       "    </tr>\n",
       "    <tr>\n",
       "      <th>2015-01-01 19:00:00</th>\n",
       "      <td>140.082847</td>\n",
       "      <td>35.020712</td>\n",
       "      <td>1365.359766</td>\n",
       "    </tr>\n",
       "    <tr>\n",
       "      <th>2015-01-01 20:00:00</th>\n",
       "      <td>201.386055</td>\n",
       "      <td>50.346514</td>\n",
       "      <td>1509.477480</td>\n",
       "    </tr>\n",
       "    <tr>\n",
       "      <th>2015-01-01 21:00:00</th>\n",
       "      <td>117.975794</td>\n",
       "      <td>29.493948</td>\n",
       "      <td>1586.836560</td>\n",
       "    </tr>\n",
       "    <tr>\n",
       "      <th>2015-01-01 22:00:00</th>\n",
       "      <td>224.941906</td>\n",
       "      <td>56.235476</td>\n",
       "      <td>1370.680004</td>\n",
       "    </tr>\n",
       "    <tr>\n",
       "      <th>2015-01-01 23:00:00</th>\n",
       "      <td>119.703564</td>\n",
       "      <td>29.925891</td>\n",
       "      <td>1100.181417</td>\n",
       "    </tr>\n",
       "    <tr>\n",
       "      <th>2015-01-02 00:00:00</th>\n",
       "      <td>166.549902</td>\n",
       "      <td>41.637476</td>\n",
       "      <td>798.246411</td>\n",
       "    </tr>\n",
       "  </tbody>\n",
       "</table>\n",
       "</div>"
      ],
      "text/plain": [
       "                          speed   distance  cumulative_distance\n",
       "2015-01-01 00:00:00         NaN        NaN                  NaN\n",
       "2015-01-01 01:00:00         NaN        NaN                  NaN\n",
       "2015-01-01 02:00:00         NaN        NaN                  NaN\n",
       "2015-01-01 03:00:00  236.394659  59.098665          1918.102692\n",
       "2015-01-01 04:00:00  293.071701  73.267925          1251.278231\n",
       "2015-01-01 05:00:00   67.068563  16.767141           989.373799\n",
       "2015-01-01 06:00:00   52.060184  13.015046           945.481020\n",
       "2015-01-01 07:00:00   62.592389  15.648097          1137.275039\n",
       "2015-01-01 08:00:00  250.938740  62.734685          1457.406522\n",
       "2015-01-01 09:00:00  356.087854  89.021963          2228.025795\n",
       "2015-01-01 10:00:00  152.068359  38.017090          2161.689529\n",
       "2015-01-01 11:00:00   88.455435  22.113859          2411.192657\n",
       "2015-01-01 12:00:00  294.292393  73.573098          1994.770797\n",
       "2015-01-01 13:00:00  267.042299  66.760575          2066.507066\n",
       "2015-01-01 14:00:00  191.344512  47.836128          1809.425742\n",
       "2015-01-01 15:00:00  143.846165  35.961541          1769.112027\n",
       "2015-01-01 16:00:00  150.678279  37.669570          1666.390837\n",
       "2015-01-01 17:00:00  134.790101  33.697525          1962.048804\n",
       "2015-01-01 18:00:00  243.052997  60.763249          1718.540998\n",
       "2015-01-01 19:00:00  140.082847  35.020712          1365.359766\n",
       "2015-01-01 20:00:00  201.386055  50.346514          1509.477480\n",
       "2015-01-01 21:00:00  117.975794  29.493948          1586.836560\n",
       "2015-01-01 22:00:00  224.941906  56.235476          1370.680004\n",
       "2015-01-01 23:00:00  119.703564  29.925891          1100.181417\n",
       "2015-01-02 00:00:00  166.549902  41.637476           798.246411"
      ]
     },
     "execution_count": 108,
     "metadata": {},
     "output_type": "execute_result"
    }
   ],
   "source": [
    "df1.rolling(window=4, min_periods=4).cov().apply(lambda x: LA.norm(x)).transpose()"
   ]
  },
  {
   "cell_type": "code",
   "execution_count": 129,
   "metadata": {
    "collapsed": false
   },
   "outputs": [
    {
     "name": "stdout",
     "output_type": "stream",
     "text": [
      "2015-01-01 00:00:00\n",
      "2015-01-01 01:00:00\n",
      "2015-01-01 02:00:00\n",
      "2015-01-01 03:00:00\n",
      "2015-01-01 04:00:00\n",
      "2015-01-01 05:00:00\n",
      "2015-01-01 06:00:00\n",
      "2015-01-01 07:00:00\n",
      "2015-01-01 08:00:00\n",
      "2015-01-01 09:00:00\n",
      "2015-01-01 10:00:00\n",
      "2015-01-01 11:00:00\n",
      "2015-01-01 12:00:00\n",
      "2015-01-01 13:00:00\n",
      "2015-01-01 14:00:00\n",
      "2015-01-01 15:00:00\n",
      "2015-01-01 16:00:00\n",
      "2015-01-01 17:00:00\n",
      "2015-01-01 18:00:00\n",
      "2015-01-01 19:00:00\n",
      "2015-01-01 20:00:00\n",
      "2015-01-01 21:00:00\n",
      "2015-01-01 22:00:00\n",
      "2015-01-01 23:00:00\n",
      "2015-01-02 00:00:00\n"
     ]
    }
   ],
   "source": [
    "for i in df1.rolling(window=4, min_periods=4).cov():\n",
    "    print i\n"
   ]
  }
 ],
 "metadata": {
  "kernelspec": {
   "display_name": "Python 2",
   "language": "python",
   "name": "python2"
  },
  "language_info": {
   "codemirror_mode": {
    "name": "ipython",
    "version": 2
   },
   "file_extension": ".py",
   "mimetype": "text/x-python",
   "name": "python",
   "nbconvert_exporter": "python",
   "pygments_lexer": "ipython2",
   "version": "2.7.12"
  }
 },
 "nbformat": 4,
 "nbformat_minor": 0
}
