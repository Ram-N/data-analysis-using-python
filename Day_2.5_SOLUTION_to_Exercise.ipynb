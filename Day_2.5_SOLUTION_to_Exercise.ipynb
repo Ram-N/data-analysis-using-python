{
 "cells": [
  {
   "cell_type": "code",
   "execution_count": 12,
   "metadata": {
    "slideshow": {
     "slide_type": "slide"
    }
   },
   "outputs": [
    {
     "name": "stdout",
     "output_type": "stream",
     "text": [
      "Green\n",
      "Green\n",
      "Green\n",
      "Orange\n",
      "Red\n",
      "Green\n",
      "Orange\n"
     ]
    }
   ],
   "source": [
    "temp = [64,62,45,70,75,63,65]\n",
    "\n",
    "for i in temp:\n",
    "    if i > 70:\n",
    "        print(\"Red\")\n",
    "    elif i>=65:\n",
    "        print(\"Orange\")\n",
    "    else:\n",
    "        print(\"Green\")\n",
    "\n"
   ]
  },
  {
   "cell_type": "code",
   "execution_count": 23,
   "metadata": {
    "collapsed": true
   },
   "outputs": [],
   "source": [
    "#2. Write ONE function\n",
    "\n",
    "def calc_thickness(p, d=10, s=38.2):\n",
    "    \n",
    "    t = (p *d)/(2*s)\n",
    "    print(t)\n",
    "    return(t)"
   ]
  },
  {
   "cell_type": "code",
   "execution_count": 24,
   "metadata": {
    "slideshow": {
     "slide_type": "slide"
    }
   },
   "outputs": [
    {
     "name": "stdout",
     "output_type": "stream",
     "text": [
      "0.06544502617801047\n"
     ]
    },
    {
     "data": {
      "text/plain": [
       "0.06544502617801047"
      ]
     },
     "execution_count": 24,
     "metadata": {},
     "output_type": "execute_result"
    }
   ],
   "source": [
    "#formula\n",
    "calc_thickness(1, d=5)\n",
    "#thickness = (P*D)/(2*S)"
   ]
  },
  {
   "cell_type": "code",
   "execution_count": 25,
   "metadata": {},
   "outputs": [
    {
     "name": "stdout",
     "output_type": "stream",
     "text": [
      "Help on function calc_thickness in module __main__:\n",
      "\n",
      "calc_thickness(p, d=10, s=38.2)\n",
      "\n"
     ]
    }
   ],
   "source": [
    "help(calc_thickness)"
   ]
  },
  {
   "cell_type": "code",
   "execution_count": null,
   "metadata": {
    "collapsed": true
   },
   "outputs": [],
   "source": []
  }
 ],
 "metadata": {
  "celltoolbar": "Slideshow",
  "kernelspec": {
   "display_name": "Python 3",
   "language": "python",
   "name": "python3"
  },
  "language_info": {
   "codemirror_mode": {
    "name": "ipython",
    "version": 3
   },
   "file_extension": ".py",
   "mimetype": "text/x-python",
   "name": "python",
   "nbconvert_exporter": "python",
   "pygments_lexer": "ipython3",
   "version": "3.6.0"
  }
 },
 "nbformat": 4,
 "nbformat_minor": 2
}
