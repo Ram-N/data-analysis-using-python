{
 "cells": [
  {
   "cell_type": "code",
   "execution_count": 28,
   "metadata": {
    "slideshow": {
     "slide_type": "slide"
    }
   },
   "outputs": [
    {
     "data": {
      "text/plain": [
       "'Asmara'"
      ]
     },
     "execution_count": 28,
     "metadata": {},
     "output_type": "execute_result"
    }
   ],
   "source": [
    "newdict = {}newdict = {}\n",
    "i = 0\n",
    "for c in countries:    \n",
    "    #print(c, \"\\t\\t\", cities[i])\n",
    "    newdict[c] = cities[i]\n",
    "    i = i + 1\n",
    "    \n",
    "newdict['Eritrea']"
   ]
  },
  {
   "cell_type": "code",
   "execution_count": 30,
   "metadata": {
    "slideshow": {
     "slide_type": "slide"
    }
   },
   "outputs": [
    {
     "name": "stdout",
     "output_type": "stream",
     "text": [
      "0 Rwanda\n",
      "1 Egypt\n",
      "2 Eritrea\n",
      "3 Ethiopia\n",
      "4 Sudan\n",
      "5 South Sudan\n",
      "6 Nigeria\n",
      "7 Morocco\n",
      "8 Cameroon\n",
      "9 Tanzania\n",
      "10 Uganda\n"
     ]
    }
   ],
   "source": [
    "newdict = {}\n",
    "for idx,c in enumerate(countries):    \n",
    "    print(idx, c)\n",
    "    newdict[c] = cities[idx]\n",
    "    "
   ]
  },
  {
   "cell_type": "markdown",
   "metadata": {
    "collapsed": true,
    "slideshow": {
     "slide_type": "slide"
    }
   },
   "source": [
    "# Task: Combine two lists into one Dictionary.\n",
    "\n",
    "You  are given two Python Lists. One is capitals, and the other is countries. Create a Dictionary that has country as the “key”, and the capital city as the “value.”\n",
    "\n",
    "Work in pairs, then discuss among your table. If a table completes the task in  Under 10 minutes, your table scores one point!\n"
   ]
  },
  {
   "cell_type": "code",
   "execution_count": 5,
   "metadata": {
    "collapsed": true
   },
   "outputs": [],
   "source": [
    "cities = ['Kigali', 'Cairo', 'Asmara', 'Addis Ababa', 'Khartoum', 'Juba', 'Abuja', 'Rabat', 'Yaounde', 'Dodoma', 'Kampala']\n",
    "countries = ['Rwanda', 'Egypt', 'Eritrea', 'Ethiopia', 'Sudan', 'South Sudan', 'Nigeria', 'Morocco', 'Cameroon', 'Tanzania', \n",
    "             'Uganda']\n"
   ]
  },
  {
   "cell_type": "code",
   "execution_count": 6,
   "metadata": {
    "collapsed": true
   },
   "outputs": [],
   "source": [
    "#Create a dictionary of capitals by using Python to combine the lists...\n",
    "capitals = {}"
   ]
  },
  {
   "cell_type": "code",
   "execution_count": 13,
   "metadata": {
    "slideshow": {
     "slide_type": "slide"
    }
   },
   "outputs": [
    {
     "data": {
      "text/plain": [
       "{'Cameroon': 'Yaounde',\n",
       " 'Egypt': 'Cairo',\n",
       " 'Eritrea': 'Asmara',\n",
       " 'Ethiopia': 'Addis Ababa',\n",
       " 'Morocco': 'Rabat',\n",
       " 'Nigeria': 'Abuja',\n",
       " 'Rwanda': 'Kigali',\n",
       " 'South Sudan': 'Juba',\n",
       " 'Sudan': 'Khartoum',\n",
       " 'Tanzania': 'Dodoma',\n",
       " 'Uganda': 'Kampala'}"
      ]
     },
     "execution_count": 13,
     "metadata": {},
     "output_type": "execute_result"
    }
   ],
   "source": [
    "dict(zip(countries, cities))"
   ]
  },
  {
   "cell_type": "code",
   "execution_count": 20,
   "metadata": {},
   "outputs": [
    {
     "data": {
      "text/plain": [
       "dict"
      ]
     },
     "execution_count": 20,
     "metadata": {},
     "output_type": "execute_result"
    }
   ],
   "source": [
    "caps = {}\n",
    "type(caps)"
   ]
  },
  {
   "cell_type": "code",
   "execution_count": 21,
   "metadata": {},
   "outputs": [
    {
     "name": "stdout",
     "output_type": "stream",
     "text": [
      "Rwanda \t Kigali\n",
      "Egypt \t Cairo\n",
      "Eritrea \t Asmara\n",
      "Ethiopia \t Addis Ababa\n",
      "Sudan \t Khartoum\n",
      "South Sudan \t Juba\n",
      "Nigeria \t Abuja\n",
      "Morocco \t Rabat\n",
      "Cameroon \t Yaounde\n",
      "Tanzania \t Dodoma\n",
      "Uganda \t Kampala\n"
     ]
    }
   ],
   "source": [
    "caps = {}\n",
    "for i in range(len(countries)):\n",
    "    caps[countries[i]] = cities[i]"
   ]
  },
  {
   "cell_type": "code",
   "execution_count": 23,
   "metadata": {},
   "outputs": [
    {
     "data": {
      "text/plain": [
       "{'Cameroon': 'Yaounde',\n",
       " 'Egypt': 'Cairo',\n",
       " 'Eritrea': 'Asmara',\n",
       " 'Ethiopia': 'Addis Ababa',\n",
       " 'Morocco': 'Rabat',\n",
       " 'Nigeria': 'Abuja',\n",
       " 'Rwanda': 'Kigali',\n",
       " 'South Sudan': 'Juba',\n",
       " 'Sudan': 'Khartoum',\n",
       " 'Tanzania': 'Dodoma',\n",
       " 'Uganda': 'Kampala'}"
      ]
     },
     "execution_count": 23,
     "metadata": {},
     "output_type": "execute_result"
    }
   ],
   "source": [
    "caps"
   ]
  },
  {
   "cell_type": "code",
   "execution_count": null,
   "metadata": {
    "collapsed": true
   },
   "outputs": [],
   "source": []
  },
  {
   "cell_type": "code",
   "execution_count": null,
   "metadata": {
    "collapsed": true
   },
   "outputs": [],
   "source": []
  }
 ],
 "metadata": {
  "celltoolbar": "Slideshow",
  "kernelspec": {
   "display_name": "Python 3",
   "language": "python",
   "name": "python3"
  },
  "language_info": {
   "codemirror_mode": {
    "name": "ipython",
    "version": 3
   },
   "file_extension": ".py",
   "mimetype": "text/x-python",
   "name": "python",
   "nbconvert_exporter": "python",
   "pygments_lexer": "ipython3",
   "version": "3.6.0"
  }
 },
 "nbformat": 4,
 "nbformat_minor": 2
}
