{
 "cells": [
  {
   "cell_type": "markdown",
   "metadata": {
    "slideshow": {
     "slide_type": "slide"
    }
   },
   "source": [
    "### Day 3\n",
    "\n",
    "# Pandas At Work\n",
    "\n",
    "<img src = \"images/logo.jpg\", width=\"100\" align=\"left\">\n",
    "\n",
    "Ram Narasimhan"
   ]
  },
  {
   "cell_type": "markdown",
   "metadata": {
    "slideshow": {
     "slide_type": "slide"
    }
   },
   "source": [
    "# <div class=\"alert alert-block alert-success\"> Questions Based on Movies    </div>\n",
    "\n",
    "### We have a dataset with over 50,000 movies.\n",
    "# Solutions Below the Questions\n",
    "Can we answer the following questions about the movies?"
   ]
  },
  {
   "cell_type": "markdown",
   "metadata": {
    "collapsed": true,
    "slideshow": {
     "slide_type": "slide"
    }
   },
   "source": [
    "# Here are four questions based on Movies"
   ]
  },
  {
   "cell_type": "markdown",
   "metadata": {
    "slideshow": {
     "slide_type": "slide"
    }
   },
   "source": [
    "# <div class=\"alert alert-block alert-warning\"> 1. What is the *mean* and the *median* number of votes a movie gets? </div>\n"
   ]
  },
  {
   "cell_type": "markdown",
   "metadata": {
    "slideshow": {
     "slide_type": "slide"
    }
   },
   "source": [
    "# <div class=\"alert alert-block alert-warning\"> 2. How many *Comedies* were made in 2004? </div>"
   ]
  },
  {
   "cell_type": "markdown",
   "metadata": {
    "slideshow": {
     "slide_type": "slide"
    }
   },
   "source": [
    "# <div class=\"alert alert-block alert-warning\"> 3. What fraction of movies are rated over 9.0? </div>"
   ]
  },
  {
   "cell_type": "markdown",
   "metadata": {
    "slideshow": {
     "slide_type": "slide"
    }
   },
   "source": [
    "# <div class=\"alert alert-block alert-warning\"> 4. Which movie had the highest Budget *ever?* </div>"
   ]
  },
  {
   "cell_type": "markdown",
   "metadata": {
    "collapsed": true,
    "slideshow": {
     "slide_type": "slide"
    }
   },
   "source": [
    "# From the `data` directory, read `movies.csv`"
   ]
  },
  {
   "cell_type": "markdown",
   "metadata": {
    "slideshow": {
     "slide_type": "slide"
    }
   },
   "source": [
    "# <div class=\"alert alert-block alert-success\"> Let's work out the answer to each one of these. <br><br> Pay Attention. We will go over them later again, slowly\n",
    "</div>\n"
   ]
  },
  {
   "cell_type": "markdown",
   "metadata": {
    "slideshow": {
     "slide_type": "slide"
    }
   },
   "source": [
    "<a id=\"section_ID\"></a>\n",
    "# Solutions\n"
   ]
  },
  {
   "cell_type": "markdown",
   "metadata": {
    "slideshow": {
     "slide_type": "slide"
    }
   },
   "source": [
    "# <div class=\"alert alert-block alert-warning\"> 0. Read the data into a `Pandas` dataframe</div>"
   ]
  },
  {
   "cell_type": "code",
   "execution_count": 1,
   "metadata": {
    "collapsed": true,
    "slideshow": {
     "slide_type": "slide"
    }
   },
   "outputs": [],
   "source": [
    "import pandas as pd # load the Module called pandas, but call it pd"
   ]
  },
  {
   "cell_type": "code",
   "execution_count": 64,
   "metadata": {
    "slideshow": {
     "slide_type": "slide"
    }
   },
   "outputs": [],
   "source": [
    "df = pd.read_csv(\"data/movies.csv\") #the path is very important\n",
    "#In this case, it is looking at a folder called data from where this Notebook was started..."
   ]
  },
  {
   "cell_type": "code",
   "execution_count": 65,
   "metadata": {
    "slideshow": {
     "slide_type": "slide"
    }
   },
   "outputs": [
    {
     "data": {
      "text/html": [
       "<div>\n",
       "<table border=\"1\" class=\"dataframe\">\n",
       "  <thead>\n",
       "    <tr style=\"text-align: right;\">\n",
       "      <th></th>\n",
       "      <th>title</th>\n",
       "      <th>year</th>\n",
       "      <th>length</th>\n",
       "      <th>budget</th>\n",
       "      <th>rating</th>\n",
       "      <th>votes</th>\n",
       "      <th>r1</th>\n",
       "      <th>r2</th>\n",
       "      <th>r3</th>\n",
       "      <th>r4</th>\n",
       "      <th>...</th>\n",
       "      <th>r9</th>\n",
       "      <th>r10</th>\n",
       "      <th>mpaa</th>\n",
       "      <th>Action</th>\n",
       "      <th>Animation</th>\n",
       "      <th>Comedy</th>\n",
       "      <th>Drama</th>\n",
       "      <th>Documentary</th>\n",
       "      <th>Romance</th>\n",
       "      <th>Short</th>\n",
       "    </tr>\n",
       "  </thead>\n",
       "  <tbody>\n",
       "    <tr>\n",
       "      <th>0</th>\n",
       "      <td>$</td>\n",
       "      <td>1971</td>\n",
       "      <td>121</td>\n",
       "      <td>NaN</td>\n",
       "      <td>6.4</td>\n",
       "      <td>348</td>\n",
       "      <td>4.5</td>\n",
       "      <td>4.5</td>\n",
       "      <td>4.5</td>\n",
       "      <td>4.5</td>\n",
       "      <td>...</td>\n",
       "      <td>4.5</td>\n",
       "      <td>4.5</td>\n",
       "      <td>NaN</td>\n",
       "      <td>0</td>\n",
       "      <td>0</td>\n",
       "      <td>1</td>\n",
       "      <td>1</td>\n",
       "      <td>0</td>\n",
       "      <td>0</td>\n",
       "      <td>0</td>\n",
       "    </tr>\n",
       "    <tr>\n",
       "      <th>1</th>\n",
       "      <td>$1000 a Touchdown</td>\n",
       "      <td>1939</td>\n",
       "      <td>71</td>\n",
       "      <td>NaN</td>\n",
       "      <td>6.0</td>\n",
       "      <td>20</td>\n",
       "      <td>0.0</td>\n",
       "      <td>14.5</td>\n",
       "      <td>4.5</td>\n",
       "      <td>24.5</td>\n",
       "      <td>...</td>\n",
       "      <td>4.5</td>\n",
       "      <td>14.5</td>\n",
       "      <td>NaN</td>\n",
       "      <td>0</td>\n",
       "      <td>0</td>\n",
       "      <td>1</td>\n",
       "      <td>0</td>\n",
       "      <td>0</td>\n",
       "      <td>0</td>\n",
       "      <td>0</td>\n",
       "    </tr>\n",
       "    <tr>\n",
       "      <th>2</th>\n",
       "      <td>$21 a Day Once a Month</td>\n",
       "      <td>1941</td>\n",
       "      <td>7</td>\n",
       "      <td>NaN</td>\n",
       "      <td>8.2</td>\n",
       "      <td>5</td>\n",
       "      <td>0.0</td>\n",
       "      <td>0.0</td>\n",
       "      <td>0.0</td>\n",
       "      <td>0.0</td>\n",
       "      <td>...</td>\n",
       "      <td>24.5</td>\n",
       "      <td>24.5</td>\n",
       "      <td>NaN</td>\n",
       "      <td>0</td>\n",
       "      <td>1</td>\n",
       "      <td>0</td>\n",
       "      <td>0</td>\n",
       "      <td>0</td>\n",
       "      <td>0</td>\n",
       "      <td>1</td>\n",
       "    </tr>\n",
       "    <tr>\n",
       "      <th>3</th>\n",
       "      <td>$40,000</td>\n",
       "      <td>1996</td>\n",
       "      <td>70</td>\n",
       "      <td>NaN</td>\n",
       "      <td>8.2</td>\n",
       "      <td>6</td>\n",
       "      <td>14.5</td>\n",
       "      <td>0.0</td>\n",
       "      <td>0.0</td>\n",
       "      <td>0.0</td>\n",
       "      <td>...</td>\n",
       "      <td>34.5</td>\n",
       "      <td>45.5</td>\n",
       "      <td>NaN</td>\n",
       "      <td>0</td>\n",
       "      <td>0</td>\n",
       "      <td>1</td>\n",
       "      <td>0</td>\n",
       "      <td>0</td>\n",
       "      <td>0</td>\n",
       "      <td>0</td>\n",
       "    </tr>\n",
       "    <tr>\n",
       "      <th>4</th>\n",
       "      <td>$50,000 Climax Show, The</td>\n",
       "      <td>1975</td>\n",
       "      <td>71</td>\n",
       "      <td>NaN</td>\n",
       "      <td>3.4</td>\n",
       "      <td>17</td>\n",
       "      <td>24.5</td>\n",
       "      <td>4.5</td>\n",
       "      <td>0.0</td>\n",
       "      <td>14.5</td>\n",
       "      <td>...</td>\n",
       "      <td>0.0</td>\n",
       "      <td>24.5</td>\n",
       "      <td>NaN</td>\n",
       "      <td>0</td>\n",
       "      <td>0</td>\n",
       "      <td>0</td>\n",
       "      <td>0</td>\n",
       "      <td>0</td>\n",
       "      <td>0</td>\n",
       "      <td>0</td>\n",
       "    </tr>\n",
       "  </tbody>\n",
       "</table>\n",
       "<p>5 rows × 24 columns</p>\n",
       "</div>"
      ],
      "text/plain": [
       "                      title  year  length  budget  rating  votes    r1    r2  \\\n",
       "0                         $  1971     121     NaN     6.4    348   4.5   4.5   \n",
       "1         $1000 a Touchdown  1939      71     NaN     6.0     20   0.0  14.5   \n",
       "2    $21 a Day Once a Month  1941       7     NaN     8.2      5   0.0   0.0   \n",
       "3                   $40,000  1996      70     NaN     8.2      6  14.5   0.0   \n",
       "4  $50,000 Climax Show, The  1975      71     NaN     3.4     17  24.5   4.5   \n",
       "\n",
       "    r3    r4  ...      r9   r10  mpaa  Action  Animation  Comedy Drama  \\\n",
       "0  4.5   4.5  ...     4.5   4.5   NaN       0          0       1     1   \n",
       "1  4.5  24.5  ...     4.5  14.5   NaN       0          0       1     0   \n",
       "2  0.0   0.0  ...    24.5  24.5   NaN       0          1       0     0   \n",
       "3  0.0   0.0  ...    34.5  45.5   NaN       0          0       1     0   \n",
       "4  0.0  14.5  ...     0.0  24.5   NaN       0          0       0     0   \n",
       "\n",
       "   Documentary  Romance  Short  \n",
       "0            0        0      0  \n",
       "1            0        0      0  \n",
       "2            0        0      1  \n",
       "3            0        0      0  \n",
       "4            0        0      0  \n",
       "\n",
       "[5 rows x 24 columns]"
      ]
     },
     "execution_count": 65,
     "metadata": {},
     "output_type": "execute_result"
    }
   ],
   "source": [
    "df.head() # Head by default will print the first 5 rows"
   ]
  },
  {
   "cell_type": "code",
   "execution_count": 7,
   "metadata": {
    "slideshow": {
     "slide_type": "slide"
    }
   },
   "outputs": [
    {
     "data": {
      "text/plain": [
       "(58788, 24)"
      ]
     },
     "execution_count": 7,
     "metadata": {},
     "output_type": "execute_result"
    }
   ],
   "source": [
    "df.shape"
   ]
  },
  {
   "cell_type": "markdown",
   "metadata": {
    "slideshow": {
     "slide_type": "slide"
    }
   },
   "source": [
    "# <div class=\"alert alert-block alert-warning\"> 1. What is the *mean* and the *median* number of votes a movie gets? </div>\n"
   ]
  },
  {
   "cell_type": "code",
   "execution_count": 14,
   "metadata": {
    "slideshow": {
     "slide_type": "slide"
    }
   },
   "outputs": [
    {
     "name": "stdout",
     "output_type": "stream",
     "text": [
      "632.1303837517861\n",
      "30.0\n"
     ]
    }
   ],
   "source": [
    "df.votes.head(10)\n",
    "print(df['votes'].mean())\n",
    "print(df.votes.median())"
   ]
  },
  {
   "cell_type": "markdown",
   "metadata": {
    "slideshow": {
     "slide_type": "slide"
    }
   },
   "source": [
    "# <div class=\"alert alert-block alert-warning\"> 2. How many *Comedies* were made in 2004? </div>"
   ]
  },
  {
   "cell_type": "code",
   "execution_count": 23,
   "metadata": {
    "slideshow": {
     "slide_type": "slide"
    }
   },
   "outputs": [
    {
     "data": {
      "text/plain": [
       "597"
      ]
     },
     "execution_count": 23,
     "metadata": {},
     "output_type": "execute_result"
    }
   ],
   "source": [
    "condition = df['year'] == 2004\n",
    "df[condition].Comedy.sum()\n",
    "#df[df['year']==2004].Comedy.sum()\n",
    "#type(condtion)"
   ]
  },
  {
   "cell_type": "code",
   "execution_count": 37,
   "metadata": {
    "slideshow": {
     "slide_type": "slide"
    }
   },
   "outputs": [
    {
     "data": {
      "text/plain": [
       "1.3740000000000001"
      ]
     },
     "execution_count": 37,
     "metadata": {},
     "output_type": "execute_result"
    }
   ],
   "source": [
    "numerator = (df.rating > 9.0).sum()\n",
    "denom = len(df)\n",
    "frac = numerator/denom * 100\n",
    "\n"
   ]
  },
  {
   "cell_type": "markdown",
   "metadata": {
    "slideshow": {
     "slide_type": "slide"
    }
   },
   "source": [
    "# <div class=\"alert alert-block alert-warning\"> 3. What fraction of movies are rated over 9.0? </div>"
   ]
  },
  {
   "cell_type": "code",
   "execution_count": 63,
   "metadata": {
    "slideshow": {
     "slide_type": "slide"
    }
   },
   "outputs": [
    {
     "data": {
      "text/plain": [
       "0.013744301558141117"
      ]
     },
     "execution_count": 63,
     "metadata": {},
     "output_type": "execute_result"
    }
   ],
   "source": [
    "rating_condition = df['rating'] > 9.0\n",
    "#rating_condition\n",
    "#len(df[rating_condition])\n",
    "#df[rating_condition].shape # explain \n",
    "len(df[rating_condition])/len(df)"
   ]
  },
  {
   "cell_type": "code",
   "execution_count": 59,
   "metadata": {
    "slideshow": {
     "slide_type": "slide"
    }
   },
   "outputs": [
    {
     "name": "stdout",
     "output_type": "stream",
     "text": [
      "1.374430 %\n"
     ]
    }
   ],
   "source": [
    "fraction = len(df[rating_condition])/len(df)\n",
    "print(\"{0:f} %\".format(fraction*100))"
   ]
  },
  {
   "cell_type": "markdown",
   "metadata": {
    "slideshow": {
     "slide_type": "slide"
    }
   },
   "source": [
    "# <div class=\"alert alert-block alert-warning\"> 4. Which movie had the highest Budget *ever?* </div>"
   ]
  },
  {
   "cell_type": "code",
   "execution_count": 49,
   "metadata": {
    "slideshow": {
     "slide_type": "slide"
    }
   },
   "outputs": [
    {
     "data": {
      "text/plain": [
       "200000000.0"
      ]
     },
     "execution_count": 49,
     "metadata": {},
     "output_type": "execute_result"
    }
   ],
   "source": [
    "df.budget.max()\n",
    "#max_budget = df.budget.max()\n",
    "#\n",
    "#useful_columns = ['title', 'year', 'budget']#\n",
    "#\n",
    "#df[(df.budget == max_budget)][useful_columns]"
   ]
  },
  {
   "cell_type": "markdown",
   "metadata": {
    "slideshow": {
     "slide_type": "slide"
    }
   },
   "source": [
    "# We know the budget, but we don't know WHICH movie had this budget..."
   ]
  },
  {
   "cell_type": "code",
   "execution_count": 9,
   "metadata": {
    "slideshow": {
     "slide_type": "slide"
    }
   },
   "outputs": [
    {
     "data": {
      "text/html": [
       "<div>\n",
       "<table border=\"1\" class=\"dataframe\">\n",
       "  <thead>\n",
       "    <tr style=\"text-align: right;\">\n",
       "      <th></th>\n",
       "      <th>title</th>\n",
       "      <th>year</th>\n",
       "      <th>length</th>\n",
       "      <th>budget</th>\n",
       "      <th>rating</th>\n",
       "      <th>votes</th>\n",
       "      <th>r1</th>\n",
       "      <th>r2</th>\n",
       "      <th>r3</th>\n",
       "      <th>r4</th>\n",
       "      <th>...</th>\n",
       "      <th>r9</th>\n",
       "      <th>r10</th>\n",
       "      <th>mpaa</th>\n",
       "      <th>Action</th>\n",
       "      <th>Animation</th>\n",
       "      <th>Comedy</th>\n",
       "      <th>Drama</th>\n",
       "      <th>Documentary</th>\n",
       "      <th>Romance</th>\n",
       "      <th>Short</th>\n",
       "    </tr>\n",
       "  </thead>\n",
       "  <tbody>\n",
       "    <tr>\n",
       "      <th>48517</th>\n",
       "      <td>Spider-Man 2</td>\n",
       "      <td>2004</td>\n",
       "      <td>127</td>\n",
       "      <td>200000000.0</td>\n",
       "      <td>7.9</td>\n",
       "      <td>40256</td>\n",
       "      <td>4.5</td>\n",
       "      <td>4.5</td>\n",
       "      <td>4.5</td>\n",
       "      <td>4.5</td>\n",
       "      <td>...</td>\n",
       "      <td>24.5</td>\n",
       "      <td>24.5</td>\n",
       "      <td>PG-13</td>\n",
       "      <td>1</td>\n",
       "      <td>0</td>\n",
       "      <td>0</td>\n",
       "      <td>0</td>\n",
       "      <td>0</td>\n",
       "      <td>0</td>\n",
       "      <td>0</td>\n",
       "    </tr>\n",
       "    <tr>\n",
       "      <th>52347</th>\n",
       "      <td>Titanic</td>\n",
       "      <td>1997</td>\n",
       "      <td>194</td>\n",
       "      <td>200000000.0</td>\n",
       "      <td>6.9</td>\n",
       "      <td>90195</td>\n",
       "      <td>14.5</td>\n",
       "      <td>4.5</td>\n",
       "      <td>4.5</td>\n",
       "      <td>4.5</td>\n",
       "      <td>...</td>\n",
       "      <td>14.5</td>\n",
       "      <td>24.5</td>\n",
       "      <td>PG-13</td>\n",
       "      <td>0</td>\n",
       "      <td>0</td>\n",
       "      <td>0</td>\n",
       "      <td>1</td>\n",
       "      <td>0</td>\n",
       "      <td>1</td>\n",
       "      <td>0</td>\n",
       "    </tr>\n",
       "  </tbody>\n",
       "</table>\n",
       "<p>2 rows × 24 columns</p>\n",
       "</div>"
      ],
      "text/plain": [
       "              title  year  length       budget  rating  votes    r1   r2   r3  \\\n",
       "48517  Spider-Man 2  2004     127  200000000.0     7.9  40256   4.5  4.5  4.5   \n",
       "52347       Titanic  1997     194  200000000.0     6.9  90195  14.5  4.5  4.5   \n",
       "\n",
       "        r4  ...      r9   r10   mpaa  Action  Animation  Comedy Drama  \\\n",
       "48517  4.5  ...    24.5  24.5  PG-13       1          0       0     0   \n",
       "52347  4.5  ...    14.5  24.5  PG-13       0          0       0     1   \n",
       "\n",
       "       Documentary  Romance  Short  \n",
       "48517            0        0      0  \n",
       "52347            0        1      0  \n",
       "\n",
       "[2 rows x 24 columns]"
      ]
     },
     "execution_count": 9,
     "metadata": {},
     "output_type": "execute_result"
    }
   ],
   "source": [
    "condition = df['budget'] == df.budget.max()\n",
    "\n",
    "df[condition]"
   ]
  },
  {
   "cell_type": "markdown",
   "metadata": {
    "slideshow": {
     "slide_type": "slide"
    }
   },
   "source": [
    "![Questions](images/questions.png)"
   ]
  }
 ],
 "metadata": {
  "celltoolbar": "Slideshow",
  "kernelspec": {
   "display_name": "Python 3",
   "language": "python",
   "name": "python3"
  },
  "language_info": {
   "codemirror_mode": {
    "name": "ipython",
    "version": 3
   },
   "file_extension": ".py",
   "mimetype": "text/x-python",
   "name": "python",
   "nbconvert_exporter": "python",
   "pygments_lexer": "ipython3",
   "version": "3.6.0"
  }
 },
 "nbformat": 4,
 "nbformat_minor": 2
}
