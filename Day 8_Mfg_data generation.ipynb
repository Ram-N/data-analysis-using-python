{
 "cells": [
  {
   "cell_type": "markdown",
   "metadata": {},
   "source": [
    "# This is the program I use to generate the data set for the Brilliant Manufacturing Exercise"
   ]
  },
  {
   "cell_type": "raw",
   "metadata": {},
   "source": [
    "Here's the idea:\n",
    "\n",
    "An Assembly plant gets parts from 3 vendors.\n",
    "The parts come in batches of 100, from each vendor.\n",
    "Each batch has a batch ID.\n",
    "\n",
    "For each part that is assembled, the plant will randomly choose one vendor.\n",
    "For the vendor, the sub-components are consumed in a strictly FIFO basis. (That is, only after all 100 parts are consumed, \n",
    "will the next batch from that vendor be started.)\n",
    "\n",
    "The quality check is conducted at the end of the Assembly process. \n",
    "The QA score indicates that some sub-components are faulty. \n",
    "\n",
    "Task: To find out Which ones?"
   ]
  },
  {
   "cell_type": "code",
   "execution_count": null,
   "metadata": {
    "collapsed": true
   },
   "outputs": [],
   "source": []
  },
  {
   "cell_type": "code",
   "execution_count": 11,
   "metadata": {
    "collapsed": true
   },
   "outputs": [],
   "source": [
    "from random import shuffle\n",
    "import pandas as pd"
   ]
  },
  {
   "cell_type": "code",
   "execution_count": 18,
   "metadata": {},
   "outputs": [],
   "source": [
    "full_lst = [\"V1\"] * 3200 + [\"V2\"]*2800 + [\"V3\"] * 4000"
   ]
  },
  {
   "cell_type": "code",
   "execution_count": null,
   "metadata": {
    "collapsed": true
   },
   "outputs": [],
   "source": []
  },
  {
   "cell_type": "code",
   "execution_count": null,
   "metadata": {
    "collapsed": true
   },
   "outputs": [],
   "source": []
  },
  {
   "cell_type": "code",
   "execution_count": 19,
   "metadata": {},
   "outputs": [],
   "source": [
    "shuffle(full_lst)"
   ]
  },
  {
   "cell_type": "code",
   "execution_count": 22,
   "metadata": {
    "collapsed": true
   },
   "outputs": [],
   "source": [
    "sku = \"BR833810A\""
   ]
  },
  {
   "cell_type": "code",
   "execution_count": 33,
   "metadata": {},
   "outputs": [],
   "source": [
    "serial_num = [x + 84002234 for x in range(10000)]"
   ]
  },
  {
   "cell_type": "code",
   "execution_count": 34,
   "metadata": {},
   "outputs": [
    {
     "data": {
      "text/plain": [
       "10000"
      ]
     },
     "execution_count": 34,
     "metadata": {},
     "output_type": "execute_result"
    }
   ],
   "source": [
    "len(serial_num)"
   ]
  },
  {
   "cell_type": "code",
   "execution_count": 118,
   "metadata": {
    "collapsed": true
   },
   "outputs": [],
   "source": [
    "# let's create a quality column\n",
    "qlty = np.random.randint(high=1000, low=800, size=10000)/10"
   ]
  },
  {
   "cell_type": "code",
   "execution_count": 120,
   "metadata": {},
   "outputs": [
    {
     "data": {
      "text/html": [
       "<div>\n",
       "<table border=\"1\" class=\"dataframe\">\n",
       "  <thead>\n",
       "    <tr style=\"text-align: right;\">\n",
       "      <th></th>\n",
       "      <th>SKU</th>\n",
       "      <th>Serial Number</th>\n",
       "      <th>quality</th>\n",
       "      <th>vendor</th>\n",
       "    </tr>\n",
       "  </thead>\n",
       "  <tbody>\n",
       "    <tr>\n",
       "      <th>0</th>\n",
       "      <td>BR833810A</td>\n",
       "      <td>84002234</td>\n",
       "      <td>84.1</td>\n",
       "      <td>V3</td>\n",
       "    </tr>\n",
       "    <tr>\n",
       "      <th>1</th>\n",
       "      <td>BR833810A</td>\n",
       "      <td>84002235</td>\n",
       "      <td>99.5</td>\n",
       "      <td>V2</td>\n",
       "    </tr>\n",
       "    <tr>\n",
       "      <th>2</th>\n",
       "      <td>BR833810A</td>\n",
       "      <td>84002236</td>\n",
       "      <td>95.8</td>\n",
       "      <td>V1</td>\n",
       "    </tr>\n",
       "    <tr>\n",
       "      <th>3</th>\n",
       "      <td>BR833810A</td>\n",
       "      <td>84002237</td>\n",
       "      <td>99.3</td>\n",
       "      <td>V3</td>\n",
       "    </tr>\n",
       "    <tr>\n",
       "      <th>4</th>\n",
       "      <td>BR833810A</td>\n",
       "      <td>84002238</td>\n",
       "      <td>88.3</td>\n",
       "      <td>V3</td>\n",
       "    </tr>\n",
       "  </tbody>\n",
       "</table>\n",
       "</div>"
      ],
      "text/plain": [
       "         SKU  Serial Number  quality vendor\n",
       "0  BR833810A       84002234     84.1     V3\n",
       "1  BR833810A       84002235     99.5     V2\n",
       "2  BR833810A       84002236     95.8     V1\n",
       "3  BR833810A       84002237     99.3     V3\n",
       "4  BR833810A       84002238     88.3     V3"
      ]
     },
     "execution_count": 120,
     "metadata": {},
     "output_type": "execute_result"
    }
   ],
   "source": [
    "df.head()"
   ]
  },
  {
   "cell_type": "code",
   "execution_count": 119,
   "metadata": {},
   "outputs": [],
   "source": [
    "df = pd.DataFrame({\"SKU\":sku, \"Serial Number\": serial_num, \"vendor\":full_lst, \"quality\":qlty})"
   ]
  },
  {
   "cell_type": "code",
   "execution_count": 121,
   "metadata": {},
   "outputs": [
    {
     "ename": "PermissionError",
     "evalue": "[Errno 13] Permission denied: 'data/Manufacturing/assembled.csv'",
     "output_type": "error",
     "traceback": [
      "\u001b[0;31m---------------------------------------------------------------------------\u001b[0m",
      "\u001b[0;31mPermissionError\u001b[0m                           Traceback (most recent call last)",
      "\u001b[0;32m<ipython-input-121-d85b9990c0b6>\u001b[0m in \u001b[0;36m<module>\u001b[0;34m()\u001b[0m\n\u001b[0;32m----> 1\u001b[0;31m \u001b[0mdf\u001b[0m\u001b[1;33m.\u001b[0m\u001b[0mto_csv\u001b[0m\u001b[1;33m(\u001b[0m\u001b[1;34m\"data/Manufacturing/assembled.csv\"\u001b[0m\u001b[1;33m,\u001b[0m \u001b[0mindex\u001b[0m\u001b[1;33m=\u001b[0m\u001b[1;32mFalse\u001b[0m\u001b[1;33m)\u001b[0m\u001b[1;33m\u001b[0m\u001b[0m\n\u001b[0m",
      "\u001b[0;32mc:\\Users\\Ram\\Anaconda3\\lib\\site-packages\\pandas\\core\\frame.py\u001b[0m in \u001b[0;36mto_csv\u001b[0;34m(self, path_or_buf, sep, na_rep, float_format, columns, header, index, index_label, mode, encoding, compression, quoting, quotechar, line_terminator, chunksize, tupleize_cols, date_format, doublequote, escapechar, decimal)\u001b[0m\n\u001b[1;32m   1381\u001b[0m                                      \u001b[0mdoublequote\u001b[0m\u001b[1;33m=\u001b[0m\u001b[0mdoublequote\u001b[0m\u001b[1;33m,\u001b[0m\u001b[1;33m\u001b[0m\u001b[0m\n\u001b[1;32m   1382\u001b[0m                                      escapechar=escapechar, decimal=decimal)\n\u001b[0;32m-> 1383\u001b[0;31m         \u001b[0mformatter\u001b[0m\u001b[1;33m.\u001b[0m\u001b[0msave\u001b[0m\u001b[1;33m(\u001b[0m\u001b[1;33m)\u001b[0m\u001b[1;33m\u001b[0m\u001b[0m\n\u001b[0m\u001b[1;32m   1384\u001b[0m \u001b[1;33m\u001b[0m\u001b[0m\n\u001b[1;32m   1385\u001b[0m         \u001b[1;32mif\u001b[0m \u001b[0mpath_or_buf\u001b[0m \u001b[1;32mis\u001b[0m \u001b[1;32mNone\u001b[0m\u001b[1;33m:\u001b[0m\u001b[1;33m\u001b[0m\u001b[0m\n",
      "\u001b[0;32mc:\\Users\\Ram\\Anaconda3\\lib\\site-packages\\pandas\\formats\\format.py\u001b[0m in \u001b[0;36msave\u001b[0;34m(self)\u001b[0m\n\u001b[1;32m   1458\u001b[0m             f = _get_handle(self.path_or_buf, self.mode,\n\u001b[1;32m   1459\u001b[0m                             \u001b[0mencoding\u001b[0m\u001b[1;33m=\u001b[0m\u001b[0mself\u001b[0m\u001b[1;33m.\u001b[0m\u001b[0mencoding\u001b[0m\u001b[1;33m,\u001b[0m\u001b[1;33m\u001b[0m\u001b[0m\n\u001b[0;32m-> 1460\u001b[0;31m                             compression=self.compression)\n\u001b[0m\u001b[1;32m   1461\u001b[0m             \u001b[0mclose\u001b[0m \u001b[1;33m=\u001b[0m \u001b[1;32mTrue\u001b[0m\u001b[1;33m\u001b[0m\u001b[0m\n\u001b[1;32m   1462\u001b[0m \u001b[1;33m\u001b[0m\u001b[0m\n",
      "\u001b[0;32mc:\\Users\\Ram\\Anaconda3\\lib\\site-packages\\pandas\\io\\common.py\u001b[0m in \u001b[0;36m_get_handle\u001b[0;34m(path, mode, encoding, compression, memory_map)\u001b[0m\n\u001b[1;32m    330\u001b[0m                 \u001b[0mf\u001b[0m \u001b[1;33m=\u001b[0m \u001b[0mopen\u001b[0m\u001b[1;33m(\u001b[0m\u001b[0mpath\u001b[0m\u001b[1;33m,\u001b[0m \u001b[0mmode\u001b[0m\u001b[1;33m,\u001b[0m \u001b[0mencoding\u001b[0m\u001b[1;33m=\u001b[0m\u001b[0mencoding\u001b[0m\u001b[1;33m)\u001b[0m\u001b[1;33m\u001b[0m\u001b[0m\n\u001b[1;32m    331\u001b[0m             \u001b[1;32melse\u001b[0m\u001b[1;33m:\u001b[0m\u001b[1;33m\u001b[0m\u001b[0m\n\u001b[0;32m--> 332\u001b[0;31m                 \u001b[0mf\u001b[0m \u001b[1;33m=\u001b[0m \u001b[0mopen\u001b[0m\u001b[1;33m(\u001b[0m\u001b[0mpath\u001b[0m\u001b[1;33m,\u001b[0m \u001b[0mmode\u001b[0m\u001b[1;33m,\u001b[0m \u001b[0merrors\u001b[0m\u001b[1;33m=\u001b[0m\u001b[1;34m'replace'\u001b[0m\u001b[1;33m)\u001b[0m\u001b[1;33m\u001b[0m\u001b[0m\n\u001b[0m\u001b[1;32m    333\u001b[0m         \u001b[1;32melse\u001b[0m\u001b[1;33m:\u001b[0m\u001b[1;33m\u001b[0m\u001b[0m\n\u001b[1;32m    334\u001b[0m             \u001b[0mf\u001b[0m \u001b[1;33m=\u001b[0m \u001b[0mopen\u001b[0m\u001b[1;33m(\u001b[0m\u001b[0mpath\u001b[0m\u001b[1;33m,\u001b[0m \u001b[0mmode\u001b[0m\u001b[1;33m)\u001b[0m\u001b[1;33m\u001b[0m\u001b[0m\n",
      "\u001b[0;31mPermissionError\u001b[0m: [Errno 13] Permission denied: 'data/Manufacturing/assembled.csv'"
     ]
    }
   ],
   "source": [
    "df.to_csv(\"data/Manufacturing/assembled.csv\", index=False)"
   ]
  },
  {
   "cell_type": "code",
   "execution_count": 73,
   "metadata": {},
   "outputs": [],
   "source": [
    "v1 = pd.read_csv(\"data/Manufacturing/vendor1_batches.csv\", header=None)\n",
    "v2 = pd.read_csv(\"data/Manufacturing/vendor2_batches.csv\", header=None)\n",
    "v3 = pd.read_csv(\"data/Manufacturing/vendor3_batches.csv\", header=None)"
   ]
  },
  {
   "cell_type": "code",
   "execution_count": 55,
   "metadata": {},
   "outputs": [],
   "source": [
    "v1list = v1[1].tolist()"
   ]
  },
  {
   "cell_type": "code",
   "execution_count": 68,
   "metadata": {},
   "outputs": [],
   "source": [
    "v1biglist = [[x] * 100 for x in v1list]"
   ]
  },
  {
   "cell_type": "code",
   "execution_count": 74,
   "metadata": {},
   "outputs": [],
   "source": [
    "v1_flat = []\n",
    "for sublist in v1biglist:\n",
    "    for item in sublist:\n",
    "        v1_flat.append(item)"
   ]
  },
  {
   "cell_type": "code",
   "execution_count": 75,
   "metadata": {},
   "outputs": [
    {
     "data": {
      "text/plain": [
       "3200"
      ]
     },
     "execution_count": 75,
     "metadata": {},
     "output_type": "execute_result"
    }
   ],
   "source": [
    "len(v1_flat)"
   ]
  },
  {
   "cell_type": "code",
   "execution_count": 85,
   "metadata": {},
   "outputs": [],
   "source": [
    "full_v1 = pd.DataFrame({\"vendor\": \"V1\", \"batch\": v1_flat})"
   ]
  },
  {
   "cell_type": "code",
   "execution_count": 77,
   "metadata": {},
   "outputs": [],
   "source": [
    "assembled = pd.read_csv(\"Data/Manufacturing/assembled.csv\")"
   ]
  },
  {
   "cell_type": "code",
   "execution_count": 89,
   "metadata": {},
   "outputs": [
    {
     "data": {
      "text/plain": [
       "(10000, 3)"
      ]
     },
     "execution_count": 89,
     "metadata": {},
     "output_type": "execute_result"
    }
   ],
   "source": [
    "assembled.shape"
   ]
  },
  {
   "cell_type": "code",
   "execution_count": 111,
   "metadata": {},
   "outputs": [],
   "source": [
    "# this is a subset of the big dataframe\n",
    "v1_assembled = assembled[assembled['vendor']=='V1']\n"
   ]
  },
  {
   "cell_type": "code",
   "execution_count": 108,
   "metadata": {},
   "outputs": [],
   "source": [
    "#concat uses Index. So let's reset Index...\n",
    "\n",
    "v1_assembled = v1_assembled.reset_index()"
   ]
  },
  {
   "cell_type": "code",
   "execution_count": 109,
   "metadata": {
    "collapsed": true
   },
   "outputs": [
    {
     "data": {
      "text/html": [
       "<div>\n",
       "<table border=\"1\" class=\"dataframe\">\n",
       "  <thead>\n",
       "    <tr style=\"text-align: right;\">\n",
       "      <th></th>\n",
       "      <th>index</th>\n",
       "      <th>SKU</th>\n",
       "      <th>Serial Number</th>\n",
       "      <th>vendor</th>\n",
       "    </tr>\n",
       "  </thead>\n",
       "  <tbody>\n",
       "    <tr>\n",
       "      <th>0</th>\n",
       "      <td>2</td>\n",
       "      <td>BR833810A</td>\n",
       "      <td>84002236</td>\n",
       "      <td>V1</td>\n",
       "    </tr>\n",
       "    <tr>\n",
       "      <th>1</th>\n",
       "      <td>8</td>\n",
       "      <td>BR833810A</td>\n",
       "      <td>84002242</td>\n",
       "      <td>V1</td>\n",
       "    </tr>\n",
       "    <tr>\n",
       "      <th>2</th>\n",
       "      <td>10</td>\n",
       "      <td>BR833810A</td>\n",
       "      <td>84002244</td>\n",
       "      <td>V1</td>\n",
       "    </tr>\n",
       "    <tr>\n",
       "      <th>3</th>\n",
       "      <td>14</td>\n",
       "      <td>BR833810A</td>\n",
       "      <td>84002248</td>\n",
       "      <td>V1</td>\n",
       "    </tr>\n",
       "    <tr>\n",
       "      <th>4</th>\n",
       "      <td>17</td>\n",
       "      <td>BR833810A</td>\n",
       "      <td>84002251</td>\n",
       "      <td>V1</td>\n",
       "    </tr>\n",
       "    <tr>\n",
       "      <th>5</th>\n",
       "      <td>18</td>\n",
       "      <td>BR833810A</td>\n",
       "      <td>84002252</td>\n",
       "      <td>V1</td>\n",
       "    </tr>\n",
       "    <tr>\n",
       "      <th>6</th>\n",
       "      <td>25</td>\n",
       "      <td>BR833810A</td>\n",
       "      <td>84002259</td>\n",
       "      <td>V1</td>\n",
       "    </tr>\n",
       "    <tr>\n",
       "      <th>7</th>\n",
       "      <td>26</td>\n",
       "      <td>BR833810A</td>\n",
       "      <td>84002260</td>\n",
       "      <td>V1</td>\n",
       "    </tr>\n",
       "    <tr>\n",
       "      <th>8</th>\n",
       "      <td>30</td>\n",
       "      <td>BR833810A</td>\n",
       "      <td>84002264</td>\n",
       "      <td>V1</td>\n",
       "    </tr>\n",
       "    <tr>\n",
       "      <th>9</th>\n",
       "      <td>32</td>\n",
       "      <td>BR833810A</td>\n",
       "      <td>84002266</td>\n",
       "      <td>V1</td>\n",
       "    </tr>\n",
       "    <tr>\n",
       "      <th>10</th>\n",
       "      <td>33</td>\n",
       "      <td>BR833810A</td>\n",
       "      <td>84002267</td>\n",
       "      <td>V1</td>\n",
       "    </tr>\n",
       "    <tr>\n",
       "      <th>11</th>\n",
       "      <td>34</td>\n",
       "      <td>BR833810A</td>\n",
       "      <td>84002268</td>\n",
       "      <td>V1</td>\n",
       "    </tr>\n",
       "    <tr>\n",
       "      <th>12</th>\n",
       "      <td>44</td>\n",
       "      <td>BR833810A</td>\n",
       "      <td>84002278</td>\n",
       "      <td>V1</td>\n",
       "    </tr>\n",
       "    <tr>\n",
       "      <th>13</th>\n",
       "      <td>49</td>\n",
       "      <td>BR833810A</td>\n",
       "      <td>84002283</td>\n",
       "      <td>V1</td>\n",
       "    </tr>\n",
       "    <tr>\n",
       "      <th>14</th>\n",
       "      <td>51</td>\n",
       "      <td>BR833810A</td>\n",
       "      <td>84002285</td>\n",
       "      <td>V1</td>\n",
       "    </tr>\n",
       "    <tr>\n",
       "      <th>15</th>\n",
       "      <td>54</td>\n",
       "      <td>BR833810A</td>\n",
       "      <td>84002288</td>\n",
       "      <td>V1</td>\n",
       "    </tr>\n",
       "    <tr>\n",
       "      <th>16</th>\n",
       "      <td>60</td>\n",
       "      <td>BR833810A</td>\n",
       "      <td>84002294</td>\n",
       "      <td>V1</td>\n",
       "    </tr>\n",
       "    <tr>\n",
       "      <th>17</th>\n",
       "      <td>65</td>\n",
       "      <td>BR833810A</td>\n",
       "      <td>84002299</td>\n",
       "      <td>V1</td>\n",
       "    </tr>\n",
       "    <tr>\n",
       "      <th>18</th>\n",
       "      <td>81</td>\n",
       "      <td>BR833810A</td>\n",
       "      <td>84002315</td>\n",
       "      <td>V1</td>\n",
       "    </tr>\n",
       "    <tr>\n",
       "      <th>19</th>\n",
       "      <td>87</td>\n",
       "      <td>BR833810A</td>\n",
       "      <td>84002321</td>\n",
       "      <td>V1</td>\n",
       "    </tr>\n",
       "    <tr>\n",
       "      <th>20</th>\n",
       "      <td>88</td>\n",
       "      <td>BR833810A</td>\n",
       "      <td>84002322</td>\n",
       "      <td>V1</td>\n",
       "    </tr>\n",
       "    <tr>\n",
       "      <th>21</th>\n",
       "      <td>90</td>\n",
       "      <td>BR833810A</td>\n",
       "      <td>84002324</td>\n",
       "      <td>V1</td>\n",
       "    </tr>\n",
       "    <tr>\n",
       "      <th>22</th>\n",
       "      <td>101</td>\n",
       "      <td>BR833810A</td>\n",
       "      <td>84002335</td>\n",
       "      <td>V1</td>\n",
       "    </tr>\n",
       "    <tr>\n",
       "      <th>23</th>\n",
       "      <td>102</td>\n",
       "      <td>BR833810A</td>\n",
       "      <td>84002336</td>\n",
       "      <td>V1</td>\n",
       "    </tr>\n",
       "    <tr>\n",
       "      <th>24</th>\n",
       "      <td>104</td>\n",
       "      <td>BR833810A</td>\n",
       "      <td>84002338</td>\n",
       "      <td>V1</td>\n",
       "    </tr>\n",
       "    <tr>\n",
       "      <th>25</th>\n",
       "      <td>110</td>\n",
       "      <td>BR833810A</td>\n",
       "      <td>84002344</td>\n",
       "      <td>V1</td>\n",
       "    </tr>\n",
       "    <tr>\n",
       "      <th>26</th>\n",
       "      <td>111</td>\n",
       "      <td>BR833810A</td>\n",
       "      <td>84002345</td>\n",
       "      <td>V1</td>\n",
       "    </tr>\n",
       "    <tr>\n",
       "      <th>27</th>\n",
       "      <td>114</td>\n",
       "      <td>BR833810A</td>\n",
       "      <td>84002348</td>\n",
       "      <td>V1</td>\n",
       "    </tr>\n",
       "    <tr>\n",
       "      <th>28</th>\n",
       "      <td>116</td>\n",
       "      <td>BR833810A</td>\n",
       "      <td>84002350</td>\n",
       "      <td>V1</td>\n",
       "    </tr>\n",
       "    <tr>\n",
       "      <th>29</th>\n",
       "      <td>118</td>\n",
       "      <td>BR833810A</td>\n",
       "      <td>84002352</td>\n",
       "      <td>V1</td>\n",
       "    </tr>\n",
       "    <tr>\n",
       "      <th>...</th>\n",
       "      <td>...</td>\n",
       "      <td>...</td>\n",
       "      <td>...</td>\n",
       "      <td>...</td>\n",
       "    </tr>\n",
       "    <tr>\n",
       "      <th>3170</th>\n",
       "      <td>9934</td>\n",
       "      <td>BR833810A</td>\n",
       "      <td>84012168</td>\n",
       "      <td>V1</td>\n",
       "    </tr>\n",
       "    <tr>\n",
       "      <th>3171</th>\n",
       "      <td>9937</td>\n",
       "      <td>BR833810A</td>\n",
       "      <td>84012171</td>\n",
       "      <td>V1</td>\n",
       "    </tr>\n",
       "    <tr>\n",
       "      <th>3172</th>\n",
       "      <td>9939</td>\n",
       "      <td>BR833810A</td>\n",
       "      <td>84012173</td>\n",
       "      <td>V1</td>\n",
       "    </tr>\n",
       "    <tr>\n",
       "      <th>3173</th>\n",
       "      <td>9945</td>\n",
       "      <td>BR833810A</td>\n",
       "      <td>84012179</td>\n",
       "      <td>V1</td>\n",
       "    </tr>\n",
       "    <tr>\n",
       "      <th>3174</th>\n",
       "      <td>9947</td>\n",
       "      <td>BR833810A</td>\n",
       "      <td>84012181</td>\n",
       "      <td>V1</td>\n",
       "    </tr>\n",
       "    <tr>\n",
       "      <th>3175</th>\n",
       "      <td>9948</td>\n",
       "      <td>BR833810A</td>\n",
       "      <td>84012182</td>\n",
       "      <td>V1</td>\n",
       "    </tr>\n",
       "    <tr>\n",
       "      <th>3176</th>\n",
       "      <td>9950</td>\n",
       "      <td>BR833810A</td>\n",
       "      <td>84012184</td>\n",
       "      <td>V1</td>\n",
       "    </tr>\n",
       "    <tr>\n",
       "      <th>3177</th>\n",
       "      <td>9951</td>\n",
       "      <td>BR833810A</td>\n",
       "      <td>84012185</td>\n",
       "      <td>V1</td>\n",
       "    </tr>\n",
       "    <tr>\n",
       "      <th>3178</th>\n",
       "      <td>9953</td>\n",
       "      <td>BR833810A</td>\n",
       "      <td>84012187</td>\n",
       "      <td>V1</td>\n",
       "    </tr>\n",
       "    <tr>\n",
       "      <th>3179</th>\n",
       "      <td>9955</td>\n",
       "      <td>BR833810A</td>\n",
       "      <td>84012189</td>\n",
       "      <td>V1</td>\n",
       "    </tr>\n",
       "    <tr>\n",
       "      <th>3180</th>\n",
       "      <td>9956</td>\n",
       "      <td>BR833810A</td>\n",
       "      <td>84012190</td>\n",
       "      <td>V1</td>\n",
       "    </tr>\n",
       "    <tr>\n",
       "      <th>3181</th>\n",
       "      <td>9957</td>\n",
       "      <td>BR833810A</td>\n",
       "      <td>84012191</td>\n",
       "      <td>V1</td>\n",
       "    </tr>\n",
       "    <tr>\n",
       "      <th>3182</th>\n",
       "      <td>9959</td>\n",
       "      <td>BR833810A</td>\n",
       "      <td>84012193</td>\n",
       "      <td>V1</td>\n",
       "    </tr>\n",
       "    <tr>\n",
       "      <th>3183</th>\n",
       "      <td>9961</td>\n",
       "      <td>BR833810A</td>\n",
       "      <td>84012195</td>\n",
       "      <td>V1</td>\n",
       "    </tr>\n",
       "    <tr>\n",
       "      <th>3184</th>\n",
       "      <td>9964</td>\n",
       "      <td>BR833810A</td>\n",
       "      <td>84012198</td>\n",
       "      <td>V1</td>\n",
       "    </tr>\n",
       "    <tr>\n",
       "      <th>3185</th>\n",
       "      <td>9966</td>\n",
       "      <td>BR833810A</td>\n",
       "      <td>84012200</td>\n",
       "      <td>V1</td>\n",
       "    </tr>\n",
       "    <tr>\n",
       "      <th>3186</th>\n",
       "      <td>9969</td>\n",
       "      <td>BR833810A</td>\n",
       "      <td>84012203</td>\n",
       "      <td>V1</td>\n",
       "    </tr>\n",
       "    <tr>\n",
       "      <th>3187</th>\n",
       "      <td>9972</td>\n",
       "      <td>BR833810A</td>\n",
       "      <td>84012206</td>\n",
       "      <td>V1</td>\n",
       "    </tr>\n",
       "    <tr>\n",
       "      <th>3188</th>\n",
       "      <td>9978</td>\n",
       "      <td>BR833810A</td>\n",
       "      <td>84012212</td>\n",
       "      <td>V1</td>\n",
       "    </tr>\n",
       "    <tr>\n",
       "      <th>3189</th>\n",
       "      <td>9979</td>\n",
       "      <td>BR833810A</td>\n",
       "      <td>84012213</td>\n",
       "      <td>V1</td>\n",
       "    </tr>\n",
       "    <tr>\n",
       "      <th>3190</th>\n",
       "      <td>9980</td>\n",
       "      <td>BR833810A</td>\n",
       "      <td>84012214</td>\n",
       "      <td>V1</td>\n",
       "    </tr>\n",
       "    <tr>\n",
       "      <th>3191</th>\n",
       "      <td>9981</td>\n",
       "      <td>BR833810A</td>\n",
       "      <td>84012215</td>\n",
       "      <td>V1</td>\n",
       "    </tr>\n",
       "    <tr>\n",
       "      <th>3192</th>\n",
       "      <td>9982</td>\n",
       "      <td>BR833810A</td>\n",
       "      <td>84012216</td>\n",
       "      <td>V1</td>\n",
       "    </tr>\n",
       "    <tr>\n",
       "      <th>3193</th>\n",
       "      <td>9985</td>\n",
       "      <td>BR833810A</td>\n",
       "      <td>84012219</td>\n",
       "      <td>V1</td>\n",
       "    </tr>\n",
       "    <tr>\n",
       "      <th>3194</th>\n",
       "      <td>9986</td>\n",
       "      <td>BR833810A</td>\n",
       "      <td>84012220</td>\n",
       "      <td>V1</td>\n",
       "    </tr>\n",
       "    <tr>\n",
       "      <th>3195</th>\n",
       "      <td>9989</td>\n",
       "      <td>BR833810A</td>\n",
       "      <td>84012223</td>\n",
       "      <td>V1</td>\n",
       "    </tr>\n",
       "    <tr>\n",
       "      <th>3196</th>\n",
       "      <td>9991</td>\n",
       "      <td>BR833810A</td>\n",
       "      <td>84012225</td>\n",
       "      <td>V1</td>\n",
       "    </tr>\n",
       "    <tr>\n",
       "      <th>3197</th>\n",
       "      <td>9993</td>\n",
       "      <td>BR833810A</td>\n",
       "      <td>84012227</td>\n",
       "      <td>V1</td>\n",
       "    </tr>\n",
       "    <tr>\n",
       "      <th>3198</th>\n",
       "      <td>9994</td>\n",
       "      <td>BR833810A</td>\n",
       "      <td>84012228</td>\n",
       "      <td>V1</td>\n",
       "    </tr>\n",
       "    <tr>\n",
       "      <th>3199</th>\n",
       "      <td>9997</td>\n",
       "      <td>BR833810A</td>\n",
       "      <td>84012231</td>\n",
       "      <td>V1</td>\n",
       "    </tr>\n",
       "  </tbody>\n",
       "</table>\n",
       "<p>3200 rows × 4 columns</p>\n",
       "</div>"
      ],
      "text/plain": [
       "      index        SKU  Serial Number vendor\n",
       "0         2  BR833810A       84002236     V1\n",
       "1         8  BR833810A       84002242     V1\n",
       "2        10  BR833810A       84002244     V1\n",
       "3        14  BR833810A       84002248     V1\n",
       "4        17  BR833810A       84002251     V1\n",
       "5        18  BR833810A       84002252     V1\n",
       "6        25  BR833810A       84002259     V1\n",
       "7        26  BR833810A       84002260     V1\n",
       "8        30  BR833810A       84002264     V1\n",
       "9        32  BR833810A       84002266     V1\n",
       "10       33  BR833810A       84002267     V1\n",
       "11       34  BR833810A       84002268     V1\n",
       "12       44  BR833810A       84002278     V1\n",
       "13       49  BR833810A       84002283     V1\n",
       "14       51  BR833810A       84002285     V1\n",
       "15       54  BR833810A       84002288     V1\n",
       "16       60  BR833810A       84002294     V1\n",
       "17       65  BR833810A       84002299     V1\n",
       "18       81  BR833810A       84002315     V1\n",
       "19       87  BR833810A       84002321     V1\n",
       "20       88  BR833810A       84002322     V1\n",
       "21       90  BR833810A       84002324     V1\n",
       "22      101  BR833810A       84002335     V1\n",
       "23      102  BR833810A       84002336     V1\n",
       "24      104  BR833810A       84002338     V1\n",
       "25      110  BR833810A       84002344     V1\n",
       "26      111  BR833810A       84002345     V1\n",
       "27      114  BR833810A       84002348     V1\n",
       "28      116  BR833810A       84002350     V1\n",
       "29      118  BR833810A       84002352     V1\n",
       "...     ...        ...            ...    ...\n",
       "3170   9934  BR833810A       84012168     V1\n",
       "3171   9937  BR833810A       84012171     V1\n",
       "3172   9939  BR833810A       84012173     V1\n",
       "3173   9945  BR833810A       84012179     V1\n",
       "3174   9947  BR833810A       84012181     V1\n",
       "3175   9948  BR833810A       84012182     V1\n",
       "3176   9950  BR833810A       84012184     V1\n",
       "3177   9951  BR833810A       84012185     V1\n",
       "3178   9953  BR833810A       84012187     V1\n",
       "3179   9955  BR833810A       84012189     V1\n",
       "3180   9956  BR833810A       84012190     V1\n",
       "3181   9957  BR833810A       84012191     V1\n",
       "3182   9959  BR833810A       84012193     V1\n",
       "3183   9961  BR833810A       84012195     V1\n",
       "3184   9964  BR833810A       84012198     V1\n",
       "3185   9966  BR833810A       84012200     V1\n",
       "3186   9969  BR833810A       84012203     V1\n",
       "3187   9972  BR833810A       84012206     V1\n",
       "3188   9978  BR833810A       84012212     V1\n",
       "3189   9979  BR833810A       84012213     V1\n",
       "3190   9980  BR833810A       84012214     V1\n",
       "3191   9981  BR833810A       84012215     V1\n",
       "3192   9982  BR833810A       84012216     V1\n",
       "3193   9985  BR833810A       84012219     V1\n",
       "3194   9986  BR833810A       84012220     V1\n",
       "3195   9989  BR833810A       84012223     V1\n",
       "3196   9991  BR833810A       84012225     V1\n",
       "3197   9993  BR833810A       84012227     V1\n",
       "3198   9994  BR833810A       84012228     V1\n",
       "3199   9997  BR833810A       84012231     V1\n",
       "\n",
       "[3200 rows x 4 columns]"
      ]
     },
     "execution_count": 109,
     "metadata": {},
     "output_type": "execute_result"
    }
   ],
   "source": [
    "v1_assembled"
   ]
  },
  {
   "cell_type": "code",
   "execution_count": 113,
   "metadata": {},
   "outputs": [],
   "source": [
    "v1_combined = pd.concat([v1_assembled, full_v1], axis=1)"
   ]
  },
  {
   "cell_type": "code",
   "execution_count": 114,
   "metadata": {
    "collapsed": true
   },
   "outputs": [],
   "source": [
    "import numpy as np"
   ]
  },
  {
   "cell_type": "code",
   "execution_count": 117,
   "metadata": {},
   "outputs": [
    {
     "data": {
      "text/plain": [
       "array([ 99.7,  90.1,  94.8,  94.9,  84.1,  85.1,  93.3,  94.1,  95.7,\n",
       "        91.2,  91.5,  87.5,  90. ,  97.4,  80.5,  87. ,  92.8,  85.6,\n",
       "        81.1,  97.8,  82.7,  89.1,  85.8,  90.5,  94.4,  99.9,  95.3,\n",
       "        80.3,  88.4,  90.1,  89.7,  81.5,  90.6,  93.5,  87. ,  91.3,\n",
       "        89.3,  81.4,  87.2,  99.5,  91.9,  96.2,  99.6,  88.8,  91.1,\n",
       "        96.3,  84.5,  99.3,  81.1,  82.6,  81.4,  82.1,  80.7,  82. ,\n",
       "        94.9,  92.3,  92.5,  82.9,  85.9,  81.4,  98.3,  83.7,  97. ,\n",
       "        80.5,  83. ,  90.2,  99.8,  95.1,  88.7,  96. ,  95.2,  92.2,\n",
       "        95.5,  82.1,  83.9,  87.4,  88.5,  94.2,  97.6,  93. ,  87.7,\n",
       "        93.2,  95.6,  91.8,  97.7,  93.8,  96.3,  88.7,  81.6,  80.9,\n",
       "        91.9,  87.1,  82.3,  96.3,  84.2,  93.9,  83.7,  83.5,  85.3,  92.5])"
      ]
     },
     "execution_count": 117,
     "metadata": {},
     "output_type": "execute_result"
    }
   ],
   "source": []
  },
  {
   "cell_type": "code",
   "execution_count": null,
   "metadata": {
    "collapsed": true
   },
   "outputs": [],
   "source": []
  },
  {
   "cell_type": "markdown",
   "metadata": {},
   "source": [
    "things still left to do:\n",
    "    1. get the quality scores for various assembled pieces\n",
    "    2. Filter by the low scores to see that ONE BATCH for V3 (say) is the culprit."
   ]
  },
  {
   "cell_type": "code",
   "execution_count": null,
   "metadata": {
    "collapsed": true
   },
   "outputs": [],
   "source": []
  },
  {
   "cell_type": "code",
   "execution_count": null,
   "metadata": {
    "collapsed": true
   },
   "outputs": [],
   "source": []
  }
 ],
 "metadata": {
  "kernelspec": {
   "display_name": "Python 3",
   "language": "python",
   "name": "python3"
  },
  "language_info": {
   "codemirror_mode": {
    "name": "ipython",
    "version": 3
   },
   "file_extension": ".py",
   "mimetype": "text/x-python",
   "name": "python",
   "nbconvert_exporter": "python",
   "pygments_lexer": "ipython3",
   "version": "3.6.0"
  }
 },
 "nbformat": 4,
 "nbformat_minor": 2
}
