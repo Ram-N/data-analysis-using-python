{
 "cells": [
  {
   "cell_type": "markdown",
   "metadata": {
    "slideshow": {
     "slide_type": "slide"
    }
   },
   "source": [
    "# 1.6\n",
    "\n",
    "### Day 1: Exercises\n",
    "\n",
    "# Exercises based on Python Lists\n",
    "\n",
    "<img src = \"images/logo.jpg\" width=\"100\" align=\"left\">\n"
   ]
  },
  {
   "cell_type": "markdown",
   "metadata": {
    "slideshow": {
     "slide_type": "slide"
    }
   },
   "source": [
    "\n",
    "# Creating A Travel Bucket List\n",
    "\n",
    "<img src = \"images/bucket_list.jpg\" width=\"100\" align=\"left\">\n",
    "<img src = \"images/travel_bucket_list.png\" align=\"middle\">\n"
   ]
  },
  {
   "cell_type": "markdown",
   "metadata": {
    "slideshow": {
     "slide_type": "slide"
    }
   },
   "source": [
    "# Task L-0\n",
    "\n",
    "### Create a Python list with 5 places that you would most like to visit in the whole world"
   ]
  },
  {
   "cell_type": "markdown",
   "metadata": {
    "slideshow": {
     "slide_type": "slide"
    }
   },
   "source": [
    "# Task L-1\n",
    "\n",
    "### Print out the list, as well as its *length*"
   ]
  },
  {
   "cell_type": "markdown",
   "metadata": {
    "slideshow": {
     "slide_type": "slide"
    }
   },
   "source": [
    "# Task L-2\n",
    "\n",
    "### Reverse the list, and print it out\n",
    "\n",
    "Search the web for \"Python Reversing a List\""
   ]
  },
  {
   "cell_type": "markdown",
   "metadata": {
    "slideshow": {
     "slide_type": "slide"
    }
   },
   "source": [
    "# Task L-3\n",
    "\n",
    "### Sort the list Alphabetically\n",
    "\n",
    "Search the web for \"Python Sorting a List\""
   ]
  },
  {
   "cell_type": "markdown",
   "metadata": {
    "slideshow": {
     "slide_type": "slide"
    }
   },
   "source": [
    "# Task List-4\n",
    "\n",
    "### Remove the 4th element from your list"
   ]
  },
  {
   "cell_type": "markdown",
   "metadata": {
    "slideshow": {
     "slide_type": "slide"
    }
   },
   "source": [
    "# TASK List-5\n",
    "### word = \"INTERMEDIATE\"\n",
    "\n",
    "There are many English words hidden inside that word. Can you use Python Lists Index to print **3** smaller words inside INTERMEDIATE.\n",
    "\n",
    "Example: word[2:6]"
   ]
  },
  {
   "cell_type": "code",
   "execution_count": 1,
   "metadata": {
    "slideshow": {
     "slide_type": "slide"
    }
   },
   "outputs": [
    {
     "data": {
      "text/plain": [
       "'TERM'"
      ]
     },
     "execution_count": 1,
     "metadata": {},
     "output_type": "execute_result"
    }
   ],
   "source": [
    "word = \"INTERMEDIATE\"\n",
    "word[2:6]"
   ]
  },
  {
   "cell_type": "markdown",
   "metadata": {
    "slideshow": {
     "slide_type": "slide"
    }
   },
   "source": [
    "![Questions](images/questions.png)"
   ]
  }
 ],
 "metadata": {
  "kernelspec": {
   "display_name": "Python 3",
   "language": "python",
   "name": "python3"
  },
  "language_info": {
   "codemirror_mode": {
    "name": "ipython",
    "version": 3
   },
   "file_extension": ".py",
   "mimetype": "text/x-python",
   "name": "python",
   "nbconvert_exporter": "python",
   "pygments_lexer": "ipython3",
   "version": "3.6.5"
  }
 },
 "nbformat": 4,
 "nbformat_minor": 2
}
