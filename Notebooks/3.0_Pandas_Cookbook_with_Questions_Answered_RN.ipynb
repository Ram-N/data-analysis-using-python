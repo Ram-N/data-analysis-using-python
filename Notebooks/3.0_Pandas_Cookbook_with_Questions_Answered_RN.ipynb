{
 "cells": [
  {
   "cell_type": "markdown",
   "metadata": {
    "slideshow": {
     "slide_type": "slide"
    }
   },
   "source": [
    "### Pandas A-Z\n",
    "\n",
    "# Pandas Cookbook with Questions and Answers\n",
    "<img src = \"images/logo.jpg\" width=\"100\" align=\"left\">\n",
    "\n",
    "<br><br><br><br>Ram Narasimhan"
   ]
  },
  {
   "cell_type": "markdown",
   "metadata": {
    "slideshow": {
     "slide_type": "slide"
    }
   },
   "source": [
    "# About the Cookbook\n",
    "\n",
    "We will be using Pandas module from today onwards quite extensively. I have created this \"Cookbook\" so that new learners can use it as a reference for all these common tasks.\n",
    "\n",
    "Just refer to the Table of Contents and click the link to get your answers.\n",
    "\n",
    "This Notebook is divided into multiple sections by concept."
   ]
  },
  {
   "cell_type": "code",
   "execution_count": 2,
   "metadata": {
    "slideshow": {
     "slide_type": "slide"
    }
   },
   "outputs": [],
   "source": [
    "import numpy as np #a new module\n",
    "import pandas as pd #we will see this more and more\n",
    "import matplotlib.pyplot as plt #plotting module\n",
    "import seaborn as sns # Seaborn for plotting and styling\n",
    "sns.set(color_codes=True)\n",
    "\n",
    "#shows the graphs in the Notebook itself. (INLINE)\n",
    "%matplotlib inline "
   ]
  },
  {
   "cell_type": "markdown",
   "metadata": {},
   "source": [
    "### Data Files\n",
    "\n",
    "For most of the questions, we will be using `example.csv` (in the `data` folder) as the main data file. It has some dummy data to help understand the concepts."
   ]
  },
  {
   "cell_type": "markdown",
   "metadata": {},
   "source": [
    "# Table of Contents\n",
    "\n",
    "## Part 1: Reading, Writing and Creating Data Frame\n",
    "\n",
    "- **1.1 How to read a CSV file as a Pandas data frame?**\n",
    "- **1.2 How to quickly create a Data frame and specify the columns?**\n",
    "- **1.3 How to copy a data frame into another name?**\n",
    "- **1.4 How to WRITE a data frame to a CSV file?**"
   ]
  },
  {
   "cell_type": "markdown",
   "metadata": {},
   "source": [
    "## Part 2: Viewing sections of the Data Frame\n",
    "\n",
    "- **2.1 View the number of rows and columns in a data frame**\n",
    "- **2.2 View the top few rows, bottom few rows of the data frame**\n",
    "- **2.3 View the list of columns in a data frame**\n",
    "- **2.4 View the Index of a data frame**\n",
    "- **2.5 Describe all the numerical columns of a data frame **"
   ]
  },
  {
   "cell_type": "markdown",
   "metadata": {},
   "source": [
    "## Part 3: Interacting with Data Frame Columns\n",
    "\n",
    "- **3.1 View the content of one particular column, if you know its name**\n",
    "- **3.2 Create a new column, based on some existing columns **\n",
    "- How to find the data types of each column in a data frame?\n",
    "- How to find the max() or min() of a column?\n",
    "- How to count the number of unique values in one column?\n",
    "- How to count the frequency of *each* unique value in one column?\n",
    "- How to rename columns?\n",
    "- How to Drop a column?\n",
    "- How to rearrange the columns in a data frame?"
   ]
  },
  {
   "cell_type": "markdown",
   "metadata": {},
   "source": [
    "## Part 4: Working with the Index\n",
    "\n",
    "- ** How to make one of the columns into the new Index?\n",
    "- ** How to print the entire row at a particular value of Index?\n",
    "- ** 4.3 How to specify the column to be the index, when reading in a CSV file?"
   ]
  },
  {
   "cell_type": "markdown",
   "metadata": {},
   "source": [
    "## Part 1: Reading, Writing and Creating Data Frame"
   ]
  },
  {
   "cell_type": "code",
   "execution_count": 9,
   "metadata": {},
   "outputs": [],
   "source": [
    "#- **1.1 How to read a CSV file as a Pandas data frame?**\n",
    "df = pd.read_csv(\"data/example.csv\")"
   ]
  },
  {
   "cell_type": "code",
   "execution_count": 10,
   "metadata": {},
   "outputs": [
    {
     "data": {
      "text/html": [
       "<div>\n",
       "<style scoped>\n",
       "    .dataframe tbody tr th:only-of-type {\n",
       "        vertical-align: middle;\n",
       "    }\n",
       "\n",
       "    .dataframe tbody tr th {\n",
       "        vertical-align: top;\n",
       "    }\n",
       "\n",
       "    .dataframe thead th {\n",
       "        text-align: right;\n",
       "    }\n",
       "</style>\n",
       "<table border=\"1\" class=\"dataframe\">\n",
       "  <thead>\n",
       "    <tr style=\"text-align: right;\">\n",
       "      <th></th>\n",
       "      <th>Date</th>\n",
       "      <th>Time</th>\n",
       "      <th>Col One</th>\n",
       "      <th>Temp</th>\n",
       "      <th>Names</th>\n",
       "    </tr>\n",
       "  </thead>\n",
       "  <tbody>\n",
       "    <tr>\n",
       "      <th>0</th>\n",
       "      <td>2/3/2019</td>\n",
       "      <td>9:01</td>\n",
       "      <td>Zero</td>\n",
       "      <td>21.9</td>\n",
       "      <td>John</td>\n",
       "    </tr>\n",
       "    <tr>\n",
       "      <th>1</th>\n",
       "      <td>2/3/2019</td>\n",
       "      <td>13:22</td>\n",
       "      <td>One</td>\n",
       "      <td>34.2</td>\n",
       "      <td>Mary</td>\n",
       "    </tr>\n",
       "    <tr>\n",
       "      <th>2</th>\n",
       "      <td>2/3/2019</td>\n",
       "      <td>14:58</td>\n",
       "      <td>Two</td>\n",
       "      <td>28.0</td>\n",
       "      <td>John</td>\n",
       "    </tr>\n",
       "    <tr>\n",
       "      <th>3</th>\n",
       "      <td>2/3/2019</td>\n",
       "      <td>17:31</td>\n",
       "      <td>Three</td>\n",
       "      <td>29.4</td>\n",
       "      <td>Peter</td>\n",
       "    </tr>\n",
       "    <tr>\n",
       "      <th>4</th>\n",
       "      <td>2/7/2019</td>\n",
       "      <td>8:29</td>\n",
       "      <td>Four</td>\n",
       "      <td>12.0</td>\n",
       "      <td>Ali</td>\n",
       "    </tr>\n",
       "    <tr>\n",
       "      <th>5</th>\n",
       "      <td>3/3/2019</td>\n",
       "      <td>11:11</td>\n",
       "      <td>Five</td>\n",
       "      <td>14.5</td>\n",
       "      <td>Baba</td>\n",
       "    </tr>\n",
       "    <tr>\n",
       "      <th>6</th>\n",
       "      <td>3/3/2019</td>\n",
       "      <td>13:08</td>\n",
       "      <td>Six</td>\n",
       "      <td>40.9</td>\n",
       "      <td>NaN</td>\n",
       "    </tr>\n",
       "    <tr>\n",
       "      <th>7</th>\n",
       "      <td>3/3/2019</td>\n",
       "      <td>9:01</td>\n",
       "      <td>Seven</td>\n",
       "      <td>35.5</td>\n",
       "      <td>NaN</td>\n",
       "    </tr>\n",
       "    <tr>\n",
       "      <th>8</th>\n",
       "      <td>3/3/2019</td>\n",
       "      <td>7:33</td>\n",
       "      <td>Eight</td>\n",
       "      <td>23.2</td>\n",
       "      <td>Mariam</td>\n",
       "    </tr>\n",
       "    <tr>\n",
       "      <th>9</th>\n",
       "      <td>3/3/2019</td>\n",
       "      <td>14:29</td>\n",
       "      <td>Nine</td>\n",
       "      <td>38.6</td>\n",
       "      <td>Merry</td>\n",
       "    </tr>\n",
       "  </tbody>\n",
       "</table>\n",
       "</div>"
      ],
      "text/plain": [
       "       Date   Time Col One  Temp   Names\n",
       "0  2/3/2019   9:01    Zero  21.9    John\n",
       "1  2/3/2019  13:22    One   34.2    Mary\n",
       "2  2/3/2019  14:58     Two  28.0    John\n",
       "3  2/3/2019  17:31   Three  29.4   Peter\n",
       "4  2/7/2019   8:29    Four  12.0     Ali\n",
       "5  3/3/2019  11:11    Five  14.5    Baba\n",
       "6  3/3/2019  13:08     Six  40.9     NaN\n",
       "7  3/3/2019   9:01   Seven  35.5     NaN\n",
       "8  3/3/2019   7:33   Eight  23.2  Mariam\n",
       "9  3/3/2019  14:29    Nine  38.6   Merry"
      ]
     },
     "execution_count": 10,
     "metadata": {},
     "output_type": "execute_result"
    }
   ],
   "source": [
    "df"
   ]
  },
  {
   "cell_type": "code",
   "execution_count": 7,
   "metadata": {},
   "outputs": [],
   "source": [
    "#- **1.2 How to quickly create a Data frame and specify the columns?**\n",
    "df2 = pd.DataFrame({'col1':range(10), 'col2': np.random.randint(10, 100, size=10)})"
   ]
  },
  {
   "cell_type": "code",
   "execution_count": 8,
   "metadata": {},
   "outputs": [
    {
     "data": {
      "text/html": [
       "<div>\n",
       "<style scoped>\n",
       "    .dataframe tbody tr th:only-of-type {\n",
       "        vertical-align: middle;\n",
       "    }\n",
       "\n",
       "    .dataframe tbody tr th {\n",
       "        vertical-align: top;\n",
       "    }\n",
       "\n",
       "    .dataframe thead th {\n",
       "        text-align: right;\n",
       "    }\n",
       "</style>\n",
       "<table border=\"1\" class=\"dataframe\">\n",
       "  <thead>\n",
       "    <tr style=\"text-align: right;\">\n",
       "      <th></th>\n",
       "      <th>col1</th>\n",
       "      <th>col2</th>\n",
       "    </tr>\n",
       "  </thead>\n",
       "  <tbody>\n",
       "    <tr>\n",
       "      <th>0</th>\n",
       "      <td>0</td>\n",
       "      <td>30</td>\n",
       "    </tr>\n",
       "    <tr>\n",
       "      <th>1</th>\n",
       "      <td>1</td>\n",
       "      <td>42</td>\n",
       "    </tr>\n",
       "    <tr>\n",
       "      <th>2</th>\n",
       "      <td>2</td>\n",
       "      <td>54</td>\n",
       "    </tr>\n",
       "    <tr>\n",
       "      <th>3</th>\n",
       "      <td>3</td>\n",
       "      <td>13</td>\n",
       "    </tr>\n",
       "    <tr>\n",
       "      <th>4</th>\n",
       "      <td>4</td>\n",
       "      <td>44</td>\n",
       "    </tr>\n",
       "  </tbody>\n",
       "</table>\n",
       "</div>"
      ],
      "text/plain": [
       "   col1  col2\n",
       "0     0    30\n",
       "1     1    42\n",
       "2     2    54\n",
       "3     3    13\n",
       "4     4    44"
      ]
     },
     "execution_count": 8,
     "metadata": {},
     "output_type": "execute_result"
    }
   ],
   "source": [
    "df2.head()"
   ]
  },
  {
   "cell_type": "code",
   "execution_count": 11,
   "metadata": {},
   "outputs": [],
   "source": [
    "#- **1.3 How to copy a data frame into another name?**\n",
    "dfcopy = df.copy()\n",
    "#If you plan on modifying an extracted data frame, its a good idea to make a copy."
   ]
  },
  {
   "cell_type": "code",
   "execution_count": 13,
   "metadata": {},
   "outputs": [],
   "source": [
    "#- **1.4 How to WRITE a data frame to a CSV file?**\n",
    "df2.to_csv(\"data/newdatafile.csv\") #will end up in the data directory under the given name."
   ]
  },
  {
   "cell_type": "code",
   "execution_count": null,
   "metadata": {},
   "outputs": [],
   "source": []
  },
  {
   "cell_type": "markdown",
   "metadata": {},
   "source": [
    "## Part 2: Viewing sections of the Data Frame\n"
   ]
  },
  {
   "cell_type": "code",
   "execution_count": 16,
   "metadata": {},
   "outputs": [
    {
     "data": {
      "text/plain": [
       "(10, 5)"
      ]
     },
     "execution_count": 16,
     "metadata": {},
     "output_type": "execute_result"
    }
   ],
   "source": [
    "#- **2.1 View the number of rows and columns in a data frame**\n",
    "df.shape # note that there is no brackets. Shape does not take any arguments"
   ]
  },
  {
   "cell_type": "code",
   "execution_count": 18,
   "metadata": {},
   "outputs": [
    {
     "data": {
      "text/html": [
       "<div>\n",
       "<style scoped>\n",
       "    .dataframe tbody tr th:only-of-type {\n",
       "        vertical-align: middle;\n",
       "    }\n",
       "\n",
       "    .dataframe tbody tr th {\n",
       "        vertical-align: top;\n",
       "    }\n",
       "\n",
       "    .dataframe thead th {\n",
       "        text-align: right;\n",
       "    }\n",
       "</style>\n",
       "<table border=\"1\" class=\"dataframe\">\n",
       "  <thead>\n",
       "    <tr style=\"text-align: right;\">\n",
       "      <th></th>\n",
       "      <th>Date</th>\n",
       "      <th>Time</th>\n",
       "      <th>Col One</th>\n",
       "      <th>Temp</th>\n",
       "      <th>Names</th>\n",
       "    </tr>\n",
       "  </thead>\n",
       "  <tbody>\n",
       "    <tr>\n",
       "      <th>0</th>\n",
       "      <td>2/3/2019</td>\n",
       "      <td>9:01</td>\n",
       "      <td>Zero</td>\n",
       "      <td>21.9</td>\n",
       "      <td>John</td>\n",
       "    </tr>\n",
       "    <tr>\n",
       "      <th>1</th>\n",
       "      <td>2/3/2019</td>\n",
       "      <td>13:22</td>\n",
       "      <td>One</td>\n",
       "      <td>34.2</td>\n",
       "      <td>Mary</td>\n",
       "    </tr>\n",
       "    <tr>\n",
       "      <th>2</th>\n",
       "      <td>2/3/2019</td>\n",
       "      <td>14:58</td>\n",
       "      <td>Two</td>\n",
       "      <td>28.0</td>\n",
       "      <td>John</td>\n",
       "    </tr>\n",
       "    <tr>\n",
       "      <th>3</th>\n",
       "      <td>2/3/2019</td>\n",
       "      <td>17:31</td>\n",
       "      <td>Three</td>\n",
       "      <td>29.4</td>\n",
       "      <td>Peter</td>\n",
       "    </tr>\n",
       "    <tr>\n",
       "      <th>4</th>\n",
       "      <td>2/7/2019</td>\n",
       "      <td>8:29</td>\n",
       "      <td>Four</td>\n",
       "      <td>12.0</td>\n",
       "      <td>Ali</td>\n",
       "    </tr>\n",
       "  </tbody>\n",
       "</table>\n",
       "</div>"
      ],
      "text/plain": [
       "       Date   Time Col One  Temp  Names\n",
       "0  2/3/2019   9:01    Zero  21.9   John\n",
       "1  2/3/2019  13:22    One   34.2   Mary\n",
       "2  2/3/2019  14:58     Two  28.0   John\n",
       "3  2/3/2019  17:31   Three  29.4  Peter\n",
       "4  2/7/2019   8:29    Four  12.0    Ali"
      ]
     },
     "execution_count": 18,
     "metadata": {},
     "output_type": "execute_result"
    }
   ],
   "source": [
    "#- **2.2 View the top few rows, bottom few rows of the data frame**\n",
    "df.head()"
   ]
  },
  {
   "cell_type": "code",
   "execution_count": 19,
   "metadata": {},
   "outputs": [
    {
     "data": {
      "text/html": [
       "<div>\n",
       "<style scoped>\n",
       "    .dataframe tbody tr th:only-of-type {\n",
       "        vertical-align: middle;\n",
       "    }\n",
       "\n",
       "    .dataframe tbody tr th {\n",
       "        vertical-align: top;\n",
       "    }\n",
       "\n",
       "    .dataframe thead th {\n",
       "        text-align: right;\n",
       "    }\n",
       "</style>\n",
       "<table border=\"1\" class=\"dataframe\">\n",
       "  <thead>\n",
       "    <tr style=\"text-align: right;\">\n",
       "      <th></th>\n",
       "      <th>Date</th>\n",
       "      <th>Time</th>\n",
       "      <th>Col One</th>\n",
       "      <th>Temp</th>\n",
       "      <th>Names</th>\n",
       "    </tr>\n",
       "  </thead>\n",
       "  <tbody>\n",
       "    <tr>\n",
       "      <th>5</th>\n",
       "      <td>3/3/2019</td>\n",
       "      <td>11:11</td>\n",
       "      <td>Five</td>\n",
       "      <td>14.5</td>\n",
       "      <td>Baba</td>\n",
       "    </tr>\n",
       "    <tr>\n",
       "      <th>6</th>\n",
       "      <td>3/3/2019</td>\n",
       "      <td>13:08</td>\n",
       "      <td>Six</td>\n",
       "      <td>40.9</td>\n",
       "      <td>NaN</td>\n",
       "    </tr>\n",
       "    <tr>\n",
       "      <th>7</th>\n",
       "      <td>3/3/2019</td>\n",
       "      <td>9:01</td>\n",
       "      <td>Seven</td>\n",
       "      <td>35.5</td>\n",
       "      <td>NaN</td>\n",
       "    </tr>\n",
       "    <tr>\n",
       "      <th>8</th>\n",
       "      <td>3/3/2019</td>\n",
       "      <td>7:33</td>\n",
       "      <td>Eight</td>\n",
       "      <td>23.2</td>\n",
       "      <td>Mariam</td>\n",
       "    </tr>\n",
       "    <tr>\n",
       "      <th>9</th>\n",
       "      <td>3/3/2019</td>\n",
       "      <td>14:29</td>\n",
       "      <td>Nine</td>\n",
       "      <td>38.6</td>\n",
       "      <td>Merry</td>\n",
       "    </tr>\n",
       "  </tbody>\n",
       "</table>\n",
       "</div>"
      ],
      "text/plain": [
       "       Date   Time Col One  Temp   Names\n",
       "5  3/3/2019  11:11    Five  14.5    Baba\n",
       "6  3/3/2019  13:08     Six  40.9     NaN\n",
       "7  3/3/2019   9:01   Seven  35.5     NaN\n",
       "8  3/3/2019   7:33   Eight  23.2  Mariam\n",
       "9  3/3/2019  14:29    Nine  38.6   Merry"
      ]
     },
     "execution_count": 19,
     "metadata": {},
     "output_type": "execute_result"
    }
   ],
   "source": [
    "#- **2.2 View the top few rows, bottom few rows of the data frame**\n",
    "df.tail()"
   ]
  },
  {
   "cell_type": "code",
   "execution_count": 20,
   "metadata": {},
   "outputs": [
    {
     "data": {
      "text/plain": [
       "Index(['Date', 'Time', 'Col One', 'Temp', 'Names'], dtype='object')"
      ]
     },
     "execution_count": 20,
     "metadata": {},
     "output_type": "execute_result"
    }
   ],
   "source": [
    "#- **2.3 View the list of columns in a data frame**\n",
    "df.columns"
   ]
  },
  {
   "cell_type": "code",
   "execution_count": 22,
   "metadata": {},
   "outputs": [
    {
     "data": {
      "text/plain": [
       "'Col One'"
      ]
     },
     "execution_count": 22,
     "metadata": {},
     "output_type": "execute_result"
    }
   ],
   "source": [
    "#if you want to get the column name, just do\n",
    "df.columns[2]"
   ]
  },
  {
   "cell_type": "code",
   "execution_count": 25,
   "metadata": {},
   "outputs": [
    {
     "data": {
      "text/plain": [
       "0      John\n",
       "1      Mary\n",
       "2      John\n",
       "3     Peter\n",
       "4       Ali\n",
       "5      Baba\n",
       "6       NaN\n",
       "7       NaN\n",
       "8    Mariam\n",
       "9     Merry\n",
       "Name: Names, dtype: object"
      ]
     },
     "execution_count": 25,
     "metadata": {},
     "output_type": "execute_result"
    }
   ],
   "source": [
    "#- **2.4 View the content of one particular column, if you know its name**\n",
    "df['Names']"
   ]
  },
  {
   "cell_type": "code",
   "execution_count": 26,
   "metadata": {},
   "outputs": [
    {
     "data": {
      "text/plain": [
       "RangeIndex(start=0, stop=10, step=1)"
      ]
     },
     "execution_count": 26,
     "metadata": {},
     "output_type": "execute_result"
    }
   ],
   "source": [
    "#- **2.5 View the Index of a data frame**\n",
    "df.index"
   ]
  },
  {
   "cell_type": "markdown",
   "metadata": {},
   "source": [
    "## Part 3: Interacting with Data Frame Columns"
   ]
  },
  {
   "cell_type": "markdown",
   "metadata": {},
   "source": [
    "- **3.1 View the content of one particular column, if you know its name**"
   ]
  },
  {
   "cell_type": "code",
   "execution_count": 30,
   "metadata": {},
   "outputs": [
    {
     "data": {
      "text/plain": [
       "0     Zero\n",
       "1     One \n",
       "2      Two\n",
       "3    Three\n",
       "4     Four\n",
       "5     Five\n",
       "6      Six\n",
       "7    Seven\n",
       "8    Eight\n",
       "9     Nine\n",
       "Name: Col One, dtype: object"
      ]
     },
     "execution_count": 30,
     "metadata": {},
     "output_type": "execute_result"
    }
   ],
   "source": [
    "df['Col One']"
   ]
  },
  {
   "cell_type": "markdown",
   "metadata": {},
   "source": [
    "- **3.2 Create a new column, based on some existing columns **"
   ]
  },
  {
   "cell_type": "code",
   "execution_count": 36,
   "metadata": {},
   "outputs": [
    {
     "data": {
      "text/html": [
       "<div>\n",
       "<style scoped>\n",
       "    .dataframe tbody tr th:only-of-type {\n",
       "        vertical-align: middle;\n",
       "    }\n",
       "\n",
       "    .dataframe tbody tr th {\n",
       "        vertical-align: top;\n",
       "    }\n",
       "\n",
       "    .dataframe thead th {\n",
       "        text-align: right;\n",
       "    }\n",
       "</style>\n",
       "<table border=\"1\" class=\"dataframe\">\n",
       "  <thead>\n",
       "    <tr style=\"text-align: right;\">\n",
       "      <th></th>\n",
       "      <th>Date</th>\n",
       "      <th>Time</th>\n",
       "      <th>Col One</th>\n",
       "      <th>Temp</th>\n",
       "      <th>Names</th>\n",
       "      <th>New Column</th>\n",
       "      <th>IntegerTemp</th>\n",
       "    </tr>\n",
       "  </thead>\n",
       "  <tbody>\n",
       "    <tr>\n",
       "      <th>0</th>\n",
       "      <td>2/3/2019</td>\n",
       "      <td>9:01</td>\n",
       "      <td>Zero</td>\n",
       "      <td>21.9</td>\n",
       "      <td>John</td>\n",
       "      <td>Zero John</td>\n",
       "      <td>21</td>\n",
       "    </tr>\n",
       "    <tr>\n",
       "      <th>1</th>\n",
       "      <td>2/3/2019</td>\n",
       "      <td>13:22</td>\n",
       "      <td>One</td>\n",
       "      <td>34.2</td>\n",
       "      <td>Mary</td>\n",
       "      <td>One  Mary</td>\n",
       "      <td>34</td>\n",
       "    </tr>\n",
       "    <tr>\n",
       "      <th>2</th>\n",
       "      <td>2/3/2019</td>\n",
       "      <td>14:58</td>\n",
       "      <td>Two</td>\n",
       "      <td>28.0</td>\n",
       "      <td>John</td>\n",
       "      <td>Two John</td>\n",
       "      <td>28</td>\n",
       "    </tr>\n",
       "    <tr>\n",
       "      <th>3</th>\n",
       "      <td>2/3/2019</td>\n",
       "      <td>17:31</td>\n",
       "      <td>Three</td>\n",
       "      <td>29.4</td>\n",
       "      <td>Peter</td>\n",
       "      <td>Three Peter</td>\n",
       "      <td>29</td>\n",
       "    </tr>\n",
       "    <tr>\n",
       "      <th>4</th>\n",
       "      <td>2/7/2019</td>\n",
       "      <td>8:29</td>\n",
       "      <td>Four</td>\n",
       "      <td>12.0</td>\n",
       "      <td>Ali</td>\n",
       "      <td>Four Ali</td>\n",
       "      <td>12</td>\n",
       "    </tr>\n",
       "    <tr>\n",
       "      <th>5</th>\n",
       "      <td>3/3/2019</td>\n",
       "      <td>11:11</td>\n",
       "      <td>Five</td>\n",
       "      <td>14.5</td>\n",
       "      <td>Baba</td>\n",
       "      <td>Five Baba</td>\n",
       "      <td>14</td>\n",
       "    </tr>\n",
       "    <tr>\n",
       "      <th>6</th>\n",
       "      <td>3/3/2019</td>\n",
       "      <td>13:08</td>\n",
       "      <td>Six</td>\n",
       "      <td>40.9</td>\n",
       "      <td>NaN</td>\n",
       "      <td>NaN</td>\n",
       "      <td>40</td>\n",
       "    </tr>\n",
       "    <tr>\n",
       "      <th>7</th>\n",
       "      <td>3/3/2019</td>\n",
       "      <td>9:01</td>\n",
       "      <td>Seven</td>\n",
       "      <td>35.5</td>\n",
       "      <td>NaN</td>\n",
       "      <td>NaN</td>\n",
       "      <td>35</td>\n",
       "    </tr>\n",
       "    <tr>\n",
       "      <th>8</th>\n",
       "      <td>3/3/2019</td>\n",
       "      <td>7:33</td>\n",
       "      <td>Eight</td>\n",
       "      <td>23.2</td>\n",
       "      <td>Mariam</td>\n",
       "      <td>Eight Mariam</td>\n",
       "      <td>23</td>\n",
       "    </tr>\n",
       "    <tr>\n",
       "      <th>9</th>\n",
       "      <td>3/3/2019</td>\n",
       "      <td>14:29</td>\n",
       "      <td>Nine</td>\n",
       "      <td>38.6</td>\n",
       "      <td>Merry</td>\n",
       "      <td>Nine Merry</td>\n",
       "      <td>38</td>\n",
       "    </tr>\n",
       "  </tbody>\n",
       "</table>\n",
       "</div>"
      ],
      "text/plain": [
       "       Date   Time Col One  Temp   Names    New Column  IntegerTemp\n",
       "0  2/3/2019   9:01    Zero  21.9    John     Zero John           21\n",
       "1  2/3/2019  13:22    One   34.2    Mary     One  Mary           34\n",
       "2  2/3/2019  14:58     Two  28.0    John      Two John           28\n",
       "3  2/3/2019  17:31   Three  29.4   Peter   Three Peter           29\n",
       "4  2/7/2019   8:29    Four  12.0     Ali      Four Ali           12\n",
       "5  3/3/2019  11:11    Five  14.5    Baba     Five Baba           14\n",
       "6  3/3/2019  13:08     Six  40.9     NaN           NaN           40\n",
       "7  3/3/2019   9:01   Seven  35.5     NaN           NaN           35\n",
       "8  3/3/2019   7:33   Eight  23.2  Mariam  Eight Mariam           23\n",
       "9  3/3/2019  14:29    Nine  38.6   Merry    Nine Merry           38"
      ]
     },
     "execution_count": 36,
     "metadata": {},
     "output_type": "execute_result"
    }
   ],
   "source": [
    "df['New Column'] = df['Col One'] + \" \" +  df['Names']\n",
    "df['IntegerTemp'] = df['Temp'].astype(int)\n",
    "df"
   ]
  },
  {
   "cell_type": "markdown",
   "metadata": {},
   "source": [
    "- How to find the data types of each column in a data frame?"
   ]
  },
  {
   "cell_type": "code",
   "execution_count": 38,
   "metadata": {},
   "outputs": [
    {
     "data": {
      "text/plain": [
       "Date            object\n",
       "Time            object\n",
       "Col One         object\n",
       "Temp           float64\n",
       "Names           object\n",
       "New Column      object\n",
       "IntegerTemp      int32\n",
       "dtype: object"
      ]
     },
     "execution_count": 38,
     "metadata": {},
     "output_type": "execute_result"
    }
   ],
   "source": [
    "df.dtypes # will print the data type of each column in your data frame. (Object usually means a string type)"
   ]
  },
  {
   "cell_type": "markdown",
   "metadata": {},
   "source": [
    "How to find the max() or min() of a column?"
   ]
  },
  {
   "cell_type": "code",
   "execution_count": 46,
   "metadata": {},
   "outputs": [
    {
     "data": {
      "text/plain": [
       "(12.0, 40)"
      ]
     },
     "execution_count": 46,
     "metadata": {},
     "output_type": "execute_result"
    }
   ],
   "source": [
    "df['Temp'].min(), df['IntegerTemp'].max()"
   ]
  },
  {
   "cell_type": "markdown",
   "metadata": {},
   "source": [
    "### 3.4 How to count the number of unique values in one column?"
   ]
  },
  {
   "cell_type": "code",
   "execution_count": 49,
   "metadata": {},
   "outputs": [
    {
     "data": {
      "text/plain": [
       "array(['2/3/2019', '2/7/2019', '3/3/2019'], dtype=object)"
      ]
     },
     "execution_count": 49,
     "metadata": {},
     "output_type": "execute_result"
    }
   ],
   "source": [
    "df['Date'].unique()\n",
    "# there are 3 different dates in the data frame"
   ]
  },
  {
   "cell_type": "markdown",
   "metadata": {},
   "source": [
    "### 3.5 How to count the frequency of *each* unique value in one column?"
   ]
  },
  {
   "cell_type": "code",
   "execution_count": 50,
   "metadata": {},
   "outputs": [
    {
     "data": {
      "text/plain": [
       "3/3/2019    5\n",
       "2/3/2019    4\n",
       "2/7/2019    1\n",
       "Name: Date, dtype: int64"
      ]
     },
     "execution_count": 50,
     "metadata": {},
     "output_type": "execute_result"
    }
   ],
   "source": [
    "df['Date'].value_counts()"
   ]
  },
  {
   "cell_type": "markdown",
   "metadata": {},
   "source": [
    "### 3.6 How to rename columns?"
   ]
  },
  {
   "cell_type": "code",
   "execution_count": 55,
   "metadata": {},
   "outputs": [
    {
     "data": {
      "text/html": [
       "<div>\n",
       "<style scoped>\n",
       "    .dataframe tbody tr th:only-of-type {\n",
       "        vertical-align: middle;\n",
       "    }\n",
       "\n",
       "    .dataframe tbody tr th {\n",
       "        vertical-align: top;\n",
       "    }\n",
       "\n",
       "    .dataframe thead th {\n",
       "        text-align: right;\n",
       "    }\n",
       "</style>\n",
       "<table border=\"1\" class=\"dataframe\">\n",
       "  <thead>\n",
       "    <tr style=\"text-align: right;\">\n",
       "      <th></th>\n",
       "      <th>Date</th>\n",
       "      <th>Time</th>\n",
       "      <th>NewCol1</th>\n",
       "      <th>Temp</th>\n",
       "      <th>Names</th>\n",
       "      <th>New Column</th>\n",
       "      <th>IntegerTemp</th>\n",
       "    </tr>\n",
       "  </thead>\n",
       "  <tbody>\n",
       "    <tr>\n",
       "      <th>0</th>\n",
       "      <td>2/3/2019</td>\n",
       "      <td>9:01</td>\n",
       "      <td>Zero</td>\n",
       "      <td>21.9</td>\n",
       "      <td>John</td>\n",
       "      <td>Zero John</td>\n",
       "      <td>21</td>\n",
       "    </tr>\n",
       "    <tr>\n",
       "      <th>1</th>\n",
       "      <td>2/3/2019</td>\n",
       "      <td>13:22</td>\n",
       "      <td>One</td>\n",
       "      <td>34.2</td>\n",
       "      <td>Mary</td>\n",
       "      <td>One  Mary</td>\n",
       "      <td>34</td>\n",
       "    </tr>\n",
       "    <tr>\n",
       "      <th>2</th>\n",
       "      <td>2/3/2019</td>\n",
       "      <td>14:58</td>\n",
       "      <td>Two</td>\n",
       "      <td>28.0</td>\n",
       "      <td>John</td>\n",
       "      <td>Two John</td>\n",
       "      <td>28</td>\n",
       "    </tr>\n",
       "    <tr>\n",
       "      <th>3</th>\n",
       "      <td>2/3/2019</td>\n",
       "      <td>17:31</td>\n",
       "      <td>Three</td>\n",
       "      <td>29.4</td>\n",
       "      <td>Peter</td>\n",
       "      <td>Three Peter</td>\n",
       "      <td>29</td>\n",
       "    </tr>\n",
       "    <tr>\n",
       "      <th>4</th>\n",
       "      <td>2/7/2019</td>\n",
       "      <td>8:29</td>\n",
       "      <td>Four</td>\n",
       "      <td>12.0</td>\n",
       "      <td>Ali</td>\n",
       "      <td>Four Ali</td>\n",
       "      <td>12</td>\n",
       "    </tr>\n",
       "    <tr>\n",
       "      <th>5</th>\n",
       "      <td>3/3/2019</td>\n",
       "      <td>11:11</td>\n",
       "      <td>Five</td>\n",
       "      <td>14.5</td>\n",
       "      <td>Baba</td>\n",
       "      <td>Five Baba</td>\n",
       "      <td>14</td>\n",
       "    </tr>\n",
       "    <tr>\n",
       "      <th>6</th>\n",
       "      <td>3/3/2019</td>\n",
       "      <td>13:08</td>\n",
       "      <td>Six</td>\n",
       "      <td>40.9</td>\n",
       "      <td>NaN</td>\n",
       "      <td>NaN</td>\n",
       "      <td>40</td>\n",
       "    </tr>\n",
       "    <tr>\n",
       "      <th>7</th>\n",
       "      <td>3/3/2019</td>\n",
       "      <td>9:01</td>\n",
       "      <td>Seven</td>\n",
       "      <td>35.5</td>\n",
       "      <td>NaN</td>\n",
       "      <td>NaN</td>\n",
       "      <td>35</td>\n",
       "    </tr>\n",
       "    <tr>\n",
       "      <th>8</th>\n",
       "      <td>3/3/2019</td>\n",
       "      <td>7:33</td>\n",
       "      <td>Eight</td>\n",
       "      <td>23.2</td>\n",
       "      <td>Mariam</td>\n",
       "      <td>Eight Mariam</td>\n",
       "      <td>23</td>\n",
       "    </tr>\n",
       "    <tr>\n",
       "      <th>9</th>\n",
       "      <td>3/3/2019</td>\n",
       "      <td>14:29</td>\n",
       "      <td>Nine</td>\n",
       "      <td>38.6</td>\n",
       "      <td>Merry</td>\n",
       "      <td>Nine Merry</td>\n",
       "      <td>38</td>\n",
       "    </tr>\n",
       "  </tbody>\n",
       "</table>\n",
       "</div>"
      ],
      "text/plain": [
       "       Date   Time NewCol1  Temp   Names    New Column  IntegerTemp\n",
       "0  2/3/2019   9:01    Zero  21.9    John     Zero John           21\n",
       "1  2/3/2019  13:22    One   34.2    Mary     One  Mary           34\n",
       "2  2/3/2019  14:58     Two  28.0    John      Two John           28\n",
       "3  2/3/2019  17:31   Three  29.4   Peter   Three Peter           29\n",
       "4  2/7/2019   8:29    Four  12.0     Ali      Four Ali           12\n",
       "5  3/3/2019  11:11    Five  14.5    Baba     Five Baba           14\n",
       "6  3/3/2019  13:08     Six  40.9     NaN           NaN           40\n",
       "7  3/3/2019   9:01   Seven  35.5     NaN           NaN           35\n",
       "8  3/3/2019   7:33   Eight  23.2  Mariam  Eight Mariam           23\n",
       "9  3/3/2019  14:29    Nine  38.6   Merry    Nine Merry           38"
      ]
     },
     "execution_count": 55,
     "metadata": {},
     "output_type": "execute_result"
    }
   ],
   "source": [
    "df.rename(columns={'Col One': 'NewCol1'}, inplace = True)\n",
    "df"
   ]
  },
  {
   "cell_type": "code",
   "execution_count": 65,
   "metadata": {},
   "outputs": [
    {
     "data": {
      "text/plain": [
       "pandas.core.series.Series"
      ]
     },
     "execution_count": 65,
     "metadata": {},
     "output_type": "execute_result"
    }
   ],
   "source": [
    "type(df['IntegerTemp'])"
   ]
  },
  {
   "cell_type": "markdown",
   "metadata": {},
   "source": [
    "### 3. xHow to Drop a column?\n"
   ]
  },
  {
   "cell_type": "code",
   "execution_count": 70,
   "metadata": {},
   "outputs": [
    {
     "data": {
      "text/html": [
       "<div>\n",
       "<style scoped>\n",
       "    .dataframe tbody tr th:only-of-type {\n",
       "        vertical-align: middle;\n",
       "    }\n",
       "\n",
       "    .dataframe tbody tr th {\n",
       "        vertical-align: top;\n",
       "    }\n",
       "\n",
       "    .dataframe thead th {\n",
       "        text-align: right;\n",
       "    }\n",
       "</style>\n",
       "<table border=\"1\" class=\"dataframe\">\n",
       "  <thead>\n",
       "    <tr style=\"text-align: right;\">\n",
       "      <th></th>\n",
       "      <th>Time</th>\n",
       "      <th>Date</th>\n",
       "      <th>NewCol1</th>\n",
       "      <th>Temp</th>\n",
       "      <th>IntegerTemp</th>\n",
       "    </tr>\n",
       "  </thead>\n",
       "  <tbody>\n",
       "    <tr>\n",
       "      <th>0</th>\n",
       "      <td>9:01</td>\n",
       "      <td>2/3/2019</td>\n",
       "      <td>Zero</td>\n",
       "      <td>21.9</td>\n",
       "      <td>21</td>\n",
       "    </tr>\n",
       "    <tr>\n",
       "      <th>1</th>\n",
       "      <td>13:22</td>\n",
       "      <td>2/3/2019</td>\n",
       "      <td>One</td>\n",
       "      <td>34.2</td>\n",
       "      <td>34</td>\n",
       "    </tr>\n",
       "    <tr>\n",
       "      <th>2</th>\n",
       "      <td>14:58</td>\n",
       "      <td>2/3/2019</td>\n",
       "      <td>Two</td>\n",
       "      <td>28.0</td>\n",
       "      <td>28</td>\n",
       "    </tr>\n",
       "    <tr>\n",
       "      <th>3</th>\n",
       "      <td>17:31</td>\n",
       "      <td>2/3/2019</td>\n",
       "      <td>Three</td>\n",
       "      <td>29.4</td>\n",
       "      <td>29</td>\n",
       "    </tr>\n",
       "    <tr>\n",
       "      <th>4</th>\n",
       "      <td>8:29</td>\n",
       "      <td>2/7/2019</td>\n",
       "      <td>Four</td>\n",
       "      <td>12.0</td>\n",
       "      <td>12</td>\n",
       "    </tr>\n",
       "    <tr>\n",
       "      <th>5</th>\n",
       "      <td>11:11</td>\n",
       "      <td>3/3/2019</td>\n",
       "      <td>Five</td>\n",
       "      <td>14.5</td>\n",
       "      <td>14</td>\n",
       "    </tr>\n",
       "    <tr>\n",
       "      <th>6</th>\n",
       "      <td>13:08</td>\n",
       "      <td>3/3/2019</td>\n",
       "      <td>Six</td>\n",
       "      <td>40.9</td>\n",
       "      <td>40</td>\n",
       "    </tr>\n",
       "    <tr>\n",
       "      <th>7</th>\n",
       "      <td>9:01</td>\n",
       "      <td>3/3/2019</td>\n",
       "      <td>Seven</td>\n",
       "      <td>35.5</td>\n",
       "      <td>35</td>\n",
       "    </tr>\n",
       "    <tr>\n",
       "      <th>8</th>\n",
       "      <td>7:33</td>\n",
       "      <td>3/3/2019</td>\n",
       "      <td>Eight</td>\n",
       "      <td>23.2</td>\n",
       "      <td>23</td>\n",
       "    </tr>\n",
       "    <tr>\n",
       "      <th>9</th>\n",
       "      <td>14:29</td>\n",
       "      <td>3/3/2019</td>\n",
       "      <td>Nine</td>\n",
       "      <td>38.6</td>\n",
       "      <td>38</td>\n",
       "    </tr>\n",
       "  </tbody>\n",
       "</table>\n",
       "</div>"
      ],
      "text/plain": [
       "    Time      Date NewCol1  Temp  IntegerTemp\n",
       "0   9:01  2/3/2019    Zero  21.9           21\n",
       "1  13:22  2/3/2019    One   34.2           34\n",
       "2  14:58  2/3/2019     Two  28.0           28\n",
       "3  17:31  2/3/2019   Three  29.4           29\n",
       "4   8:29  2/7/2019    Four  12.0           12\n",
       "5  11:11  3/3/2019    Five  14.5           14\n",
       "6  13:08  3/3/2019     Six  40.9           40\n",
       "7   9:01  3/3/2019   Seven  35.5           35\n",
       "8   7:33  3/3/2019   Eight  23.2           23\n",
       "9  14:29  3/3/2019    Nine  38.6           38"
      ]
     },
     "execution_count": 70,
     "metadata": {},
     "output_type": "execute_result"
    }
   ],
   "source": [
    "df.drop('Names', axis=1)\n",
    "#df.drop('Names', axis=1, inplace=True) # the inplace argument being set to True would make the change permanent. \n",
    "#That column would be gone.\n"
   ]
  },
  {
   "cell_type": "markdown",
   "metadata": {},
   "source": [
    "### 3.x How to rearrange the columns in a data frame?"
   ]
  },
  {
   "cell_type": "code",
   "execution_count": 68,
   "metadata": {},
   "outputs": [
    {
     "data": {
      "text/html": [
       "<div>\n",
       "<style scoped>\n",
       "    .dataframe tbody tr th:only-of-type {\n",
       "        vertical-align: middle;\n",
       "    }\n",
       "\n",
       "    .dataframe tbody tr th {\n",
       "        vertical-align: top;\n",
       "    }\n",
       "\n",
       "    .dataframe thead th {\n",
       "        text-align: right;\n",
       "    }\n",
       "</style>\n",
       "<table border=\"1\" class=\"dataframe\">\n",
       "  <thead>\n",
       "    <tr style=\"text-align: right;\">\n",
       "      <th></th>\n",
       "      <th>Time</th>\n",
       "      <th>Date</th>\n",
       "      <th>NewCol1</th>\n",
       "      <th>Temp</th>\n",
       "      <th>Names</th>\n",
       "      <th>IntegerTemp</th>\n",
       "    </tr>\n",
       "  </thead>\n",
       "  <tbody>\n",
       "    <tr>\n",
       "      <th>0</th>\n",
       "      <td>9:01</td>\n",
       "      <td>2/3/2019</td>\n",
       "      <td>Zero</td>\n",
       "      <td>21.9</td>\n",
       "      <td>John</td>\n",
       "      <td>21</td>\n",
       "    </tr>\n",
       "    <tr>\n",
       "      <th>1</th>\n",
       "      <td>13:22</td>\n",
       "      <td>2/3/2019</td>\n",
       "      <td>One</td>\n",
       "      <td>34.2</td>\n",
       "      <td>Mary</td>\n",
       "      <td>34</td>\n",
       "    </tr>\n",
       "    <tr>\n",
       "      <th>2</th>\n",
       "      <td>14:58</td>\n",
       "      <td>2/3/2019</td>\n",
       "      <td>Two</td>\n",
       "      <td>28.0</td>\n",
       "      <td>John</td>\n",
       "      <td>28</td>\n",
       "    </tr>\n",
       "    <tr>\n",
       "      <th>3</th>\n",
       "      <td>17:31</td>\n",
       "      <td>2/3/2019</td>\n",
       "      <td>Three</td>\n",
       "      <td>29.4</td>\n",
       "      <td>Peter</td>\n",
       "      <td>29</td>\n",
       "    </tr>\n",
       "    <tr>\n",
       "      <th>4</th>\n",
       "      <td>8:29</td>\n",
       "      <td>2/7/2019</td>\n",
       "      <td>Four</td>\n",
       "      <td>12.0</td>\n",
       "      <td>Ali</td>\n",
       "      <td>12</td>\n",
       "    </tr>\n",
       "    <tr>\n",
       "      <th>5</th>\n",
       "      <td>11:11</td>\n",
       "      <td>3/3/2019</td>\n",
       "      <td>Five</td>\n",
       "      <td>14.5</td>\n",
       "      <td>Baba</td>\n",
       "      <td>14</td>\n",
       "    </tr>\n",
       "    <tr>\n",
       "      <th>6</th>\n",
       "      <td>13:08</td>\n",
       "      <td>3/3/2019</td>\n",
       "      <td>Six</td>\n",
       "      <td>40.9</td>\n",
       "      <td>NaN</td>\n",
       "      <td>40</td>\n",
       "    </tr>\n",
       "    <tr>\n",
       "      <th>7</th>\n",
       "      <td>9:01</td>\n",
       "      <td>3/3/2019</td>\n",
       "      <td>Seven</td>\n",
       "      <td>35.5</td>\n",
       "      <td>NaN</td>\n",
       "      <td>35</td>\n",
       "    </tr>\n",
       "    <tr>\n",
       "      <th>8</th>\n",
       "      <td>7:33</td>\n",
       "      <td>3/3/2019</td>\n",
       "      <td>Eight</td>\n",
       "      <td>23.2</td>\n",
       "      <td>Mariam</td>\n",
       "      <td>23</td>\n",
       "    </tr>\n",
       "    <tr>\n",
       "      <th>9</th>\n",
       "      <td>14:29</td>\n",
       "      <td>3/3/2019</td>\n",
       "      <td>Nine</td>\n",
       "      <td>38.6</td>\n",
       "      <td>Merry</td>\n",
       "      <td>38</td>\n",
       "    </tr>\n",
       "  </tbody>\n",
       "</table>\n",
       "</div>"
      ],
      "text/plain": [
       "    Time      Date NewCol1  Temp   Names  IntegerTemp\n",
       "0   9:01  2/3/2019    Zero  21.9    John           21\n",
       "1  13:22  2/3/2019    One   34.2    Mary           34\n",
       "2  14:58  2/3/2019     Two  28.0    John           28\n",
       "3  17:31  2/3/2019   Three  29.4   Peter           29\n",
       "4   8:29  2/7/2019    Four  12.0     Ali           12\n",
       "5  11:11  3/3/2019    Five  14.5    Baba           14\n",
       "6  13:08  3/3/2019     Six  40.9     NaN           40\n",
       "7   9:01  3/3/2019   Seven  35.5     NaN           35\n",
       "8   7:33  3/3/2019   Eight  23.2  Mariam           23\n",
       "9  14:29  3/3/2019    Nine  38.6   Merry           38"
      ]
     },
     "execution_count": 68,
     "metadata": {},
     "output_type": "execute_result"
    }
   ],
   "source": [
    "neworder  = ['Time', 'Date', 'NewCol1', 'Temp', 'Names', 'IntegerTemp']\n",
    "df = df[neworder]\n",
    "df"
   ]
  },
  {
   "cell_type": "code",
   "execution_count": null,
   "metadata": {},
   "outputs": [],
   "source": []
  },
  {
   "cell_type": "markdown",
   "metadata": {},
   "source": [
    "## Part 4: Working with the Data Frame Index"
   ]
  },
  {
   "cell_type": "code",
   "execution_count": null,
   "metadata": {},
   "outputs": [],
   "source": []
  },
  {
   "cell_type": "code",
   "execution_count": 61,
   "metadata": {},
   "outputs": [
    {
     "data": {
      "text/html": [
       "<div>\n",
       "<style scoped>\n",
       "    .dataframe tbody tr th:only-of-type {\n",
       "        vertical-align: middle;\n",
       "    }\n",
       "\n",
       "    .dataframe tbody tr th {\n",
       "        vertical-align: top;\n",
       "    }\n",
       "\n",
       "    .dataframe thead th {\n",
       "        text-align: right;\n",
       "    }\n",
       "</style>\n",
       "<table border=\"1\" class=\"dataframe\">\n",
       "  <thead>\n",
       "    <tr style=\"text-align: right;\">\n",
       "      <th></th>\n",
       "      <th>Date</th>\n",
       "      <th>Time</th>\n",
       "      <th>NewCol1</th>\n",
       "      <th>Temp</th>\n",
       "      <th>New Column</th>\n",
       "      <th>IntegerTemp</th>\n",
       "    </tr>\n",
       "    <tr>\n",
       "      <th>Names</th>\n",
       "      <th></th>\n",
       "      <th></th>\n",
       "      <th></th>\n",
       "      <th></th>\n",
       "      <th></th>\n",
       "      <th></th>\n",
       "    </tr>\n",
       "  </thead>\n",
       "  <tbody>\n",
       "    <tr>\n",
       "      <th>John</th>\n",
       "      <td>2/3/2019</td>\n",
       "      <td>9:01</td>\n",
       "      <td>Zero</td>\n",
       "      <td>21.9</td>\n",
       "      <td>Zero John</td>\n",
       "      <td>21</td>\n",
       "    </tr>\n",
       "    <tr>\n",
       "      <th>Mary</th>\n",
       "      <td>2/3/2019</td>\n",
       "      <td>13:22</td>\n",
       "      <td>One</td>\n",
       "      <td>34.2</td>\n",
       "      <td>One  Mary</td>\n",
       "      <td>34</td>\n",
       "    </tr>\n",
       "    <tr>\n",
       "      <th>John</th>\n",
       "      <td>2/3/2019</td>\n",
       "      <td>14:58</td>\n",
       "      <td>Two</td>\n",
       "      <td>28.0</td>\n",
       "      <td>Two John</td>\n",
       "      <td>28</td>\n",
       "    </tr>\n",
       "    <tr>\n",
       "      <th>Peter</th>\n",
       "      <td>2/3/2019</td>\n",
       "      <td>17:31</td>\n",
       "      <td>Three</td>\n",
       "      <td>29.4</td>\n",
       "      <td>Three Peter</td>\n",
       "      <td>29</td>\n",
       "    </tr>\n",
       "    <tr>\n",
       "      <th>Ali</th>\n",
       "      <td>2/7/2019</td>\n",
       "      <td>8:29</td>\n",
       "      <td>Four</td>\n",
       "      <td>12.0</td>\n",
       "      <td>Four Ali</td>\n",
       "      <td>12</td>\n",
       "    </tr>\n",
       "    <tr>\n",
       "      <th>Baba</th>\n",
       "      <td>3/3/2019</td>\n",
       "      <td>11:11</td>\n",
       "      <td>Five</td>\n",
       "      <td>14.5</td>\n",
       "      <td>Five Baba</td>\n",
       "      <td>14</td>\n",
       "    </tr>\n",
       "    <tr>\n",
       "      <th>NaN</th>\n",
       "      <td>3/3/2019</td>\n",
       "      <td>13:08</td>\n",
       "      <td>Six</td>\n",
       "      <td>40.9</td>\n",
       "      <td>NaN</td>\n",
       "      <td>40</td>\n",
       "    </tr>\n",
       "    <tr>\n",
       "      <th>NaN</th>\n",
       "      <td>3/3/2019</td>\n",
       "      <td>9:01</td>\n",
       "      <td>Seven</td>\n",
       "      <td>35.5</td>\n",
       "      <td>NaN</td>\n",
       "      <td>35</td>\n",
       "    </tr>\n",
       "    <tr>\n",
       "      <th>Mariam</th>\n",
       "      <td>3/3/2019</td>\n",
       "      <td>7:33</td>\n",
       "      <td>Eight</td>\n",
       "      <td>23.2</td>\n",
       "      <td>Eight Mariam</td>\n",
       "      <td>23</td>\n",
       "    </tr>\n",
       "    <tr>\n",
       "      <th>Merry</th>\n",
       "      <td>3/3/2019</td>\n",
       "      <td>14:29</td>\n",
       "      <td>Nine</td>\n",
       "      <td>38.6</td>\n",
       "      <td>Nine Merry</td>\n",
       "      <td>38</td>\n",
       "    </tr>\n",
       "  </tbody>\n",
       "</table>\n",
       "</div>"
      ],
      "text/plain": [
       "            Date   Time NewCol1  Temp    New Column  IntegerTemp\n",
       "Names                                                           \n",
       "John    2/3/2019   9:01    Zero  21.9     Zero John           21\n",
       "Mary    2/3/2019  13:22    One   34.2     One  Mary           34\n",
       "John    2/3/2019  14:58     Two  28.0      Two John           28\n",
       "Peter   2/3/2019  17:31   Three  29.4   Three Peter           29\n",
       "Ali     2/7/2019   8:29    Four  12.0      Four Ali           12\n",
       "Baba    3/3/2019  11:11    Five  14.5     Five Baba           14\n",
       "NaN     3/3/2019  13:08     Six  40.9           NaN           40\n",
       "NaN     3/3/2019   9:01   Seven  35.5           NaN           35\n",
       "Mariam  3/3/2019   7:33   Eight  23.2  Eight Mariam           23\n",
       "Merry   3/3/2019  14:29    Nine  38.6    Nine Merry           38"
      ]
     },
     "execution_count": 61,
     "metadata": {},
     "output_type": "execute_result"
    }
   ],
   "source": [
    "df.set_index('Names')\n",
    "#df.set_index('Names', inplace = True) #this would make the change permanent"
   ]
  },
  {
   "cell_type": "markdown",
   "metadata": {},
   "source": [
    "### 4.2 Print the rows that have the index values of 5 and 6"
   ]
  },
  {
   "cell_type": "code",
   "execution_count": 62,
   "metadata": {},
   "outputs": [
    {
     "data": {
      "text/html": [
       "<div>\n",
       "<style scoped>\n",
       "    .dataframe tbody tr th:only-of-type {\n",
       "        vertical-align: middle;\n",
       "    }\n",
       "\n",
       "    .dataframe tbody tr th {\n",
       "        vertical-align: top;\n",
       "    }\n",
       "\n",
       "    .dataframe thead th {\n",
       "        text-align: right;\n",
       "    }\n",
       "</style>\n",
       "<table border=\"1\" class=\"dataframe\">\n",
       "  <thead>\n",
       "    <tr style=\"text-align: right;\">\n",
       "      <th></th>\n",
       "      <th>Date</th>\n",
       "      <th>Time</th>\n",
       "      <th>NewCol1</th>\n",
       "      <th>Temp</th>\n",
       "      <th>Names</th>\n",
       "      <th>New Column</th>\n",
       "      <th>IntegerTemp</th>\n",
       "    </tr>\n",
       "  </thead>\n",
       "  <tbody>\n",
       "    <tr>\n",
       "      <th>5</th>\n",
       "      <td>3/3/2019</td>\n",
       "      <td>11:11</td>\n",
       "      <td>Five</td>\n",
       "      <td>14.5</td>\n",
       "      <td>Baba</td>\n",
       "      <td>Five Baba</td>\n",
       "      <td>14</td>\n",
       "    </tr>\n",
       "    <tr>\n",
       "      <th>6</th>\n",
       "      <td>3/3/2019</td>\n",
       "      <td>13:08</td>\n",
       "      <td>Six</td>\n",
       "      <td>40.9</td>\n",
       "      <td>NaN</td>\n",
       "      <td>NaN</td>\n",
       "      <td>40</td>\n",
       "    </tr>\n",
       "  </tbody>\n",
       "</table>\n",
       "</div>"
      ],
      "text/plain": [
       "       Date   Time NewCol1  Temp Names New Column  IntegerTemp\n",
       "5  3/3/2019  11:11    Five  14.5  Baba  Five Baba           14\n",
       "6  3/3/2019  13:08     Six  40.9   NaN        NaN           40"
      ]
     },
     "execution_count": 62,
     "metadata": {},
     "output_type": "execute_result"
    }
   ],
   "source": [
    "df.iloc[5:7] #iloc[] is for integer location of the row number, starting from 0"
   ]
  },
  {
   "cell_type": "markdown",
   "metadata": {},
   "source": [
    "### 4.3 Specify a column to be the index, when reading the CSV file"
   ]
  },
  {
   "cell_type": "code",
   "execution_count": 80,
   "metadata": {},
   "outputs": [
    {
     "data": {
      "text/html": [
       "<div>\n",
       "<style scoped>\n",
       "    .dataframe tbody tr th:only-of-type {\n",
       "        vertical-align: middle;\n",
       "    }\n",
       "\n",
       "    .dataframe tbody tr th {\n",
       "        vertical-align: top;\n",
       "    }\n",
       "\n",
       "    .dataframe thead th {\n",
       "        text-align: right;\n",
       "    }\n",
       "</style>\n",
       "<table border=\"1\" class=\"dataframe\">\n",
       "  <thead>\n",
       "    <tr style=\"text-align: right;\">\n",
       "      <th></th>\n",
       "      <th>Date</th>\n",
       "      <th>Time</th>\n",
       "      <th>Col One</th>\n",
       "      <th>Temp</th>\n",
       "    </tr>\n",
       "    <tr>\n",
       "      <th>Names</th>\n",
       "      <th></th>\n",
       "      <th></th>\n",
       "      <th></th>\n",
       "      <th></th>\n",
       "    </tr>\n",
       "  </thead>\n",
       "  <tbody>\n",
       "    <tr>\n",
       "      <th>John</th>\n",
       "      <td>2/3/2019</td>\n",
       "      <td>9:01</td>\n",
       "      <td>Zero</td>\n",
       "      <td>21.9</td>\n",
       "    </tr>\n",
       "    <tr>\n",
       "      <th>Mary</th>\n",
       "      <td>2/3/2019</td>\n",
       "      <td>13:22</td>\n",
       "      <td>One</td>\n",
       "      <td>34.2</td>\n",
       "    </tr>\n",
       "    <tr>\n",
       "      <th>John</th>\n",
       "      <td>2/3/2019</td>\n",
       "      <td>14:58</td>\n",
       "      <td>Two</td>\n",
       "      <td>28.0</td>\n",
       "    </tr>\n",
       "    <tr>\n",
       "      <th>Peter</th>\n",
       "      <td>2/3/2019</td>\n",
       "      <td>17:31</td>\n",
       "      <td>Three</td>\n",
       "      <td>29.4</td>\n",
       "    </tr>\n",
       "    <tr>\n",
       "      <th>Ali</th>\n",
       "      <td>2/7/2019</td>\n",
       "      <td>8:29</td>\n",
       "      <td>Four</td>\n",
       "      <td>12.0</td>\n",
       "    </tr>\n",
       "    <tr>\n",
       "      <th>Baba</th>\n",
       "      <td>3/3/2019</td>\n",
       "      <td>11:11</td>\n",
       "      <td>Five</td>\n",
       "      <td>14.5</td>\n",
       "    </tr>\n",
       "    <tr>\n",
       "      <th>NaN</th>\n",
       "      <td>3/3/2019</td>\n",
       "      <td>13:08</td>\n",
       "      <td>Six</td>\n",
       "      <td>40.9</td>\n",
       "    </tr>\n",
       "    <tr>\n",
       "      <th>NaN</th>\n",
       "      <td>3/3/2019</td>\n",
       "      <td>9:01</td>\n",
       "      <td>Seven</td>\n",
       "      <td>35.5</td>\n",
       "    </tr>\n",
       "    <tr>\n",
       "      <th>Mariam</th>\n",
       "      <td>3/3/2019</td>\n",
       "      <td>7:33</td>\n",
       "      <td>Eight</td>\n",
       "      <td>23.2</td>\n",
       "    </tr>\n",
       "    <tr>\n",
       "      <th>Merry</th>\n",
       "      <td>3/3/2019</td>\n",
       "      <td>14:29</td>\n",
       "      <td>Nine</td>\n",
       "      <td>38.6</td>\n",
       "    </tr>\n",
       "  </tbody>\n",
       "</table>\n",
       "</div>"
      ],
      "text/plain": [
       "            Date   Time Col One  Temp\n",
       "Names                                \n",
       "John    2/3/2019   9:01    Zero  21.9\n",
       "Mary    2/3/2019  13:22    One   34.2\n",
       "John    2/3/2019  14:58     Two  28.0\n",
       "Peter   2/3/2019  17:31   Three  29.4\n",
       "Ali     2/7/2019   8:29    Four  12.0\n",
       "Baba    3/3/2019  11:11    Five  14.5\n",
       "NaN     3/3/2019  13:08     Six  40.9\n",
       "NaN     3/3/2019   9:01   Seven  35.5\n",
       "Mariam  3/3/2019   7:33   Eight  23.2\n",
       "Merry   3/3/2019  14:29    Nine  38.6"
      ]
     },
     "execution_count": 80,
     "metadata": {},
     "output_type": "execute_result"
    }
   ],
   "source": [
    "pd.read_csv(\"data/example.csv\", index_col=['Names'])\n",
    "#dfi = pd.read_csv(\"data/example.csv\", index_col=['Names'])"
   ]
  },
  {
   "cell_type": "markdown",
   "metadata": {
    "slideshow": {
     "slide_type": "slide"
    }
   },
   "source": [
    "## Part 5: Plotting with Pandas\n",
    "\n"
   ]
  },
  {
   "cell_type": "code",
   "execution_count": null,
   "metadata": {},
   "outputs": [],
   "source": [
    "mpl_plot = plt.plot(df.x, df.y, 'k')\n",
    "plt.title(\"matplotlib xy line plot\")\n"
   ]
  },
  {
   "cell_type": "markdown",
   "metadata": {
    "slideshow": {
     "slide_type": "slide"
    }
   },
   "source": [
    "### 1.2 Create same plot using Pandas"
   ]
  },
  {
   "cell_type": "code",
   "execution_count": null,
   "metadata": {},
   "outputs": [],
   "source": [
    "pandas_plot = df.plot('x', 'y', color='k')\n",
    "plt.title(\"Pandas Plot\");\n"
   ]
  },
  {
   "cell_type": "markdown",
   "metadata": {},
   "source": [
    "### 1.3 Create A Seaborn Plot"
   ]
  },
  {
   "cell_type": "code",
   "execution_count": null,
   "metadata": {},
   "outputs": [],
   "source": [
    "seaborn_plot = sns.FacetGrid(df,  size=3, aspect= 2) #get the basic grid ready. Things can be 'mapped' onto this grid\n",
    "seaborn_plot.map(plt.scatter, \"x\", \"y\")\n",
    "seaborn_plot.map(plt.plot, \"x\", \"y\")\n",
    "sns.plt.title(\"Seaborn Plot\");"
   ]
  },
  {
   "cell_type": "markdown",
   "metadata": {},
   "source": [
    "# Part 2: Save all 3 plots"
   ]
  },
  {
   "cell_type": "markdown",
   "metadata": {},
   "source": [
    "### 2.1 Save a `matplotlib` Plot"
   ]
  },
  {
   "cell_type": "code",
   "execution_count": null,
   "metadata": {},
   "outputs": [],
   "source": [
    "mpl_plot = plt.plot(df.x, df.y, 'k')\n",
    "plt.title(\"matplotlib xy line plot\")\n",
    "plt.savefig(\"output/matplotlib_plot.png\")\n",
    "plt.close() #don't display the image here"
   ]
  },
  {
   "cell_type": "code",
   "execution_count": 98,
   "metadata": {},
   "outputs": [],
   "source": [
    "# This is a bit more complicated. If you have the mpl plot stored as a variable, you have to first get the figure and then plot it.\n",
    "\n",
    "for p in mpl_plot: #this is needed because mpl_plot is a list\n",
    "    p.get_figure().savefig(\"output/matplotlib_plot.png\")"
   ]
  },
  {
   "cell_type": "markdown",
   "metadata": {},
   "source": [
    "### 2.2 Save a Pandas plot\n",
    "\n",
    "If the Pandas plot has been stored to a variable, then we first need to `get_figure()` and only then savefig() will do the job.\n",
    "\n",
    "Gory Details: This is because `df.plot()` saves it to an `AxesSubplot` type of object. Those cannot be directly saved. We first get the parent figure for the `AxesSubplot`, and then we can easily save it using `savefig`"
   ]
  },
  {
   "cell_type": "code",
   "execution_count": 83,
   "metadata": {},
   "outputs": [],
   "source": [
    "fig = pandas_plot.get_figure()\n",
    "fig.savefig (\"output/Pandas.png\")"
   ]
  },
  {
   "cell_type": "code",
   "execution_count": 85,
   "metadata": {},
   "outputs": [
    {
     "data": {
      "text/plain": [
       "matplotlib.axes._subplots.AxesSubplot"
      ]
     },
     "execution_count": 85,
     "metadata": {},
     "output_type": "execute_result"
    }
   ],
   "source": [
    "#for the really curious\n",
    "type(pandas_plot)"
   ]
  },
  {
   "cell_type": "markdown",
   "metadata": {},
   "source": [
    "### 2.3 Save a `Seaborn` Plot"
   ]
  },
  {
   "cell_type": "code",
   "execution_count": 86,
   "metadata": {},
   "outputs": [],
   "source": [
    "seaborn_plot.savefig(\"output/seaborn_line_plot.png\")"
   ]
  },
  {
   "cell_type": "markdown",
   "metadata": {},
   "source": [
    "# Take Away\n",
    "\n",
    "If you are paying attention, you would have already noticed the common function in all 3 types of plots. To save the figures, we just use one command: `savefig()`.\n",
    "\n",
    "It is just that we had to make sure that we had the `Figure` object identified, before we could use the `savefig()` method on it."
   ]
  },
  {
   "cell_type": "markdown",
   "metadata": {
    "slideshow": {
     "slide_type": "slide"
    }
   },
   "source": [
    "![Questions](images/questions.png)"
   ]
  }
 ],
 "metadata": {
  "kernelspec": {
   "display_name": "Python 3",
   "language": "python",
   "name": "python3"
  },
  "language_info": {
   "codemirror_mode": {
    "name": "ipython",
    "version": 3
   },
   "file_extension": ".py",
   "mimetype": "text/x-python",
   "name": "python",
   "nbconvert_exporter": "python",
   "pygments_lexer": "ipython3",
   "version": "3.6.5"
  }
 },
 "nbformat": 4,
 "nbformat_minor": 2
}
