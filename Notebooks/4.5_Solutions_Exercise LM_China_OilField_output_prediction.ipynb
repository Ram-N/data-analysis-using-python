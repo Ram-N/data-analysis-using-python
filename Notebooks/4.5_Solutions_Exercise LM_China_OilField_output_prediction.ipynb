{
 "cells": [
  {
   "cell_type": "markdown",
   "metadata": {
    "slideshow": {
     "slide_type": "slide"
    }
   },
   "source": [
    "# <div class=\"alert alert-block alert-success\"> SOLUTIONS   </div>\n",
    "\n",
    "### Day 4 - Machine Learning\n",
    "4.5 Exercise\n",
    "\n",
    "# Predicting OilField Output - Using Linear Regression\n",
    "\n",
    "<img src = \"images/logo.jpg\" width=\"100\" align=\"left\">\n",
    "\n",
    "Ram Narasimhan"
   ]
  },
  {
   "cell_type": "markdown",
   "metadata": {
    "slideshow": {
     "slide_type": "slide"
    }
   },
   "source": [
    "Source: http://www.ijastnet.com/journals/Vol_1_No4_July_2011/14.pdf"
   ]
  },
  {
   "cell_type": "markdown",
   "metadata": {
    "slideshow": {
     "slide_type": "slide"
    }
   },
   "source": [
    "<img src = \"images/oilwell_decline.jpg\" align=\"center\">\n"
   ]
  },
  {
   "cell_type": "markdown",
   "metadata": {
    "slideshow": {
     "slide_type": "slide"
    }
   },
   "source": [
    "<img src = \"images/oilfield_lifestages.jpg\" align=\"center\">\n"
   ]
  },
  {
   "cell_type": "markdown",
   "metadata": {
    "slideshow": {
     "slide_type": "slide"
    }
   },
   "source": [
    "# <div class=\"alert alert-block alert-success\"> Question for the class:    </div>\n",
    "\n",
    "## How can we predict Output of an Oil`Field`? \n",
    "\n",
    "Response: Quite a number of factors would have to be considered \n",
    "1. The age, the size, the type of lift (pump), the equipment and dozens of other factors will decide the production output of an Oil field. For our example, we are just given 7 variables, `x1` through `x7`. We are not told what they are.\n",
    "\n",
    "We will use these `x-variables` (predictors) to predict the target variable: `total_production_volume`."
   ]
  },
  {
   "cell_type": "markdown",
   "metadata": {
    "slideshow": {
     "slide_type": "slide"
    }
   },
   "source": [
    "# <div class=\"alert alert-block alert-success\"> Exercises    </div>\n"
   ]
  },
  {
   "cell_type": "markdown",
   "metadata": {},
   "source": [
    "## 1. Read the file containing annual_oilfield_output\n",
    "## 2. Split the data into `train` and `test`. (Test should have 6 years)\n",
    "## 3. Build a Model for the `training` data. (Linear Regression)"
   ]
  },
  {
   "cell_type": "markdown",
   "metadata": {
    "collapsed": true,
    "slideshow": {
     "slide_type": "slide"
    }
   },
   "source": [
    "## 4. What is Linear equation that describes the `OilProduction`?\n",
    "## 5. Make Predictions for `test` data\n",
    "## 6. What is the RMSE for the `test` data?\n",
    "## 7. Plot the Predictions for `training` against `actuals.`\n"
   ]
  },
  {
   "cell_type": "markdown",
   "metadata": {
    "slideshow": {
     "slide_type": "slide"
    }
   },
   "source": [
    "# <div class=\"alert alert-block alert-success\"> If you get done with these, then please assist your classmates    </div>\n"
   ]
  },
  {
   "cell_type": "markdown",
   "metadata": {
    "slideshow": {
     "slide_type": "slide"
    }
   },
   "source": [
    "# How to Perform a Linear Regression \"fit\" using Python"
   ]
  },
  {
   "cell_type": "code",
   "execution_count": 1,
   "metadata": {
    "slideshow": {
     "slide_type": "slide"
    }
   },
   "outputs": [],
   "source": [
    "import pandas as pd\n",
    "import matplotlib.pyplot as plt\n",
    "\n",
    "# this allows plots to appear directly in the notebook\n",
    "%matplotlib inline"
   ]
  },
  {
   "cell_type": "code",
   "execution_count": 5,
   "metadata": {
    "slideshow": {
     "slide_type": "slide"
    }
   },
   "outputs": [
    {
     "data": {
      "text/html": [
       "<div>\n",
       "<style scoped>\n",
       "    .dataframe tbody tr th:only-of-type {\n",
       "        vertical-align: middle;\n",
       "    }\n",
       "\n",
       "    .dataframe tbody tr th {\n",
       "        vertical-align: top;\n",
       "    }\n",
       "\n",
       "    .dataframe thead th {\n",
       "        text-align: right;\n",
       "    }\n",
       "</style>\n",
       "<table border=\"1\" class=\"dataframe\">\n",
       "  <thead>\n",
       "    <tr style=\"text-align: right;\">\n",
       "      <th></th>\n",
       "      <th>year</th>\n",
       "      <th>x1</th>\n",
       "      <th>x2</th>\n",
       "      <th>x3</th>\n",
       "      <th>x4</th>\n",
       "      <th>x5</th>\n",
       "      <th>x6</th>\n",
       "      <th>x7</th>\n",
       "      <th>total_production_volume</th>\n",
       "    </tr>\n",
       "  </thead>\n",
       "  <tbody>\n",
       "    <tr>\n",
       "      <th>0</th>\n",
       "      <td>1983</td>\n",
       "      <td>689</td>\n",
       "      <td>612</td>\n",
       "      <td>311</td>\n",
       "      <td>2375900</td>\n",
       "      <td>41.80%</td>\n",
       "      <td>1.45%</td>\n",
       "      <td>9.07%</td>\n",
       "      <td>1442800</td>\n",
       "    </tr>\n",
       "    <tr>\n",
       "      <th>1</th>\n",
       "      <td>1984</td>\n",
       "      <td>855</td>\n",
       "      <td>720</td>\n",
       "      <td>351</td>\n",
       "      <td>2305000</td>\n",
       "      <td>42.33%</td>\n",
       "      <td>1.53%</td>\n",
       "      <td>9.54%</td>\n",
       "      <td>1417200</td>\n",
       "    </tr>\n",
       "    <tr>\n",
       "      <th>2</th>\n",
       "      <td>1985</td>\n",
       "      <td>1028</td>\n",
       "      <td>874</td>\n",
       "      <td>426</td>\n",
       "      <td>2765900</td>\n",
       "      <td>42.93%</td>\n",
       "      <td>1.60%</td>\n",
       "      <td>9.49%</td>\n",
       "      <td>1466100</td>\n",
       "    </tr>\n",
       "    <tr>\n",
       "      <th>3</th>\n",
       "      <td>1986</td>\n",
       "      <td>1268</td>\n",
       "      <td>1087</td>\n",
       "      <td>472</td>\n",
       "      <td>3306400</td>\n",
       "      <td>46.21%</td>\n",
       "      <td>1.55%</td>\n",
       "      <td>10.25%</td>\n",
       "      <td>1454500</td>\n",
       "    </tr>\n",
       "    <tr>\n",
       "      <th>4</th>\n",
       "      <td>1987</td>\n",
       "      <td>1446</td>\n",
       "      <td>1197</td>\n",
       "      <td>652</td>\n",
       "      <td>3981400</td>\n",
       "      <td>45.80%</td>\n",
       "      <td>1.49%</td>\n",
       "      <td>9.35%</td>\n",
       "      <td>1489400</td>\n",
       "    </tr>\n",
       "  </tbody>\n",
       "</table>\n",
       "</div>"
      ],
      "text/plain": [
       "   year    x1    x2   x3       x4      x5     x6      x7  \\\n",
       "0  1983   689   612  311  2375900  41.80%  1.45%   9.07%   \n",
       "1  1984   855   720  351  2305000  42.33%  1.53%   9.54%   \n",
       "2  1985  1028   874  426  2765900  42.93%  1.60%   9.49%   \n",
       "3  1986  1268  1087  472  3306400  46.21%  1.55%  10.25%   \n",
       "4  1987  1446  1197  652  3981400  45.80%  1.49%   9.35%   \n",
       "\n",
       "   total_production_volume  \n",
       "0                  1442800  \n",
       "1                  1417200  \n",
       "2                  1466100  \n",
       "3                  1454500  \n",
       "4                  1489400  "
      ]
     },
     "execution_count": 5,
     "metadata": {},
     "output_type": "execute_result"
    }
   ],
   "source": [
    "# read data into a DataFrame\n",
    "df = pd.read_csv('data/Linear Regression_China_Oilfield_Production/china_oilfield_annual.csv')\n",
    "df.head() "
   ]
  },
  {
   "cell_type": "markdown",
   "metadata": {
    "slideshow": {
     "slide_type": "slide"
    }
   },
   "source": [
    "# Let's see what the variables (columns) in the data frame are."
   ]
  },
  {
   "cell_type": "code",
   "execution_count": 6,
   "metadata": {
    "slideshow": {
     "slide_type": "slide"
    }
   },
   "outputs": [
    {
     "data": {
      "text/plain": [
       "year                        int64\n",
       "x1                          int64\n",
       "x2                          int64\n",
       "x3                          int64\n",
       "x4                          int64\n",
       "x5                         object\n",
       "x6                         object\n",
       "x7                         object\n",
       "total_production_volume     int64\n",
       "dtype: object"
      ]
     },
     "execution_count": 6,
     "metadata": {},
     "output_type": "execute_result"
    }
   ],
   "source": [
    "df.dtypes"
   ]
  },
  {
   "cell_type": "markdown",
   "metadata": {},
   "source": [
    "Note the columns x5, x6 and x7 are strings (objects). We want numbers to use them to make predictions."
   ]
  },
  {
   "cell_type": "markdown",
   "metadata": {
    "slideshow": {
     "slide_type": "slide"
    }
   },
   "source": [
    "There are some % signs. These need to be replaced."
   ]
  },
  {
   "cell_type": "code",
   "execution_count": 8,
   "metadata": {
    "slideshow": {
     "slide_type": "slide"
    }
   },
   "outputs": [],
   "source": [
    "# if you want to operate on multiple columns, put them in a list like so:\n",
    "string_cols = ['x5', 'x6', 'x7']\n",
    "\n",
    "# pass them to df.replace(), specifying each char and it's replacement:\n",
    "df[string_cols] = df[string_cols].replace({'\\%' : ''}, regex=True).astype(float)\n",
    "\n",
    "# Another way to do it:\n",
    "#df['x5'] = df['x5'].str.replace('\\%', '')"
   ]
  },
  {
   "cell_type": "code",
   "execution_count": 9,
   "metadata": {
    "slideshow": {
     "slide_type": "slide"
    }
   },
   "outputs": [],
   "source": [
    "df.set_index('year', inplace=True) #Make the column 'Year' to be the ROW INDEX"
   ]
  },
  {
   "cell_type": "code",
   "execution_count": 11,
   "metadata": {},
   "outputs": [
    {
     "data": {
      "text/plain": [
       "x1                           int64\n",
       "x2                           int64\n",
       "x3                           int64\n",
       "x4                           int64\n",
       "x5                         float64\n",
       "x6                         float64\n",
       "x7                         float64\n",
       "total_production_volume      int64\n",
       "dtype: object"
      ]
     },
     "execution_count": 11,
     "metadata": {},
     "output_type": "execute_result"
    }
   ],
   "source": [
    "df.dtypes # make sure everything is numeric"
   ]
  },
  {
   "cell_type": "code",
   "execution_count": 12,
   "metadata": {
    "slideshow": {
     "slide_type": "slide"
    }
   },
   "outputs": [
    {
     "data": {
      "text/html": [
       "<div>\n",
       "<style scoped>\n",
       "    .dataframe tbody tr th:only-of-type {\n",
       "        vertical-align: middle;\n",
       "    }\n",
       "\n",
       "    .dataframe tbody tr th {\n",
       "        vertical-align: top;\n",
       "    }\n",
       "\n",
       "    .dataframe thead th {\n",
       "        text-align: right;\n",
       "    }\n",
       "</style>\n",
       "<table border=\"1\" class=\"dataframe\">\n",
       "  <thead>\n",
       "    <tr style=\"text-align: right;\">\n",
       "      <th></th>\n",
       "      <th>x1</th>\n",
       "      <th>x2</th>\n",
       "      <th>x3</th>\n",
       "      <th>x4</th>\n",
       "      <th>x5</th>\n",
       "      <th>x6</th>\n",
       "      <th>x7</th>\n",
       "      <th>total_production_volume</th>\n",
       "    </tr>\n",
       "  </thead>\n",
       "  <tbody>\n",
       "    <tr>\n",
       "      <th>count</th>\n",
       "      <td>24.000000</td>\n",
       "      <td>24.000000</td>\n",
       "      <td>24.000000</td>\n",
       "      <td>2.400000e+01</td>\n",
       "      <td>24.000000</td>\n",
       "      <td>24.000000</td>\n",
       "      <td>24.000000</td>\n",
       "      <td>2.400000e+01</td>\n",
       "    </tr>\n",
       "    <tr>\n",
       "      <th>mean</th>\n",
       "      <td>4474.916667</td>\n",
       "      <td>3487.958333</td>\n",
       "      <td>859.916667</td>\n",
       "      <td>1.254121e+07</td>\n",
       "      <td>60.349167</td>\n",
       "      <td>1.160417</td>\n",
       "      <td>13.166667</td>\n",
       "      <td>3.949742e+06</td>\n",
       "    </tr>\n",
       "    <tr>\n",
       "      <th>std</th>\n",
       "      <td>3371.137983</td>\n",
       "      <td>2883.126224</td>\n",
       "      <td>487.336141</td>\n",
       "      <td>8.680148e+06</td>\n",
       "      <td>11.444300</td>\n",
       "      <td>0.258633</td>\n",
       "      <td>3.201741</td>\n",
       "      <td>2.513695e+06</td>\n",
       "    </tr>\n",
       "    <tr>\n",
       "      <th>min</th>\n",
       "      <td>689.000000</td>\n",
       "      <td>612.000000</td>\n",
       "      <td>311.000000</td>\n",
       "      <td>2.305000e+06</td>\n",
       "      <td>41.800000</td>\n",
       "      <td>0.830000</td>\n",
       "      <td>9.070000</td>\n",
       "      <td>1.417200e+06</td>\n",
       "    </tr>\n",
       "    <tr>\n",
       "      <th>25%</th>\n",
       "      <td>1845.250000</td>\n",
       "      <td>1497.250000</td>\n",
       "      <td>482.750000</td>\n",
       "      <td>5.089575e+06</td>\n",
       "      <td>48.925000</td>\n",
       "      <td>0.905000</td>\n",
       "      <td>9.982500</td>\n",
       "      <td>1.629025e+06</td>\n",
       "    </tr>\n",
       "    <tr>\n",
       "      <th>50%</th>\n",
       "      <td>3795.000000</td>\n",
       "      <td>2852.000000</td>\n",
       "      <td>731.500000</td>\n",
       "      <td>1.147070e+07</td>\n",
       "      <td>63.255000</td>\n",
       "      <td>1.145000</td>\n",
       "      <td>13.265000</td>\n",
       "      <td>3.609450e+06</td>\n",
       "    </tr>\n",
       "    <tr>\n",
       "      <th>75%</th>\n",
       "      <td>5556.250000</td>\n",
       "      <td>3548.750000</td>\n",
       "      <td>1043.250000</td>\n",
       "      <td>1.709108e+07</td>\n",
       "      <td>71.880000</td>\n",
       "      <td>1.385000</td>\n",
       "      <td>15.980000</td>\n",
       "      <td>4.835625e+06</td>\n",
       "    </tr>\n",
       "    <tr>\n",
       "      <th>max</th>\n",
       "      <td>12314.000000</td>\n",
       "      <td>11092.000000</td>\n",
       "      <td>2347.000000</td>\n",
       "      <td>3.298700e+07</td>\n",
       "      <td>72.950000</td>\n",
       "      <td>1.600000</td>\n",
       "      <td>17.740000</td>\n",
       "      <td>9.623000e+06</td>\n",
       "    </tr>\n",
       "  </tbody>\n",
       "</table>\n",
       "</div>"
      ],
      "text/plain": [
       "                 x1            x2           x3            x4         x5  \\\n",
       "count     24.000000     24.000000    24.000000  2.400000e+01  24.000000   \n",
       "mean    4474.916667   3487.958333   859.916667  1.254121e+07  60.349167   \n",
       "std     3371.137983   2883.126224   487.336141  8.680148e+06  11.444300   \n",
       "min      689.000000    612.000000   311.000000  2.305000e+06  41.800000   \n",
       "25%     1845.250000   1497.250000   482.750000  5.089575e+06  48.925000   \n",
       "50%     3795.000000   2852.000000   731.500000  1.147070e+07  63.255000   \n",
       "75%     5556.250000   3548.750000  1043.250000  1.709108e+07  71.880000   \n",
       "max    12314.000000  11092.000000  2347.000000  3.298700e+07  72.950000   \n",
       "\n",
       "              x6         x7  total_production_volume  \n",
       "count  24.000000  24.000000             2.400000e+01  \n",
       "mean    1.160417  13.166667             3.949742e+06  \n",
       "std     0.258633   3.201741             2.513695e+06  \n",
       "min     0.830000   9.070000             1.417200e+06  \n",
       "25%     0.905000   9.982500             1.629025e+06  \n",
       "50%     1.145000  13.265000             3.609450e+06  \n",
       "75%     1.385000  15.980000             4.835625e+06  \n",
       "max     1.600000  17.740000             9.623000e+06  "
      ]
     },
     "execution_count": 12,
     "metadata": {},
     "output_type": "execute_result"
    }
   ],
   "source": [
    "df.describe()"
   ]
  },
  {
   "cell_type": "markdown",
   "metadata": {
    "slideshow": {
     "slide_type": "slide"
    }
   },
   "source": [
    "# Let's plot it and see what it looks \n",
    "\n",
    "(You should always try plotting your data to get a feel for it)"
   ]
  },
  {
   "cell_type": "code",
   "execution_count": 13,
   "metadata": {
    "slideshow": {
     "slide_type": "slide"
    }
   },
   "outputs": [
    {
     "data": {
      "text/html": [
       "<div>\n",
       "<style scoped>\n",
       "    .dataframe tbody tr th:only-of-type {\n",
       "        vertical-align: middle;\n",
       "    }\n",
       "\n",
       "    .dataframe tbody tr th {\n",
       "        vertical-align: top;\n",
       "    }\n",
       "\n",
       "    .dataframe thead th {\n",
       "        text-align: right;\n",
       "    }\n",
       "</style>\n",
       "<table border=\"1\" class=\"dataframe\">\n",
       "  <thead>\n",
       "    <tr style=\"text-align: right;\">\n",
       "      <th></th>\n",
       "      <th>x1</th>\n",
       "      <th>x2</th>\n",
       "      <th>x3</th>\n",
       "      <th>x4</th>\n",
       "      <th>x5</th>\n",
       "      <th>x6</th>\n",
       "      <th>x7</th>\n",
       "      <th>total_production_volume</th>\n",
       "    </tr>\n",
       "    <tr>\n",
       "      <th>year</th>\n",
       "      <th></th>\n",
       "      <th></th>\n",
       "      <th></th>\n",
       "      <th></th>\n",
       "      <th></th>\n",
       "      <th></th>\n",
       "      <th></th>\n",
       "      <th></th>\n",
       "    </tr>\n",
       "  </thead>\n",
       "  <tbody>\n",
       "    <tr>\n",
       "      <th>1983</th>\n",
       "      <td>689</td>\n",
       "      <td>612</td>\n",
       "      <td>311</td>\n",
       "      <td>2375900</td>\n",
       "      <td>41.80</td>\n",
       "      <td>1.45</td>\n",
       "      <td>9.07</td>\n",
       "      <td>1442800</td>\n",
       "    </tr>\n",
       "    <tr>\n",
       "      <th>1984</th>\n",
       "      <td>855</td>\n",
       "      <td>720</td>\n",
       "      <td>351</td>\n",
       "      <td>2305000</td>\n",
       "      <td>42.33</td>\n",
       "      <td>1.53</td>\n",
       "      <td>9.54</td>\n",
       "      <td>1417200</td>\n",
       "    </tr>\n",
       "    <tr>\n",
       "      <th>1985</th>\n",
       "      <td>1028</td>\n",
       "      <td>874</td>\n",
       "      <td>426</td>\n",
       "      <td>2765900</td>\n",
       "      <td>42.93</td>\n",
       "      <td>1.60</td>\n",
       "      <td>9.49</td>\n",
       "      <td>1466100</td>\n",
       "    </tr>\n",
       "    <tr>\n",
       "      <th>1986</th>\n",
       "      <td>1268</td>\n",
       "      <td>1087</td>\n",
       "      <td>472</td>\n",
       "      <td>3306400</td>\n",
       "      <td>46.21</td>\n",
       "      <td>1.55</td>\n",
       "      <td>10.25</td>\n",
       "      <td>1454500</td>\n",
       "    </tr>\n",
       "    <tr>\n",
       "      <th>1987</th>\n",
       "      <td>1446</td>\n",
       "      <td>1197</td>\n",
       "      <td>652</td>\n",
       "      <td>3981400</td>\n",
       "      <td>45.80</td>\n",
       "      <td>1.49</td>\n",
       "      <td>9.35</td>\n",
       "      <td>1489400</td>\n",
       "    </tr>\n",
       "    <tr>\n",
       "      <th>1988</th>\n",
       "      <td>1705</td>\n",
       "      <td>1417</td>\n",
       "      <td>486</td>\n",
       "      <td>4551000</td>\n",
       "      <td>47.80</td>\n",
       "      <td>1.43</td>\n",
       "      <td>9.08</td>\n",
       "      <td>1559200</td>\n",
       "    </tr>\n",
       "    <tr>\n",
       "      <th>1989</th>\n",
       "      <td>1892</td>\n",
       "      <td>1524</td>\n",
       "      <td>458</td>\n",
       "      <td>5269100</td>\n",
       "      <td>49.30</td>\n",
       "      <td>1.31</td>\n",
       "      <td>9.31</td>\n",
       "      <td>1652300</td>\n",
       "    </tr>\n",
       "    <tr>\n",
       "      <th>1990</th>\n",
       "      <td>2113</td>\n",
       "      <td>1761</td>\n",
       "      <td>473</td>\n",
       "      <td>6020400</td>\n",
       "      <td>52.15</td>\n",
       "      <td>1.37</td>\n",
       "      <td>10.13</td>\n",
       "      <td>2024600</td>\n",
       "    </tr>\n",
       "    <tr>\n",
       "      <th>1991</th>\n",
       "      <td>2372</td>\n",
       "      <td>1903</td>\n",
       "      <td>506</td>\n",
       "      <td>7406200</td>\n",
       "      <td>55.46</td>\n",
       "      <td>1.26</td>\n",
       "      <td>10.88</td>\n",
       "      <td>2175900</td>\n",
       "    </tr>\n",
       "    <tr>\n",
       "      <th>1992</th>\n",
       "      <td>2640</td>\n",
       "      <td>2123</td>\n",
       "      <td>705</td>\n",
       "      <td>8676500</td>\n",
       "      <td>59.83</td>\n",
       "      <td>1.18</td>\n",
       "      <td>11.54</td>\n",
       "      <td>2606400</td>\n",
       "    </tr>\n",
       "    <tr>\n",
       "      <th>1993</th>\n",
       "      <td>3090</td>\n",
       "      <td>2574</td>\n",
       "      <td>689</td>\n",
       "      <td>9879800</td>\n",
       "      <td>60.87</td>\n",
       "      <td>1.11</td>\n",
       "      <td>12.07</td>\n",
       "      <td>3025300</td>\n",
       "    </tr>\n",
       "    <tr>\n",
       "      <th>1994</th>\n",
       "      <td>3603</td>\n",
       "      <td>2826</td>\n",
       "      <td>964</td>\n",
       "      <td>11108700</td>\n",
       "      <td>63.39</td>\n",
       "      <td>1.11</td>\n",
       "      <td>12.96</td>\n",
       "      <td>3493100</td>\n",
       "    </tr>\n",
       "    <tr>\n",
       "      <th>1995</th>\n",
       "      <td>3987</td>\n",
       "      <td>2878</td>\n",
       "      <td>1073</td>\n",
       "      <td>11832700</td>\n",
       "      <td>63.12</td>\n",
       "      <td>1.20</td>\n",
       "      <td>13.57</td>\n",
       "      <td>3725800</td>\n",
       "    </tr>\n",
       "    <tr>\n",
       "      <th>1996</th>\n",
       "      <td>4530</td>\n",
       "      <td>3002</td>\n",
       "      <td>1003</td>\n",
       "      <td>13091800</td>\n",
       "      <td>64.79</td>\n",
       "      <td>1.20</td>\n",
       "      <td>14.76</td>\n",
       "      <td>4037600</td>\n",
       "    </tr>\n",
       "    <tr>\n",
       "      <th>1997</th>\n",
       "      <td>4872</td>\n",
       "      <td>3172</td>\n",
       "      <td>1044</td>\n",
       "      <td>14063100</td>\n",
       "      <td>67.45</td>\n",
       "      <td>1.07</td>\n",
       "      <td>14.59</td>\n",
       "      <td>4200500</td>\n",
       "    </tr>\n",
       "    <tr>\n",
       "      <th>1998</th>\n",
       "      <td>5110</td>\n",
       "      <td>3260</td>\n",
       "      <td>854</td>\n",
       "      <td>15760600</td>\n",
       "      <td>68.89</td>\n",
       "      <td>1.01</td>\n",
       "      <td>14.88</td>\n",
       "      <td>4398200</td>\n",
       "    </tr>\n",
       "    <tr>\n",
       "      <th>1999</th>\n",
       "      <td>5400</td>\n",
       "      <td>3375</td>\n",
       "      <td>686</td>\n",
       "      <td>16760300</td>\n",
       "      <td>70.12</td>\n",
       "      <td>0.95</td>\n",
       "      <td>15.40</td>\n",
       "      <td>4649700</td>\n",
       "    </tr>\n",
       "    <tr>\n",
       "      <th>2000</th>\n",
       "      <td>5524</td>\n",
       "      <td>3497</td>\n",
       "      <td>758</td>\n",
       "      <td>16519000</td>\n",
       "      <td>71.88</td>\n",
       "      <td>0.88</td>\n",
       "      <td>15.82</td>\n",
       "      <td>4712500</td>\n",
       "    </tr>\n",
       "    <tr>\n",
       "      <th>2001</th>\n",
       "      <td>5653</td>\n",
       "      <td>3704</td>\n",
       "      <td>891</td>\n",
       "      <td>18083400</td>\n",
       "      <td>71.88</td>\n",
       "      <td>0.91</td>\n",
       "      <td>16.46</td>\n",
       "      <td>5205000</td>\n",
       "    </tr>\n",
       "    <tr>\n",
       "      <th>2002</th>\n",
       "      <td>6958</td>\n",
       "      <td>5523</td>\n",
       "      <td>1043</td>\n",
       "      <td>19267300</td>\n",
       "      <td>72.95</td>\n",
       "      <td>0.83</td>\n",
       "      <td>17.22</td>\n",
       "      <td>6115500</td>\n",
       "    </tr>\n",
       "    <tr>\n",
       "      <th>2003</th>\n",
       "      <td>8680</td>\n",
       "      <td>7805</td>\n",
       "      <td>1181</td>\n",
       "      <td>19580500</td>\n",
       "      <td>72.83</td>\n",
       "      <td>0.83</td>\n",
       "      <td>17.74</td>\n",
       "      <td>7158700</td>\n",
       "    </tr>\n",
       "    <tr>\n",
       "      <th>2004</th>\n",
       "      <td>9864</td>\n",
       "      <td>8263</td>\n",
       "      <td>1319</td>\n",
       "      <td>25365000</td>\n",
       "      <td>72.28</td>\n",
       "      <td>0.89</td>\n",
       "      <td>17.71</td>\n",
       "      <td>8109500</td>\n",
       "    </tr>\n",
       "    <tr>\n",
       "      <th>2005</th>\n",
       "      <td>11805</td>\n",
       "      <td>9522</td>\n",
       "      <td>1946</td>\n",
       "      <td>30032000</td>\n",
       "      <td>72.01</td>\n",
       "      <td>0.84</td>\n",
       "      <td>16.98</td>\n",
       "      <td>9051000</td>\n",
       "    </tr>\n",
       "    <tr>\n",
       "      <th>2006</th>\n",
       "      <td>12314</td>\n",
       "      <td>11092</td>\n",
       "      <td>2347</td>\n",
       "      <td>32987000</td>\n",
       "      <td>72.31</td>\n",
       "      <td>0.85</td>\n",
       "      <td>17.20</td>\n",
       "      <td>9623000</td>\n",
       "    </tr>\n",
       "  </tbody>\n",
       "</table>\n",
       "</div>"
      ],
      "text/plain": [
       "         x1     x2    x3        x4     x5    x6     x7  \\\n",
       "year                                                     \n",
       "1983    689    612   311   2375900  41.80  1.45   9.07   \n",
       "1984    855    720   351   2305000  42.33  1.53   9.54   \n",
       "1985   1028    874   426   2765900  42.93  1.60   9.49   \n",
       "1986   1268   1087   472   3306400  46.21  1.55  10.25   \n",
       "1987   1446   1197   652   3981400  45.80  1.49   9.35   \n",
       "1988   1705   1417   486   4551000  47.80  1.43   9.08   \n",
       "1989   1892   1524   458   5269100  49.30  1.31   9.31   \n",
       "1990   2113   1761   473   6020400  52.15  1.37  10.13   \n",
       "1991   2372   1903   506   7406200  55.46  1.26  10.88   \n",
       "1992   2640   2123   705   8676500  59.83  1.18  11.54   \n",
       "1993   3090   2574   689   9879800  60.87  1.11  12.07   \n",
       "1994   3603   2826   964  11108700  63.39  1.11  12.96   \n",
       "1995   3987   2878  1073  11832700  63.12  1.20  13.57   \n",
       "1996   4530   3002  1003  13091800  64.79  1.20  14.76   \n",
       "1997   4872   3172  1044  14063100  67.45  1.07  14.59   \n",
       "1998   5110   3260   854  15760600  68.89  1.01  14.88   \n",
       "1999   5400   3375   686  16760300  70.12  0.95  15.40   \n",
       "2000   5524   3497   758  16519000  71.88  0.88  15.82   \n",
       "2001   5653   3704   891  18083400  71.88  0.91  16.46   \n",
       "2002   6958   5523  1043  19267300  72.95  0.83  17.22   \n",
       "2003   8680   7805  1181  19580500  72.83  0.83  17.74   \n",
       "2004   9864   8263  1319  25365000  72.28  0.89  17.71   \n",
       "2005  11805   9522  1946  30032000  72.01  0.84  16.98   \n",
       "2006  12314  11092  2347  32987000  72.31  0.85  17.20   \n",
       "\n",
       "      total_production_volume  \n",
       "year                           \n",
       "1983                  1442800  \n",
       "1984                  1417200  \n",
       "1985                  1466100  \n",
       "1986                  1454500  \n",
       "1987                  1489400  \n",
       "1988                  1559200  \n",
       "1989                  1652300  \n",
       "1990                  2024600  \n",
       "1991                  2175900  \n",
       "1992                  2606400  \n",
       "1993                  3025300  \n",
       "1994                  3493100  \n",
       "1995                  3725800  \n",
       "1996                  4037600  \n",
       "1997                  4200500  \n",
       "1998                  4398200  \n",
       "1999                  4649700  \n",
       "2000                  4712500  \n",
       "2001                  5205000  \n",
       "2002                  6115500  \n",
       "2003                  7158700  \n",
       "2004                  8109500  \n",
       "2005                  9051000  \n",
       "2006                  9623000  "
      ]
     },
     "execution_count": 13,
     "metadata": {},
     "output_type": "execute_result"
    }
   ],
   "source": [
    "df"
   ]
  },
  {
   "cell_type": "code",
   "execution_count": 19,
   "metadata": {
    "slideshow": {
     "slide_type": "slide"
    }
   },
   "outputs": [
    {
     "data": {
      "text/plain": [
       "<matplotlib.axes._subplots.AxesSubplot at 0xafee978>"
      ]
     },
     "execution_count": 19,
     "metadata": {},
     "output_type": "execute_result"
    },
    {
     "data": {
      "image/png": "[encoded data removed]",
      "text/plain": [
       "<matplotlib.figure.Figure at 0x908b6d8>"
      ]
     },
     "metadata": {},
     "output_type": "display_data"
    }
   ],
   "source": [
    "df.columns\n",
    "# first, plot the observed data\n",
    "#df.columns\n",
    "df['y'].plot(style='.', color='black' )"
   ]
  },
  {
   "cell_type": "code",
   "execution_count": 14,
   "metadata": {
    "slideshow": {
     "slide_type": "slide"
    }
   },
   "outputs": [
    {
     "data": {
      "text/plain": [
       "<matplotlib.axes._subplots.AxesSubplot at 0x8b192b0>"
      ]
     },
     "execution_count": 14,
     "metadata": {},
     "output_type": "execute_result"
    },
    {
     "data": {
      "image/png": "[encoded data removed]",
      "text/plain": [
       "<Figure size 1080x360 with 1 Axes>"
      ]
     },
     "metadata": {},
     "output_type": "display_data"
    }
   ],
   "source": [
    "df.plot(figsize=(15,5)) # In this case we are plotting the entire data frame. (All the numerical columns)"
   ]
  },
  {
   "cell_type": "code",
   "execution_count": 15,
   "metadata": {
    "slideshow": {
     "slide_type": "slide"
    }
   },
   "outputs": [
    {
     "data": {
      "image/png": "[encoded data removed]",
      "text/plain": [
       "<Figure size 1080x1080 with 8 Axes>"
      ]
     },
     "metadata": {},
     "output_type": "display_data"
    }
   ],
   "source": [
    "df.plot(subplots=True, figsize=(15,15));"
   ]
  },
  {
   "cell_type": "markdown",
   "metadata": {
    "slideshow": {
     "slide_type": "slide"
    }
   },
   "source": [
    "# Split the dataframe into `train` and `test`"
   ]
  },
  {
   "cell_type": "code",
   "execution_count": 39,
   "metadata": {
    "slideshow": {
     "slide_type": "slide"
    }
   },
   "outputs": [],
   "source": [
    "train_df = df[df.index <= 2000]\n",
    "test_df  = df[df.index > 2000]\n"
   ]
  },
  {
   "cell_type": "markdown",
   "metadata": {},
   "source": [
    "In the two lines above, we have taken one data frame called `df` and split it (based on time) into two.\n",
    "The first one is called `train_df`. (All the years before and including 2000)\n",
    "The second one is called `test_df` (All the years after 2000.)"
   ]
  },
  {
   "cell_type": "code",
   "execution_count": 40,
   "metadata": {
    "slideshow": {
     "slide_type": "slide"
    }
   },
   "outputs": [
    {
     "data": {
      "text/plain": [
       "((18, 8), (6, 8))"
      ]
     },
     "execution_count": 40,
     "metadata": {},
     "output_type": "execute_result"
    }
   ],
   "source": [
    "train_df.shape, test_df.shape, "
   ]
  },
  {
   "cell_type": "code",
   "execution_count": 41,
   "metadata": {},
   "outputs": [
    {
     "data": {
      "text/plain": [
       "Index(['x1', 'x2', 'x3', 'x4', 'x5', 'x6', 'x7', 'total_production_volume'], dtype='object')"
      ]
     },
     "execution_count": 41,
     "metadata": {},
     "output_type": "execute_result"
    }
   ],
   "source": [
    "df.columns"
   ]
  },
  {
   "cell_type": "code",
   "execution_count": 42,
   "metadata": {
    "slideshow": {
     "slide_type": "slide"
    }
   },
   "outputs": [],
   "source": [
    "import statsmodels.api as sm\n",
    "\n",
    "#We have to decide what we want to predict. This is called the 'target' variable.\n",
    "#in our case, it is the total annual production volume\n",
    "y = train_df['total_production_volume']\n",
    "\n",
    "X1234 = train_df[['x1', 'x2', 'x3', 'x4']] #try to predict y using x1, x2, x3 and x4\n",
    "X1234 = sm.add_constant(X1234) ## fit a OLS model with intercept (just adding a constant.)\n",
    "#if we don't add the constant, it will force the linear model to go through 0,0\n",
    "\n",
    "# create a fitted model in one line\n",
    "china_mdl_1234 = sm.OLS(y, X1234).fit()\n",
    "#In the code above, we are taking our data (train_df) and fitting it (calculating coeffs) to matchthe y value.\n",
    "#the model has now decided what the best coeffients (m1 m2 m3 m4) are..."
   ]
  },
  {
   "cell_type": "markdown",
   "metadata": {},
   "source": [
    "### Just for practice, let's also try building a second Linear model.\n",
    "\n",
    "We can build as many as we like, with different combinations of x variables."
   ]
  },
  {
   "cell_type": "code",
   "execution_count": 43,
   "metadata": {
    "slideshow": {
     "slide_type": "slide"
    }
   },
   "outputs": [],
   "source": [
    "#CALL sm.OLS().fit()\n",
    "X6 = train_df[['x6']] # try to predict using just one variable\n",
    "X6 = sm.add_constant(X6)\n",
    "china_mdl_6 = sm.OLS(y, X6).fit()"
   ]
  },
  {
   "cell_type": "code",
   "execution_count": 44,
   "metadata": {
    "slideshow": {
     "slide_type": "slide"
    }
   },
   "outputs": [
    {
     "name": "stderr",
     "output_type": "stream",
     "text": [
      "C:\\Users\\Ram\\Anaconda3\\lib\\site-packages\\scipy\\stats\\stats.py:1394: UserWarning: kurtosistest only valid for n>=20 ... continuing anyway, n=18\n",
      "  \"anyway, n=%i\" % int(n))\n"
     ]
    },
    {
     "data": {
      "text/html": [
       "<table class=\"simpletable\">\n",
       "<caption>OLS Regression Results</caption>\n",
       "<tr>\n",
       "  <th>Dep. Variable:</th>    <td>total_production_volume</td> <th>  R-squared:         </th> <td>   0.988</td>\n",
       "</tr>\n",
       "<tr>\n",
       "  <th>Model:</th>                      <td>OLS</td>           <th>  Adj. R-squared:    </th> <td>   0.985</td>\n",
       "</tr>\n",
       "<tr>\n",
       "  <th>Method:</th>                <td>Least Squares</td>      <th>  F-statistic:       </th> <td>   275.9</td>\n",
       "</tr>\n",
       "<tr>\n",
       "  <th>Date:</th>                <td>Thu, 04 Oct 2018</td>     <th>  Prob (F-statistic):</th> <td>1.99e-12</td>\n",
       "</tr>\n",
       "<tr>\n",
       "  <th>Time:</th>                    <td>14:19:29</td>         <th>  Log-Likelihood:    </th> <td> -237.93</td>\n",
       "</tr>\n",
       "<tr>\n",
       "  <th>No. Observations:</th>         <td>    18</td>          <th>  AIC:               </th> <td>   485.9</td>\n",
       "</tr>\n",
       "<tr>\n",
       "  <th>Df Residuals:</th>             <td>    13</td>          <th>  BIC:               </th> <td>   490.3</td>\n",
       "</tr>\n",
       "<tr>\n",
       "  <th>Df Model:</th>                 <td>     4</td>          <th>                     </th>     <td> </td>   \n",
       "</tr>\n",
       "<tr>\n",
       "  <th>Covariance Type:</th>         <td>nonrobust</td>        <th>                     </th>     <td> </td>   \n",
       "</tr>\n",
       "</table>\n",
       "<table class=\"simpletable\">\n",
       "<tr>\n",
       "    <td></td>       <th>coef</th>     <th>std err</th>      <th>t</th>      <th>P>|t|</th>  <th>[0.025</th>    <th>0.975]</th>  \n",
       "</tr>\n",
       "<tr>\n",
       "  <th>const</th> <td> 6.242e+05</td> <td> 1.32e+05</td> <td>    4.728</td> <td> 0.000</td> <td> 3.39e+05</td> <td> 9.09e+05</td>\n",
       "</tr>\n",
       "<tr>\n",
       "  <th>x1</th>    <td>   67.0188</td> <td>  287.232</td> <td>    0.233</td> <td> 0.819</td> <td> -553.508</td> <td>  687.546</td>\n",
       "</tr>\n",
       "<tr>\n",
       "  <th>x2</th>    <td> -569.6422</td> <td>  290.409</td> <td>   -1.962</td> <td> 0.072</td> <td>-1197.033</td> <td>   57.749</td>\n",
       "</tr>\n",
       "<tr>\n",
       "  <th>x3</th>    <td>  750.3176</td> <td>  324.261</td> <td>    2.314</td> <td> 0.038</td> <td>   49.794</td> <td> 1450.841</td>\n",
       "</tr>\n",
       "<tr>\n",
       "  <th>x4</th>    <td>    0.3045</td> <td>    0.104</td> <td>    2.933</td> <td> 0.012</td> <td>    0.080</td> <td>    0.529</td>\n",
       "</tr>\n",
       "</table>\n",
       "<table class=\"simpletable\">\n",
       "<tr>\n",
       "  <th>Omnibus:</th>       <td> 3.756</td> <th>  Durbin-Watson:     </th> <td>   1.163</td>\n",
       "</tr>\n",
       "<tr>\n",
       "  <th>Prob(Omnibus):</th> <td> 0.153</td> <th>  Jarque-Bera (JB):  </th> <td>   1.618</td>\n",
       "</tr>\n",
       "<tr>\n",
       "  <th>Skew:</th>          <td>-0.367</td> <th>  Prob(JB):          </th> <td>   0.445</td>\n",
       "</tr>\n",
       "<tr>\n",
       "  <th>Kurtosis:</th>      <td> 1.728</td> <th>  Cond. No.          </th> <td>3.57e+07</td>\n",
       "</tr>\n",
       "</table><br/><br/>Warnings:<br/>[1] Standard Errors assume that the covariance matrix of the errors is correctly specified.<br/>[2] The condition number is large, 3.57e+07. This might indicate that there are<br/>strong multicollinearity or other numerical problems."
      ],
      "text/plain": [
       "<class 'statsmodels.iolib.summary.Summary'>\n",
       "\"\"\"\n",
       "                               OLS Regression Results                              \n",
       "===================================================================================\n",
       "Dep. Variable:     total_production_volume   R-squared:                       0.988\n",
       "Model:                                 OLS   Adj. R-squared:                  0.985\n",
       "Method:                      Least Squares   F-statistic:                     275.9\n",
       "Date:                     Thu, 04 Oct 2018   Prob (F-statistic):           1.99e-12\n",
       "Time:                             14:19:29   Log-Likelihood:                -237.93\n",
       "No. Observations:                       18   AIC:                             485.9\n",
       "Df Residuals:                           13   BIC:                             490.3\n",
       "Df Model:                                4                                         \n",
       "Covariance Type:                 nonrobust                                         \n",
       "==============================================================================\n",
       "                 coef    std err          t      P>|t|      [0.025      0.975]\n",
       "------------------------------------------------------------------------------\n",
       "const       6.242e+05   1.32e+05      4.728      0.000    3.39e+05    9.09e+05\n",
       "x1            67.0188    287.232      0.233      0.819    -553.508     687.546\n",
       "x2          -569.6422    290.409     -1.962      0.072   -1197.033      57.749\n",
       "x3           750.3176    324.261      2.314      0.038      49.794    1450.841\n",
       "x4             0.3045      0.104      2.933      0.012       0.080       0.529\n",
       "==============================================================================\n",
       "Omnibus:                        3.756   Durbin-Watson:                   1.163\n",
       "Prob(Omnibus):                  0.153   Jarque-Bera (JB):                1.618\n",
       "Skew:                          -0.367   Prob(JB):                        0.445\n",
       "Kurtosis:                       1.728   Cond. No.                     3.57e+07\n",
       "==============================================================================\n",
       "\n",
       "Warnings:\n",
       "[1] Standard Errors assume that the covariance matrix of the errors is correctly specified.\n",
       "[2] The condition number is large, 3.57e+07. This might indicate that there are\n",
       "strong multicollinearity or other numerical problems.\n",
       "\"\"\""
      ]
     },
     "execution_count": 44,
     "metadata": {},
     "output_type": "execute_result"
    }
   ],
   "source": [
    "china_mdl_1234.summary()"
   ]
  },
  {
   "cell_type": "code",
   "execution_count": 45,
   "metadata": {
    "slideshow": {
     "slide_type": "slide"
    }
   },
   "outputs": [
    {
     "name": "stderr",
     "output_type": "stream",
     "text": [
      "C:\\Users\\Ram\\Anaconda3\\lib\\site-packages\\scipy\\stats\\stats.py:1394: UserWarning: kurtosistest only valid for n>=20 ... continuing anyway, n=18\n",
      "  \"anyway, n=%i\" % int(n))\n"
     ]
    },
    {
     "data": {
      "text/html": [
       "<table class=\"simpletable\">\n",
       "<caption>OLS Regression Results</caption>\n",
       "<tr>\n",
       "  <th>Dep. Variable:</th>    <td>total_production_volume</td> <th>  R-squared:         </th> <td>   0.858</td>\n",
       "</tr>\n",
       "<tr>\n",
       "  <th>Model:</th>                      <td>OLS</td>           <th>  Adj. R-squared:    </th> <td>   0.850</td>\n",
       "</tr>\n",
       "<tr>\n",
       "  <th>Method:</th>                <td>Least Squares</td>      <th>  F-statistic:       </th> <td>   97.03</td>\n",
       "</tr>\n",
       "<tr>\n",
       "  <th>Date:</th>                <td>Thu, 04 Oct 2018</td>     <th>  Prob (F-statistic):</th> <td>3.39e-08</td>\n",
       "</tr>\n",
       "<tr>\n",
       "  <th>Time:</th>                    <td>14:19:29</td>         <th>  Log-Likelihood:    </th> <td> -260.41</td>\n",
       "</tr>\n",
       "<tr>\n",
       "  <th>No. Observations:</th>         <td>    18</td>          <th>  AIC:               </th> <td>   524.8</td>\n",
       "</tr>\n",
       "<tr>\n",
       "  <th>Df Residuals:</th>             <td>    16</td>          <th>  BIC:               </th> <td>   526.6</td>\n",
       "</tr>\n",
       "<tr>\n",
       "  <th>Df Model:</th>                 <td>     1</td>          <th>                     </th>     <td> </td>   \n",
       "</tr>\n",
       "<tr>\n",
       "  <th>Covariance Type:</th>         <td>nonrobust</td>        <th>                     </th>     <td> </td>   \n",
       "</tr>\n",
       "</table>\n",
       "<table class=\"simpletable\">\n",
       "<tr>\n",
       "    <td></td>       <th>coef</th>     <th>std err</th>      <th>t</th>      <th>P>|t|</th>  <th>[0.025</th>    <th>0.975]</th>  \n",
       "</tr>\n",
       "<tr>\n",
       "  <th>const</th> <td>  9.58e+06</td> <td> 7.03e+05</td> <td>   13.630</td> <td> 0.000</td> <td> 8.09e+06</td> <td> 1.11e+07</td>\n",
       "</tr>\n",
       "<tr>\n",
       "  <th>x6</th>    <td>-5.415e+06</td> <td>  5.5e+05</td> <td>   -9.850</td> <td> 0.000</td> <td>-6.58e+06</td> <td>-4.25e+06</td>\n",
       "</tr>\n",
       "</table>\n",
       "<table class=\"simpletable\">\n",
       "<tr>\n",
       "  <th>Omnibus:</th>       <td> 0.186</td> <th>  Durbin-Watson:     </th> <td>   0.727</td>\n",
       "</tr>\n",
       "<tr>\n",
       "  <th>Prob(Omnibus):</th> <td> 0.911</td> <th>  Jarque-Bera (JB):  </th> <td>   0.383</td>\n",
       "</tr>\n",
       "<tr>\n",
       "  <th>Skew:</th>          <td> 0.133</td> <th>  Prob(JB):          </th> <td>   0.826</td>\n",
       "</tr>\n",
       "<tr>\n",
       "  <th>Kurtosis:</th>      <td> 2.336</td> <th>  Cond. No.          </th> <td>    12.4</td>\n",
       "</tr>\n",
       "</table><br/><br/>Warnings:<br/>[1] Standard Errors assume that the covariance matrix of the errors is correctly specified."
      ],
      "text/plain": [
       "<class 'statsmodels.iolib.summary.Summary'>\n",
       "\"\"\"\n",
       "                               OLS Regression Results                              \n",
       "===================================================================================\n",
       "Dep. Variable:     total_production_volume   R-squared:                       0.858\n",
       "Model:                                 OLS   Adj. R-squared:                  0.850\n",
       "Method:                      Least Squares   F-statistic:                     97.03\n",
       "Date:                     Thu, 04 Oct 2018   Prob (F-statistic):           3.39e-08\n",
       "Time:                             14:19:29   Log-Likelihood:                -260.41\n",
       "No. Observations:                       18   AIC:                             524.8\n",
       "Df Residuals:                           16   BIC:                             526.6\n",
       "Df Model:                                1                                         \n",
       "Covariance Type:                 nonrobust                                         \n",
       "==============================================================================\n",
       "                 coef    std err          t      P>|t|      [0.025      0.975]\n",
       "------------------------------------------------------------------------------\n",
       "const        9.58e+06   7.03e+05     13.630      0.000    8.09e+06    1.11e+07\n",
       "x6         -5.415e+06    5.5e+05     -9.850      0.000   -6.58e+06   -4.25e+06\n",
       "==============================================================================\n",
       "Omnibus:                        0.186   Durbin-Watson:                   0.727\n",
       "Prob(Omnibus):                  0.911   Jarque-Bera (JB):                0.383\n",
       "Skew:                           0.133   Prob(JB):                        0.826\n",
       "Kurtosis:                       2.336   Cond. No.                         12.4\n",
       "==============================================================================\n",
       "\n",
       "Warnings:\n",
       "[1] Standard Errors assume that the covariance matrix of the errors is correctly specified.\n",
       "\"\"\""
      ]
     },
     "execution_count": 45,
     "metadata": {},
     "output_type": "execute_result"
    }
   ],
   "source": [
    "china_mdl_6.summary()"
   ]
  },
  {
   "cell_type": "code",
   "execution_count": 46,
   "metadata": {},
   "outputs": [],
   "source": [
    "# a utility function to only show the coeff section of summary\n",
    "from IPython.core.display import HTML\n",
    "\n",
    "def short_summary(mdl):\n",
    "    return HTML(mdl.summary().tables[1].as_html())"
   ]
  },
  {
   "cell_type": "code",
   "execution_count": 47,
   "metadata": {},
   "outputs": [
    {
     "name": "stderr",
     "output_type": "stream",
     "text": [
      "C:\\Users\\Ram\\Anaconda3\\lib\\site-packages\\scipy\\stats\\stats.py:1394: UserWarning: kurtosistest only valid for n>=20 ... continuing anyway, n=18\n",
      "  \"anyway, n=%i\" % int(n))\n"
     ]
    },
    {
     "data": {
      "text/html": [
       "<table class=\"simpletable\">\n",
       "<tr>\n",
       "    <td></td>       <th>coef</th>     <th>std err</th>      <th>t</th>      <th>P>|t|</th>  <th>[0.025</th>    <th>0.975]</th>  \n",
       "</tr>\n",
       "<tr>\n",
       "  <th>const</th> <td> 6.242e+05</td> <td> 1.32e+05</td> <td>    4.728</td> <td> 0.000</td> <td> 3.39e+05</td> <td> 9.09e+05</td>\n",
       "</tr>\n",
       "<tr>\n",
       "  <th>x1</th>    <td>   67.0188</td> <td>  287.232</td> <td>    0.233</td> <td> 0.819</td> <td> -553.508</td> <td>  687.546</td>\n",
       "</tr>\n",
       "<tr>\n",
       "  <th>x2</th>    <td> -569.6422</td> <td>  290.409</td> <td>   -1.962</td> <td> 0.072</td> <td>-1197.033</td> <td>   57.749</td>\n",
       "</tr>\n",
       "<tr>\n",
       "  <th>x3</th>    <td>  750.3176</td> <td>  324.261</td> <td>    2.314</td> <td> 0.038</td> <td>   49.794</td> <td> 1450.841</td>\n",
       "</tr>\n",
       "<tr>\n",
       "  <th>x4</th>    <td>    0.3045</td> <td>    0.104</td> <td>    2.933</td> <td> 0.012</td> <td>    0.080</td> <td>    0.529</td>\n",
       "</tr>\n",
       "</table>"
      ],
      "text/plain": [
       "<IPython.core.display.HTML object>"
      ]
     },
     "execution_count": 47,
     "metadata": {},
     "output_type": "execute_result"
    }
   ],
   "source": [
    "short_summary(china_mdl_1234)"
   ]
  },
  {
   "cell_type": "code",
   "execution_count": 48,
   "metadata": {},
   "outputs": [
    {
     "name": "stderr",
     "output_type": "stream",
     "text": [
      "C:\\Users\\Ram\\Anaconda3\\lib\\site-packages\\scipy\\stats\\stats.py:1394: UserWarning: kurtosistest only valid for n>=20 ... continuing anyway, n=18\n",
      "  \"anyway, n=%i\" % int(n))\n"
     ]
    },
    {
     "data": {
      "text/html": [
       "<table class=\"simpletable\">\n",
       "<tr>\n",
       "    <td></td>       <th>coef</th>     <th>std err</th>      <th>t</th>      <th>P>|t|</th>  <th>[0.025</th>    <th>0.975]</th>  \n",
       "</tr>\n",
       "<tr>\n",
       "  <th>const</th> <td>  9.58e+06</td> <td> 7.03e+05</td> <td>   13.630</td> <td> 0.000</td> <td> 8.09e+06</td> <td> 1.11e+07</td>\n",
       "</tr>\n",
       "<tr>\n",
       "  <th>x6</th>    <td>-5.415e+06</td> <td>  5.5e+05</td> <td>   -9.850</td> <td> 0.000</td> <td>-6.58e+06</td> <td>-4.25e+06</td>\n",
       "</tr>\n",
       "</table>"
      ],
      "text/plain": [
       "<IPython.core.display.HTML object>"
      ]
     },
     "execution_count": 48,
     "metadata": {},
     "output_type": "execute_result"
    }
   ],
   "source": [
    "short_summary(china_mdl_6)"
   ]
  },
  {
   "cell_type": "markdown",
   "metadata": {
    "slideshow": {
     "slide_type": "slide"
    }
   },
   "source": [
    "### Use the Model to make predictions\n",
    "\n",
    "Statsmodel can be used to make predictions.\n",
    "\n",
    "**Note** It expects the inputs to come as a data frame.\n",
    "\n"
   ]
  },
  {
   "cell_type": "code",
   "execution_count": 65,
   "metadata": {
    "slideshow": {
     "slide_type": "slide"
    }
   },
   "outputs": [],
   "source": [
    "testX1234 = test_df[['x1', 'x2', 'x3', 'x4']]\n",
    "testX1234 = sm.add_constant(testX1234)\n",
    "test_preds_1234 = china_mdl_1234.predict(testX1234)\n"
   ]
  },
  {
   "cell_type": "code",
   "execution_count": 66,
   "metadata": {
    "slideshow": {
     "slide_type": "slide"
    }
   },
   "outputs": [],
   "source": [
    "testX6 = test_df['x6']\n",
    "testX6 = sm.add_constant(testX6)\n",
    "test_preds_6 = china_mdl_6.predict(testX6)\n"
   ]
  },
  {
   "cell_type": "markdown",
   "metadata": {
    "slideshow": {
     "slide_type": "slide"
    }
   },
   "source": [
    "### Plotting the Least Squares Line\n",
    "\n",
    "Let's make predictions for the smallest and largest observed values of x, and then use the predicted values to plot the least squares line:"
   ]
  },
  {
   "cell_type": "code",
   "execution_count": 69,
   "metadata": {
    "slideshow": {
     "slide_type": "slide"
    }
   },
   "outputs": [],
   "source": [
    "# make predictions for those x values and store them\n",
    "train2_df = sm.add_constant(train_df[['x1', 'x2', 'x3', 'x4']])\n",
    "train_preds = china_mdl_1234.predict(train2_df)\n"
   ]
  },
  {
   "cell_type": "code",
   "execution_count": 70,
   "metadata": {},
   "outputs": [
    {
     "data": {
      "text/html": [
       "<div>\n",
       "<style scoped>\n",
       "    .dataframe tbody tr th:only-of-type {\n",
       "        vertical-align: middle;\n",
       "    }\n",
       "\n",
       "    .dataframe tbody tr th {\n",
       "        vertical-align: top;\n",
       "    }\n",
       "\n",
       "    .dataframe thead th {\n",
       "        text-align: right;\n",
       "    }\n",
       "</style>\n",
       "<table border=\"1\" class=\"dataframe\">\n",
       "  <thead>\n",
       "    <tr style=\"text-align: right;\">\n",
       "      <th></th>\n",
       "      <th>actual</th>\n",
       "      <th>predictions_x1234</th>\n",
       "      <th>preds_x6</th>\n",
       "    </tr>\n",
       "    <tr>\n",
       "      <th>year</th>\n",
       "      <th></th>\n",
       "      <th></th>\n",
       "      <th></th>\n",
       "    </tr>\n",
       "  </thead>\n",
       "  <tbody>\n",
       "    <tr>\n",
       "      <th>2001</th>\n",
       "      <td>5205000</td>\n",
       "      <td>5.067612e+06</td>\n",
       "      <td>4.652937e+06</td>\n",
       "    </tr>\n",
       "    <tr>\n",
       "      <th>2002</th>\n",
       "      <td>6115500</td>\n",
       "      <td>4.593413e+06</td>\n",
       "      <td>5.086124e+06</td>\n",
       "    </tr>\n",
       "    <tr>\n",
       "      <th>2003</th>\n",
       "      <td>7158700</td>\n",
       "      <td>3.607802e+06</td>\n",
       "      <td>5.086124e+06</td>\n",
       "    </tr>\n",
       "    <tr>\n",
       "      <th>2004</th>\n",
       "      <td>8109500</td>\n",
       "      <td>5.291056e+06</td>\n",
       "      <td>4.761234e+06</td>\n",
       "    </tr>\n",
       "    <tr>\n",
       "      <th>2005</th>\n",
       "      <td>9051000</td>\n",
       "      <td>6.595410e+06</td>\n",
       "      <td>5.031976e+06</td>\n",
       "    </tr>\n",
       "    <tr>\n",
       "      <th>2006</th>\n",
       "      <td>9623000</td>\n",
       "      <td>6.935795e+06</td>\n",
       "      <td>4.977827e+06</td>\n",
       "    </tr>\n",
       "  </tbody>\n",
       "</table>\n",
       "</div>"
      ],
      "text/plain": [
       "       actual  predictions_x1234      preds_x6\n",
       "year                                          \n",
       "2001  5205000       5.067612e+06  4.652937e+06\n",
       "2002  6115500       4.593413e+06  5.086124e+06\n",
       "2003  7158700       3.607802e+06  5.086124e+06\n",
       "2004  8109500       5.291056e+06  4.761234e+06\n",
       "2005  9051000       6.595410e+06  5.031976e+06\n",
       "2006  9623000       6.935795e+06  4.977827e+06"
      ]
     },
     "execution_count": 70,
     "metadata": {},
     "output_type": "execute_result"
    }
   ],
   "source": [
    "pd.DataFrame({'actual': test_df['total_production_volume'], 'predictions_x1234':test_preds_1234, 'preds_x6':test_preds_6})"
   ]
  },
  {
   "cell_type": "markdown",
   "metadata": {},
   "source": [
    "## Look at how this is plotting\n",
    "\n",
    "This is plotting one plot on top of the other.\n",
    "If the x-axis is the same, you can use that to your advantage by plotting on top of other plots."
   ]
  },
  {
   "cell_type": "code",
   "execution_count": 75,
   "metadata": {
    "slideshow": {
     "slide_type": "slide"
    }
   },
   "outputs": [
    {
     "data": {
      "text/plain": [
       "[<matplotlib.lines.Line2D at 0x96ccc18>]"
      ]
     },
     "execution_count": 75,
     "metadata": {},
     "output_type": "execute_result"
    },
    {
     "data": {
      "image/png": "[encoded data removed]",
      "text/plain": [
       "<Figure size 432x288 with 1 Axes>"
      ]
     },
     "metadata": {},
     "output_type": "display_data"
    }
   ],
   "source": [
    "#df.plot(y='y', style='k.')\n",
    "plt.scatter(df.index, df['total_production_volume'], c='k')\n",
    "\n",
    "# then, plot the least squares line in red\n",
    "plt.plot(train_df.index, train_preds, c='green', linewidth=2)\n",
    "plt.plot(test_df.index, test_preds_1234, c='red', linewidth=2)\n",
    "plt.plot(test_df.index, test_preds_6, c='brown', linewidth=2)"
   ]
  },
  {
   "cell_type": "markdown",
   "metadata": {},
   "source": [
    "- In the plot above, the black dots are the ACTUAL (known) target values of the total production volume.\n",
    "- The green line is the prediction of the model. (It looked at the answers to calculate the coeffs, so it is very good.)\n",
    "- However, the brown values (x6) is a very bad fit.\n",
    "- The red (x1234 model) is better, but it is not great."
   ]
  },
  {
   "cell_type": "markdown",
   "metadata": {
    "slideshow": {
     "slide_type": "slide"
    }
   },
   "source": [
    "![Questions](images/questions.png)"
   ]
  }
 ],
 "metadata": {
  "kernelspec": {
   "display_name": "Python 3",
   "language": "python",
   "name": "python3"
  },
  "language_info": {
   "codemirror_mode": {
    "name": "ipython",
    "version": 3
   },
   "file_extension": ".py",
   "mimetype": "text/x-python",
   "name": "python",
   "nbconvert_exporter": "python",
   "pygments_lexer": "ipython3",
   "version": "3.6.5"
  }
 },
 "nbformat": 4,
 "nbformat_minor": 2
}
