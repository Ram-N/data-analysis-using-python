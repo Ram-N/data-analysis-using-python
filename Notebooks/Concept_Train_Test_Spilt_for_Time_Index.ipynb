{
 "cells": [
  {
   "cell_type": "markdown",
   "metadata": {
    "slideshow": {
     "slide_type": "slide"
    }
   },
   "source": [
    "### Day 8\n",
    "\n",
    "# Train Test Split for Time Indexes\n",
    "\n",
    "<img src = \"images/logo.jpg\" width=\"100\" align=\"left\">\n",
    "\n",
    "<br><br><br><br>Instructor: Ram Narasimhan"
   ]
  },
  {
   "cell_type": "code",
   "execution_count": 2,
   "metadata": {
    "slideshow": {
     "slide_type": "slide"
    }
   },
   "outputs": [],
   "source": [
    "import numpy as np #load all needed modules\n",
    "import matplotlib.pyplot as plt\n",
    "import pandas as pd\n",
    "import seaborn as sns\n",
    "#will create plots in the notebook itself\n",
    "%matplotlib inline \n"
   ]
  },
  {
   "cell_type": "markdown",
   "metadata": {},
   "source": [
    "## There are two way to Do Test Train Split.\n",
    "\n",
    "### Method 1:\n",
    "Use the ready-made function from sklearn.\n",
    "\n",
    "\n",
    "### Method 2:\n",
    "We can cut into two ourselves.\n"
   ]
  },
  {
   "cell_type": "code",
   "execution_count": null,
   "metadata": {},
   "outputs": [],
   "source": [
    "## Do not use for Time Series data\n",
    "from sklearn.model_selection import train_test_split\n",
    "train_df, test_df = train_test_split(df2, test_size=0.2, \n",
    "                                     random_state = 12)"
   ]
  },
  {
   "cell_type": "markdown",
   "metadata": {},
   "source": [
    "Since we have TIME SERIES data, we should **not** pick the rows randomly. (They are highly correlated.)\n",
    "Usually, we will select a continuous Time Duration (say the fist 7 months) for `train_df` and some other time (Say 4 months) for `test_df`"
   ]
  },
  {
   "cell_type": "code",
   "execution_count": null,
   "metadata": {},
   "outputs": [],
   "source": [
    "train_end_date = '2017-03'\n",
    "test_start_date = '2017-04'\n",
    "train_df = cc2[ : train_end_date] # From start of data frame to train end date\n",
    "test_df = cc2[ test_start_date:] # From the given date until end of the data frame"
   ]
  },
  {
   "cell_type": "markdown",
   "metadata": {},
   "source": [
    "Now, you can build a Machine Learning model on `train_df` and use it to test it on `test_df` for predictions."
   ]
  }
 ],
 "metadata": {
  "kernelspec": {
   "display_name": "Python 3",
   "language": "python",
   "name": "python3"
  },
  "language_info": {
   "codemirror_mode": {
    "name": "ipython",
    "version": 3
   },
   "file_extension": ".py",
   "mimetype": "text/x-python",
   "name": "python",
   "nbconvert_exporter": "python",
   "pygments_lexer": "ipython3",
   "version": "3.6.5"
  }
 },
 "nbformat": 4,
 "nbformat_minor": 2
}
