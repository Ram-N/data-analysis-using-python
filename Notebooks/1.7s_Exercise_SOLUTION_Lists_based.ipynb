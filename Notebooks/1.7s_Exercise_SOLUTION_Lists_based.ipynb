{
 "cells": [
  {
   "cell_type": "markdown",
   "metadata": {
    "slideshow": {
     "slide_type": "slide"
    }
   },
   "source": [
    "<div background-color: powderblue>\n",
    "\n",
    "# 1.7 SOLUTION\n",
    "\n",
    "### Day 1: Exercise Solution\n",
    "\n",
    "\n",
    "# Exercises based on Python Lists\n",
    "\n",
    "<img src = \"images/logo.jpg\"  width=\"100\" align=\"left\">\n",
    "\n",
    "<br><br><br><br>Ram Narasimhan\n"
   ]
  },
  {
   "cell_type": "markdown",
   "metadata": {
    "slideshow": {
     "slide_type": "slide"
    }
   },
   "source": [
    "\n",
    "# Creating A Travel Bucket List\n",
    "\n",
    "<img src = \"images/bucket_list.jpg\"  width=\"100\" align=\"left\">\n",
    "<img src = \"images/travel_bucket_list.png\" align=\"middle\">\n"
   ]
  },
  {
   "cell_type": "markdown",
   "metadata": {
    "slideshow": {
     "slide_type": "slide"
    }
   },
   "source": [
    "# Task L-0\n",
    "\n",
    "### Create a Python list with 5 places that you would most like to visit in the whole world"
   ]
  },
  {
   "cell_type": "code",
   "execution_count": 18,
   "metadata": {
    "slideshow": {
     "slide_type": "slide"
    }
   },
   "outputs": [
    {
     "name": "stdout",
     "output_type": "stream",
     "text": [
      "5\n"
     ]
    }
   ],
   "source": [
    "places = ['Vietnam', 'Tanzania', 'Namibia', 'Russia', 'Sri Lanka']\n",
    "print(len(places))"
   ]
  },
  {
   "cell_type": "markdown",
   "metadata": {
    "slideshow": {
     "slide_type": "slide"
    }
   },
   "source": [
    "# Task L-1\n",
    "\n",
    "### Print out the list, as well as its *length*"
   ]
  },
  {
   "cell_type": "code",
   "execution_count": 19,
   "metadata": {
    "slideshow": {
     "slide_type": "slide"
    }
   },
   "outputs": [
    {
     "name": "stdout",
     "output_type": "stream",
     "text": [
      "['Vietnam', 'Tanzania', 'Namibia', 'Russia', 'Sri Lanka']\n",
      "5\n"
     ]
    }
   ],
   "source": [
    "print(places)\n",
    "print(len(places))"
   ]
  },
  {
   "cell_type": "markdown",
   "metadata": {
    "slideshow": {
     "slide_type": "slide"
    }
   },
   "source": [
    "# Task L-2\n",
    "\n",
    "### Reverse the list, and print it out\n",
    "\n",
    "Search the web for \"Python Reversing a List\""
   ]
  },
  {
   "cell_type": "code",
   "execution_count": 20,
   "metadata": {
    "slideshow": {
     "slide_type": "slide"
    }
   },
   "outputs": [
    {
     "data": {
      "text/plain": [
       "['Sri Lanka', 'Russia', 'Namibia', 'Tanzania', 'Vietnam']"
      ]
     },
     "execution_count": 20,
     "metadata": {},
     "output_type": "execute_result"
    }
   ],
   "source": [
    "#In place, stored reversal...\n",
    "places.reverse()\n",
    "places\n",
    "#Notice what happens if we run this cell multiple times..."
   ]
  },
  {
   "cell_type": "code",
   "execution_count": 21,
   "metadata": {
    "slideshow": {
     "slide_type": "slide"
    }
   },
   "outputs": [
    {
     "data": {
      "text/plain": [
       "['Vietnam', 'Tanzania', 'Namibia', 'Russia', 'Sri Lanka']"
      ]
     },
     "execution_count": 21,
     "metadata": {},
     "output_type": "execute_result"
    }
   ],
   "source": [
    "#Option 2: Another way to print the reverse of a list is to simply traverse it from the end, step -1\n",
    "places[::-1]"
   ]
  },
  {
   "cell_type": "markdown",
   "metadata": {
    "slideshow": {
     "slide_type": "slide"
    }
   },
   "source": [
    "# Task L-3\n",
    "\n",
    "### Sort the list Alphabetically\n",
    "\n",
    "Search the web for \"Python Sorting a List\""
   ]
  },
  {
   "cell_type": "code",
   "execution_count": 22,
   "metadata": {
    "slideshow": {
     "slide_type": "slide"
    }
   },
   "outputs": [
    {
     "data": {
      "text/plain": [
       "['Namibia', 'Russia', 'Sri Lanka', 'Tanzania', 'Vietnam']"
      ]
     },
     "execution_count": 22,
     "metadata": {},
     "output_type": "execute_result"
    }
   ],
   "source": [
    "places.sort()\n",
    "places"
   ]
  },
  {
   "cell_type": "markdown",
   "metadata": {
    "slideshow": {
     "slide_type": "slide"
    }
   },
   "source": [
    "# Task List-4\n",
    "\n",
    "### Remove the 4th element from your list"
   ]
  },
  {
   "cell_type": "code",
   "execution_count": 23,
   "metadata": {
    "slideshow": {
     "slide_type": "slide"
    }
   },
   "outputs": [],
   "source": [
    "del places[3] #not 4!"
   ]
  },
  {
   "cell_type": "code",
   "execution_count": 24,
   "metadata": {},
   "outputs": [
    {
     "name": "stdout",
     "output_type": "stream",
     "text": [
      "['Namibia', 'Russia', 'Sri Lanka', 'Vietnam']\n"
     ]
    }
   ],
   "source": [
    "print(places)"
   ]
  },
  {
   "cell_type": "code",
   "execution_count": 25,
   "metadata": {
    "slideshow": {
     "slide_type": "slide"
    }
   },
   "outputs": [
    {
     "data": {
      "text/plain": [
       "'Vietnam'"
      ]
     },
     "execution_count": 25,
     "metadata": {},
     "output_type": "execute_result"
    }
   ],
   "source": [
    "places.pop(3)"
   ]
  },
  {
   "cell_type": "code",
   "execution_count": 26,
   "metadata": {},
   "outputs": [
    {
     "data": {
      "text/plain": [
       "['Namibia', 'Russia', 'Sri Lanka']"
      ]
     },
     "execution_count": 26,
     "metadata": {},
     "output_type": "execute_result"
    }
   ],
   "source": [
    "places"
   ]
  },
  {
   "cell_type": "markdown",
   "metadata": {
    "slideshow": {
     "slide_type": "slide"
    }
   },
   "source": [
    "# TASK List-5\n",
    "### word = \"INTERMEDIATE\"\n",
    "\n",
    "There are many English words hidden inside that word. Can you use Python Lists Index to print **3** smaller words inside INTERMEDIATE.\n",
    "\n",
    "Example: word[2:6]"
   ]
  },
  {
   "cell_type": "code",
   "execution_count": 27,
   "metadata": {
    "slideshow": {
     "slide_type": "slide"
    }
   },
   "outputs": [
    {
     "data": {
      "text/plain": [
       "('INTER', 'TERM', 'MEDIA', 'ATE', 'MEN')"
      ]
     },
     "execution_count": 27,
     "metadata": {},
     "output_type": "execute_result"
    }
   ],
   "source": [
    "word = \"INTERMEDIATE\"\n",
    "#Here are a few English words using List Slicing...\n",
    "word[:5], word[2:6], word[5:10], word[-3:], word[5::-2]"
   ]
  },
  {
   "cell_type": "markdown",
   "metadata": {
    "slideshow": {
     "slide_type": "slide"
    }
   },
   "source": [
    "![Questions](images/questions.png)"
   ]
  }
 ],
 "metadata": {
  "kernelspec": {
   "display_name": "Python 3",
   "language": "python",
   "name": "python3"
  },
  "language_info": {
   "codemirror_mode": {
    "name": "ipython",
    "version": 3
   },
   "file_extension": ".py",
   "mimetype": "text/x-python",
   "name": "python",
   "nbconvert_exporter": "python",
   "pygments_lexer": "ipython3",
   "version": "3.6.5"
  }
 },
 "nbformat": 4,
 "nbformat_minor": 2
}
