{
 "cells": [
  {
   "cell_type": "markdown",
   "metadata": {
    "slideshow": {
     "slide_type": "slide"
    }
   },
   "source": [
    "# 2.6\n",
    "\n",
    "# Solution to Exercises\n",
    "\n",
    "<img src = \"images/logo.jpg\", width=\"100\" align=\"left\">\n",
    "\n",
    "<br><br><br><br>Ram Narasimhan"
   ]
  },
  {
   "cell_type": "markdown",
   "metadata": {
    "slideshow": {
     "slide_type": "slide"
    }
   },
   "source": [
    "# Look at the Handout for the problems...\n",
    "\n",
    "# Solutions follow"
   ]
  },
  {
   "cell_type": "markdown",
   "metadata": {
    "slideshow": {
     "slide_type": "slide"
    }
   },
   "source": [
    "### Flow of Control\n",
    "\n",
    "![Image](images/exercises_2.5a.jpg)\n",
    "![Image](images/exercises_2.5b.jpg)\n",
    "\n",
    "This task involves printing the Alarm Level of a Rotary Screw Compressor. \n",
    "Based on the temperature, you have to print the Alarm-Level.\n",
    "\n",
    "- Flow-0: Create a List (Temp = [45,63,62, …etc.])\n",
    "- Flow-1: Write a For Loop to go through the entire list and print the temperature\n",
    "- Flow-2: Write an If/Elif/Else condition for the following to print the Alarm Level\n",
    "\n"
   ]
  },
  {
   "cell_type": "code",
   "execution_count": 1,
   "metadata": {
    "slideshow": {
     "slide_type": "slide"
    }
   },
   "outputs": [
    {
     "name": "stdout",
     "output_type": "stream",
     "text": [
      "Green\n",
      "Green\n",
      "Green\n",
      "Orange\n",
      "Red\n",
      "Green\n",
      "Orange\n"
     ]
    }
   ],
   "source": [
    "temp = [64, 62, 45, 70, 75, 63, 65]\n",
    "\n",
    "for i in temp:\n",
    "    if i > 70:\n",
    "        print(\"Red\")\n",
    "    elif i>=65:\n",
    "        print(\"Orange\")\n",
    "    else:\n",
    "        print(\"Green\")\n",
    "\n"
   ]
  },
  {
   "cell_type": "code",
   "execution_count": 23,
   "metadata": {
    "collapsed": true,
    "slideshow": {
     "slide_type": "slide"
    }
   },
   "outputs": [],
   "source": [
    "#2. Write ONE function\n",
    "\n",
    "def calc_thickness(p, d=10, s=38.2):\n",
    "    \n",
    "    t = (p *d)/(2*s)\n",
    "    print(t)\n",
    "    return(t)"
   ]
  },
  {
   "cell_type": "code",
   "execution_count": 24,
   "metadata": {
    "slideshow": {
     "slide_type": "slide"
    }
   },
   "outputs": [
    {
     "name": "stdout",
     "output_type": "stream",
     "text": [
      "0.06544502617801047\n"
     ]
    },
    {
     "data": {
      "text/plain": [
       "0.06544502617801047"
      ]
     },
     "execution_count": 24,
     "metadata": {},
     "output_type": "execute_result"
    }
   ],
   "source": [
    "#formula\n",
    "calc_thickness(1, d=5)\n",
    "#thickness = (P*D)/(2*S)"
   ]
  },
  {
   "cell_type": "code",
   "execution_count": 25,
   "metadata": {
    "slideshow": {
     "slide_type": "slide"
    }
   },
   "outputs": [
    {
     "name": "stdout",
     "output_type": "stream",
     "text": [
      "Help on function calc_thickness in module __main__:\n",
      "\n",
      "calc_thickness(p, d=10, s=38.2)\n",
      "\n"
     ]
    }
   ],
   "source": [
    "help(calc_thickness)"
   ]
  }
 ],
 "metadata": {
  "kernelspec": {
   "display_name": "Python 3",
   "language": "python",
   "name": "python3"
  },
  "language_info": {
   "codemirror_mode": {
    "name": "ipython",
    "version": 3
   },
   "file_extension": ".py",
   "mimetype": "text/x-python",
   "name": "python",
   "nbconvert_exporter": "python",
   "pygments_lexer": "ipython3",
   "version": "3.6.4"
  }
 },
 "nbformat": 4,
 "nbformat_minor": 2
}
