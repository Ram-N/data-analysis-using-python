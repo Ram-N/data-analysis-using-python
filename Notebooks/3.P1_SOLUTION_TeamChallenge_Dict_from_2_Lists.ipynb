{
 "cells": [
  {
   "cell_type": "code",
   "execution_count": 1,
   "metadata": {},
   "outputs": [],
   "source": [
    "from IPython.display import clear_output\n",
    "clear_output(wait=True)"
   ]
  },
  {
   "cell_type": "markdown",
   "metadata": {
    "collapsed": true,
    "slideshow": {
     "slide_type": "slide"
    }
   },
   "source": [
    "### 10 Minute Challenge\n",
    "# Task: Combine two lists into one Dictionary\n",
    "\n",
    "You  are given two Python Lists. One has **capitals**, and the other has **countries**. Create a Dictionary that has country as the “key”, and the capital city as the “value.”\n",
    "\n",
    "Work in pairs, then discuss among your table. "
   ]
  },
  {
   "cell_type": "code",
   "execution_count": 2,
   "metadata": {
    "slideshow": {
     "slide_type": "slide"
    }
   },
   "outputs": [],
   "source": [
    "cities = ['Kigali', 'Cairo', 'Asmara', 'Addis Ababa', 'Khartoum', 'Juba', 'Abuja', 'Rabat', 'Yaounde', 'Dodoma', 'Kampala']\n",
    "countries = ['Rwanda', 'Egypt', 'Eritrea', 'Ethiopia', 'Sudan', 'South Sudan', 'Nigeria', 'Morocco', 'Cameroon', 'Tanzania', \n",
    "             'Uganda']\n"
   ]
  },
  {
   "cell_type": "code",
   "execution_count": 3,
   "metadata": {
    "slideshow": {
     "slide_type": "slide"
    }
   },
   "outputs": [],
   "source": [
    "#Create a dictionary of capitals by using Python to combine the lists...\n",
    "\n",
    "#Call it capitals\n",
    "capitals = {}"
   ]
  },
  {
   "cell_type": "code",
   "execution_count": 4,
   "metadata": {},
   "outputs": [],
   "source": [
    "# Try your code here...\n",
    "\n"
   ]
  },
  {
   "cell_type": "code",
   "execution_count": 15,
   "metadata": {},
   "outputs": [
    {
     "name": "stdout",
     "output_type": "stream",
     "text": [
      "Yaounde\n",
      "11\n"
     ]
    }
   ],
   "source": [
    "#test if it is working\n",
    "\n",
    "print(capitals['Cameroon'])\n",
    "print(len(capitals))"
   ]
  },
  {
   "cell_type": "markdown",
   "metadata": {},
   "source": [
    "## SOLUTIONS"
   ]
  },
  {
   "cell_type": "code",
   "execution_count": 14,
   "metadata": {},
   "outputs": [
    {
     "data": {
      "text/plain": [
       "{'Cameroon': 'Yaounde',\n",
       " 'Egypt': 'Cairo',\n",
       " 'Eritrea': 'Asmara',\n",
       " 'Ethiopia': 'Addis Ababa',\n",
       " 'Morocco': 'Rabat',\n",
       " 'Nigeria': 'Abuja',\n",
       " 'Rwanda': 'Kigali',\n",
       " 'South Sudan': 'Juba',\n",
       " 'Sudan': 'Khartoum',\n",
       " 'Tanzania': 'Dodoma',\n",
       " 'Uganda': 'Kampala'}"
      ]
     },
     "execution_count": 14,
     "metadata": {},
     "output_type": "execute_result"
    }
   ],
   "source": [
    "dict(zip(countries, cities))"
   ]
  },
  {
   "cell_type": "code",
   "execution_count": 7,
   "metadata": {},
   "outputs": [
    {
     "data": {
      "text/plain": [
       "dict"
      ]
     },
     "execution_count": 7,
     "metadata": {},
     "output_type": "execute_result"
    }
   ],
   "source": [
    "caps = {}\n",
    "type(caps)"
   ]
  },
  {
   "cell_type": "code",
   "execution_count": 8,
   "metadata": {},
   "outputs": [],
   "source": [
    "#one other way to do it... loop through a list, creating one item of the dict at a time...\n",
    "caps = {}\n",
    "for i in range(len(countries)):\n",
    "    caps[countries[i]] = cities[i]"
   ]
  },
  {
   "cell_type": "code",
   "execution_count": 12,
   "metadata": {},
   "outputs": [
    {
     "data": {
      "text/plain": [
       "'Asmara'"
      ]
     },
     "execution_count": 12,
     "metadata": {},
     "output_type": "execute_result"
    }
   ],
   "source": [
    "capitals = {}\n",
    "i = 0\n",
    "for c in countries:    \n",
    "    #print(c, \"\\t\\t\", cities[i])\n",
    "    capitals[c] = cities[i]\n",
    "    i = i + 1\n",
    "    \n",
    "capitals['Eritrea']"
   ]
  },
  {
   "cell_type": "code",
   "execution_count": 13,
   "metadata": {},
   "outputs": [
    {
     "name": "stdout",
     "output_type": "stream",
     "text": [
      "0 Rwanda\n",
      "1 Egypt\n",
      "2 Eritrea\n",
      "3 Ethiopia\n",
      "4 Sudan\n",
      "5 South Sudan\n",
      "6 Nigeria\n",
      "7 Morocco\n",
      "8 Cameroon\n",
      "9 Tanzania\n",
      "10 Uganda\n"
     ]
    }
   ],
   "source": [
    "newdict = {}\n",
    "for idx,c in enumerate(countries):    \n",
    "    print(idx, c)\n",
    "    newdict[c] = cities[idx]\n"
   ]
  },
  {
   "cell_type": "code",
   "execution_count": null,
   "metadata": {},
   "outputs": [],
   "source": []
  },
  {
   "cell_type": "code",
   "execution_count": null,
   "metadata": {},
   "outputs": [],
   "source": []
  }
 ],
 "metadata": {
  "kernelspec": {
   "display_name": "Python 3",
   "language": "python",
   "name": "python3"
  },
  "language_info": {
   "codemirror_mode": {
    "name": "ipython",
    "version": 3
   },
   "file_extension": ".py",
   "mimetype": "text/x-python",
   "name": "python",
   "nbconvert_exporter": "python",
   "pygments_lexer": "ipython3",
   "version": "3.6.4"
  }
 },
 "nbformat": 4,
 "nbformat_minor": 2
}
