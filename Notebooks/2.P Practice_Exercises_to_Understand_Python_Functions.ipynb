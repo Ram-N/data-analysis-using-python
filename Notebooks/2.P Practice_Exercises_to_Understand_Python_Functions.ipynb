{
 "cells": [
  {
   "cell_type": "markdown",
   "metadata": {
    "slideshow": {
     "slide_type": "slide"
    }
   },
   "source": [
    "# 2.4_Exercises \n",
    "\n",
    "### Day 2\n",
    "\n",
    "# Functions: Exercises\n",
    "<img src = \"images/logo.jpg\" width=\"100\" align=\"left\">\n",
    "\n",
    "<br>Ram Narasimhan"
   ]
  },
  {
   "cell_type": "code",
   "execution_count": null,
   "metadata": {},
   "outputs": [],
   "source": [
    "#What is the output\n",
    "\n",
    "def printLine(text):\n",
    "  print(text, 'is awesome.')\n",
    "\n",
    "printLine('Python')"
   ]
  },
  {
   "cell_type": "code",
   "execution_count": 4,
   "metadata": {},
   "outputs": [
    {
     "name": "stdout",
     "output_type": "stream",
     "text": [
      "Welcome\n",
      "ViewersViewersViewers\n"
     ]
    }
   ],
   "source": [
    "def func(message, num = 1):\n",
    "    print(message * num)\n",
    " \n",
    "func('Welcome')\n",
    "func('Viewers', 3)\n",
    "\n",
    "#Which is the correct output?"
   ]
  },
  {
   "cell_type": "markdown",
   "metadata": {},
   "source": [
    "A. Welcome \n",
    "     Viewers\n",
    "B. Welcome\n",
    "    ViewersViewersViewers\n",
    "C. Welcome\n",
    "    Viewers,Viewers,Viewers\n",
    "D. Welcome"
   ]
  },
  {
   "cell_type": "code",
   "execution_count": 5,
   "metadata": {},
   "outputs": [
    {
     "name": "stdout",
     "output_type": "stream",
     "text": [
      "3\n"
     ]
    }
   ],
   "source": [
    "def addOne(num):\n",
    "    num += 1\n",
    "\n",
    "num = 3\n",
    "addOne(num)\n",
    "print(num)"
   ]
  },
  {
   "cell_type": "code",
   "execution_count": 6,
   "metadata": {},
   "outputs": [
    {
     "name": "stdout",
     "output_type": "stream",
     "text": [
      "Hello World!\n",
      "Hi\n",
      "Hello World!\n",
      "Hi\n"
     ]
    }
   ],
   "source": [
    "def parrot():\n",
    "    print('Hello World!') \n",
    "    print('Hi')\n",
    "\n",
    "parrot()\n",
    "parrot()"
   ]
  },
  {
   "cell_type": "code",
   "execution_count": 3,
   "metadata": {},
   "outputs": [
    {
     "name": "stdout",
     "output_type": "stream",
     "text": [
      "3\n",
      "3\n"
     ]
    }
   ],
   "source": [
    "def double_print(x):\n",
    "    print(x)\n",
    "\n",
    "x = 2\n",
    "y = 3\n",
    "double_print(y)\n",
    "print(x+1)"
   ]
  },
  {
   "cell_type": "code",
   "execution_count": 8,
   "metadata": {},
   "outputs": [
    {
     "name": "stdout",
     "output_type": "stream",
     "text": [
      "6\n"
     ]
    }
   ],
   "source": [
    "def add_one(x):\n",
    "    return(x+1)\n",
    "\n",
    "x = 4\n",
    "print(add_one(add_one(x)))"
   ]
  },
  {
   "cell_type": "code",
   "execution_count": 5,
   "metadata": {},
   "outputs": [
    {
     "name": "stdout",
     "output_type": "stream",
     "text": [
      "x is  50\n",
      "Insde function x is 50\n",
      "In the function, X is Changed to 60\n",
      "Outside the function, x is back to  50\n"
     ]
    }
   ],
   "source": [
    "x = 50\n",
    "def func2(x):\n",
    "    print('Insde function x is', x)\n",
    "    x = 60\n",
    "    print('In the function, X is Changed to', x)\n",
    "    \n",
    "print('x is ', x)\n",
    "func2(x)\n",
    "print('Outside the function, x is back to ', x)"
   ]
  },
  {
   "cell_type": "markdown",
   "metadata": {
    "slideshow": {
     "slide_type": "slide"
    }
   },
   "source": [
    "![Questions](images/questions.png)"
   ]
  }
 ],
 "metadata": {
  "kernelspec": {
   "display_name": "Python 3",
   "language": "python",
   "name": "python3"
  },
  "language_info": {
   "codemirror_mode": {
    "name": "ipython",
    "version": 3
   },
   "file_extension": ".py",
   "mimetype": "text/x-python",
   "name": "python",
   "nbconvert_exporter": "python",
   "pygments_lexer": "ipython3",
   "version": "3.6.5"
  }
 },
 "nbformat": 4,
 "nbformat_minor": 2
}
