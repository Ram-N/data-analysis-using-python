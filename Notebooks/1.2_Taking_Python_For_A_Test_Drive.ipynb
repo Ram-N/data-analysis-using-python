{
 "cells": [
  {
   "cell_type": "markdown",
   "metadata": {
    "slideshow": {
     "slide_type": "slide"
    }
   },
   "source": [
    "### 1.2\n",
    "\n",
    "# Taking Python for a Test Drive\n",
    "<img src = \"images/logo.jpg\" width=\"100\" align=\"left\">\n",
    "\n",
    "Ram Narasimhan"
   ]
  },
  {
   "cell_type": "markdown",
   "metadata": {
    "slideshow": {
     "slide_type": "slide"
    }
   },
   "source": [
    "### We have been given a list of values. These are readings of Oil Temperatures from an Engine.\n",
    "\n",
    "- Question: How to find the highest temperature value?\n",
    "\n",
    "- Question: Convert that highest temperature from Fahrenheit to Celsius?\n"
   ]
  },
  {
   "cell_type": "markdown",
   "metadata": {
    "slideshow": {
     "slide_type": "slide"
    }
   },
   "source": [
    "We have 100 values of oil temperatures\n",
    "# <div class=\"alert alert-block alert-warning\"> Task: How to find the highest Temperature in Celsius?  </div>\n",
    "\n"
   ]
  },
  {
   "cell_type": "code",
   "execution_count": 22,
   "metadata": {
    "slideshow": {
     "slide_type": "slide"
    }
   },
   "outputs": [],
   "source": [
    "oil_temps = ['83.1', '103.8', '102.1', '94.0', '90.7', '81.9', '92.9', '87.4', '88.8', '97.6', \n",
    "'91.5', '84.8', '100.6', '89.9', '102.8', '83.0', '82.5', '104.6', '85.0', '89.6', \n",
    "'104.6', '98.6', '80.3', '95.2', '80.8', '86.1', '109.6', '82.1', '83.7', '82.2', \n",
    "'105.1', '92.3', '91.6', '95.3', '89.2', '109.6', '87.9', '100.6', '108.9', '106.8', \n",
    "'100.0', '103.5', '91.1', '106.0', '102.4', '100.8', '91.0', '81.0', '100.4', '95.5', \n",
    "'95.5', '106.7', '84.3', '88.3', '102.9', '107.3', '98.8', '94.7', '98.5', '93.9', \n",
    "'84.8', '108.7', '103.9', '98.2', '109.5', '84.8', '105.8', '85.6', '97.3', '107.0', \n",
    "'94.8', '85.8', '88.5', '108.4', '103.7', '89.2', '82.8', '99.5', '88.1', '102.6', \n",
    "'83.8', '109.3', '87.5', '92.5', '97.5', '104.4', '99.3', '98.3', '81.7', '87.4', \n",
    "'99.2', '95.1', '85.1', '83.3', '84.8', '82.6', '99.5', '93.8', '98.4', '109.8']\n",
    "               \n",
    "               "
   ]
  },
  {
   "cell_type": "code",
   "execution_count": 19,
   "metadata": {},
   "outputs": [
    {
     "data": {
      "text/plain": [
       "['83.1',\n",
       " '103.8',\n",
       " '102.1',\n",
       " '94.0',\n",
       " '90.7',\n",
       " '81.9',\n",
       " '92.9',\n",
       " '87.4',\n",
       " '88.8',\n",
       " '97.6',\n",
       " '91.5',\n",
       " '84.8',\n",
       " '100.6',\n",
       " '89.9',\n",
       " '102.8',\n",
       " '83.0',\n",
       " '82.5',\n",
       " '104.6',\n",
       " '85.0',\n",
       " '89.6',\n",
       " '104.6',\n",
       " '98.6',\n",
       " '80.3',\n",
       " '95.2',\n",
       " '80.8',\n",
       " '86.1',\n",
       " '109.6',\n",
       " '82.1',\n",
       " '83.7',\n",
       " '82.2',\n",
       " '105.1',\n",
       " '92.3',\n",
       " '91.6',\n",
       " '95.3',\n",
       " '89.2',\n",
       " '109.6',\n",
       " '87.9',\n",
       " '100.6',\n",
       " '108.9',\n",
       " '106.8',\n",
       " '100.0',\n",
       " '103.5',\n",
       " '91.1',\n",
       " '106.0',\n",
       " '102.4',\n",
       " '100.8',\n",
       " '91.0',\n",
       " '81.0',\n",
       " '100.4',\n",
       " '95.5',\n",
       " '95.5',\n",
       " '106.7',\n",
       " '84.3',\n",
       " '88.3',\n",
       " '102.9',\n",
       " '107.3',\n",
       " '98.8',\n",
       " '94.7',\n",
       " '98.5',\n",
       " '93.9',\n",
       " '84.8',\n",
       " '108.7',\n",
       " '103.9',\n",
       " '98.2',\n",
       " '109.5',\n",
       " '84.8',\n",
       " '105.8',\n",
       " '85.6',\n",
       " '97.3',\n",
       " '107.0',\n",
       " '94.8',\n",
       " '85.8',\n",
       " '88.5',\n",
       " '108.4',\n",
       " '103.7',\n",
       " '89.2',\n",
       " '82.8',\n",
       " '99.5',\n",
       " '88.1',\n",
       " '102.6',\n",
       " '83.8',\n",
       " '109.3',\n",
       " '87.5',\n",
       " '92.5',\n",
       " '97.5',\n",
       " '104.4',\n",
       " '99.3',\n",
       " '98.3',\n",
       " '81.7',\n",
       " '87.4',\n",
       " '99.2',\n",
       " '95.1',\n",
       " '85.1',\n",
       " '83.3',\n",
       " '84.8',\n",
       " '82.6',\n",
       " '99.5',\n",
       " '93.8',\n",
       " '98.4',\n",
       " '109.8']"
      ]
     },
     "execution_count": 19,
     "metadata": {},
     "output_type": "execute_result"
    }
   ],
   "source": [
    "oil_temps"
   ]
  },
  {
   "cell_type": "code",
   "execution_count": 21,
   "metadata": {
    "slideshow": {
     "slide_type": "slide"
    }
   },
   "outputs": [
    {
     "data": {
      "text/plain": [
       "[83.1,\n",
       " 103.8,\n",
       " 102.1,\n",
       " 94.0,\n",
       " 90.7,\n",
       " 81.9,\n",
       " 92.9,\n",
       " 87.4,\n",
       " 88.8,\n",
       " 97.6,\n",
       " 91.5,\n",
       " 84.8,\n",
       " 100.6,\n",
       " 89.9,\n",
       " 102.8,\n",
       " 83.0,\n",
       " 82.5,\n",
       " 104.6,\n",
       " 85.0,\n",
       " 89.6,\n",
       " 104.6,\n",
       " 98.6,\n",
       " 80.3,\n",
       " 95.2,\n",
       " 80.8,\n",
       " 86.1,\n",
       " 109.6,\n",
       " 82.1,\n",
       " 83.7,\n",
       " 82.2,\n",
       " 105.1,\n",
       " 92.3,\n",
       " 91.6,\n",
       " 95.3,\n",
       " 89.2,\n",
       " 109.6,\n",
       " 87.9,\n",
       " 100.6,\n",
       " 108.9,\n",
       " 106.8,\n",
       " 100.0,\n",
       " 103.5,\n",
       " 91.1,\n",
       " 106.0,\n",
       " 102.4,\n",
       " 100.8,\n",
       " 91.0,\n",
       " 81.0,\n",
       " 100.4,\n",
       " 95.5,\n",
       " 95.5,\n",
       " 106.7,\n",
       " 84.3,\n",
       " 88.3,\n",
       " 102.9,\n",
       " 107.3,\n",
       " 98.8,\n",
       " 94.7,\n",
       " 98.5,\n",
       " 93.9,\n",
       " 84.8,\n",
       " 108.7,\n",
       " 103.9,\n",
       " 98.2,\n",
       " 109.5,\n",
       " 84.8,\n",
       " 105.8,\n",
       " 85.6,\n",
       " 97.3,\n",
       " 107.0,\n",
       " 94.8,\n",
       " 85.8,\n",
       " 88.5,\n",
       " 108.4,\n",
       " 103.7,\n",
       " 89.2,\n",
       " 82.8,\n",
       " 99.5,\n",
       " 88.1,\n",
       " 102.6,\n",
       " 83.8,\n",
       " 109.3,\n",
       " 87.5,\n",
       " 92.5,\n",
       " 97.5,\n",
       " 104.4,\n",
       " 99.3,\n",
       " 98.3,\n",
       " 81.7,\n",
       " 87.4,\n",
       " 99.2,\n",
       " 95.1,\n",
       " 85.1,\n",
       " 83.3,\n",
       " 84.8,\n",
       " 82.6,\n",
       " 99.5,\n",
       " 93.8,\n",
       " 98.4,\n",
       " 109.8]"
      ]
     },
     "execution_count": 21,
     "metadata": {},
     "output_type": "execute_result"
    }
   ],
   "source": [
    "oil_temps = [float(x) for x in oil_temps]\n",
    "oil_temps"
   ]
  },
  {
   "cell_type": "markdown",
   "metadata": {
    "slideshow": {
     "slide_type": "slide"
    }
   },
   "source": [
    "## Let's think about this problem together...\n",
    "\n",
    "How can we go about attacking this? Any ideas?"
   ]
  },
  {
   "cell_type": "markdown",
   "metadata": {
    "slideshow": {
     "slide_type": "slide"
    }
   },
   "source": [
    "The steps we will take:\n",
    "\n",
    "1. We have text (strings). We will convert strings to numbers (floats)\n",
    "2. Once we have numbers, we can look for the \"maximum\" value (highest value)\n",
    "3. We will use a formula to covert °F to °C"
   ]
  },
  {
   "cell_type": "code",
   "execution_count": 26,
   "metadata": {
    "slideshow": {
     "slide_type": "slide"
    }
   },
   "outputs": [
    {
     "name": "stdout",
     "output_type": "stream",
     "text": [
      "83.1 has 4 characters\n",
      "103.8 has 5 characters\n",
      "102.1 has 5 characters\n",
      "94.0 has 4 characters\n",
      "90.7 has 4 characters\n",
      "81.9 has 4 characters\n",
      "92.9 has 4 characters\n",
      "87.4 has 4 characters\n",
      "88.8 has 4 characters\n",
      "97.6 has 4 characters\n",
      "91.5 has 4 characters\n",
      "84.8 has 4 characters\n",
      "100.6 has 5 characters\n",
      "89.9 has 4 characters\n",
      "102.8 has 5 characters\n",
      "83.0 has 4 characters\n",
      "82.5 has 4 characters\n",
      "104.6 has 5 characters\n",
      "85.0 has 4 characters\n",
      "89.6 has 4 characters\n",
      "104.6 has 5 characters\n",
      "98.6 has 4 characters\n",
      "80.3 has 4 characters\n",
      "95.2 has 4 characters\n",
      "80.8 has 4 characters\n",
      "86.1 has 4 characters\n",
      "109.6 has 5 characters\n",
      "82.1 has 4 characters\n",
      "83.7 has 4 characters\n",
      "82.2 has 4 characters\n",
      "105.1 has 5 characters\n",
      "92.3 has 4 characters\n",
      "91.6 has 4 characters\n",
      "95.3 has 4 characters\n",
      "89.2 has 4 characters\n",
      "109.6 has 5 characters\n",
      "87.9 has 4 characters\n",
      "100.6 has 5 characters\n",
      "108.9 has 5 characters\n",
      "106.8 has 5 characters\n",
      "100.0 has 5 characters\n",
      "103.5 has 5 characters\n",
      "91.1 has 4 characters\n",
      "106.0 has 5 characters\n",
      "102.4 has 5 characters\n",
      "100.8 has 5 characters\n",
      "91.0 has 4 characters\n",
      "81.0 has 4 characters\n",
      "100.4 has 5 characters\n",
      "95.5 has 4 characters\n",
      "95.5 has 4 characters\n",
      "106.7 has 5 characters\n",
      "84.3 has 4 characters\n",
      "88.3 has 4 characters\n",
      "102.9 has 5 characters\n",
      "107.3 has 5 characters\n",
      "98.8 has 4 characters\n",
      "94.7 has 4 characters\n",
      "98.5 has 4 characters\n",
      "93.9 has 4 characters\n",
      "84.8 has 4 characters\n",
      "108.7 has 5 characters\n",
      "103.9 has 5 characters\n",
      "98.2 has 4 characters\n",
      "109.5 has 5 characters\n",
      "84.8 has 4 characters\n",
      "105.8 has 5 characters\n",
      "85.6 has 4 characters\n",
      "97.3 has 4 characters\n",
      "107.0 has 5 characters\n",
      "94.8 has 4 characters\n",
      "85.8 has 4 characters\n",
      "88.5 has 4 characters\n",
      "108.4 has 5 characters\n",
      "103.7 has 5 characters\n",
      "89.2 has 4 characters\n",
      "82.8 has 4 characters\n",
      "99.5 has 4 characters\n",
      "88.1 has 4 characters\n",
      "102.6 has 5 characters\n",
      "83.8 has 4 characters\n",
      "109.3 has 5 characters\n",
      "87.5 has 4 characters\n",
      "92.5 has 4 characters\n",
      "97.5 has 4 characters\n",
      "104.4 has 5 characters\n",
      "99.3 has 4 characters\n",
      "98.3 has 4 characters\n",
      "81.7 has 4 characters\n",
      "87.4 has 4 characters\n",
      "99.2 has 4 characters\n",
      "95.1 has 4 characters\n",
      "85.1 has 4 characters\n",
      "83.3 has 4 characters\n",
      "84.8 has 4 characters\n",
      "82.6 has 4 characters\n",
      "99.5 has 4 characters\n",
      "93.8 has 4 characters\n",
      "98.4 has 4 characters\n",
      "109.8 has 5 characters\n"
     ]
    }
   ],
   "source": [
    "for elem in oil_temps:\n",
    "    print(elem, \"has\", len(elem), \"characters\")"
   ]
  },
  {
   "cell_type": "code",
   "execution_count": 27,
   "metadata": {
    "slideshow": {
     "slide_type": "slide"
    }
   },
   "outputs": [
    {
     "data": {
      "text/plain": [
       "'99.5'"
      ]
     },
     "execution_count": 27,
     "metadata": {},
     "output_type": "execute_result"
    }
   ],
   "source": [
    "#finding a max value of a list is easy...\n",
    "max(oil_temps)\n",
    "# but this is wrong!"
   ]
  },
  {
   "cell_type": "markdown",
   "metadata": {
    "slideshow": {
     "slide_type": "slide"
    }
   },
   "source": [
    "# The program is saying 99.5 is the highest temperature, but it is NOT correct!\n",
    "# What is going on here?\n"
   ]
  },
  {
   "cell_type": "markdown",
   "metadata": {
    "slideshow": {
     "slide_type": "slide"
    }
   },
   "source": [
    "<img src = \"images/Day1/type_conversions.JPG\" align=\"left\">"
   ]
  },
  {
   "cell_type": "code",
   "execution_count": 28,
   "metadata": {
    "slideshow": {
     "slide_type": "slide"
    }
   },
   "outputs": [],
   "source": [
    "#Convert the list of strings into a new-list of numbers (floats)\n",
    "\n",
    "newlist = [float(x) for x in oil_temps]"
   ]
  },
  {
   "cell_type": "code",
   "execution_count": 29,
   "metadata": {
    "slideshow": {
     "slide_type": "slide"
    }
   },
   "outputs": [
    {
     "name": "stdout",
     "output_type": "stream",
     "text": [
      "109.8\n"
     ]
    }
   ],
   "source": [
    "highest = max(newlist)\n",
    "\n",
    "print(highest)"
   ]
  },
  {
   "cell_type": "code",
   "execution_count": 30,
   "metadata": {
    "slideshow": {
     "slide_type": "slide"
    }
   },
   "outputs": [
    {
     "data": {
      "text/plain": [
       "43.22222222222222"
      ]
     },
     "execution_count": 30,
     "metadata": {},
     "output_type": "execute_result"
    }
   ],
   "source": [
    "#Convert the Farenheit into Celsius\n",
    "(highest - 32) * 5/9"
   ]
  },
  {
   "cell_type": "markdown",
   "metadata": {
    "slideshow": {
     "slide_type": "slide"
    }
   },
   "source": [
    "# Takeaways from this Exercise...\n",
    "\n",
    "1. Storing \"things\" in Variables\n",
    "2. Coverting from string to float (type conversions)\n",
    "3. Mathematical operations\n",
    "4. Lists - iterating through lists, and slicing them"
   ]
  },
  {
   "cell_type": "markdown",
   "metadata": {
    "slideshow": {
     "slide_type": "slide"
    }
   },
   "source": [
    "![Questions](images/questions.png)"
   ]
  }
 ],
 "metadata": {
  "celltoolbar": "Slideshow",
  "kernelspec": {
   "display_name": "Python 3",
   "language": "python",
   "name": "python3"
  },
  "language_info": {
   "codemirror_mode": {
    "name": "ipython",
    "version": 3
   },
   "file_extension": ".py",
   "mimetype": "text/x-python",
   "name": "python",
   "nbconvert_exporter": "python",
   "pygments_lexer": "ipython3",
   "version": "3.6.5"
  }
 },
 "nbformat": 4,
 "nbformat_minor": 2
}
