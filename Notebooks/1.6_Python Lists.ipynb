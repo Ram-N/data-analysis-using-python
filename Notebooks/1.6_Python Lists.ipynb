{
 "cells": [
  {
   "cell_type": "markdown",
   "metadata": {
    "slideshow": {
     "slide_type": "slide"
    }
   },
   "source": [
    "### 1.6\n",
    "\n",
    "# Python Lists\n",
    "#### Built-in Data Structures\n",
    "\n",
    "<img src = \"images/logo.jpg\" width=\"100\" align=\"left\">\n",
    "<br><br><br><br>Ram Narasimhan"
   ]
  },
  {
   "cell_type": "markdown",
   "metadata": {
    "slideshow": {
     "slide_type": "slide"
    }
   },
   "source": [
    "Python has several built-in **data structures** \n",
    "\n",
    "These are:\n",
    "    \n",
    "| Type Name | Example                   |Description                            |\n",
    "|-----------|---------------------------|---------------------------------------|\n",
    "| ``list``  | ``[1, 2, 3]``             | Ordered collection                    |\n",
    "| ``tuple`` | ``(1, 2, 3)``             | Immutable ordered collection          |\n",
    "| ``dict``  | ``{'a':1, 'b':2, 'c':3}`` | Unordered (key,value) mapping         |\n",
    "| ``set``   | ``{1, 2, 3}``             | Unordered collection of unique values |\n",
    "    \n",
    "As you can see, round, square, and curly brackets have distinct meanings when it comes to the type of collection produced.\n",
    "    "
   ]
  },
  {
   "cell_type": "markdown",
   "metadata": {
    "slideshow": {
     "slide_type": "slide"
    }
   },
   "source": [
    "# <div class=\"alert alert-block alert-success\"> Introduction to Python Lists    </div>\n",
    "\n",
    "\"Lists\" are a fundamental data structure in Python. We will be using them quite a bit.\n",
    "\n",
    "It is good to learn them well.\n"
   ]
  },
  {
   "cell_type": "markdown",
   "metadata": {
    "collapsed": true,
    "slideshow": {
     "slide_type": "slide"
    }
   },
   "source": [
    "#### List Topics Covered\n",
    "1. Lists\n",
    "2. Accessing Elements by Position (Index)\n",
    "3. Modifying (replacing) elements\n",
    "4. Adding Elements\n",
    "#### Tomorrow\n",
    "5. Removing Elements\n",
    "6. Sorting A List\n",
    "7. Reversing A List"
   ]
  },
  {
   "cell_type": "markdown",
   "metadata": {
    "slideshow": {
     "slide_type": "slide"
    }
   },
   "source": [
    "For the next several examples, we are going to take a list. (A list of cars.)\n",
    "We will use this list to understand LIST INDEXING and LIST SLICING.\n"
   ]
  },
  {
   "cell_type": "code",
   "execution_count": 1,
   "metadata": {
    "slideshow": {
     "slide_type": "slide"
    }
   },
   "outputs": [
    {
     "data": {
      "text/plain": [
       "['0Jaguar', '1Audi', '2BMW', '3Maserati', '4Mercedes-Benz', '5Aston Martin']"
      ]
     },
     "execution_count": 1,
     "metadata": {},
     "output_type": "execute_result"
    }
   ],
   "source": [
    "cars = [\"0Jaguar\", \"1Audi\", \"2BMW\", \"3Maserati\",\"4Mercedes-Benz\", \"5Aston Martin\"]\n",
    "cars"
   ]
  },
  {
   "cell_type": "code",
   "execution_count": 13,
   "metadata": {
    "slideshow": {
     "slide_type": "slide"
    }
   },
   "outputs": [
    {
     "name": "stdout",
     "output_type": "stream",
     "text": [
      "['Jaguar', 'Audi', 'BMW', 'Maserati', 'Mercedes-Benz', 'Aston Martin']\n"
     ]
    }
   ],
   "source": [
    "print(cars)"
   ]
  },
  {
   "cell_type": "code",
   "execution_count": 14,
   "metadata": {
    "slideshow": {
     "slide_type": "slide"
    }
   },
   "outputs": [
    {
     "data": {
      "text/plain": [
       "'Jaguar'"
      ]
     },
     "execution_count": 14,
     "metadata": {},
     "output_type": "execute_result"
    }
   ],
   "source": [
    "#List[start: upto but not including end]\n",
    "cars[0]\n"
   ]
  },
  {
   "cell_type": "markdown",
   "metadata": {
    "slideshow": {
     "slide_type": "slide"
    }
   },
   "source": [
    "# List[begin:end]\n",
    "\n",
    "upto but NOT INCLUDING the END"
   ]
  },
  {
   "cell_type": "code",
   "execution_count": 20,
   "metadata": {
    "slideshow": {
     "slide_type": "slide"
    }
   },
   "outputs": [
    {
     "data": {
      "text/plain": [
       "['Maserati', 'Mercedes-Benz', 'Aston Martin']"
      ]
     },
     "execution_count": 20,
     "metadata": {},
     "output_type": "execute_result"
    }
   ],
   "source": [
    "#cars[0:2]\n",
    "cars[3:]\n"
   ]
  },
  {
   "cell_type": "code",
   "execution_count": 30,
   "metadata": {
    "slideshow": {
     "slide_type": "slide"
    }
   },
   "outputs": [
    {
     "data": {
      "text/plain": [
       "['Audi', 'BMW', 'Maserati', 'Mercedes-Benz']"
      ]
     },
     "execution_count": 30,
     "metadata": {},
     "output_type": "execute_result"
    }
   ],
   "source": [
    "#list[start:end:step]\n",
    "#cars[4:5]\n",
    "#len(cars)\n",
    "\n",
    "cars[1:5]"
   ]
  },
  {
   "cell_type": "code",
   "execution_count": 34,
   "metadata": {
    "slideshow": {
     "slide_type": "slide"
    }
   },
   "outputs": [
    {
     "data": {
      "text/plain": [
       "['Audi', 'BMW', 'Maserati', 'Mercedes-Benz']"
      ]
     },
     "execution_count": 34,
     "metadata": {},
     "output_type": "execute_result"
    }
   ],
   "source": [
    "cars[-1] # The Last element of the list\n",
    "#print(cars)\n",
    "# print the LAST TWO ELEMENTS of a List (length unknown)\n",
    "cars[-5:-1]"
   ]
  },
  {
   "cell_type": "markdown",
   "metadata": {
    "slideshow": {
     "slide_type": "slide"
    }
   },
   "source": [
    "# List[Begin:End:Step]"
   ]
  },
  {
   "cell_type": "code",
   "execution_count": 41,
   "metadata": {
    "slideshow": {
     "slide_type": "slide"
    }
   },
   "outputs": [
    {
     "data": {
      "text/plain": [
       "['BMW']"
      ]
     },
     "execution_count": 41,
     "metadata": {},
     "output_type": "execute_result"
    }
   ],
   "source": [
    "#cars[0::1] # step of 1 = every one of the elements in the slice\n",
    "#cars[1::2] # step of 2 = every other element, starting from 1 to \"infinity\"\n",
    "#cars[::3] # All of them, in steps of 3 (Jaguar and Jeep)\n",
    "cars[2::4]\n"
   ]
  },
  {
   "cell_type": "code",
   "execution_count": 62,
   "metadata": {
    "slideshow": {
     "slide_type": "slide"
    }
   },
   "outputs": [
    {
     "name": "stdout",
     "output_type": "stream",
     "text": [
      "14\n"
     ]
    },
    {
     "data": {
      "text/plain": [
       "['Jaguar',\n",
       " 'Audi',\n",
       " 'BMW',\n",
       " 'Maserati',\n",
       " 'Mercedes-Benz',\n",
       " 'Honda',\n",
       " 'Honda2',\n",
       " 'Honda2',\n",
       " 'Honda2',\n",
       " 'Honda2',\n",
       " 'Honda2',\n",
       " 'Honda2',\n",
       " 'Honda2',\n",
       " 'Honda2']"
      ]
     },
     "execution_count": 62,
     "metadata": {},
     "output_type": "execute_result"
    }
   ],
   "source": [
    "cars[5] = \"Honda\"\n",
    "cars\n",
    "#cars.append(\"Honda2\")\n",
    "cars\n",
    "print(len(cars))\n",
    "cars\n",
    "#cars[len(cars)-1] = 'Toyota'\n",
    "#print(cars)"
   ]
  },
  {
   "cell_type": "code",
   "execution_count": null,
   "metadata": {
    "slideshow": {
     "slide_type": "slide"
    }
   },
   "outputs": [],
   "source": [
    "numbers = list(range(12))\n",
    "numbers\n",
    "numbers[:5:-2]"
   ]
  },
  {
   "cell_type": "code",
   "execution_count": 63,
   "metadata": {
    "slideshow": {
     "slide_type": "slide"
    }
   },
   "outputs": [
    {
     "name": "stdout",
     "output_type": "stream",
     "text": [
      "['a', 'e', 'i']\n"
     ]
    }
   ],
   "source": [
    "vowels = [\"a\", \"e\", \"i\"]\n",
    "print(vowels)"
   ]
  },
  {
   "cell_type": "code",
   "execution_count": 64,
   "metadata": {
    "slideshow": {
     "slide_type": "slide"
    }
   },
   "outputs": [
    {
     "name": "stdout",
     "output_type": "stream",
     "text": [
      "['a', 'e', 'i', 'o', 'u']\n"
     ]
    }
   ],
   "source": [
    "vowels.append(\"o\")\n",
    "vowels.append(\"u\")\n",
    "\n",
    "print(vowels)"
   ]
  },
  {
   "cell_type": "code",
   "execution_count": 65,
   "metadata": {
    "slideshow": {
     "slide_type": "slide"
    }
   },
   "outputs": [
    {
     "data": {
      "text/plain": [
       "['a', 'e', 'i', 'o', 'u', 'p', 'q']"
      ]
     },
     "execution_count": 65,
     "metadata": {},
     "output_type": "execute_result"
    }
   ],
   "source": [
    "vowels + ['p', 'q']"
   ]
  },
  {
   "cell_type": "markdown",
   "metadata": {
    "slideshow": {
     "slide_type": "slide"
    }
   },
   "source": [
    "# References & Acknowledgements\n",
    "\n",
    "\n",
    "[Jake's Whirlwind Tour of Python](http://nbviewer.jupyter.org/github/jakevdp/WhirlwindTourOfPython/tree/master/)  \n",
    "\n",
    "* There are many fantastic resources. (Web, YouTube, Free Online courses) Use any"
   ]
  },
  {
   "cell_type": "markdown",
   "metadata": {
    "slideshow": {
     "slide_type": "slide"
    }
   },
   "source": [
    "![Questions](images/questions.png)"
   ]
  },
  {
   "cell_type": "code",
   "execution_count": 10,
   "metadata": {},
   "outputs": [
    {
     "name": "stdout",
     "output_type": "stream",
     "text": [
      "cars ['0Jaguar', '1Audi', '2BMW', '3Maserati', '4Mercedes-Benz', '5Aston Martin']\n",
      "line1 ['5Aston Martin', '4Mercedes-Benz', '3Maserati', '2BMW', '1Audi', '0Jaguar']\n",
      "line2 4Mercedes-Benz\n",
      "line3 ['4Mercedes-Benz', '5Aston Martin']\n",
      "line4 ['4Mercedes-Benz', '3Maserati', '2BMW', '1Audi', '0Jaguar']\n"
     ]
    }
   ],
   "source": [
    "cars = [\"0Jaguar\", \"1Audi\", \"2BMW\", \"3Maserati\",\"4Mercedes-Benz\", \"5Aston Martin\"]\n",
    "print(\"cars\", cars)\n",
    "print(\"line1\", cars[::-1]) #step size of -1 means go in the reverse direction\n",
    "print(\"line2\", cars[-2]) # starting point is -2. Last element is -1, for this it the last but one element.\n",
    "print(\"line3\", cars[-2::]) # start from -2 (4Mercedes-Benz) and go till the end\n",
    "print(\"line4\", cars[-2::-1]) #start from -2 (4Mercedes-Benz) and go in OPPOSITE direction till the beginning of the list\n"
   ]
  },
  {
   "cell_type": "code",
   "execution_count": null,
   "metadata": {},
   "outputs": [],
   "source": []
  }
 ],
 "metadata": {
  "kernelspec": {
   "display_name": "Python 3",
   "language": "python",
   "name": "python3"
  },
  "language_info": {
   "codemirror_mode": {
    "name": "ipython",
    "version": 3
   },
   "file_extension": ".py",
   "mimetype": "text/x-python",
   "name": "python",
   "nbconvert_exporter": "python",
   "pygments_lexer": "ipython3",
   "version": "3.6.5"
  }
 },
 "nbformat": 4,
 "nbformat_minor": 2
}
