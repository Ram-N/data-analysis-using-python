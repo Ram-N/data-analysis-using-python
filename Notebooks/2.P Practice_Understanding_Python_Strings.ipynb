{
 "cells": [
  {
   "cell_type": "markdown",
   "metadata": {
    "slideshow": {
     "slide_type": "slide"
    }
   },
   "source": [
    "### Day 2.x\n",
    "\n",
    "# Extra String Operations \n",
    "<img src = \"images/logo.jpg\" width=\"100\" align=\"left\">\n",
    "\n",
    "<br><br><br><br>Ram Narasimhan"
   ]
  },
  {
   "cell_type": "markdown",
   "metadata": {
    "slideshow": {
     "slide_type": "slide"
    }
   },
   "source": [
    "# Reviewing String Extras\n",
    "\n",
    "**Try Running each cell in this notebook.** By studying the results, you can understand how Python strings behave. If you have any questions, just ask."
   ]
  },
  {
   "cell_type": "markdown",
   "metadata": {
    "slideshow": {
     "slide_type": "slide"
    }
   },
   "source": [
    "# How to Break a long string into \"words?\"\n",
    "\n",
    "\"Words\" are sometimes called Tokens in programming.\n",
    "So we want to break up a long string into word-tokens.\n",
    "Here's how to do it using Python. (Python has very strong (and intuitive!) support for Strings...\n"
   ]
  },
  {
   "cell_type": "code",
   "execution_count": 1,
   "metadata": {
    "slideshow": {
     "slide_type": "slide"
    }
   },
   "outputs": [
    {
     "data": {
      "text/plain": [
       "'The quick brown fox Jumped over the Lazy Dog'"
      ]
     },
     "execution_count": 1,
     "metadata": {},
     "output_type": "execute_result"
    }
   ],
   "source": [
    "#how to split a long string...\n",
    "\n",
    "long_str = \"The quick brown fox Jumped over the Lazy Dog\"\n",
    "long_str"
   ]
  },
  {
   "cell_type": "code",
   "execution_count": 2,
   "metadata": {
    "scrolled": true,
    "slideshow": {
     "slide_type": "slide"
    }
   },
   "outputs": [
    {
     "data": {
      "text/plain": [
       "['The', 'quick', 'brown', 'fox', 'Jumped', 'over', 'the', 'Lazy', 'Dog']"
      ]
     },
     "execution_count": 2,
     "metadata": {},
     "output_type": "execute_result"
    }
   ],
   "source": [
    "long_str.split(\" \")"
   ]
  },
  {
   "cell_type": "code",
   "execution_count": 3,
   "metadata": {
    "slideshow": {
     "slide_type": "slide"
    }
   },
   "outputs": [
    {
     "data": {
      "text/plain": [
       "'aeiou'"
      ]
     },
     "execution_count": 3,
     "metadata": {},
     "output_type": "execute_result"
    }
   ],
   "source": [
    "#Use join() to combine strings\n",
    "#separator = \" \"\n",
    "\n",
    "#separator.join([\"a\", \"e\", \"i\",\"o\", \"u\"])\n",
    "\"\".join([\"a\", \"e\", \"i\",\"o\", \"u\"])\n"
   ]
  },
  {
   "cell_type": "code",
   "execution_count": 3,
   "metadata": {
    "slideshow": {
     "slide_type": "slide"
    }
   },
   "outputs": [
    {
     "name": "stdout",
     "output_type": "stream",
     "text": [
      "123 \t456\n",
      "\n",
      "\n",
      "abc \n",
      "def\n"
     ]
    }
   ],
   "source": [
    "# What do /t and /n do?\n",
    "# Uncomment and run these commands, one at a time.\n",
    "print(\"123 \\t456\")\n",
    "print('\\n')\n",
    "print(\"abc \\ndef\")"
   ]
  },
  {
   "cell_type": "markdown",
   "metadata": {
    "slideshow": {
     "slide_type": "slide"
    }
   },
   "source": [
    "Now, it can be seen that `\\n` is the \"newline character\" and `\\t` is the `tab` character"
   ]
  },
  {
   "cell_type": "markdown",
   "metadata": {
    "slideshow": {
     "slide_type": "slide"
    }
   },
   "source": [
    "![Questions](images/questions.png)"
   ]
  }
 ],
 "metadata": {
  "celltoolbar": "Slideshow",
  "kernelspec": {
   "display_name": "Python 3",
   "language": "python",
   "name": "python3"
  },
  "language_info": {
   "codemirror_mode": {
    "name": "ipython",
    "version": 3
   },
   "file_extension": ".py",
   "mimetype": "text/x-python",
   "name": "python",
   "nbconvert_exporter": "python",
   "pygments_lexer": "ipython3",
   "version": "3.6.5"
  }
 },
 "nbformat": 4,
 "nbformat_minor": 2
}
