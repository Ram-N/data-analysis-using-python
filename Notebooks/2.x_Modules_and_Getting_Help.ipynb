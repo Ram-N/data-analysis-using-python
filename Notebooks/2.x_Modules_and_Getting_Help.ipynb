{
 "cells": [
  {
   "cell_type": "markdown",
   "metadata": {
    "slideshow": {
     "slide_type": "slide"
    }
   },
   "source": [
    "### Day 2.0\n",
    "\n",
    "# Modules and Getting Help \n",
    "\n",
    "<img src = \"images/logo.jpg\" width=\"100\" align=\"left\">\n",
    "\n",
    "<br><br><br><br>Ram Narasimhan"
   ]
  },
  {
   "cell_type": "code",
   "execution_count": 1,
   "metadata": {
    "slideshow": {
     "slide_type": "slide"
    }
   },
   "outputs": [
    {
     "data": {
      "text/plain": [
       "['DirEntry',\n",
       " 'F_OK',\n",
       " 'MutableMapping',\n",
       " 'O_APPEND',\n",
       " 'O_BINARY',\n",
       " 'O_CREAT',\n",
       " 'O_EXCL',\n",
       " 'O_NOINHERIT',\n",
       " 'O_RANDOM',\n",
       " 'O_RDONLY',\n",
       " 'O_RDWR',\n",
       " 'O_SEQUENTIAL',\n",
       " 'O_SHORT_LIVED',\n",
       " 'O_TEMPORARY',\n",
       " 'O_TEXT',\n",
       " 'O_TRUNC',\n",
       " 'O_WRONLY',\n",
       " 'P_DETACH',\n",
       " 'P_NOWAIT',\n",
       " 'P_NOWAITO',\n",
       " 'P_OVERLAY',\n",
       " 'P_WAIT',\n",
       " 'PathLike',\n",
       " 'R_OK',\n",
       " 'SEEK_CUR',\n",
       " 'SEEK_END',\n",
       " 'SEEK_SET',\n",
       " 'TMP_MAX',\n",
       " 'W_OK',\n",
       " 'X_OK',\n",
       " '_Environ',\n",
       " '__all__',\n",
       " '__builtins__',\n",
       " '__cached__',\n",
       " '__doc__',\n",
       " '__file__',\n",
       " '__loader__',\n",
       " '__name__',\n",
       " '__package__',\n",
       " '__spec__',\n",
       " '_execvpe',\n",
       " '_exists',\n",
       " '_exit',\n",
       " '_fspath',\n",
       " '_get_exports_list',\n",
       " '_putenv',\n",
       " '_unsetenv',\n",
       " '_wrap_close',\n",
       " 'abc',\n",
       " 'abort',\n",
       " 'access',\n",
       " 'altsep',\n",
       " 'chdir',\n",
       " 'chmod',\n",
       " 'close',\n",
       " 'closerange',\n",
       " 'cpu_count',\n",
       " 'curdir',\n",
       " 'defpath',\n",
       " 'device_encoding',\n",
       " 'devnull',\n",
       " 'dup',\n",
       " 'dup2',\n",
       " 'environ',\n",
       " 'errno',\n",
       " 'error',\n",
       " 'execl',\n",
       " 'execle',\n",
       " 'execlp',\n",
       " 'execlpe',\n",
       " 'execv',\n",
       " 'execve',\n",
       " 'execvp',\n",
       " 'execvpe',\n",
       " 'extsep',\n",
       " 'fdopen',\n",
       " 'fsdecode',\n",
       " 'fsencode',\n",
       " 'fspath',\n",
       " 'fstat',\n",
       " 'fsync',\n",
       " 'ftruncate',\n",
       " 'get_exec_path',\n",
       " 'get_handle_inheritable',\n",
       " 'get_inheritable',\n",
       " 'get_terminal_size',\n",
       " 'getcwd',\n",
       " 'getcwdb',\n",
       " 'getenv',\n",
       " 'getlogin',\n",
       " 'getpid',\n",
       " 'getppid',\n",
       " 'isatty',\n",
       " 'kill',\n",
       " 'linesep',\n",
       " 'link',\n",
       " 'listdir',\n",
       " 'lseek',\n",
       " 'lstat',\n",
       " 'makedirs',\n",
       " 'mkdir',\n",
       " 'name',\n",
       " 'open',\n",
       " 'pardir',\n",
       " 'path',\n",
       " 'pathsep',\n",
       " 'pipe',\n",
       " 'popen',\n",
       " 'putenv',\n",
       " 'read',\n",
       " 'readlink',\n",
       " 'remove',\n",
       " 'removedirs',\n",
       " 'rename',\n",
       " 'renames',\n",
       " 'replace',\n",
       " 'rmdir',\n",
       " 'scandir',\n",
       " 'sep',\n",
       " 'set_handle_inheritable',\n",
       " 'set_inheritable',\n",
       " 'spawnl',\n",
       " 'spawnle',\n",
       " 'spawnv',\n",
       " 'spawnve',\n",
       " 'st',\n",
       " 'startfile',\n",
       " 'stat',\n",
       " 'stat_float_times',\n",
       " 'stat_result',\n",
       " 'statvfs_result',\n",
       " 'strerror',\n",
       " 'supports_bytes_environ',\n",
       " 'supports_dir_fd',\n",
       " 'supports_effective_ids',\n",
       " 'supports_fd',\n",
       " 'supports_follow_symlinks',\n",
       " 'symlink',\n",
       " 'sys',\n",
       " 'system',\n",
       " 'terminal_size',\n",
       " 'times',\n",
       " 'times_result',\n",
       " 'truncate',\n",
       " 'umask',\n",
       " 'uname_result',\n",
       " 'unlink',\n",
       " 'urandom',\n",
       " 'utime',\n",
       " 'waitpid',\n",
       " 'walk',\n",
       " 'write']"
      ]
     },
     "execution_count": 1,
     "metadata": {},
     "output_type": "execute_result"
    }
   ],
   "source": [
    "import os\n",
    "dir(os)"
   ]
  },
  {
   "cell_type": "markdown",
   "metadata": {
    "slideshow": {
     "slide_type": "slide"
    }
   },
   "source": [
    "## Tip of the Day:\n",
    "\n",
    "You can use Tab in Jupyter. It will fill the text, if possible. (Can be very useful)\n",
    "![Tab help](images/jupyter_tab_help2.JPG)"
   ]
  },
  {
   "cell_type": "markdown",
   "metadata": {
    "slideshow": {
     "slide_type": "slide"
    }
   },
   "source": [
    "# How to see all the Python functions?\n",
    "\n",
    "### How do you see all the functions in any module?"
   ]
  },
  {
   "cell_type": "code",
   "execution_count": 1,
   "metadata": {
    "slideshow": {
     "slide_type": "slide"
    }
   },
   "outputs": [
    {
     "data": {
      "text/plain": [
       "['ArithmeticError',\n",
       " 'AssertionError',\n",
       " 'AttributeError',\n",
       " 'BaseException',\n",
       " 'BlockingIOError',\n",
       " 'BrokenPipeError',\n",
       " 'BufferError',\n",
       " 'BytesWarning',\n",
       " 'ChildProcessError',\n",
       " 'ConnectionAbortedError',\n",
       " 'ConnectionError',\n",
       " 'ConnectionRefusedError',\n",
       " 'ConnectionResetError',\n",
       " 'DeprecationWarning',\n",
       " 'EOFError',\n",
       " 'Ellipsis',\n",
       " 'EnvironmentError',\n",
       " 'Exception',\n",
       " 'False',\n",
       " 'FileExistsError',\n",
       " 'FileNotFoundError',\n",
       " 'FloatingPointError',\n",
       " 'FutureWarning',\n",
       " 'GeneratorExit',\n",
       " 'IOError',\n",
       " 'ImportError',\n",
       " 'ImportWarning',\n",
       " 'IndentationError',\n",
       " 'IndexError',\n",
       " 'InterruptedError',\n",
       " 'IsADirectoryError',\n",
       " 'KeyError',\n",
       " 'KeyboardInterrupt',\n",
       " 'LookupError',\n",
       " 'MemoryError',\n",
       " 'ModuleNotFoundError',\n",
       " 'NameError',\n",
       " 'None',\n",
       " 'NotADirectoryError',\n",
       " 'NotImplemented',\n",
       " 'NotImplementedError',\n",
       " 'OSError',\n",
       " 'OverflowError',\n",
       " 'PendingDeprecationWarning',\n",
       " 'PermissionError',\n",
       " 'ProcessLookupError',\n",
       " 'RecursionError',\n",
       " 'ReferenceError',\n",
       " 'ResourceWarning',\n",
       " 'RuntimeError',\n",
       " 'RuntimeWarning',\n",
       " 'StopAsyncIteration',\n",
       " 'StopIteration',\n",
       " 'SyntaxError',\n",
       " 'SyntaxWarning',\n",
       " 'SystemError',\n",
       " 'SystemExit',\n",
       " 'TabError',\n",
       " 'TimeoutError',\n",
       " 'True',\n",
       " 'TypeError',\n",
       " 'UnboundLocalError',\n",
       " 'UnicodeDecodeError',\n",
       " 'UnicodeEncodeError',\n",
       " 'UnicodeError',\n",
       " 'UnicodeTranslateError',\n",
       " 'UnicodeWarning',\n",
       " 'UserWarning',\n",
       " 'ValueError',\n",
       " 'Warning',\n",
       " 'WindowsError',\n",
       " 'ZeroDivisionError',\n",
       " '__IPYTHON__',\n",
       " '__build_class__',\n",
       " '__debug__',\n",
       " '__doc__',\n",
       " '__import__',\n",
       " '__loader__',\n",
       " '__name__',\n",
       " '__package__',\n",
       " '__spec__',\n",
       " 'abs',\n",
       " 'all',\n",
       " 'any',\n",
       " 'ascii',\n",
       " 'bin',\n",
       " 'bool',\n",
       " 'bytearray',\n",
       " 'bytes',\n",
       " 'callable',\n",
       " 'chr',\n",
       " 'classmethod',\n",
       " 'compile',\n",
       " 'complex',\n",
       " 'copyright',\n",
       " 'credits',\n",
       " 'delattr',\n",
       " 'dict',\n",
       " 'dir',\n",
       " 'display',\n",
       " 'divmod',\n",
       " 'enumerate',\n",
       " 'eval',\n",
       " 'exec',\n",
       " 'filter',\n",
       " 'float',\n",
       " 'format',\n",
       " 'frozenset',\n",
       " 'get_ipython',\n",
       " 'getattr',\n",
       " 'globals',\n",
       " 'hasattr',\n",
       " 'hash',\n",
       " 'help',\n",
       " 'hex',\n",
       " 'id',\n",
       " 'input',\n",
       " 'int',\n",
       " 'isinstance',\n",
       " 'issubclass',\n",
       " 'iter',\n",
       " 'len',\n",
       " 'license',\n",
       " 'list',\n",
       " 'locals',\n",
       " 'map',\n",
       " 'max',\n",
       " 'memoryview',\n",
       " 'min',\n",
       " 'next',\n",
       " 'object',\n",
       " 'oct',\n",
       " 'open',\n",
       " 'ord',\n",
       " 'pow',\n",
       " 'print',\n",
       " 'property',\n",
       " 'range',\n",
       " 'repr',\n",
       " 'reversed',\n",
       " 'round',\n",
       " 'set',\n",
       " 'setattr',\n",
       " 'slice',\n",
       " 'sorted',\n",
       " 'staticmethod',\n",
       " 'str',\n",
       " 'sum',\n",
       " 'super',\n",
       " 'tuple',\n",
       " 'type',\n",
       " 'vars',\n",
       " 'zip']"
      ]
     },
     "execution_count": 1,
     "metadata": {},
     "output_type": "execute_result"
    }
   ],
   "source": [
    "dir(__builtin__) #hit tab and demonstrate"
   ]
  },
  {
   "cell_type": "markdown",
   "metadata": {
    "slideshow": {
     "slide_type": "slide"
    }
   },
   "source": [
    "# Where are all your iPython Notebooks being stored?\n",
    "\n",
    "Two commands for you to try...\n",
    "\n",
    "!cd \n",
    "and !ls"
   ]
  },
  {
   "cell_type": "code",
   "execution_count": 2,
   "metadata": {
    "slideshow": {
     "slide_type": "slide"
    }
   },
   "outputs": [
    {
     "name": "stdout",
     "output_type": "stream",
     "text": [
      "C:\\Users\\Ram\\Py Library\\data-analysis-using-python\n"
     ]
    }
   ],
   "source": [
    "!cd"
   ]
  },
  {
   "cell_type": "code",
   "execution_count": 3,
   "metadata": {
    "slideshow": {
     "slide_type": "slide"
    }
   },
   "outputs": [
    {
     "name": "stdout",
     "output_type": "stream",
     "text": [
      " Volume in drive C is OSDisk\n",
      " Volume Serial Number is 0CAF-0346\n",
      "\n",
      " Directory of C:\\Users\\Ram\\Py Library\\data-analysis-using-python\n",
      "\n",
      "02/07/2018  07:38 PM    <DIR>          .\n",
      "02/07/2018  07:38 PM    <DIR>          ..\n",
      "03/26/2017  07:03 PM                43 .gitignore\n",
      "02/07/2018  07:29 PM    <DIR>          .ipynb_checkpoints\n",
      "09/28/2017  11:36 PM             5,000 _Name Picker.ipynb\n",
      "09/29/2017  12:57 AM             2,284 _Table_Picker.ipynb\n",
      "02/07/2018  03:36 PM             6,296 _TEMPLATE.ipynb\n",
      "02/06/2018  12:15 PM            11,977 1.1_Introduction to Jupyter Notebooks.ipynb\n",
      "02/06/2018  11:24 AM            17,484 1.2_Taking_Python_For_A_Test_Drive.ipynb\n",
      "02/06/2018  11:52 AM             5,219 1.3_Getting Started with Python.ipynb\n",
      "02/06/2018  12:22 PM            14,217 1.4_Arithmetic_and_String_Operations in Python.ipynb\n",
      "02/06/2018  09:15 PM             9,281 1.5_Python Lists.ipynb\n",
      "02/06/2018  10:49 PM             3,305 1.6_Exercise_Lists_based_practice.ipynb\n",
      "02/07/2018  07:38 PM             6,322 1.6s_Exercise_SOLUTION_Lists_based.ipynb\n",
      "02/06/2018  09:19 PM             3,315 2,x_Exercise_Lists_based.ipynb\n",
      "11/04/2017  03:28 PM            78,897 3_EXTRA_Saving_Plots_to_Files.ipynb\n",
      "10/06/2017  10:46 AM            33,083 4.0_Clarifying_Concepts.ipynb\n",
      "12/27/2017  04:45 PM           126,378 4.2_YNP_Introduction to Linear Regression.ipynb\n",
      "12/24/2017  08:02 AM           171,679 4.5_Exercise LM_China_OilField_output_prediction.ipynb\n",
      "01/14/2018  08:59 PM           754,769 4.6_Exercise_ESP_Classification.ipynb\n",
      "10/06/2017  10:07 AM            62,794 5.1_Statistics_with_Pasta.ipynb\n",
      "10/06/2017  10:04 AM            30,557 5.3 Probabilities Using Python.ipynb\n",
      "10/06/2017  09:54 AM           208,038 6.3 IOT for Personal Data - Quantified Self.ipynb\n",
      "10/06/2017  09:51 AM            13,547 6.4 IoT Analyzing Personal Phone Calls.ipynb\n",
      "10/08/2017  11:21 AM           166,689 6.4 IoT Analyzing Personal Phone Calls.zip\n",
      "10/06/2017  06:44 AM             3,457 7.0 A few plotting concepts.ipynb\n",
      "10/06/2017  06:42 AM             7,283 7.1_Getting_Data_From_the_Web.ipynb\n",
      "10/06/2017  06:39 AM             4,959 7.2_Retirement_Simulation.ipynb\n",
      "10/06/2017  06:35 AM            26,673 7.3_Vendor_Simulation.ipynb\n",
      "12/18/2017  02:09 PM            10,049 7.4_SOLUTION_Vendor_Simulation.ipynb\n",
      "10/06/2017  06:25 AM             4,109 8.1 Python Concepts Recap.ipynb\n",
      "02/05/2018  12:38 PM            23,789 A.png\n",
      "02/05/2018  12:38 PM            22,607 AC_plot.png\n",
      "02/07/2018  10:47 AM    <DIR>          admin\n",
      "02/05/2018  12:38 PM            23,813 B.png\n",
      "04/17/2017  09:41 PM         2,093,749 basic-line.html\n",
      "02/05/2018  12:38 PM            25,427 C.png\n",
      "09/10/2017  03:49 PM    <DIR>          checklist\n",
      "12/22/2017  05:44 PM    <DIR>          data\n",
      "10/12/2017  09:18 AM         2,434,067 data.zip\n",
      "09/24/2017  10:28 PM    <DIR>          Day 1 Python Intro\n",
      "07/24/2017  12:13 PM    <DIR>          Day 2 Python Viz\n",
      "09/11/2017  09:22 PM    <DIR>          Day 3 Big Data - Time Series\n",
      "07/24/2017  12:03 PM    <DIR>          Day 7 Digital Twin & Simulation\n",
      "07/16/2017  04:52 PM    <DIR>          Day 8 Brilliant Factory\n",
      "09/11/2017  10:02 PM    <DIR>          Day 9 Team Presentations -  Case Studies\n",
      "09/17/2017  10:22 AM             3,329 Day_0_Checklist.ipynb\n",
      "10/06/2017  06:13 PM            19,352 Day_2.0_Assorted.ipynb\n",
      "10/06/2017  06:15 PM             7,385 Day_2.1_Using Variables.ipynb\n",
      "10/06/2017  06:18 PM         3,018,882 Day_2.2_Flow of Control in Python.ipynb\n",
      "10/06/2017  06:20 PM             9,714 Day_2.3_Functions.ipynb\n",
      "10/06/2017  06:21 PM             8,602 Day_2.4_Python Dictionaries.ipynb\n",
      "09/20/2017  01:52 AM             6,119 Day_2.5_List_Slicing_Extra.ipynb\n",
      "10/06/2017  06:31 PM             3,784 Day_2.5_SOLUTION_to_Exercise.ipynb\n",
      "10/08/2017  11:22 AM           185,565 Day_2.5_SOLUTION_to_Exercise.zip\n",
      "09/17/2017  01:16 AM            34,143 Day_2_Reading A File.ipynb\n",
      "09/21/2017  12:27 AM            11,639 Day_3.0_Start_and_Tips.ipynb\n",
      "11/04/2017  10:50 AM            64,704 Day_3.1_Plotting in Python Using Seaborn.ipynb\n",
      "10/06/2017  06:06 PM            18,628 Day_3.2 Pandas_At_Work_Movies_Example.ipynb\n",
      "09/23/2017  11:16 AM            40,617 Day_3.3 Loading and Viewing DataFrames (and Series).ipynb\n",
      "10/06/2017  05:20 PM             8,679 Day_3.4 Selecting Data (Using Boolean Masks).ipynb\n",
      "10/06/2017  05:18 PM             8,199 Day_3.5 SOLUTIONS to Data Manipulation Exercise.ipynb\n",
      "09/21/2017  08:09 AM             4,336 Day_3.5_Exercise Data Manipulation_with_Pandas.ipynb\n",
      "10/06/2017  05:13 PM             3,708 Day_3_Team_Challenge_10 Minutes.ipynb\n",
      "10/06/2017  10:43 AM            40,791 Day_4.3_Linear_Regression_mtcars_mpg_Example.ipynb\n",
      "09/21/2017  08:43 AM           318,920 Day_4_Decision Trees_Using_sklearn.ipynb\n",
      "09/10/2017  08:24 PM           256,919 Day_4_SOLUTION_Decision Trees_ESPs.ipynb\n",
      "08/30/2017  11:47 AM            60,223 Day_7_BearingFailure.ipynb\n",
      "09/17/2017  01:20 AM            31,982 Day_8_Mfg_data generation.ipynb\n",
      "07/21/2017  01:46 PM             4,424 DELETE Day_1 Introduction to Python Lists.ipynb\n",
      "07/21/2017  10:43 AM             7,724 DELETE_Day_1_Intro to Dictionaries.ipynb\n",
      "09/13/2017  09:43 AM             8,750 Delete_Pandas_at_work_Movies.ipynb\n",
      "07/19/2017  08:11 AM             8,756 Error Handling Basics.ipynb\n",
      "02/06/2018  11:05 AM             4,356 Everything notes for Py Analysis class.txt\n",
      "09/18/2017  09:14 AM         3,010,777 Files_to_Upload.zip\n",
      "03/23/2017  08:06 PM         1,161,393 GMM Basics.pptx\n",
      "02/07/2018  10:54 AM    <DIR>          Handouts\n",
      "02/06/2018  12:33 PM    <DIR>          images\n",
      "10/12/2017  09:17 AM         4,596,975 images.zip\n",
      "09/28/2017  07:18 AM            88,771 IMG_0496.JPG\n",
      "01/14/2018  08:06 PM            19,559 Internal_x4.6_Exercise_ESP_Data_Generation.ipynb\n",
      "10/12/2017  06:06 PM            55,829 Ipython Tricks & Tips.ipynb\n",
      "09/10/2017  08:30 PM             1,617 iris.dot\n",
      "11/04/2017  12:43 PM            16,949 junk.png\n",
      "10/12/2017  05:16 PM            15,514 Jupyter Tips and Tricks.ipynb\n",
      "08/25/2017  11:24 AM            45,447 Logistic Regression - SP500 Next Day prediction.ipynb\n",
      "06/24/2017  09:16 PM            13,149 merged.ipynb\n",
      "07/13/2017  03:17 PM            12,504 modules.xlsx\n",
      "06/24/2017  09:14 PM             1,096 nbmerge.py\n",
      "09/02/2017  09:53 AM            17,727 OGDF_Sep2017_modules - Copy.xlsx\n",
      "12/22/2017  05:32 PM            33,918 OGDF_Sep2017_modules.xlsx\n",
      "08/30/2017  09:02 AM            44,458 OLD_CoinToss.ipynb\n",
      "09/23/2017  01:18 PM            33,892 Old5.1_Stats_with_Pasta.ipynb\n",
      "11/04/2017  12:44 PM    <DIR>          output\n",
      "04/03/2017  06:32 AM            59,951 Pandas Panels.ipynb\n",
      "12/21/2017  04:04 PM            17,180 Pandas Tricks and Tips.ipynb\n",
      "09/11/2017  09:42 PM            47,514 Pandas_Bio8366_Useful_cells.ipynb\n",
      "09/11/2017  09:20 PM            66,460 pandas_full_reference.ipynb\n",
      "04/17/2017  10:23 PM            12,686 Plotly Basics.ipynb\n",
      "02/07/2018  10:58 AM    <DIR>          Presentations\n",
      "06/24/2017  09:02 PM           279,034 Probabilities Using Python.slides.html\n",
      "03/17/2017  01:25 PM           195,813 Probability with Python.slides.html\n",
      "07/04/2017  07:40 AM    <DIR>          probability_basics\n",
      "03/27/2017  07:35 PM            56,379 Python Lists.pptx\n",
      "07/19/2017  12:55 PM           279,993 Reading A File.slides.html\n",
      "03/17/2017  07:52 AM                29 README.md\n",
      "09/26/2017  12:04 AM           154,608 REDO_6.1_Self_Test_True_False.ipynb\n",
      "03/24/2017  08:38 AM           206,421 Reproducible Analysis.pptx\n",
      "03/17/2017  09:49 AM    <DIR>          reveal.js\n",
      "09/09/2017  06:06 PM            38,156 RF_Importances_Pos_Neg.ipynb\n",
      "11/04/2017  12:20 PM            14,250 seaborn_line_plot.png\n",
      "09/17/2017  01:19 AM             5,796 SKIP_Day_2_List Comprehensions.ipynb\n",
      "09/20/2017  05:30 PM            92,745 SKIP_Day_3.x_Basics of Plotting using Python.ipynb\n",
      "09/21/2017  10:33 PM             1,563 SKIP_Day_4.1_Count Buckets Challenge.ipynb\n",
      "09/21/2017  10:33 PM             4,223 SKIP_Day_4.4_Language Translation Exercise.ipynb\n",
      "03/17/2017  01:13 PM           198,204 Slide starter.slides.html\n",
      "12/20/2017  01:24 PM             4,554 Snakes and Ladders.ipynb\n",
      "12/22/2017  01:46 PM         1,701,545 SOLUTION - Final Project.ipynb\n",
      "11/06/2017  01:01 PM            46,679 Statistics_with_candies.ipynb\n",
      "02/07/2018  02:46 PM    <DIR>          styles\n",
      "04/17/2017  09:14 PM         2,093,684 temp-plot.html\n",
      "02/05/2018  12:38 PM             5,032 test.png\n",
      "04/01/2017  06:41 PM             2,490 Time Series with Pandas.ipynb\n",
      "09/26/2017  12:16 PM            84,228 Untitled.ipynb\n",
      "07/18/2017  10:16 AM           270,751 Untitled.slides.html\n",
      "12/18/2017  02:05 PM                 0 untitled.txt\n",
      "09/12/2017  06:40 PM            11,136 Untitled1.ipynb\n",
      "02/06/2018  10:29 PM            49,510 Untitled10.ipynb\n",
      "02/06/2018  10:32 PM                72 Untitled11.ipynb\n",
      "09/20/2017  11:31 AM             1,212 Untitled2.ipynb\n",
      "02/06/2018  10:39 PM               581 Untitled3.ipynb\n",
      "02/05/2018  09:13 PM               581 Untitled9.ipynb\n",
      "03/23/2017  08:19 PM            56,006 Use Case - R^2 for random numbers.pptx\n",
      "07/24/2017  12:18 PM    <DIR>          Use Cases - Extras\n",
      "09/07/2017  07:31 PM           230,026 vendors.csv\n",
      "12/18/2017  02:45 PM               436 Volcano data description.txt\n",
      "             116 File(s)     26,070,489 bytes\n",
      "              20 Dir(s)  791,932,821,504 bytes free\n"
     ]
    }
   ],
   "source": [
    "%ls"
   ]
  },
  {
   "cell_type": "code",
   "execution_count": 4,
   "metadata": {
    "slideshow": {
     "slide_type": "slide"
    }
   },
   "outputs": [],
   "source": [
    "import math\n",
    "import os"
   ]
  },
  {
   "cell_type": "code",
   "execution_count": 5,
   "metadata": {
    "slideshow": {
     "slide_type": "slide"
    }
   },
   "outputs": [
    {
     "data": {
      "text/plain": [
       "['__doc__',\n",
       " '__loader__',\n",
       " '__name__',\n",
       " '__package__',\n",
       " '__spec__',\n",
       " 'acos',\n",
       " 'acosh',\n",
       " 'asin',\n",
       " 'asinh',\n",
       " 'atan',\n",
       " 'atan2',\n",
       " 'atanh',\n",
       " 'ceil',\n",
       " 'copysign',\n",
       " 'cos',\n",
       " 'cosh',\n",
       " 'degrees',\n",
       " 'e',\n",
       " 'erf',\n",
       " 'erfc',\n",
       " 'exp',\n",
       " 'expm1',\n",
       " 'fabs',\n",
       " 'factorial',\n",
       " 'floor',\n",
       " 'fmod',\n",
       " 'frexp',\n",
       " 'fsum',\n",
       " 'gamma',\n",
       " 'gcd',\n",
       " 'hypot',\n",
       " 'inf',\n",
       " 'isclose',\n",
       " 'isfinite',\n",
       " 'isinf',\n",
       " 'isnan',\n",
       " 'ldexp',\n",
       " 'lgamma',\n",
       " 'log',\n",
       " 'log10',\n",
       " 'log1p',\n",
       " 'log2',\n",
       " 'modf',\n",
       " 'nan',\n",
       " 'pi',\n",
       " 'pow',\n",
       " 'radians',\n",
       " 'sin',\n",
       " 'sinh',\n",
       " 'sqrt',\n",
       " 'tan',\n",
       " 'tanh',\n",
       " 'tau',\n",
       " 'trunc']"
      ]
     },
     "execution_count": 5,
     "metadata": {},
     "output_type": "execute_result"
    }
   ],
   "source": [
    "dir(math)"
   ]
  },
  {
   "cell_type": "code",
   "execution_count": 6,
   "metadata": {
    "slideshow": {
     "slide_type": "slide"
    }
   },
   "outputs": [
    {
     "name": "stdout",
     "output_type": "stream",
     "text": [
      "Help on built-in function sin in module math:\n",
      "\n",
      "sin(...)\n",
      "    sin(x)\n",
      "    \n",
      "    Return the sine of x (measured in radians).\n",
      "\n"
     ]
    }
   ],
   "source": [
    "help(math.sin)"
   ]
  },
  {
   "cell_type": "code",
   "execution_count": null,
   "metadata": {
    "scrolled": true,
    "slideshow": {
     "slide_type": "slide"
    }
   },
   "outputs": [],
   "source": [
    "help"
   ]
  },
  {
   "cell_type": "markdown",
   "metadata": {},
   "source": [
    "![Google Search for anything Python](images/py_google_search.JPG)"
   ]
  },
  {
   "cell_type": "markdown",
   "metadata": {
    "slideshow": {
     "slide_type": "slide"
    }
   },
   "source": [
    "![Questions](images/questions.png)"
   ]
  }
 ],
 "metadata": {
  "kernelspec": {
   "display_name": "Python 3",
   "language": "python",
   "name": "python3"
  },
  "language_info": {
   "codemirror_mode": {
    "name": "ipython",
    "version": 3
   },
   "file_extension": ".py",
   "mimetype": "text/x-python",
   "name": "python",
   "nbconvert_exporter": "python",
   "pygments_lexer": "ipython3",
   "version": "3.6.5"
  }
 },
 "nbformat": 4,
 "nbformat_minor": 2
}
