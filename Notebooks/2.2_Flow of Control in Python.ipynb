{
 "cells": [
  {
   "cell_type": "markdown",
   "metadata": {
    "slideshow": {
     "slide_type": "slide"
    }
   },
   "source": [
    "# 2.2\n",
    "\n",
    "### Day 2\n",
    "\n",
    "# Flow of Control in Python\n",
    "\n",
    "<img src = \"images/logo.jpg\" width=\"100\" align=\"left\">\n",
    "\n",
    "<br><br><br><br>Ram Narasimhan"
   ]
  },
  {
   "cell_type": "markdown",
   "metadata": {
    "slideshow": {
     "slide_type": "slide"
    }
   },
   "source": [
    "### What do we mean by\n",
    "# <div class=\"alert alert-block alert-success\"> Flow of Control?\n"
   ]
  },
  {
   "cell_type": "markdown",
   "metadata": {
    "slideshow": {
     "slide_type": "slide"
    }
   },
   "source": [
    "* Sometimes, we want the program to jump to different parts of the code\n",
    "* In Python, to do this we have two options:\n",
    "\n",
    "    **1. If Statements**    \n",
    "    **2. Loops**\n",
    "    \n",
    "* Both of these need BOOLEAN Expressions"
   ]
  },
  {
   "cell_type": "markdown",
   "metadata": {
    "slideshow": {
     "slide_type": "slide"
    }
   },
   "source": [
    "# <div class=\"alert alert-block alert-warning\"> Understanding Boolean Logic\n",
    "\n",
    "## What is it?"
   ]
  },
  {
   "cell_type": "markdown",
   "metadata": {
    "slideshow": {
     "slide_type": "slide"
    }
   },
   "source": [
    "Boolean Logic involves working with **True** and **False** values.\n",
    "\n",
    "Python uses **and**, **or**, and **not** \n",
    "\n",
    "Also, **>, <, >=, <=, \"==\"** and **!=**\n"
   ]
  },
  {
   "cell_type": "code",
   "execution_count": null,
   "metadata": {
    "slideshow": {
     "slide_type": "slide"
    }
   },
   "outputs": [],
   "source": [
    "x = 3\n",
    "y = 4\n",
    "\n",
    "#x == y\n",
    "x != y\n"
   ]
  },
  {
   "cell_type": "code",
   "execution_count": null,
   "metadata": {
    "slideshow": {
     "slide_type": "slide"
    }
   },
   "outputs": [],
   "source": [
    "x = 3\n",
    "y = 4\n",
    "\n",
    "#x < 3 and  y < 4\n",
    "#x>3 or y>3 # is one of those statements True#\n",
    "x>3 and y>3 # is one of those statements True#\n"
   ]
  },
  {
   "cell_type": "code",
   "execution_count": null,
   "metadata": {
    "slideshow": {
     "slide_type": "slide"
    }
   },
   "outputs": [],
   "source": [
    "# Negation\n",
    "\n",
    "#not False\n",
    "\n",
    "a = (3 > 2) #True\n",
    "b = (5 > 9) # False\n",
    "#print(a and b)\n",
    "#a, b, a and b, a or b\n",
    "(a and b) and c"
   ]
  },
  {
   "cell_type": "markdown",
   "metadata": {
    "slideshow": {
     "slide_type": "slide"
    }
   },
   "source": [
    "![Truth Table](images/py_truth_table_open.JPG)"
   ]
  },
  {
   "cell_type": "markdown",
   "metadata": {
    "slideshow": {
     "slide_type": "slide"
    }
   },
   "source": [
    "![Truth Table](images/py_truth_table_filled.JPG)"
   ]
  },
  {
   "cell_type": "markdown",
   "metadata": {
    "slideshow": {
     "slide_type": "slide"
    }
   },
   "source": [
    "    \n",
    "# <div class=\"alert alert-block alert-success\"> Now we are ready for Flow of Control\n",
    " \n",
    "</div>"
   ]
  },
  {
   "cell_type": "markdown",
   "metadata": {
    "slideshow": {
     "slide_type": "slide"
    }
   },
   "source": [
    "# If Statements\n",
    "\n",
    "\n",
    "### Let's use these Boolean expressions that we have learned\n"
   ]
  },
  {
   "cell_type": "code",
   "execution_count": null,
   "metadata": {
    "slideshow": {
     "slide_type": "slide"
    }
   },
   "outputs": [],
   "source": [
    "phone = \"Android\"\n",
    "#phone = \"iPhone\"\n",
    "\n",
    "if phone == \"Android\":\n",
    "    print(\"Steps\")    \n",
    "    print(\"Moment\")\n",
    "else:\n",
    "    print(\"Bandicoot\")"
   ]
  },
  {
   "cell_type": "markdown",
   "metadata": {
    "slideshow": {
     "slide_type": "slide"
    }
   },
   "source": [
    "# Code Indentation\n",
    "\n",
    "\n",
    "### Notice the 4 white spaces in the new line after If:"
   ]
  },
  {
   "cell_type": "code",
   "execution_count": null,
   "metadata": {
    "slideshow": {
     "slide_type": "slide"
    }
   },
   "outputs": [],
   "source": [
    "#phone = \"Andriod\"\n",
    "phone = \"iPhone\"\n",
    "#phone = \"Samsung\"\n",
    "\n",
    "if phone == \"iPhone\":\n",
    "    print(\"Steps\")\n",
    "    print(\"Moment\")\n",
    "else:\n",
    "    print(\"Bandicoot\")\n",
    "\n",
    "print(\"Done\")\n",
    "\n",
    "print(\"Already Done\")"
   ]
  },
  {
   "cell_type": "code",
   "execution_count": null,
   "metadata": {
    "slideshow": {
     "slide_type": "slide"
    }
   },
   "outputs": [],
   "source": [
    "#phone = \"Andriod\"\n",
    "#phone = \"iPhone\"\n",
    "phone = \"Samsung\"\n",
    "if (phone == \"iPhone\"):\n",
    "    print(\"Steps\")\n",
    "elif phone == 'Samsung':\n",
    "    print('sam')\n",
    "else:\n",
    "    print(\"Bandicoot\")\n",
    "\n",
    "print(\"Done\")\n",
    "\n",
    "print(\"Already Done\")"
   ]
  },
  {
   "cell_type": "markdown",
   "metadata": {
    "slideshow": {
     "slide_type": "slide"
    }
   },
   "source": [
    "# Use of Elif (Else if)\n",
    "\n",
    "if(condition 1):\n",
    "\n",
    "    do some actions\n",
    "    \n",
    "elif(condition 2):\n",
    "\n",
    "    do other actions\n",
    "    \n",
    "else:\n",
    "\n",
    "    do this if nothing matches"
   ]
  },
  {
   "cell_type": "code",
   "execution_count": null,
   "metadata": {
    "slideshow": {
     "slide_type": "slide"
    }
   },
   "outputs": [],
   "source": [
    "temp = 9\n",
    "\n",
    "if(temp < 0):\n",
    "    wear = \"winter_jacket\"\n",
    "elif(temp <= 7):\n",
    "    wear = \"light_jacket\" \n",
    "else:\n",
    "    wear = \"T-shirt\"\n",
    "\n",
    "print(wear)"
   ]
  },
  {
   "cell_type": "code",
   "execution_count": null,
   "metadata": {
    "slideshow": {
     "slide_type": "slide"
    }
   },
   "outputs": [],
   "source": [
    "temp = 20\n",
    "\n",
    "if(temp < 0):\n",
    "    wear = \"winter_jacket\"    \n",
    "    print(wear)\n",
    "if(temp <= 7):\n",
    "    wear = \"light_jacket\" \n",
    "    print(wear)\n",
    "else:\n",
    "    wear = \"T-shirt\"\n",
    "    print(wear)\n",
    "\n",
    "print(\"from here\",wear)"
   ]
  },
  {
   "cell_type": "markdown",
   "metadata": {
    "slideshow": {
     "slide_type": "slide"
    }
   },
   "source": [
    "### Using Loops in Python\n",
    "# <div class=\"alert alert-block alert-success\"> Loops\n"
   ]
  },
  {
   "cell_type": "markdown",
   "metadata": {
    "slideshow": {
     "slide_type": "slide"
    }
   },
   "source": [
    "# There are 2 kinds of Loops.\n",
    "\n",
    "##  1. *For* Loops\n",
    "## 2. *While* Loops"
   ]
  },
  {
   "cell_type": "code",
   "execution_count": null,
   "metadata": {
    "slideshow": {
     "slide_type": "slide"
    }
   },
   "outputs": [],
   "source": [
    "#list(range(8)):\n",
    "for b in [0,1,2,3,4,5,6,7]:\n",
    "    print(b*2, b*3)\n",
    "print(b*2, b*3)\n",
    "print(\"For loop is done\")"
   ]
  },
  {
   "cell_type": "code",
   "execution_count": null,
   "metadata": {
    "slideshow": {
     "slide_type": "slide"
    }
   },
   "outputs": [],
   "source": [
    "for elem in [3, 5, 7, 10]:\n",
    "    print(elem * (elem+1))"
   ]
  },
  {
   "cell_type": "markdown",
   "metadata": {
    "slideshow": {
     "slide_type": "slide"
    }
   },
   "source": [
    "In the for loop \"for i in range(x)\" i is called the **index** variable.\n",
    "\n",
    "If you have loops inside a loop, then it is common to use j, k etc."
   ]
  },
  {
   "cell_type": "code",
   "execution_count": null,
   "metadata": {
    "slideshow": {
     "slide_type": "slide"
    }
   },
   "outputs": [],
   "source": [
    "for a in [3,4,5]:\n",
    "    for b in [1,2]:\n",
    "        print(a+b)"
   ]
  },
  {
   "cell_type": "markdown",
   "metadata": {
    "slideshow": {
     "slide_type": "slide"
    }
   },
   "source": [
    "Have we understood it?\n",
    "\n",
    "### <div class=\"alert alert-block alert-info\">Let us test ourselves...</div>\n"
   ]
  },
  {
   "cell_type": "markdown",
   "metadata": {
    "collapsed": true,
    "slideshow": {
     "slide_type": "slide"
    }
   },
   "source": [
    "\n",
    "# How to print the numbers from 1 to 8? (Instead of 0 to 7?)"
   ]
  },
  {
   "cell_type": "code",
   "execution_count": null,
   "metadata": {
    "slideshow": {
     "slide_type": "slide"
    }
   },
   "outputs": [],
   "source": [
    "for i in range(7):\n",
    "    print(i)"
   ]
  },
  {
   "cell_type": "markdown",
   "metadata": {
    "slideshow": {
     "slide_type": "slide"
    }
   },
   "source": [
    "# Any other way to do this?\n",
    "\n"
   ]
  },
  {
   "cell_type": "code",
   "execution_count": null,
   "metadata": {
    "slideshow": {
     "slide_type": "slide"
    }
   },
   "outputs": [],
   "source": [
    "for i in range(8):\n",
    "    print(i+1)"
   ]
  },
  {
   "cell_type": "markdown",
   "metadata": {
    "slideshow": {
     "slide_type": "slide"
    }
   },
   "source": [
    "# How to print 8 to 1 (in reverse order!)?"
   ]
  },
  {
   "cell_type": "markdown",
   "metadata": {
    "slideshow": {
     "slide_type": "slide"
    }
   },
   "source": [
    "# Hint. Try \"help(range)\""
   ]
  },
  {
   "cell_type": "code",
   "execution_count": null,
   "metadata": {
    "slideshow": {
     "slide_type": "slide"
    }
   },
   "outputs": [],
   "source": [
    "for i in range(8,0, -1):\n",
    "    print(i)"
   ]
  },
  {
   "cell_type": "code",
   "execution_count": null,
   "metadata": {
    "slideshow": {
     "slide_type": "slide"
    }
   },
   "outputs": [],
   "source": [
    "for i in range(8):\n",
    "    print(8-i) # nice trick!"
   ]
  },
  {
   "cell_type": "markdown",
   "metadata": {
    "slideshow": {
     "slide_type": "slide"
    }
   },
   "source": [
    "# <div class=\"alert alert-block alert-warning\">It is quite common to use *For* Loops in Python.</div>\n",
    "## We will see this more when we look at lists again"
   ]
  },
  {
   "cell_type": "markdown",
   "metadata": {
    "slideshow": {
     "slide_type": "slide"
    }
   },
   "source": [
    "### A quick look at:\n",
    "\n",
    "# <div class=\"alert alert-block alert-warning\">*While* Loops "
   ]
  },
  {
   "cell_type": "code",
   "execution_count": null,
   "metadata": {
    "slideshow": {
     "slide_type": "slide"
    }
   },
   "outputs": [],
   "source": [
    "i = 6\n",
    "while i < 20:\n",
    "    i = i + 2.5\n",
    "    print(i)\n",
    "print('OUT of WHILE LOOP')"
   ]
  },
  {
   "cell_type": "markdown",
   "metadata": {
    "slideshow": {
     "slide_type": "slide"
    }
   },
   "source": [
    "![While Loop](images/py_while_loop2.jpg)"
   ]
  },
  {
   "cell_type": "markdown",
   "metadata": {
    "slideshow": {
     "slide_type": "slide"
    }
   },
   "source": [
    "# While Loops\n",
    "\n",
    "- Are in fact a lot more flexible than *for* loops\n",
    "- However, it is possible to make the code more complex, and to introduce bugs\n",
    "- If your starting condition is NOT met, then the program will never execute any statement inside WHILE"
   ]
  },
  {
   "cell_type": "code",
   "execution_count": null,
   "metadata": {
    "slideshow": {
     "slide_type": "slide"
    }
   },
   "outputs": [],
   "source": [
    "#Be careful about this\n",
    "#Infinite Loop:\n",
    "# Use the Stop button to interrupt the kernel\n",
    "while(3 < 4):\n",
    "    print(\"nonstop\")"
   ]
  },
  {
   "cell_type": "markdown",
   "metadata": {
    "slideshow": {
     "slide_type": "slide"
    }
   },
   "source": [
    "\n",
    "\n",
    "# <div class=\"alert alert-block alert-warning\">Loops Inside Loops\n",
    "\n",
    "# Also called \"Nested Loops\""
   ]
  },
  {
   "cell_type": "code",
   "execution_count": null,
   "metadata": {
    "slideshow": {
     "slide_type": "slide"
    }
   },
   "outputs": [],
   "source": [
    "for i in range(6):\n"
   ]
  },
  {
   "cell_type": "code",
   "execution_count": 58,
   "metadata": {
    "scrolled": true,
    "slideshow": {
     "slide_type": "slide"
    }
   },
   "outputs": [
    {
     "name": "stdout",
     "output_type": "stream",
     "text": [
      "1 0\n",
      "2 0\n",
      "2 1\n",
      "3 0\n",
      "3 1\n",
      "3 2\n",
      "4 0\n",
      "4 1\n",
      "4 2\n",
      "4 3\n"
     ]
    }
   ],
   "source": [
    "for a in range(5):\n",
    "    #print(\"a = \", a)\n",
    "    for b in range(4):\n",
    "        if a > b:\n",
    "            print(a,b)\n"
   ]
  },
  {
   "cell_type": "markdown",
   "metadata": {
    "slideshow": {
     "slide_type": "slide"
    }
   },
   "source": [
    "![Questions](images/questions.png)"
   ]
  }
 ],
 "metadata": {
  "celltoolbar": "Slideshow",
  "kernelspec": {
   "display_name": "Python 3",
   "language": "python",
   "name": "python3"
  },
  "language_info": {
   "codemirror_mode": {
    "name": "ipython",
    "version": 3
   },
   "file_extension": ".py",
   "mimetype": "text/x-python",
   "name": "python",
   "nbconvert_exporter": "python",
   "pygments_lexer": "ipython3",
   "version": "3.6.5"
  }
 },
 "nbformat": 4,
 "nbformat_minor": 2
}
