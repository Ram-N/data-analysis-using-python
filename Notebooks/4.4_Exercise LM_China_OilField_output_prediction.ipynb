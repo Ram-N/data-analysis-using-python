{
 "cells": [
  {
   "cell_type": "markdown",
   "metadata": {
    "slideshow": {
     "slide_type": "slide"
    }
   },
   "source": [
    "`[] {} \" \" ' ' ( ) #`\n",
    "### Day 4 Group Coding Exercise\n",
    "\n",
    "# Predicting OilField Output - Using Linear Regression\n",
    "\n",
    "<img src = \"images/logo.jpg\" width=\"100\" align=\"left\">\n",
    "\n",
    "Ram Narasimhan"
   ]
  },
  {
   "cell_type": "markdown",
   "metadata": {
    "slideshow": {
     "slide_type": "slide"
    }
   },
   "source": [
    "Source: http://www.ijastnet.com/journals/Vol_1_No4_July_2011/14.pdf"
   ]
  },
  {
   "cell_type": "markdown",
   "metadata": {
    "slideshow": {
     "slide_type": "slide"
    }
   },
   "source": [
    "<img src = \"images/oilwell_decline.jpg\" align=\"center\">\n"
   ]
  },
  {
   "cell_type": "markdown",
   "metadata": {
    "slideshow": {
     "slide_type": "slide"
    }
   },
   "source": [
    "<img src = \"images/oilfield_lifestages.jpg\" align=\"center\">\n"
   ]
  },
  {
   "cell_type": "markdown",
   "metadata": {
    "slideshow": {
     "slide_type": "slide"
    }
   },
   "source": [
    "# <div class=\"alert alert-block alert-success\"> Question for the class:    </div>\n",
    "\n",
    "## How can we predict Output of an Oil`Field`? "
   ]
  },
  {
   "cell_type": "markdown",
   "metadata": {
    "slideshow": {
     "slide_type": "slide"
    }
   },
   "source": [
    "# <div class=\"alert alert-block alert-success\"> Group Coding Exercises    </div>\n"
   ]
  },
  {
   "cell_type": "markdown",
   "metadata": {
    "slideshow": {
     "slide_type": "slide"
    }
   },
   "source": [
    "## 0. Read the file containing annual_oilfield_output\n",
    "        (This is easy. So I'll do it)\n",
    "        \n",
    "# Task for Person #1\n",
    "### P1_1. Plot the data (code is included)\n",
    "### P1_2. Split the data into `train` and `test`. (Test should have 6 years)\n"
   ]
  },
  {
   "cell_type": "markdown",
   "metadata": {
    "collapsed": true,
    "slideshow": {
     "slide_type": "slide"
    }
   },
   "source": [
    "## Task for Person 2\n",
    "## P2_3. Build a Model for the `training` data. (Linear Regression)\n",
    "## P2_4. What is the Linear equation that describes the `OilProduction`?"
   ]
  },
  {
   "cell_type": "markdown",
   "metadata": {
    "collapsed": true,
    "slideshow": {
     "slide_type": "slide"
    }
   },
   "source": [
    "### Task for Person 3\n",
    "## P3_5. Make Predictions for `test` data\n",
    "## P3_6. What is the RMSE for the `test` data?\n",
    "## P3_7. Plot the Predictions for `training` against `actuals.`"
   ]
  },
  {
   "cell_type": "markdown",
   "metadata": {
    "slideshow": {
     "slide_type": "slide"
    }
   },
   "source": [
    "# <div class=\"alert alert-block alert-success\"> If you get done with these, then please assist your classmates    </div>\n"
   ]
  },
  {
   "cell_type": "code",
   "execution_count": 8,
   "metadata": {
    "slideshow": {
     "slide_type": "slide"
    }
   },
   "outputs": [],
   "source": [
    "import pandas as pd\n",
    "import matplotlib.pyplot as plt\n",
    "\n",
    "# this allows plots to appear directly in the notebook\n",
    "%matplotlib inline"
   ]
  },
  {
   "cell_type": "code",
   "execution_count": 17,
   "metadata": {
    "slideshow": {
     "slide_type": "slide"
    }
   },
   "outputs": [
    {
     "data": {
      "text/html": [
       "<div>\n",
       "<style scoped>\n",
       "    .dataframe tbody tr th:only-of-type {\n",
       "        vertical-align: middle;\n",
       "    }\n",
       "\n",
       "    .dataframe tbody tr th {\n",
       "        vertical-align: top;\n",
       "    }\n",
       "\n",
       "    .dataframe thead th {\n",
       "        text-align: right;\n",
       "    }\n",
       "</style>\n",
       "<table border=\"1\" class=\"dataframe\">\n",
       "  <thead>\n",
       "    <tr style=\"text-align: right;\">\n",
       "      <th></th>\n",
       "      <th>year</th>\n",
       "      <th>x1</th>\n",
       "      <th>x2</th>\n",
       "      <th>x3</th>\n",
       "      <th>x4</th>\n",
       "      <th>x5</th>\n",
       "      <th>x6</th>\n",
       "      <th>x7</th>\n",
       "      <th>x8</th>\n",
       "      <th>y</th>\n",
       "    </tr>\n",
       "  </thead>\n",
       "  <tbody>\n",
       "    <tr>\n",
       "      <th>0</th>\n",
       "      <td>1983</td>\n",
       "      <td>689</td>\n",
       "      <td>612</td>\n",
       "      <td>311</td>\n",
       "      <td>2375900</td>\n",
       "      <td>41.80%</td>\n",
       "      <td>1.45%</td>\n",
       "      <td>9.07%</td>\n",
       "      <td>1421900</td>\n",
       "      <td>1442800</td>\n",
       "    </tr>\n",
       "    <tr>\n",
       "      <th>1</th>\n",
       "      <td>1984</td>\n",
       "      <td>855</td>\n",
       "      <td>720</td>\n",
       "      <td>351</td>\n",
       "      <td>2305000</td>\n",
       "      <td>42.33%</td>\n",
       "      <td>1.53%</td>\n",
       "      <td>9.54%</td>\n",
       "      <td>1442800</td>\n",
       "      <td>1417200</td>\n",
       "    </tr>\n",
       "    <tr>\n",
       "      <th>2</th>\n",
       "      <td>1985</td>\n",
       "      <td>1028</td>\n",
       "      <td>874</td>\n",
       "      <td>426</td>\n",
       "      <td>2765900</td>\n",
       "      <td>42.93%</td>\n",
       "      <td>1.60%</td>\n",
       "      <td>9.49%</td>\n",
       "      <td>1417200</td>\n",
       "      <td>1466100</td>\n",
       "    </tr>\n",
       "    <tr>\n",
       "      <th>3</th>\n",
       "      <td>1986</td>\n",
       "      <td>1268</td>\n",
       "      <td>1087</td>\n",
       "      <td>472</td>\n",
       "      <td>3306400</td>\n",
       "      <td>46.21%</td>\n",
       "      <td>1.55%</td>\n",
       "      <td>10.25%</td>\n",
       "      <td>1466100</td>\n",
       "      <td>1454500</td>\n",
       "    </tr>\n",
       "    <tr>\n",
       "      <th>4</th>\n",
       "      <td>1987</td>\n",
       "      <td>1446</td>\n",
       "      <td>1197</td>\n",
       "      <td>652</td>\n",
       "      <td>3981400</td>\n",
       "      <td>45.80%</td>\n",
       "      <td>1.49%</td>\n",
       "      <td>9.35%</td>\n",
       "      <td>1454500</td>\n",
       "      <td>1489400</td>\n",
       "    </tr>\n",
       "    <tr>\n",
       "      <th>5</th>\n",
       "      <td>1988</td>\n",
       "      <td>1705</td>\n",
       "      <td>1417</td>\n",
       "      <td>486</td>\n",
       "      <td>4551000</td>\n",
       "      <td>47.80%</td>\n",
       "      <td>1.43%</td>\n",
       "      <td>9.08%</td>\n",
       "      <td>1489400</td>\n",
       "      <td>1559200</td>\n",
       "    </tr>\n",
       "    <tr>\n",
       "      <th>6</th>\n",
       "      <td>1989</td>\n",
       "      <td>1892</td>\n",
       "      <td>1524</td>\n",
       "      <td>458</td>\n",
       "      <td>5269100</td>\n",
       "      <td>49.30%</td>\n",
       "      <td>1.31%</td>\n",
       "      <td>9.31%</td>\n",
       "      <td>1559200</td>\n",
       "      <td>1652300</td>\n",
       "    </tr>\n",
       "    <tr>\n",
       "      <th>7</th>\n",
       "      <td>1990</td>\n",
       "      <td>2113</td>\n",
       "      <td>1761</td>\n",
       "      <td>473</td>\n",
       "      <td>6020400</td>\n",
       "      <td>52.15%</td>\n",
       "      <td>1.37%</td>\n",
       "      <td>10.13%</td>\n",
       "      <td>1652300</td>\n",
       "      <td>2024600</td>\n",
       "    </tr>\n",
       "    <tr>\n",
       "      <th>8</th>\n",
       "      <td>1991</td>\n",
       "      <td>2372</td>\n",
       "      <td>1903</td>\n",
       "      <td>506</td>\n",
       "      <td>7406200</td>\n",
       "      <td>55.46%</td>\n",
       "      <td>1.26%</td>\n",
       "      <td>10.88%</td>\n",
       "      <td>2024600</td>\n",
       "      <td>2175900</td>\n",
       "    </tr>\n",
       "    <tr>\n",
       "      <th>9</th>\n",
       "      <td>1992</td>\n",
       "      <td>2640</td>\n",
       "      <td>2123</td>\n",
       "      <td>705</td>\n",
       "      <td>8676500</td>\n",
       "      <td>59.83%</td>\n",
       "      <td>1.18%</td>\n",
       "      <td>11.54%</td>\n",
       "      <td>2175900</td>\n",
       "      <td>2606400</td>\n",
       "    </tr>\n",
       "    <tr>\n",
       "      <th>10</th>\n",
       "      <td>1993</td>\n",
       "      <td>3090</td>\n",
       "      <td>2574</td>\n",
       "      <td>689</td>\n",
       "      <td>9879800</td>\n",
       "      <td>60.87%</td>\n",
       "      <td>1.11%</td>\n",
       "      <td>12.07%</td>\n",
       "      <td>2606400</td>\n",
       "      <td>3025300</td>\n",
       "    </tr>\n",
       "    <tr>\n",
       "      <th>11</th>\n",
       "      <td>1994</td>\n",
       "      <td>3603</td>\n",
       "      <td>2826</td>\n",
       "      <td>964</td>\n",
       "      <td>11108700</td>\n",
       "      <td>63.39%</td>\n",
       "      <td>1.11%</td>\n",
       "      <td>12.96%</td>\n",
       "      <td>3025300</td>\n",
       "      <td>3493100</td>\n",
       "    </tr>\n",
       "    <tr>\n",
       "      <th>12</th>\n",
       "      <td>1995</td>\n",
       "      <td>3987</td>\n",
       "      <td>2878</td>\n",
       "      <td>1073</td>\n",
       "      <td>11832700</td>\n",
       "      <td>63.12%</td>\n",
       "      <td>1.20%</td>\n",
       "      <td>13.57%</td>\n",
       "      <td>3493100</td>\n",
       "      <td>3725800</td>\n",
       "    </tr>\n",
       "    <tr>\n",
       "      <th>13</th>\n",
       "      <td>1996</td>\n",
       "      <td>4530</td>\n",
       "      <td>3002</td>\n",
       "      <td>1003</td>\n",
       "      <td>13091800</td>\n",
       "      <td>64.79%</td>\n",
       "      <td>1.20%</td>\n",
       "      <td>14.76%</td>\n",
       "      <td>3725800</td>\n",
       "      <td>4037600</td>\n",
       "    </tr>\n",
       "    <tr>\n",
       "      <th>14</th>\n",
       "      <td>1997</td>\n",
       "      <td>4872</td>\n",
       "      <td>3172</td>\n",
       "      <td>1044</td>\n",
       "      <td>14063100</td>\n",
       "      <td>67.45%</td>\n",
       "      <td>1.07%</td>\n",
       "      <td>14.59%</td>\n",
       "      <td>4037600</td>\n",
       "      <td>4200500</td>\n",
       "    </tr>\n",
       "    <tr>\n",
       "      <th>15</th>\n",
       "      <td>1998</td>\n",
       "      <td>5110</td>\n",
       "      <td>3260</td>\n",
       "      <td>854</td>\n",
       "      <td>15760600</td>\n",
       "      <td>68.89%</td>\n",
       "      <td>1.01%</td>\n",
       "      <td>14.88%</td>\n",
       "      <td>4200500</td>\n",
       "      <td>4398200</td>\n",
       "    </tr>\n",
       "    <tr>\n",
       "      <th>16</th>\n",
       "      <td>1999</td>\n",
       "      <td>5400</td>\n",
       "      <td>3375</td>\n",
       "      <td>686</td>\n",
       "      <td>16760300</td>\n",
       "      <td>70.12%</td>\n",
       "      <td>0.95%</td>\n",
       "      <td>15.40%</td>\n",
       "      <td>4398200</td>\n",
       "      <td>4649700</td>\n",
       "    </tr>\n",
       "    <tr>\n",
       "      <th>17</th>\n",
       "      <td>2000</td>\n",
       "      <td>5524</td>\n",
       "      <td>3497</td>\n",
       "      <td>758</td>\n",
       "      <td>16519000</td>\n",
       "      <td>71.88%</td>\n",
       "      <td>0.88%</td>\n",
       "      <td>15.82%</td>\n",
       "      <td>4649700</td>\n",
       "      <td>4712500</td>\n",
       "    </tr>\n",
       "    <tr>\n",
       "      <th>18</th>\n",
       "      <td>2001</td>\n",
       "      <td>5653</td>\n",
       "      <td>3704</td>\n",
       "      <td>891</td>\n",
       "      <td>18083400</td>\n",
       "      <td>71.88%</td>\n",
       "      <td>0.91%</td>\n",
       "      <td>16.46%</td>\n",
       "      <td>4712500</td>\n",
       "      <td>5205000</td>\n",
       "    </tr>\n",
       "    <tr>\n",
       "      <th>19</th>\n",
       "      <td>2002</td>\n",
       "      <td>6958</td>\n",
       "      <td>5523</td>\n",
       "      <td>1043</td>\n",
       "      <td>19267300</td>\n",
       "      <td>72.95%</td>\n",
       "      <td>0.83%</td>\n",
       "      <td>17.22%</td>\n",
       "      <td>5205000</td>\n",
       "      <td>6115500</td>\n",
       "    </tr>\n",
       "    <tr>\n",
       "      <th>20</th>\n",
       "      <td>2003</td>\n",
       "      <td>8680</td>\n",
       "      <td>7805</td>\n",
       "      <td>1181</td>\n",
       "      <td>19580500</td>\n",
       "      <td>72.83%</td>\n",
       "      <td>0.83%</td>\n",
       "      <td>17.74%</td>\n",
       "      <td>6115500</td>\n",
       "      <td>7158700</td>\n",
       "    </tr>\n",
       "    <tr>\n",
       "      <th>21</th>\n",
       "      <td>2004</td>\n",
       "      <td>9864</td>\n",
       "      <td>8263</td>\n",
       "      <td>1319</td>\n",
       "      <td>25365000</td>\n",
       "      <td>72.28%</td>\n",
       "      <td>0.89%</td>\n",
       "      <td>17.71%</td>\n",
       "      <td>7158700</td>\n",
       "      <td>8109500</td>\n",
       "    </tr>\n",
       "    <tr>\n",
       "      <th>22</th>\n",
       "      <td>2005</td>\n",
       "      <td>11805</td>\n",
       "      <td>9522</td>\n",
       "      <td>1946</td>\n",
       "      <td>30032000</td>\n",
       "      <td>72.01%</td>\n",
       "      <td>0.84%</td>\n",
       "      <td>16.98%</td>\n",
       "      <td>8109500</td>\n",
       "      <td>9051000</td>\n",
       "    </tr>\n",
       "    <tr>\n",
       "      <th>23</th>\n",
       "      <td>2006</td>\n",
       "      <td>12314</td>\n",
       "      <td>11092</td>\n",
       "      <td>2347</td>\n",
       "      <td>32987000</td>\n",
       "      <td>72.31%</td>\n",
       "      <td>0.85%</td>\n",
       "      <td>17.20%</td>\n",
       "      <td>9051000</td>\n",
       "      <td>9623000</td>\n",
       "    </tr>\n",
       "  </tbody>\n",
       "</table>\n",
       "</div>"
      ],
      "text/plain": [
       "    year     x1     x2    x3        x4      x5     x6      x7       x8  \\\n",
       "0   1983    689    612   311   2375900  41.80%  1.45%   9.07%  1421900   \n",
       "1   1984    855    720   351   2305000  42.33%  1.53%   9.54%  1442800   \n",
       "2   1985   1028    874   426   2765900  42.93%  1.60%   9.49%  1417200   \n",
       "3   1986   1268   1087   472   3306400  46.21%  1.55%  10.25%  1466100   \n",
       "4   1987   1446   1197   652   3981400  45.80%  1.49%   9.35%  1454500   \n",
       "5   1988   1705   1417   486   4551000  47.80%  1.43%   9.08%  1489400   \n",
       "6   1989   1892   1524   458   5269100  49.30%  1.31%   9.31%  1559200   \n",
       "7   1990   2113   1761   473   6020400  52.15%  1.37%  10.13%  1652300   \n",
       "8   1991   2372   1903   506   7406200  55.46%  1.26%  10.88%  2024600   \n",
       "9   1992   2640   2123   705   8676500  59.83%  1.18%  11.54%  2175900   \n",
       "10  1993   3090   2574   689   9879800  60.87%  1.11%  12.07%  2606400   \n",
       "11  1994   3603   2826   964  11108700  63.39%  1.11%  12.96%  3025300   \n",
       "12  1995   3987   2878  1073  11832700  63.12%  1.20%  13.57%  3493100   \n",
       "13  1996   4530   3002  1003  13091800  64.79%  1.20%  14.76%  3725800   \n",
       "14  1997   4872   3172  1044  14063100  67.45%  1.07%  14.59%  4037600   \n",
       "15  1998   5110   3260   854  15760600  68.89%  1.01%  14.88%  4200500   \n",
       "16  1999   5400   3375   686  16760300  70.12%  0.95%  15.40%  4398200   \n",
       "17  2000   5524   3497   758  16519000  71.88%  0.88%  15.82%  4649700   \n",
       "18  2001   5653   3704   891  18083400  71.88%  0.91%  16.46%  4712500   \n",
       "19  2002   6958   5523  1043  19267300  72.95%  0.83%  17.22%  5205000   \n",
       "20  2003   8680   7805  1181  19580500  72.83%  0.83%  17.74%  6115500   \n",
       "21  2004   9864   8263  1319  25365000  72.28%  0.89%  17.71%  7158700   \n",
       "22  2005  11805   9522  1946  30032000  72.01%  0.84%  16.98%  8109500   \n",
       "23  2006  12314  11092  2347  32987000  72.31%  0.85%  17.20%  9051000   \n",
       "\n",
       "          y  \n",
       "0   1442800  \n",
       "1   1417200  \n",
       "2   1466100  \n",
       "3   1454500  \n",
       "4   1489400  \n",
       "5   1559200  \n",
       "6   1652300  \n",
       "7   2024600  \n",
       "8   2175900  \n",
       "9   2606400  \n",
       "10  3025300  \n",
       "11  3493100  \n",
       "12  3725800  \n",
       "13  4037600  \n",
       "14  4200500  \n",
       "15  4398200  \n",
       "16  4649700  \n",
       "17  4712500  \n",
       "18  5205000  \n",
       "19  6115500  \n",
       "20  7158700  \n",
       "21  8109500  \n",
       "22  9051000  \n",
       "23  9623000  "
      ]
     },
     "execution_count": 17,
     "metadata": {},
     "output_type": "execute_result"
    }
   ],
   "source": [
    "# read data into a DataFrame: 'data/Linear Regr\n",
    "df = pd.read_csv('data/Linear Regression_China_Oilfield_Production/china_oilfield_annual.csv')\n",
    "df"
   ]
  },
  {
   "cell_type": "markdown",
   "metadata": {
    "slideshow": {
     "slide_type": "slide"
    }
   },
   "source": [
    "# New Concept. Pay Attention.\n",
    "**Set Index**\n",
    "\n",
    "Explanation: By default, Pandas gives integers (0, 1, 2, 3, ...) as the `index` (row labels).\n",
    "However, we can take any column and make it the INDEX.\n",
    "\n",
    "In this case, we will take the `YEAR` column and make it the `Index`.\n",
    "\n"
   ]
  },
  {
   "cell_type": "code",
   "execution_count": 18,
   "metadata": {
    "slideshow": {
     "slide_type": "slide"
    }
   },
   "outputs": [],
   "source": [
    "#make the year into Index\n",
    "df = df.set_index('year')"
   ]
  },
  {
   "cell_type": "code",
   "execution_count": 19,
   "metadata": {},
   "outputs": [
    {
     "data": {
      "text/html": [
       "<div>\n",
       "<style scoped>\n",
       "    .dataframe tbody tr th:only-of-type {\n",
       "        vertical-align: middle;\n",
       "    }\n",
       "\n",
       "    .dataframe tbody tr th {\n",
       "        vertical-align: top;\n",
       "    }\n",
       "\n",
       "    .dataframe thead th {\n",
       "        text-align: right;\n",
       "    }\n",
       "</style>\n",
       "<table border=\"1\" class=\"dataframe\">\n",
       "  <thead>\n",
       "    <tr style=\"text-align: right;\">\n",
       "      <th></th>\n",
       "      <th>x1</th>\n",
       "      <th>x2</th>\n",
       "      <th>x3</th>\n",
       "      <th>x4</th>\n",
       "      <th>x5</th>\n",
       "      <th>x6</th>\n",
       "      <th>x7</th>\n",
       "      <th>x8</th>\n",
       "      <th>y</th>\n",
       "    </tr>\n",
       "    <tr>\n",
       "      <th>year</th>\n",
       "      <th></th>\n",
       "      <th></th>\n",
       "      <th></th>\n",
       "      <th></th>\n",
       "      <th></th>\n",
       "      <th></th>\n",
       "      <th></th>\n",
       "      <th></th>\n",
       "      <th></th>\n",
       "    </tr>\n",
       "  </thead>\n",
       "  <tbody>\n",
       "    <tr>\n",
       "      <th>1983</th>\n",
       "      <td>689</td>\n",
       "      <td>612</td>\n",
       "      <td>311</td>\n",
       "      <td>2375900</td>\n",
       "      <td>41.80%</td>\n",
       "      <td>1.45%</td>\n",
       "      <td>9.07%</td>\n",
       "      <td>1421900</td>\n",
       "      <td>1442800</td>\n",
       "    </tr>\n",
       "    <tr>\n",
       "      <th>1984</th>\n",
       "      <td>855</td>\n",
       "      <td>720</td>\n",
       "      <td>351</td>\n",
       "      <td>2305000</td>\n",
       "      <td>42.33%</td>\n",
       "      <td>1.53%</td>\n",
       "      <td>9.54%</td>\n",
       "      <td>1442800</td>\n",
       "      <td>1417200</td>\n",
       "    </tr>\n",
       "    <tr>\n",
       "      <th>1985</th>\n",
       "      <td>1028</td>\n",
       "      <td>874</td>\n",
       "      <td>426</td>\n",
       "      <td>2765900</td>\n",
       "      <td>42.93%</td>\n",
       "      <td>1.60%</td>\n",
       "      <td>9.49%</td>\n",
       "      <td>1417200</td>\n",
       "      <td>1466100</td>\n",
       "    </tr>\n",
       "    <tr>\n",
       "      <th>1986</th>\n",
       "      <td>1268</td>\n",
       "      <td>1087</td>\n",
       "      <td>472</td>\n",
       "      <td>3306400</td>\n",
       "      <td>46.21%</td>\n",
       "      <td>1.55%</td>\n",
       "      <td>10.25%</td>\n",
       "      <td>1466100</td>\n",
       "      <td>1454500</td>\n",
       "    </tr>\n",
       "    <tr>\n",
       "      <th>1987</th>\n",
       "      <td>1446</td>\n",
       "      <td>1197</td>\n",
       "      <td>652</td>\n",
       "      <td>3981400</td>\n",
       "      <td>45.80%</td>\n",
       "      <td>1.49%</td>\n",
       "      <td>9.35%</td>\n",
       "      <td>1454500</td>\n",
       "      <td>1489400</td>\n",
       "    </tr>\n",
       "    <tr>\n",
       "      <th>1988</th>\n",
       "      <td>1705</td>\n",
       "      <td>1417</td>\n",
       "      <td>486</td>\n",
       "      <td>4551000</td>\n",
       "      <td>47.80%</td>\n",
       "      <td>1.43%</td>\n",
       "      <td>9.08%</td>\n",
       "      <td>1489400</td>\n",
       "      <td>1559200</td>\n",
       "    </tr>\n",
       "    <tr>\n",
       "      <th>1989</th>\n",
       "      <td>1892</td>\n",
       "      <td>1524</td>\n",
       "      <td>458</td>\n",
       "      <td>5269100</td>\n",
       "      <td>49.30%</td>\n",
       "      <td>1.31%</td>\n",
       "      <td>9.31%</td>\n",
       "      <td>1559200</td>\n",
       "      <td>1652300</td>\n",
       "    </tr>\n",
       "    <tr>\n",
       "      <th>1990</th>\n",
       "      <td>2113</td>\n",
       "      <td>1761</td>\n",
       "      <td>473</td>\n",
       "      <td>6020400</td>\n",
       "      <td>52.15%</td>\n",
       "      <td>1.37%</td>\n",
       "      <td>10.13%</td>\n",
       "      <td>1652300</td>\n",
       "      <td>2024600</td>\n",
       "    </tr>\n",
       "    <tr>\n",
       "      <th>1991</th>\n",
       "      <td>2372</td>\n",
       "      <td>1903</td>\n",
       "      <td>506</td>\n",
       "      <td>7406200</td>\n",
       "      <td>55.46%</td>\n",
       "      <td>1.26%</td>\n",
       "      <td>10.88%</td>\n",
       "      <td>2024600</td>\n",
       "      <td>2175900</td>\n",
       "    </tr>\n",
       "    <tr>\n",
       "      <th>1992</th>\n",
       "      <td>2640</td>\n",
       "      <td>2123</td>\n",
       "      <td>705</td>\n",
       "      <td>8676500</td>\n",
       "      <td>59.83%</td>\n",
       "      <td>1.18%</td>\n",
       "      <td>11.54%</td>\n",
       "      <td>2175900</td>\n",
       "      <td>2606400</td>\n",
       "    </tr>\n",
       "    <tr>\n",
       "      <th>1993</th>\n",
       "      <td>3090</td>\n",
       "      <td>2574</td>\n",
       "      <td>689</td>\n",
       "      <td>9879800</td>\n",
       "      <td>60.87%</td>\n",
       "      <td>1.11%</td>\n",
       "      <td>12.07%</td>\n",
       "      <td>2606400</td>\n",
       "      <td>3025300</td>\n",
       "    </tr>\n",
       "    <tr>\n",
       "      <th>1994</th>\n",
       "      <td>3603</td>\n",
       "      <td>2826</td>\n",
       "      <td>964</td>\n",
       "      <td>11108700</td>\n",
       "      <td>63.39%</td>\n",
       "      <td>1.11%</td>\n",
       "      <td>12.96%</td>\n",
       "      <td>3025300</td>\n",
       "      <td>3493100</td>\n",
       "    </tr>\n",
       "    <tr>\n",
       "      <th>1995</th>\n",
       "      <td>3987</td>\n",
       "      <td>2878</td>\n",
       "      <td>1073</td>\n",
       "      <td>11832700</td>\n",
       "      <td>63.12%</td>\n",
       "      <td>1.20%</td>\n",
       "      <td>13.57%</td>\n",
       "      <td>3493100</td>\n",
       "      <td>3725800</td>\n",
       "    </tr>\n",
       "    <tr>\n",
       "      <th>1996</th>\n",
       "      <td>4530</td>\n",
       "      <td>3002</td>\n",
       "      <td>1003</td>\n",
       "      <td>13091800</td>\n",
       "      <td>64.79%</td>\n",
       "      <td>1.20%</td>\n",
       "      <td>14.76%</td>\n",
       "      <td>3725800</td>\n",
       "      <td>4037600</td>\n",
       "    </tr>\n",
       "    <tr>\n",
       "      <th>1997</th>\n",
       "      <td>4872</td>\n",
       "      <td>3172</td>\n",
       "      <td>1044</td>\n",
       "      <td>14063100</td>\n",
       "      <td>67.45%</td>\n",
       "      <td>1.07%</td>\n",
       "      <td>14.59%</td>\n",
       "      <td>4037600</td>\n",
       "      <td>4200500</td>\n",
       "    </tr>\n",
       "    <tr>\n",
       "      <th>1998</th>\n",
       "      <td>5110</td>\n",
       "      <td>3260</td>\n",
       "      <td>854</td>\n",
       "      <td>15760600</td>\n",
       "      <td>68.89%</td>\n",
       "      <td>1.01%</td>\n",
       "      <td>14.88%</td>\n",
       "      <td>4200500</td>\n",
       "      <td>4398200</td>\n",
       "    </tr>\n",
       "    <tr>\n",
       "      <th>1999</th>\n",
       "      <td>5400</td>\n",
       "      <td>3375</td>\n",
       "      <td>686</td>\n",
       "      <td>16760300</td>\n",
       "      <td>70.12%</td>\n",
       "      <td>0.95%</td>\n",
       "      <td>15.40%</td>\n",
       "      <td>4398200</td>\n",
       "      <td>4649700</td>\n",
       "    </tr>\n",
       "    <tr>\n",
       "      <th>2000</th>\n",
       "      <td>5524</td>\n",
       "      <td>3497</td>\n",
       "      <td>758</td>\n",
       "      <td>16519000</td>\n",
       "      <td>71.88%</td>\n",
       "      <td>0.88%</td>\n",
       "      <td>15.82%</td>\n",
       "      <td>4649700</td>\n",
       "      <td>4712500</td>\n",
       "    </tr>\n",
       "    <tr>\n",
       "      <th>2001</th>\n",
       "      <td>5653</td>\n",
       "      <td>3704</td>\n",
       "      <td>891</td>\n",
       "      <td>18083400</td>\n",
       "      <td>71.88%</td>\n",
       "      <td>0.91%</td>\n",
       "      <td>16.46%</td>\n",
       "      <td>4712500</td>\n",
       "      <td>5205000</td>\n",
       "    </tr>\n",
       "    <tr>\n",
       "      <th>2002</th>\n",
       "      <td>6958</td>\n",
       "      <td>5523</td>\n",
       "      <td>1043</td>\n",
       "      <td>19267300</td>\n",
       "      <td>72.95%</td>\n",
       "      <td>0.83%</td>\n",
       "      <td>17.22%</td>\n",
       "      <td>5205000</td>\n",
       "      <td>6115500</td>\n",
       "    </tr>\n",
       "    <tr>\n",
       "      <th>2003</th>\n",
       "      <td>8680</td>\n",
       "      <td>7805</td>\n",
       "      <td>1181</td>\n",
       "      <td>19580500</td>\n",
       "      <td>72.83%</td>\n",
       "      <td>0.83%</td>\n",
       "      <td>17.74%</td>\n",
       "      <td>6115500</td>\n",
       "      <td>7158700</td>\n",
       "    </tr>\n",
       "    <tr>\n",
       "      <th>2004</th>\n",
       "      <td>9864</td>\n",
       "      <td>8263</td>\n",
       "      <td>1319</td>\n",
       "      <td>25365000</td>\n",
       "      <td>72.28%</td>\n",
       "      <td>0.89%</td>\n",
       "      <td>17.71%</td>\n",
       "      <td>7158700</td>\n",
       "      <td>8109500</td>\n",
       "    </tr>\n",
       "    <tr>\n",
       "      <th>2005</th>\n",
       "      <td>11805</td>\n",
       "      <td>9522</td>\n",
       "      <td>1946</td>\n",
       "      <td>30032000</td>\n",
       "      <td>72.01%</td>\n",
       "      <td>0.84%</td>\n",
       "      <td>16.98%</td>\n",
       "      <td>8109500</td>\n",
       "      <td>9051000</td>\n",
       "    </tr>\n",
       "    <tr>\n",
       "      <th>2006</th>\n",
       "      <td>12314</td>\n",
       "      <td>11092</td>\n",
       "      <td>2347</td>\n",
       "      <td>32987000</td>\n",
       "      <td>72.31%</td>\n",
       "      <td>0.85%</td>\n",
       "      <td>17.20%</td>\n",
       "      <td>9051000</td>\n",
       "      <td>9623000</td>\n",
       "    </tr>\n",
       "  </tbody>\n",
       "</table>\n",
       "</div>"
      ],
      "text/plain": [
       "         x1     x2    x3        x4      x5     x6      x7       x8        y\n",
       "year                                                                       \n",
       "1983    689    612   311   2375900  41.80%  1.45%   9.07%  1421900  1442800\n",
       "1984    855    720   351   2305000  42.33%  1.53%   9.54%  1442800  1417200\n",
       "1985   1028    874   426   2765900  42.93%  1.60%   9.49%  1417200  1466100\n",
       "1986   1268   1087   472   3306400  46.21%  1.55%  10.25%  1466100  1454500\n",
       "1987   1446   1197   652   3981400  45.80%  1.49%   9.35%  1454500  1489400\n",
       "1988   1705   1417   486   4551000  47.80%  1.43%   9.08%  1489400  1559200\n",
       "1989   1892   1524   458   5269100  49.30%  1.31%   9.31%  1559200  1652300\n",
       "1990   2113   1761   473   6020400  52.15%  1.37%  10.13%  1652300  2024600\n",
       "1991   2372   1903   506   7406200  55.46%  1.26%  10.88%  2024600  2175900\n",
       "1992   2640   2123   705   8676500  59.83%  1.18%  11.54%  2175900  2606400\n",
       "1993   3090   2574   689   9879800  60.87%  1.11%  12.07%  2606400  3025300\n",
       "1994   3603   2826   964  11108700  63.39%  1.11%  12.96%  3025300  3493100\n",
       "1995   3987   2878  1073  11832700  63.12%  1.20%  13.57%  3493100  3725800\n",
       "1996   4530   3002  1003  13091800  64.79%  1.20%  14.76%  3725800  4037600\n",
       "1997   4872   3172  1044  14063100  67.45%  1.07%  14.59%  4037600  4200500\n",
       "1998   5110   3260   854  15760600  68.89%  1.01%  14.88%  4200500  4398200\n",
       "1999   5400   3375   686  16760300  70.12%  0.95%  15.40%  4398200  4649700\n",
       "2000   5524   3497   758  16519000  71.88%  0.88%  15.82%  4649700  4712500\n",
       "2001   5653   3704   891  18083400  71.88%  0.91%  16.46%  4712500  5205000\n",
       "2002   6958   5523  1043  19267300  72.95%  0.83%  17.22%  5205000  6115500\n",
       "2003   8680   7805  1181  19580500  72.83%  0.83%  17.74%  6115500  7158700\n",
       "2004   9864   8263  1319  25365000  72.28%  0.89%  17.71%  7158700  8109500\n",
       "2005  11805   9522  1946  30032000  72.01%  0.84%  16.98%  8109500  9051000\n",
       "2006  12314  11092  2347  32987000  72.31%  0.85%  17.20%  9051000  9623000"
      ]
     },
     "execution_count": 19,
     "metadata": {},
     "output_type": "execute_result"
    }
   ],
   "source": [
    "df"
   ]
  },
  {
   "cell_type": "markdown",
   "metadata": {
    "slideshow": {
     "slide_type": "slide"
    }
   },
   "source": [
    "There are some % signs. These need to be replaced."
   ]
  },
  {
   "cell_type": "code",
   "execution_count": 20,
   "metadata": {
    "slideshow": {
     "slide_type": "slide"
    }
   },
   "outputs": [],
   "source": [
    "# if you want to operate on multiple columns, put them in a list like so:\n",
    "cols = ['x5', 'x6', 'x7']\n",
    "\n",
    "# pass them to df.replace(), specifying each char and it's replacement:\n",
    "df[cols] = df[cols].replace({'\\$': '', ',': '', '\\%' : ''}, regex=True).astype(float)\n",
    "\n",
    "# Another way to do it:\n",
    "# df['x5'] = df['x5'].str.replace('\\%', '')"
   ]
  },
  {
   "cell_type": "code",
   "execution_count": 27,
   "metadata": {
    "slideshow": {
     "slide_type": "slide"
    }
   },
   "outputs": [
    {
     "data": {
      "text/plain": [
       "year\n",
       "1983     311\n",
       "1984     351\n",
       "1985     426\n",
       "1986     472\n",
       "1987     652\n",
       "1988     486\n",
       "1989     458\n",
       "1990     473\n",
       "1991     506\n",
       "1992     705\n",
       "1993     689\n",
       "1994     964\n",
       "1995    1073\n",
       "1996    1003\n",
       "1997    1044\n",
       "1998     854\n",
       "1999     686\n",
       "2000     758\n",
       "2001     891\n",
       "2002    1043\n",
       "2003    1181\n",
       "2004    1319\n",
       "2005    1946\n",
       "2006    2347\n",
       "Name: x3, dtype: int64"
      ]
     },
     "execution_count": 27,
     "metadata": {},
     "output_type": "execute_result"
    }
   ],
   "source": [
    "df\n",
    "#Person 1's tasks\n",
    "# describe the data frame\n",
    "name = 'x3'\n",
    "df[name]"
   ]
  },
  {
   "cell_type": "markdown",
   "metadata": {
    "slideshow": {
     "slide_type": "slide"
    }
   },
   "source": [
    "# Let's plot it and see what it looks \n",
    "\n",
    "(You should always try plotting your data to get a feel for it)"
   ]
  },
  {
   "cell_type": "code",
   "execution_count": null,
   "metadata": {
    "slideshow": {
     "slide_type": "slide"
    }
   },
   "outputs": [],
   "source": [
    "#Person 1\n",
    "# Write code here to Plot the Column called 'y' ('y' is our target variable)"
   ]
  },
  {
   "cell_type": "code",
   "execution_count": null,
   "metadata": {
    "slideshow": {
     "slide_type": "slide"
    }
   },
   "outputs": [],
   "source": [
    "#Hint 1: You can plot all columns with df.plot(figsize=(15,5))"
   ]
  },
  {
   "cell_type": "code",
   "execution_count": null,
   "metadata": {
    "slideshow": {
     "slide_type": "slide"
    }
   },
   "outputs": [],
   "source": [
    "#Hint 2: Try this and understand what is happening df.plot(subplots=True, figsize=(15,15))"
   ]
  },
  {
   "cell_type": "markdown",
   "metadata": {
    "slideshow": {
     "slide_type": "slide"
    }
   },
   "source": [
    "## Person 1. 1_2\n",
    "# Split the dataframe into `train` and `test`\n",
    "\n",
    "#call the 2 new dataframes as `train_df` and `test_df`"
   ]
  },
  {
   "cell_type": "code",
   "execution_count": null,
   "metadata": {
    "slideshow": {
     "slide_type": "slide"
    }
   },
   "outputs": [],
   "source": [
    "# If df.index <= 2000 it goes to train_df, else, it goes to test_df\n",
    "#Hint: Use Conditions (boolean mask)"
   ]
  },
  {
   "cell_type": "code",
   "execution_count": null,
   "metadata": {
    "slideshow": {
     "slide_type": "slide"
    }
   },
   "outputs": [],
   "source": [
    "# this is the standard import if you're using \"formula notation\" (similar to R)\n",
    "# import the module to use for Linear Regression\n",
    "\n",
    "# create a fitted model in one line\n",
    "#china_mdl = smf.ols(formula=<you enter the data>, data=train_df).fit()\n",
    "\n",
    "# print the coefficients"
   ]
  },
  {
   "cell_type": "code",
   "execution_count": null,
   "metadata": {
    "slideshow": {
     "slide_type": "slide"
    }
   },
   "outputs": [],
   "source": [
    "#print the model summary"
   ]
  },
  {
   "cell_type": "markdown",
   "metadata": {
    "slideshow": {
     "slide_type": "slide"
    }
   },
   "source": [
    "### Use the Model to make predictions\n",
    "\n",
    "Statsmodel can be used to make predictions.\n",
    "\n",
    "**Note** It expects the inputs to come as a data frame with *exactly* the same columns.\n",
    "In this exercise, you will take the data frame called `test` and make predictions for those rows.\n",
    "\n"
   ]
  },
  {
   "cell_type": "markdown",
   "metadata": {
    "collapsed": true,
    "slideshow": {
     "slide_type": "slide"
    }
   },
   "source": [
    "### Task for Person 3\n",
    "## P3_5. Make Predictions for `test` data\n",
    "## P3_6. What is the RMSE for the `test` data?\n"
   ]
  },
  {
   "cell_type": "code",
   "execution_count": null,
   "metadata": {
    "slideshow": {
     "slide_type": "slide"
    }
   },
   "outputs": [],
   "source": [
    "#Use the .predict() method and make predictions for both train_df and test_df"
   ]
  },
  {
   "cell_type": "markdown",
   "metadata": {
    "slideshow": {
     "slide_type": "slide"
    }
   },
   "source": [
    "### Plotting the Least Squares Line\n",
    "\n",
    "Let's make predictions for the smallest and largest observed values of x, and then use the predicted values to plot the least squares line:"
   ]
  },
  {
   "cell_type": "code",
   "execution_count": null,
   "metadata": {
    "slideshow": {
     "slide_type": "slide"
    }
   },
   "outputs": [],
   "source": [
    "# make predictions for those x values and store them\n",
    "#train_preds = ...\n",
    "#test_preds = ...\n"
   ]
  },
  {
   "cell_type": "markdown",
   "metadata": {
    "collapsed": true,
    "slideshow": {
     "slide_type": "slide"
    }
   },
   "source": [
    "### Task for Person 3\n",
    "\n",
    "## P3_7. Plot the Predictions for `training` against `actuals.`"
   ]
  },
  {
   "cell_type": "code",
   "execution_count": null,
   "metadata": {
    "slideshow": {
     "slide_type": "slide"
    }
   },
   "outputs": [],
   "source": [
    "#Plot 'y' vs time (index) for the entire df\n",
    "#Plot 'y' vs time (index) for the train_df\n",
    "#Plot 'y' vs time (index) for the test_df\n",
    "\n"
   ]
  },
  {
   "cell_type": "markdown",
   "metadata": {
    "slideshow": {
     "slide_type": "slide"
    }
   },
   "source": [
    "`[] {} \" \" ' ' ( ) #`\n",
    "![Questions](images/questions.png)"
   ]
  },
  {
   "cell_type": "markdown",
   "metadata": {},
   "source": [
    "`[] {} \" \" ' ' ( ) #`"
   ]
  }
 ],
 "metadata": {
  "kernelspec": {
   "display_name": "Python 3",
   "language": "python",
   "name": "python3"
  },
  "language_info": {
   "codemirror_mode": {
    "name": "ipython",
    "version": 3
   },
   "file_extension": ".py",
   "mimetype": "text/x-python",
   "name": "python",
   "nbconvert_exporter": "python",
   "pygments_lexer": "ipython3",
   "version": "3.6.5"
  }
 },
 "nbformat": 4,
 "nbformat_minor": 2
}
