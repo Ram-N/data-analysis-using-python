{
 "cells": [
  {
   "cell_type": "code",
   "execution_count": 1,
   "metadata": {},
   "outputs": [],
   "source": [
    "from IPython.display import clear_output\n",
    "clear_output(wait=True)"
   ]
  },
  {
   "cell_type": "markdown",
   "metadata": {
    "collapsed": true,
    "slideshow": {
     "slide_type": "slide"
    }
   },
   "source": [
    "### 10 Minute Challenge\n",
    "# Task: Combine two lists into one Dictionary\n",
    "\n",
    "You  are given two Python Lists. One has **capitals**, and the other has **countries**. Create a Dictionary that has country as the “key”, and the capital city as the “value.”\n",
    "\n",
    "Work in pairs, then discuss among your table. \n",
    "\n",
    "Do not type the entire dictionary by hand! The goal is to learn how to do it using Python"
   ]
  },
  {
   "cell_type": "code",
   "execution_count": null,
   "metadata": {
    "slideshow": {
     "slide_type": "slide"
    }
   },
   "outputs": [],
   "source": [
    "cities = ['Kigali', 'Cairo', 'Asmara', 'Addis Ababa', 'Khartoum', 'Juba', 'Abuja', 'Rabat', 'Yaounde', 'Dodoma', 'Kampala']\n",
    "countries = ['Rwanda', 'Egypt', 'Eritrea', 'Ethiopia', 'Sudan', 'South Sudan', 'Nigeria', 'Morocco', 'Cameroon', 'Tanzania', \n",
    "             'Uganda']\n"
   ]
  },
  {
   "cell_type": "code",
   "execution_count": null,
   "metadata": {
    "slideshow": {
     "slide_type": "slide"
    }
   },
   "outputs": [],
   "source": [
    "#Create a dictionary of capitals by using Python to combine the lists...\n",
    "\n",
    "#Call it capitals\n",
    "capitals = {}"
   ]
  },
  {
   "cell_type": "code",
   "execution_count": null,
   "metadata": {},
   "outputs": [],
   "source": [
    "# Try your code here...\n",
    "\n"
   ]
  },
  {
   "cell_type": "code",
   "execution_count": null,
   "metadata": {},
   "outputs": [],
   "source": []
  },
  {
   "cell_type": "code",
   "execution_count": null,
   "metadata": {},
   "outputs": [],
   "source": [
    "#test if it is working\n",
    "\n",
    "print(capitals['Cameroon'])\n",
    "print(len(capitals))"
   ]
  },
  {
   "cell_type": "code",
   "execution_count": null,
   "metadata": {},
   "outputs": [],
   "source": []
  }
 ],
 "metadata": {
  "kernelspec": {
   "display_name": "Python 3",
   "language": "python",
   "name": "python3"
  },
  "language_info": {
   "codemirror_mode": {
    "name": "ipython",
    "version": 3
   },
   "file_extension": ".py",
   "mimetype": "text/x-python",
   "name": "python",
   "nbconvert_exporter": "python",
   "pygments_lexer": "ipython3",
   "version": "3.6.5"
  }
 },
 "nbformat": 4,
 "nbformat_minor": 2
}
