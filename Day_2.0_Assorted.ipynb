{
 "cells": [
  {
   "cell_type": "markdown",
   "metadata": {
    "slideshow": {
     "slide_type": "slide"
    }
   },
   "source": [
    "### Day 2.0\n",
    "\n",
    "# Recap + Quiz!\n",
    "\n",
    "<img src = \"images/logo.jpg\", width=\"100\" align=\"left\">\n",
    "\n",
    "<br><br><br><br>Ram Narasimhan"
   ]
  },
  {
   "cell_type": "code",
   "execution_count": 20,
   "metadata": {
    "slideshow": {
     "slide_type": "slide"
    }
   },
   "outputs": [
    {
     "data": {
      "text/plain": [
       "['DirEntry',\n",
       " 'F_OK',\n",
       " 'MutableMapping',\n",
       " 'O_APPEND',\n",
       " 'O_BINARY',\n",
       " 'O_CREAT',\n",
       " 'O_EXCL',\n",
       " 'O_NOINHERIT',\n",
       " 'O_RANDOM',\n",
       " 'O_RDONLY',\n",
       " 'O_RDWR',\n",
       " 'O_SEQUENTIAL',\n",
       " 'O_SHORT_LIVED',\n",
       " 'O_TEMPORARY',\n",
       " 'O_TEXT',\n",
       " 'O_TRUNC',\n",
       " 'O_WRONLY',\n",
       " 'P_DETACH',\n",
       " 'P_NOWAIT',\n",
       " 'P_NOWAITO',\n",
       " 'P_OVERLAY',\n",
       " 'P_WAIT',\n",
       " 'PathLike',\n",
       " 'R_OK',\n",
       " 'SEEK_CUR',\n",
       " 'SEEK_END',\n",
       " 'SEEK_SET',\n",
       " 'TMP_MAX',\n",
       " 'W_OK',\n",
       " 'X_OK',\n",
       " '_Environ',\n",
       " '__all__',\n",
       " '__builtins__',\n",
       " '__cached__',\n",
       " '__doc__',\n",
       " '__file__',\n",
       " '__loader__',\n",
       " '__name__',\n",
       " '__package__',\n",
       " '__spec__',\n",
       " '_execvpe',\n",
       " '_exists',\n",
       " '_exit',\n",
       " '_fspath',\n",
       " '_get_exports_list',\n",
       " '_putenv',\n",
       " '_unsetenv',\n",
       " '_wrap_close',\n",
       " 'abc',\n",
       " 'abort',\n",
       " 'access',\n",
       " 'altsep',\n",
       " 'chdir',\n",
       " 'chmod',\n",
       " 'close',\n",
       " 'closerange',\n",
       " 'cpu_count',\n",
       " 'curdir',\n",
       " 'defpath',\n",
       " 'device_encoding',\n",
       " 'devnull',\n",
       " 'dup',\n",
       " 'dup2',\n",
       " 'environ',\n",
       " 'errno',\n",
       " 'error',\n",
       " 'execl',\n",
       " 'execle',\n",
       " 'execlp',\n",
       " 'execlpe',\n",
       " 'execv',\n",
       " 'execve',\n",
       " 'execvp',\n",
       " 'execvpe',\n",
       " 'extsep',\n",
       " 'fdopen',\n",
       " 'fsdecode',\n",
       " 'fsencode',\n",
       " 'fspath',\n",
       " 'fstat',\n",
       " 'fsync',\n",
       " 'ftruncate',\n",
       " 'get_exec_path',\n",
       " 'get_handle_inheritable',\n",
       " 'get_inheritable',\n",
       " 'get_terminal_size',\n",
       " 'getcwd',\n",
       " 'getcwdb',\n",
       " 'getenv',\n",
       " 'getlogin',\n",
       " 'getpid',\n",
       " 'getppid',\n",
       " 'isatty',\n",
       " 'kill',\n",
       " 'linesep',\n",
       " 'link',\n",
       " 'listdir',\n",
       " 'lseek',\n",
       " 'lstat',\n",
       " 'makedirs',\n",
       " 'mkdir',\n",
       " 'name',\n",
       " 'open',\n",
       " 'pardir',\n",
       " 'path',\n",
       " 'pathsep',\n",
       " 'pipe',\n",
       " 'popen',\n",
       " 'putenv',\n",
       " 'read',\n",
       " 'readlink',\n",
       " 'remove',\n",
       " 'removedirs',\n",
       " 'rename',\n",
       " 'renames',\n",
       " 'replace',\n",
       " 'rmdir',\n",
       " 'scandir',\n",
       " 'sep',\n",
       " 'set_handle_inheritable',\n",
       " 'set_inheritable',\n",
       " 'spawnl',\n",
       " 'spawnle',\n",
       " 'spawnv',\n",
       " 'spawnve',\n",
       " 'st',\n",
       " 'startfile',\n",
       " 'stat',\n",
       " 'stat_float_times',\n",
       " 'stat_result',\n",
       " 'statvfs_result',\n",
       " 'strerror',\n",
       " 'supports_bytes_environ',\n",
       " 'supports_dir_fd',\n",
       " 'supports_effective_ids',\n",
       " 'supports_fd',\n",
       " 'supports_follow_symlinks',\n",
       " 'symlink',\n",
       " 'sys',\n",
       " 'system',\n",
       " 'terminal_size',\n",
       " 'times',\n",
       " 'times_result',\n",
       " 'truncate',\n",
       " 'umask',\n",
       " 'uname_result',\n",
       " 'unlink',\n",
       " 'urandom',\n",
       " 'utime',\n",
       " 'waitpid',\n",
       " 'walk',\n",
       " 'write']"
      ]
     },
     "execution_count": 20,
     "metadata": {},
     "output_type": "execute_result"
    }
   ],
   "source": [
    "import os\n",
    "dir(os)"
   ]
  },
  {
   "cell_type": "markdown",
   "metadata": {
    "slideshow": {
     "slide_type": "slide"
    }
   },
   "source": [
    "## Tip of the Day:\n",
    "\n",
    "You can use Tab in Jupyter. It will fill the text, if possible. (Can be very useful)\n",
    "![Tab help](images/jupyter_tab_help2.JPG)"
   ]
  },
  {
   "cell_type": "markdown",
   "metadata": {
    "slideshow": {
     "slide_type": "slide"
    }
   },
   "source": [
    "# How to see all the Python functions?\n",
    "\n",
    "### How do you see all the functions in any module?"
   ]
  },
  {
   "cell_type": "code",
   "execution_count": null,
   "metadata": {
    "collapsed": true
   },
   "outputs": [],
   "source": []
  },
  {
   "cell_type": "code",
   "execution_count": 21,
   "metadata": {
    "slideshow": {
     "slide_type": "slide"
    }
   },
   "outputs": [
    {
     "data": {
      "text/plain": [
       "['ArithmeticError',\n",
       " 'AssertionError',\n",
       " 'AttributeError',\n",
       " 'BaseException',\n",
       " 'BlockingIOError',\n",
       " 'BrokenPipeError',\n",
       " 'BufferError',\n",
       " 'BytesWarning',\n",
       " 'ChildProcessError',\n",
       " 'ConnectionAbortedError',\n",
       " 'ConnectionError',\n",
       " 'ConnectionRefusedError',\n",
       " 'ConnectionResetError',\n",
       " 'DeprecationWarning',\n",
       " 'EOFError',\n",
       " 'Ellipsis',\n",
       " 'EnvironmentError',\n",
       " 'Exception',\n",
       " 'False',\n",
       " 'FileExistsError',\n",
       " 'FileNotFoundError',\n",
       " 'FloatingPointError',\n",
       " 'FutureWarning',\n",
       " 'GeneratorExit',\n",
       " 'IOError',\n",
       " 'ImportError',\n",
       " 'ImportWarning',\n",
       " 'IndentationError',\n",
       " 'IndexError',\n",
       " 'InterruptedError',\n",
       " 'IsADirectoryError',\n",
       " 'KeyError',\n",
       " 'KeyboardInterrupt',\n",
       " 'LookupError',\n",
       " 'MemoryError',\n",
       " 'ModuleNotFoundError',\n",
       " 'NameError',\n",
       " 'None',\n",
       " 'NotADirectoryError',\n",
       " 'NotImplemented',\n",
       " 'NotImplementedError',\n",
       " 'OSError',\n",
       " 'OverflowError',\n",
       " 'PendingDeprecationWarning',\n",
       " 'PermissionError',\n",
       " 'ProcessLookupError',\n",
       " 'RecursionError',\n",
       " 'ReferenceError',\n",
       " 'ResourceWarning',\n",
       " 'RuntimeError',\n",
       " 'RuntimeWarning',\n",
       " 'StopAsyncIteration',\n",
       " 'StopIteration',\n",
       " 'SyntaxError',\n",
       " 'SyntaxWarning',\n",
       " 'SystemError',\n",
       " 'SystemExit',\n",
       " 'TabError',\n",
       " 'TimeoutError',\n",
       " 'True',\n",
       " 'TypeError',\n",
       " 'UnboundLocalError',\n",
       " 'UnicodeDecodeError',\n",
       " 'UnicodeEncodeError',\n",
       " 'UnicodeError',\n",
       " 'UnicodeTranslateError',\n",
       " 'UnicodeWarning',\n",
       " 'UserWarning',\n",
       " 'ValueError',\n",
       " 'Warning',\n",
       " 'WindowsError',\n",
       " 'ZeroDivisionError',\n",
       " '__IPYTHON__',\n",
       " '__build_class__',\n",
       " '__debug__',\n",
       " '__doc__',\n",
       " '__import__',\n",
       " '__loader__',\n",
       " '__name__',\n",
       " '__package__',\n",
       " '__spec__',\n",
       " 'abs',\n",
       " 'all',\n",
       " 'any',\n",
       " 'ascii',\n",
       " 'bin',\n",
       " 'bool',\n",
       " 'bytearray',\n",
       " 'bytes',\n",
       " 'callable',\n",
       " 'chr',\n",
       " 'classmethod',\n",
       " 'compile',\n",
       " 'complex',\n",
       " 'copyright',\n",
       " 'credits',\n",
       " 'delattr',\n",
       " 'dict',\n",
       " 'dir',\n",
       " 'divmod',\n",
       " 'dreload',\n",
       " 'enumerate',\n",
       " 'eval',\n",
       " 'exec',\n",
       " 'filter',\n",
       " 'float',\n",
       " 'format',\n",
       " 'frozenset',\n",
       " 'get_ipython',\n",
       " 'getattr',\n",
       " 'globals',\n",
       " 'hasattr',\n",
       " 'hash',\n",
       " 'help',\n",
       " 'hex',\n",
       " 'id',\n",
       " 'input',\n",
       " 'int',\n",
       " 'isinstance',\n",
       " 'issubclass',\n",
       " 'iter',\n",
       " 'len',\n",
       " 'license',\n",
       " 'list',\n",
       " 'locals',\n",
       " 'map',\n",
       " 'max',\n",
       " 'memoryview',\n",
       " 'min',\n",
       " 'next',\n",
       " 'object',\n",
       " 'oct',\n",
       " 'open',\n",
       " 'ord',\n",
       " 'pow',\n",
       " 'print',\n",
       " 'property',\n",
       " 'range',\n",
       " 'repr',\n",
       " 'reversed',\n",
       " 'round',\n",
       " 'set',\n",
       " 'setattr',\n",
       " 'slice',\n",
       " 'sorted',\n",
       " 'staticmethod',\n",
       " 'str',\n",
       " 'sum',\n",
       " 'super',\n",
       " 'tuple',\n",
       " 'type',\n",
       " 'vars',\n",
       " 'zip']"
      ]
     },
     "execution_count": 21,
     "metadata": {},
     "output_type": "execute_result"
    }
   ],
   "source": [
    "dir(__builtin__) #hit tab and demonstrate"
   ]
  },
  {
   "cell_type": "markdown",
   "metadata": {
    "slideshow": {
     "slide_type": "slide"
    }
   },
   "source": [
    "# Where are all your iPython Notebooks being stored?\n",
    "\n",
    "Two commands for you to try...\n",
    "\n",
    "!cd \n",
    "and !ls"
   ]
  },
  {
   "cell_type": "code",
   "execution_count": 6,
   "metadata": {
    "slideshow": {
     "slide_type": "slide"
    }
   },
   "outputs": [
    {
     "name": "stdout",
     "output_type": "stream",
     "text": [
      "c:\\Users\\Ram\\Py Library\\data-analysis-using-python\n"
     ]
    }
   ],
   "source": [
    "!cd"
   ]
  },
  {
   "cell_type": "code",
   "execution_count": 24,
   "metadata": {},
   "outputs": [
    {
     "name": "stdout",
     "output_type": "stream",
     "text": [
      " Volume in drive C is OSDisk\n",
      " Volume Serial Number is 0CAF-0346\n",
      "\n",
      " Directory of c:\\Users\\Ram\\Py Library\\data-analysis-using-python\n",
      "\n",
      "09/20/2017  12:57 AM    <DIR>          .\n",
      "09/20/2017  12:57 AM    <DIR>          ..\n",
      "03/26/2017  08:03 PM                43 .gitignore\n",
      "09/19/2017  11:48 PM    <DIR>          .ipynb_checkpoints\n",
      "09/18/2017  12:30 AM             2,221 _Name Picker.ipynb\n",
      "07/23/2017  10:07 PM             3,213 _TEMPLATE.ipynb\n",
      "09/19/2017  06:02 PM    <DIR>          admin\n",
      "04/17/2017  10:41 PM         2,093,749 basic-line.html\n",
      "09/10/2017  04:49 PM    <DIR>          checklist\n",
      "09/13/2017  02:59 PM    <DIR>          data\n",
      "09/17/2017  02:07 AM    <DIR>          Day 1 Python Intro\n",
      "07/24/2017  01:13 PM    <DIR>          Day 2 Python Viz\n",
      "09/11/2017  10:22 PM    <DIR>          Day 3 Big Data - Time Series\n",
      "09/10/2017  09:39 PM    <DIR>          Day 4 Big Data ML\n",
      "07/16/2017  05:51 PM    <DIR>          Day 5 Cloud Computing\n",
      "07/24/2017  01:13 PM    <DIR>          Day 6 IoT\n",
      "07/24/2017  01:03 PM    <DIR>          Day 7 Digital Twin & Simulation\n",
      "07/16/2017  05:52 PM    <DIR>          Day 8 Brilliant Factory\n",
      "09/11/2017  11:02 PM    <DIR>          Day 9 Team Presentations -  Case Studies\n",
      "09/17/2017  11:22 AM             3,329 Day_0_Checklist.ipynb\n",
      "09/19/2017  02:08 AM            13,791 Day_1.1_Introduction to Jupyter Notebooks.ipynb\n",
      "09/19/2017  02:50 AM             7,748 Day_1.2_Getting Started with Python.ipynb\n",
      "09/19/2017  05:43 PM            21,952 Day_1.3_Arithmetic_and_String_Operations in Python.ipynb\n",
      "09/19/2017  05:57 PM            14,505 Day_1.4_Python Lists.ipynb\n",
      "09/19/2017  05:39 PM             3,345 Day_1.5_Exercise_Lists_based.ipynb\n",
      "09/19/2017  05:52 PM             5,301 Day_1.5_Exercise_SOLUTION_Lists_based.ipynb\n",
      "09/20/2017  12:57 AM            13,846 Day_2.0_Assorted.ipynb\n",
      "09/19/2017  06:05 PM             5,497 Day_2.1_Using Variables.ipynb\n",
      "09/19/2017  11:48 PM           915,027 Day_2.2_Flow of Control in Python.ipynb\n",
      "09/19/2017  11:49 PM           920,933 Day_2.3_Functions.ipynb\n",
      "09/19/2017  05:58 PM             9,748 Day_2.4_Python Dictionaries.ipynb\n",
      "09/19/2017  07:26 PM            10,513 Day_2.5_List_Slicing_Extra.ipynb\n",
      "09/19/2017  06:44 PM            92,432 Day_2.7_Basics of Plotting using Python.ipynb\n",
      "09/17/2017  02:19 AM             5,796 Day_2_List Comprehensions.ipynb\n",
      "09/17/2017  02:19 AM            45,112 Day_2_Plotting with Seaborn.ipynb\n",
      "09/17/2017  02:16 AM            34,143 Day_2_Reading A File.ipynb\n",
      "09/13/2017  02:41 PM            78,739 Day_3.1 Pandas_At_Work_Movies_Example.ipynb\n",
      "09/13/2017  06:57 PM            43,126 Day_3.2 Loading and Viewing DataFrames (and Series).ipynb\n",
      "09/13/2017  06:55 PM           203,061 Day_3.3 Pandas - Working with Columns.ipynb\n",
      "09/13/2017  07:02 PM           203,129 Day_3.4 Selecting Data (Using Boolean Masks).ipynb\n",
      "09/13/2017  11:15 AM            65,097 Day_3.7 Data Manipulation Exercise.ipynb\n",
      "09/10/2017  09:37 PM           318,915 Day_4_Decision Trees_Using_sklearn.ipynb\n",
      "09/10/2017  12:50 PM            68,212 Day_4_Introduction to Linear Regression.ipynb\n",
      "09/10/2017  09:24 PM           256,919 Day_4_SOLUTION_Decision Trees_ESPs.ipynb\n",
      "08/30/2017  12:47 PM            60,223 Day_7_BearingFailure.ipynb\n",
      "08/30/2017  10:02 AM            44,458 Day_7_CoinToss.ipynb\n",
      "09/01/2017  10:31 AM            95,589 Day_7_Solution_Vendor_Simulation.ipynb\n",
      "09/17/2017  02:20 AM            31,982 Day_8_Mfg_data generation.ipynb\n",
      "07/21/2017  02:46 PM             4,424 DELETE Day_1 Introduction to Python Lists.ipynb\n",
      "07/21/2017  11:43 AM             7,724 DELETE_Day_1_Intro to Dictionaries.ipynb\n",
      "09/13/2017  10:43 AM             8,750 Delete_Pandas_at_work_Movies.ipynb\n",
      "07/19/2017  09:11 AM             8,756 Error Handling Basics.ipynb\n",
      "09/13/2017  10:45 AM             3,423 Everything notes for Py Analysis class.txt\n",
      "09/18/2017  10:14 AM    <DIR>          Files_to_Upload\n",
      "09/18/2017  10:14 AM         3,010,777 Files_to_Upload.zip\n",
      "03/23/2017  09:06 PM         1,161,393 GMM Basics.pptx\n",
      "09/19/2017  06:03 PM    <DIR>          Handouts\n",
      "09/19/2017  07:20 PM    <DIR>          images\n",
      "03/13/2016  01:39 PM            55,857 Ipython Tricks & Tips.ipynb\n",
      "09/10/2017  09:30 PM             1,617 iris.dot\n",
      "06/24/2017  10:16 PM            13,149 merged.ipynb\n",
      "07/13/2017  04:17 PM            12,504 modules.xlsx\n",
      "06/24/2017  10:14 PM             1,096 nbmerge.py\n",
      "07/20/2017  01:29 PM    <DIR>          numpy\n",
      "09/02/2017  10:53 AM            17,727 OGDF_Sep2017_modules - Copy.xlsx\n",
      "09/19/2017  11:18 PM            24,024 OGDF_Sep2017_modules.xlsx\n",
      "07/19/2017  12:27 PM    <DIR>          output\n",
      "04/03/2017  07:32 AM            59,951 Pandas Panels.ipynb\n",
      "04/16/2016  02:09 PM             4,224 Pandas Tricks and Tips.ipynb\n",
      "09/11/2017  10:42 PM            47,514 Pandas_Bio8366_Useful_cells.ipynb\n",
      "09/11/2017  10:20 PM            66,460 pandas_full_reference.ipynb\n",
      "04/17/2017  11:23 PM            12,686 Plotly Basics.ipynb\n",
      "03/25/2017  02:39 PM            96,778 Plotting.pptx\n",
      "09/19/2017  11:44 PM    <DIR>          Presentations\n",
      "06/24/2017  10:23 PM            12,862 Probabilities Using Python.ipynb\n",
      "06/24/2017  10:02 PM           279,034 Probabilities Using Python.slides.html\n",
      "03/17/2017  02:25 PM           195,813 Probability with Python.slides.html\n",
      "07/04/2017  08:40 AM    <DIR>          probability_basics\n",
      "03/27/2017  08:35 PM            56,379 Python Lists.pptx\n",
      "07/19/2017  01:55 PM           279,993 Reading A File.slides.html\n",
      "03/17/2017  08:52 AM                29 README.md\n",
      "03/24/2017  09:38 AM           206,421 Reproducible Analysis.pptx\n",
      "03/17/2017  10:49 AM    <DIR>          reveal.js\n",
      "09/09/2017  07:06 PM            38,156 RF_Importances_Pos_Neg.ipynb\n",
      "03/17/2017  02:13 PM           198,204 Slide starter.slides.html\n",
      "09/02/2017  04:15 PM            67,484 table_parse.ipynb\n",
      "04/17/2017  10:14 PM         2,093,684 temp-plot.html\n",
      "04/01/2017  07:41 PM             2,490 Time Series with Pandas.ipynb\n",
      "07/19/2017  08:00 PM             7,932 Untitled.ipynb\n",
      "07/18/2017  11:16 AM           270,751 Untitled.slides.html\n",
      "09/12/2017  07:40 PM            11,136 Untitled1.ipynb\n",
      "09/18/2017  05:50 AM           926,578 Untitled2.ipynb\n",
      "03/23/2017  09:19 PM            56,006 Use Case - R^2 for random numbers.pptx\n",
      "07/24/2017  01:18 PM    <DIR>          Use Cases - Extras\n",
      "09/07/2017  08:31 PM           230,026 vendors.csv\n",
      "              71 File(s)     15,243,506 bytes\n",
      "              24 Dir(s)  797,961,957,376 bytes free\n"
     ]
    }
   ],
   "source": [
    "%ls"
   ]
  },
  {
   "cell_type": "code",
   "execution_count": null,
   "metadata": {
    "collapsed": true,
    "slideshow": {
     "slide_type": "slide"
    }
   },
   "outputs": [],
   "source": [
    "import math\n",
    "import os"
   ]
  },
  {
   "cell_type": "code",
   "execution_count": null,
   "metadata": {
    "collapsed": true,
    "slideshow": {
     "slide_type": "slide"
    }
   },
   "outputs": [],
   "source": [
    "dir(math)"
   ]
  },
  {
   "cell_type": "code",
   "execution_count": null,
   "metadata": {
    "collapsed": true,
    "slideshow": {
     "slide_type": "slide"
    }
   },
   "outputs": [],
   "source": [
    "help(math.sin)"
   ]
  },
  {
   "cell_type": "code",
   "execution_count": null,
   "metadata": {
    "collapsed": true,
    "scrolled": true,
    "slideshow": {
     "slide_type": "slide"
    }
   },
   "outputs": [],
   "source": [
    "help()"
   ]
  },
  {
   "cell_type": "markdown",
   "metadata": {
    "slideshow": {
     "slide_type": "slide"
    }
   },
   "source": [
    "![Questions](images/questions.png)"
   ]
  },
  {
   "cell_type": "markdown",
   "metadata": {
    "collapsed": true,
    "slideshow": {
     "slide_type": "slide"
    }
   },
   "source": [
    "[section title](#section_ID)"
   ]
  },
  {
   "cell_type": "markdown",
   "metadata": {
    "collapsed": true,
    "slideshow": {
     "slide_type": "slide"
    }
   },
   "source": [
    "__[link text](http://url)__ : External Link\n"
   ]
  },
  {
   "cell_type": "markdown",
   "metadata": {},
   "source": [
    "***"
   ]
  },
  {
   "cell_type": "markdown",
   "metadata": {},
   "source": [
    "<div class=\"alert alert-block alert-warning\">Example: Use yellow boxes for examples that are not inside code cells, or use for mathematical formulas if needed.</div>"
   ]
  },
  {
   "cell_type": "markdown",
   "metadata": {},
   "source": [
    "<div class=\"alert alert-block alert-success\">Up to you: Use green boxes sparingly, and only for some specific purpose that the other boxes can't cover. For example, if you have a lot of related content to link to, maybe you decide to use green boxes for related links from each section of a notebook. </div>\n",
    "\n",
    "<div class=\"alert alert-block alert-danger\">**Just don't: In general, just avoid the red boxes.**</div>"
   ]
  },
  {
   "cell_type": "markdown",
   "metadata": {
    "slideshow": {
     "slide_type": "slide"
    }
   },
   "source": [
    "<img src = \"images/caution.png\", width=\"50\" align=\"left\">\n",
    "# Be Careful about :\n",
    "\n",
    "### <div class=\"alert alert-block alert-info\">Be sure that the names have been changed permanently!</div>\n"
   ]
  },
  {
   "cell_type": "code",
   "execution_count": null,
   "metadata": {
    "collapsed": true
   },
   "outputs": [],
   "source": []
  }
 ],
 "metadata": {
  "celltoolbar": "Slideshow",
  "kernelspec": {
   "display_name": "Python 3",
   "language": "python",
   "name": "python3"
  },
  "language_info": {
   "codemirror_mode": {
    "name": "ipython",
    "version": 3
   },
   "file_extension": ".py",
   "mimetype": "text/x-python",
   "name": "python",
   "nbconvert_exporter": "python",
   "pygments_lexer": "ipython3",
   "version": "3.6.0"
  }
 },
 "nbformat": 4,
 "nbformat_minor": 2
}
