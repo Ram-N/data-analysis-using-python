{
 "cells": [
  {
   "cell_type": "markdown",
   "metadata": {
    "slideshow": {
     "slide_type": "slide"
    }
   },
   "source": [
    "# Reading Files\n",
    "\n",
    "<img src = \"images/logo.jpg\", width=\"100\" align=\"left\">"
   ]
  },
  {
   "cell_type": "markdown",
   "metadata": {
    "slideshow": {
     "slide_type": "slide"
    }
   },
   "source": [
    "### Steps in Reading A File\n",
    "\n",
    "![](images/python_file1.png)\n"
   ]
  },
  {
   "cell_type": "code",
   "execution_count": null,
   "metadata": {
    "collapsed": true,
    "slideshow": {
     "slide_type": "slide"
    }
   },
   "outputs": [],
   "source": [
    "f =open(fname, \"r\")\n",
    "\n",
    "for line in f:\n",
    "    print(line)"
   ]
  },
  {
   "cell_type": "markdown",
   "metadata": {
    "slideshow": {
     "slide_type": "slide"
    }
   },
   "source": [
    "## First, we have to find which files are in the directory.\n",
    "\n",
    "Then, we can try reading it."
   ]
  },
  {
   "cell_type": "code",
   "execution_count": 1,
   "metadata": {
    "slideshow": {
     "slide_type": "slide"
    }
   },
   "outputs": [
    {
     "data": {
      "text/plain": [
       "['CaliforniaCounty2012',\n",
       " 'Churn Prediction Data',\n",
       " 'Crude Oil Data',\n",
       " 'ESP Data',\n",
       " 'Manufacturing',\n",
       " 'movies.csv',\n",
       " 'old_faithful.csv',\n",
       " 'WorldPopulation',\n",
       " 'worlds_largest_Oil_and_Gas.txt']"
      ]
     },
     "execution_count": 1,
     "metadata": {},
     "output_type": "execute_result"
    }
   ],
   "source": [
    "import os\n",
    "os.listdir(\"data\")"
   ]
  },
  {
   "cell_type": "markdown",
   "metadata": {
    "slideshow": {
     "slide_type": "slide"
    }
   },
   "source": [
    "Let's try to read the file called *\"worlds_largest_Oil_and_Gas.txt\"*"
   ]
  },
  {
   "cell_type": "code",
   "execution_count": 2,
   "metadata": {
    "slideshow": {
     "slide_type": "slide"
    }
   },
   "outputs": [
    {
     "name": "stdout",
     "output_type": "stream",
     "text": [
      "==Global largest oil and gas companies==\n",
      "\n",
      "| Country\n",
      "\n",
      "| Company name\n",
      "\n",
      "| Revenue 2015 (US$ billion)\n",
      "\n",
      "|-\n",
      "\n",
      "| Saudi Arabia \n",
      "\n",
      "|  Saudi Aramco \n",
      "\n",
      "| 478.00\n",
      "\n",
      "|-\n",
      "\n",
      "| China  \n",
      "\n",
      "|  Sinopec \n",
      "\n",
      "| 454.99\n",
      "\n",
      "|-\n",
      "\n",
      "| China  \n",
      "\n",
      "|  China National Petroleum Corporation \n",
      "\n",
      "| 428.62\n",
      "\n",
      "|-\n",
      "\n",
      "| China  \n",
      "\n",
      "|  PetroChina \n",
      "\n",
      "| 367.982\n",
      "\n",
      "|-\n",
      "\n",
      "|United States \n",
      "\n",
      "|  Exxon Mobil \n",
      "\n",
      "| 268.9\n",
      "\n",
      "|-\n",
      "\n",
      "| Netherlands  United Kingdom \n",
      "\n",
      "|  Royal Dutch Shell \n",
      "\n",
      "| 265\n",
      "\n",
      "|-\n",
      "\n",
      "| Kuwait \n",
      "\n",
      "|  Kuwait Petroleum Corporation \n",
      "\n",
      "| 251.94\n",
      "\n",
      "|-\n",
      "\n",
      "| United Kingdom \n",
      "\n",
      "|  BP \n",
      "\n",
      "| 222.8\n",
      "\n",
      "|-\n",
      "\n",
      "| France \n",
      "\n",
      "|  Total SA \n",
      "\n",
      "| 212\n",
      "\n",
      "|-\n",
      "\n",
      "| Russia \n",
      "\n",
      "|  Lukoil \n",
      "\n",
      "| 144.17\n",
      "\n",
      "|-\n",
      "\n",
      "| Italy \n",
      "\n",
      "|  Eni \n",
      "\n",
      "| 131.82\n",
      "\n",
      "|-\n",
      "\n",
      "| United States \n",
      "\n",
      "|  Valero Energy \n",
      "\n",
      "| 130.84\n",
      "\n",
      "|-\n",
      "\n",
      "| Brazil \n",
      "\n",
      "|  Petrobras \n",
      "\n",
      "| ''130.00*''\n",
      "\n",
      "|- \n",
      "\n",
      "|United States \n",
      "\n",
      "|  Chevron Corporation \n",
      "\n",
      "| 129.9\n",
      "\n",
      "|- \n",
      "\n",
      "| Venezuela \n",
      "\n",
      "|  PDVSA \n",
      "\n",
      "| 128.44\n",
      "\n",
      "|-\n",
      "\n",
      "| Mexico \n",
      "\n",
      "|  Pemex \n",
      "\n",
      "| 117.50\n",
      "\n",
      "|-\n",
      "\n",
      "| Iran \n",
      "\n",
      "|  National Iranian Oil Company \n",
      "\n",
      "| ''110.00**''\n",
      "\n",
      "|-\n",
      "\n",
      "|Russia \n",
      "\n",
      "|  Gazprom \n",
      "\n",
      "| 106.3\n",
      "\n",
      "|-\n",
      "\n",
      "| Malaysia \n",
      "\n",
      "|  Petronas \n",
      "\n",
      "| 100.74\n",
      "\n",
      "|-\n",
      "\n",
      "| China \n",
      "\n",
      "|  China National Offshore Oil \n",
      "\n",
      "| 98.53\n",
      "\n",
      "|-\n",
      "\n",
      "|United States \n",
      "\n",
      "|  Marathon Petroleum \n",
      "\n",
      "| 97.81\n",
      "\n",
      "|-\n",
      "\n",
      "| Thailand \n",
      "\n",
      "|  PTT Public Company Limited|PTT \n",
      "\n",
      "| 93.55\n",
      "\n",
      "|-\n",
      "\n",
      "| Russia \n",
      "\n",
      "|  Rosneft \n",
      "\n",
      "| 91.72\n",
      "\n",
      "|-\n",
      "\n",
      "| Japan \n",
      "\n",
      "|  JX Holdings \n",
      "\n",
      "| 90.67\n",
      "\n",
      "|-\n",
      "\n",
      "| France \n",
      "\n",
      "|  Engie \n",
      "\n",
      "| 89.64\n",
      "\n",
      "|-\n",
      "\n",
      "| Norway \n",
      "\n",
      "|  Statoil \n",
      "\n",
      "| 82.48\n",
      "\n",
      "|-\n",
      "\n",
      "| India \n",
      "\n",
      "|  Indian Oil Corporation \n",
      "\n",
      "| 81.55\n",
      "\n",
      "|- \n",
      "\n",
      "| Algeria \n",
      "\n",
      "|  Sonatrach \n",
      "\n",
      "| ''76.10**''\n",
      "\n",
      "|- \n",
      "\n",
      "| India \n",
      "\n",
      "|  Reliance Industries \n",
      "\n",
      "| 73.10\n",
      "\n",
      "|-\n",
      "\n",
      "|Indonesia \n",
      "\n",
      "|  Pertamina \n",
      "\n",
      "| 70.65\n",
      "\n",
      "|-\n",
      "\n",
      "| United States \n",
      "\n",
      "|  Conoco Phillips \n",
      "\n",
      "| 55.52\n",
      "\n",
      "|-\n",
      "\n",
      "| South Korea \n",
      "\n",
      "|  GS Caltex \n",
      "\n",
      "| 50.26\n",
      "\n",
      "|-\n",
      "\n",
      "| United States \n",
      "\n",
      "|  Enterprise Products \n",
      "\n",
      "| 47.95\n",
      "\n",
      "|-\n",
      "\n",
      "| Spain \n",
      "\n",
      "|  Repsol \n",
      "\n",
      "| 47.29\n",
      "\n",
      "|-\n",
      "\n",
      "|United Kingdom \n",
      "\n",
      "|  Centrica \n",
      "\n",
      "| 45.29\n",
      "\n",
      "|-\n",
      "\n",
      "|India \n",
      "\n",
      "|  Bharat Petroleum \n",
      "\n",
      "| 43.46\n",
      "\n",
      "|-\n",
      "\n",
      "| Austria \n",
      "\n",
      "|  OMV Group \n",
      "\n",
      "| 43.09\n",
      "\n",
      "|-\n",
      "\n",
      "| Azerbaijan \n",
      "\n",
      "|  SOCAR \n",
      "\n",
      "| 39.70\n",
      "\n",
      "|-\n",
      "\n",
      "| Japan \n",
      "\n",
      "|  Idemitsu Kosan \n",
      "\n",
      "| 38.58\n",
      "\n",
      "|-\n",
      "\n",
      "| India \n",
      "\n",
      "|  Hindustan Petroleum \n",
      "\n",
      "| 37.85\n",
      "\n",
      "|-\n",
      "\n",
      "| Poland \n",
      "\n",
      "|  PKN Orlen \n",
      "\n",
      "| 36.1\n",
      "\n",
      "|-\n",
      "\n",
      "| France \n",
      "\n",
      "|   Schlumberger \n",
      "\n",
      "| 35.47\n",
      "\n",
      "|-\n",
      "\n",
      "| Canada \n",
      "\n",
      "|  Suncor Energy \n",
      "\n",
      "| 34.66\n",
      "\n",
      "|-\n",
      "\n",
      "| Greece \n",
      "\n",
      "|  Hellenic Petroleum \n",
      "\n",
      "| 31.28\n",
      "\n",
      "|-\n",
      "\n",
      "| Greece \n",
      "\n",
      "|  Motor Oil Hellas \n",
      "\n",
      "| 28.98\n",
      "\n",
      "|-\n",
      "\n",
      "| Colombia \n",
      "\n",
      "|  Ecopetrol \n",
      "\n",
      "| 26.99\n",
      "\n",
      "|-\n",
      "\n",
      "| Spain \n",
      "\n",
      "|  CEPSA \n",
      "\n",
      "| 26.90\n",
      "\n",
      "|-\n",
      "\n"
     ]
    }
   ],
   "source": [
    "fname = 'data/worlds_largest_Oil_and_Gas.txt'\n",
    "f =open(fname, \"r\")\n",
    "for line in f:\n",
    "    print(line)\n",
    "    "
   ]
  },
  {
   "cell_type": "markdown",
   "metadata": {
    "slideshow": {
     "slide_type": "slide"
    }
   },
   "source": [
    "Do you notice the extra blank line that shows up?\n",
    "\n",
    "Let's try and fix that. (It happens because each line always ends with a \"\\n\")\n",
    "\n",
    "\n"
   ]
  },
  {
   "cell_type": "markdown",
   "metadata": {
    "slideshow": {
     "slide_type": "subslide"
    }
   },
   "source": [
    "\n",
    "![ ](images/print_help.JPG)\n"
   ]
  },
  {
   "cell_type": "code",
   "execution_count": null,
   "metadata": {
    "collapsed": true,
    "slideshow": {
     "slide_type": "slide"
    }
   },
   "outputs": [],
   "source": [
    "fname = 'data/worlds_largest_Oil_and_Gas.txt'\n",
    "f =open(fname, \"r\")\n",
    "\n",
    "for line in f:\n",
    "    print(line, end=\"\")\n",
    "    "
   ]
  },
  {
   "cell_type": "markdown",
   "metadata": {
    "slideshow": {
     "slide_type": "slide"
    }
   },
   "source": [
    "## We don't have to read it one line at a time.\n",
    "\n",
    "# We can also read the whole file at once."
   ]
  },
  {
   "cell_type": "code",
   "execution_count": null,
   "metadata": {
    "collapsed": true,
    "slideshow": {
     "slide_type": "slide"
    }
   },
   "outputs": [],
   "source": [
    "fname = 'data/worlds_largest_Oil_and_Gas.txt'\n",
    "f =open(fname, \"r\")\n",
    "\n",
    "file_contents = f.read()\n",
    "\n",
    "print(file_contents)\n",
    "    "
   ]
  },
  {
   "cell_type": "markdown",
   "metadata": {
    "slideshow": {
     "slide_type": "slide"
    }
   },
   "source": [
    "Do you remember the 'r' that we used with open()?\n",
    "\n",
    "In python there are many file modes. "
   ]
  },
  {
   "cell_type": "markdown",
   "metadata": {
    "slideshow": {
     "slide_type": "slide"
    }
   },
   "source": [
    "### Reading, Writing and Appending"
   ]
  },
  {
   "cell_type": "markdown",
   "metadata": {
    "slideshow": {
     "slide_type": "slide"
    }
   },
   "source": [
    "<img src=\"images/file_read_modes.JPG\" width=\"1000\">"
   ]
  },
  {
   "cell_type": "markdown",
   "metadata": {
    "slideshow": {
     "slide_type": "slide"
    }
   },
   "source": [
    "<img src=\"images/file_read_modes.png\" width=\"800\">"
   ]
  },
  {
   "cell_type": "markdown",
   "metadata": {
    "slideshow": {
     "slide_type": "slide"
    }
   },
   "source": [
    "## Let us write to a file"
   ]
  },
  {
   "cell_type": "code",
   "execution_count": null,
   "metadata": {
    "collapsed": true,
    "slideshow": {
     "slide_type": "slide"
    }
   },
   "outputs": [],
   "source": [
    "f = open(\"output/test.txt\", \"w\")\n",
    "\n",
    "f.write(\"First line of text\")\n",
    "f.write(\"Another line of text\")\n",
    "\n",
    "f.close()\n",
    "\n",
    "#Does the file look okay? Please Check!!"
   ]
  },
  {
   "cell_type": "code",
   "execution_count": null,
   "metadata": {
    "collapsed": true,
    "slideshow": {
     "slide_type": "subslide"
    }
   },
   "outputs": [],
   "source": [
    "f = open(\"output/test.txt\", \"w\")\n",
    "\n",
    "f.write(\"First line of text \\n\") #notice the \\n\n",
    "f.write(\"Another line of text \\n\")\n",
    "\n",
    "f.close()"
   ]
  },
  {
   "cell_type": "markdown",
   "metadata": {
    "slideshow": {
     "slide_type": "slide"
    }
   },
   "source": [
    "## Let's append to a file"
   ]
  },
  {
   "cell_type": "code",
   "execution_count": null,
   "metadata": {
    "collapsed": true,
    "slideshow": {
     "slide_type": "slide"
    }
   },
   "outputs": [],
   "source": [
    "f = open(\"output/test.txt\", \"a\")\n",
    "\n",
    "f.write(\"\\n more lines... \\n\") #notice the \\n\n",
    "f.write(\"Can be added \\n\")\n",
    "\n",
    "f.close()"
   ]
  },
  {
   "cell_type": "markdown",
   "metadata": {
    "slideshow": {
     "slide_type": "slide"
    }
   },
   "source": [
    "# Reading from a WebPage\n",
    "\n",
    "Python makes this really easy!"
   ]
  },
  {
   "cell_type": "code",
   "execution_count": 3,
   "metadata": {
    "collapsed": true,
    "slideshow": {
     "slide_type": "slide"
    }
   },
   "outputs": [],
   "source": [
    "import urllib.request\n",
    "\n",
    "page = urllib.request.urlopen('http://www.python.org')"
   ]
  },
  {
   "cell_type": "code",
   "execution_count": 4,
   "metadata": {
    "collapsed": true,
    "slideshow": {
     "slide_type": "slide"
    }
   },
   "outputs": [],
   "source": [
    "html_contents = page.read()"
   ]
  },
  {
   "cell_type": "code",
   "execution_count": 5,
   "metadata": {
    "slideshow": {
     "slide_type": "slide"
    }
   },
   "outputs": [
    {
     "data": {
      "text/plain": [
       "b'<!DOCTYPE html>\\n\\n<html data-ng-app=\"hotspotApp\" data-ng-controller=\"PageCtrl as page\">\\n<head>\\n    <meta charset=\"utf-8\" />\\n    <meta http-equiv=\"X-UA-Compatible\" content=\"IE=edge\" />\\n    <title>HotSpot</title>\\n    <meta name=\"viewport\" content=\"width=device-width, initial-scale=1\" />\\n    <meta name=\"copyright\" content=\"t-online.de\" />\\n    <meta name=\"description\" content=\"HotSpot\" /> \\n    <meta name=\"google-site-verification\" content=\"0rjsJiXOXjcia3Bbfq63MMrZSx9PySSKyBhcxC_VvAk\" />\\n    <meta name=\"keywords\" content=\"\" />\\n    <meta name=\"language\" content=\"de\" />\\n    <meta name=\"robots\" content=\"INDEX,FOLLOW\" />\\n    <meta name=\"scc_messung\" content=\"true\" />\\n    <meta name=\"generator\" content=\"HotSpot Suite\" /> \\n    <meta name=\"generated\" content=\"06.09.2017 12:19:24\" />\\n    <link rel=\"shortcut icon\" href=\"/shared/favicons/favicon_td,tid=da.png\" type=\"image/x-icon\" />\\n    \\n        <link type=\"text/css\" rel=\"stylesheet\" href=\"/shared/ecom3/dist/css/hotspot.min.css?v=20170906121924\" />\\n        \\n\\n\\t    \\n\\t    \\n    \\n</head>\\n<body>\\n    <noscript>\\n        <div class=\"error-overlay\">\\n            <span class=\"error-text\">\\n                \\n                <span><b>JavaScript is not enabled.</b><br />Please enable javascript in your browser.</span>\\n            </span>\\n        </div>\\n    </noscript>\\n\\n    <!--[if lte IE 8]>\\n        <div class=\"error-overlay\">\\n            <span class=\"error-text\">\\n                <b>Old browser</b><br />Please update your browser to use this page.</span>\\n            </span>\\n        </div>\\n    <![endif]-->\\n\\n    <div id=\"dtag-cookies-check\" class=\"error-overlay\" style=\"display:none\">\\n        <span class=\"error-text\">\\n            \\n            <span><b>Cookies are disabled</b><br />Please allow cookies in your browser.</span>\\n        </span>\\n    </div>\\n\\n    <div>\\n        <div class=\"container-fluid\">\\n            <div data-ng-view=\"\" class=\"view-frame portal\"></div>\\n        </div>\\n    </div>\\n\\n    \\n        <script type=\"text/javascript\" src=\"/shared/ecom3/dist/js/hotspot-compatibility.min.js?v=20170906121924\"></script>\\n        <script type=\"text/javascript\" src=\"/shared/ecom3/dist/js/hotspot.min.js?v=20170906121924\"></script>\\n        <script type=\"text/javascript\" src=\"/shared/ecom3/dist/js/hotspot-ati.min.js?v=20170906121924\"></script>\\n        <script type=\"text/javascript\" src=\"/shared/ecom3/dist/js/hotspot-locale-en_GB.min.js?v=20170906121924\"></script>\\n\\n        \\n    \\n    \\n        <script type=\"text/javascript\">\\n\\t\\t\\t(function () {\\n\\t\\t\\t\\tvar app = angular.module(\\'hotspotApp\\');\\n\\n\\t\\t\\t\\t\\n\\t\\t\\t\\tapp.value(\\'cookiePath\\', \\'/\\' + \\'TD\\' + \\'/hotspot\\');\\n\\t\\t\\t\\t \\n\\n\\t\\t\\t\\tapp.value(\\'hotspotSettings\\', {\\n\\t\\t\\t\\t\\tforFree: {},\\n\\t\\t\\t\\t\\tpartnerRegistration: {\\'registrationUrl\\':\\'https://wifi.frankfurt-airport.de/lpregister/public?lang=en\\',\\'secret\\':null,\\'validationUrl\\':\\'https://wifi.frankfurt-airport.de/lpregister/public/validateLogin?lang=en\\'},\\n\\t\\t\\t\\t\\tpartnerSurvey: null,\\n\\t\\t\\t\\t\\twelcomePage: {},\\n\\t\\t\\t\\t\\tlanguages: [\\'de_DE\\',\\'en_GB\\'],\\n\\t\\t\\t\\t\\tcustom: {}\\n\\t\\t\\t\\t});\\n\\n\\t\\t\\t\\tapp.value(\"providerSettings\", {\\'defaultPaymentMethod\\':\\'kreditkarte\\',\\'hideAllowPromotions\\':false,\\'hidePhoneNumber\\':false});\\n\\t\\t\\t\\tapp.value(\\'pricing.vouchers\\', [{\\'voucherID\\':\\'PASS_86400_0_EUR\\',\\'serviceID\\':0,\\'name\\':\\'1 day \\',\\'image\\':\\'<img height=\\\\\"163\\\\\" width=\\\\\"250\\\\\" src=\\\\\"/shared/ecom3/assets/img/payment/bilder/pi-150529-hs-voucher,tid=da.gif\\\\\" />\\',\\'imageUrl\\':\\'/shared/ecom3/assets/img/payment/bilder/pi-150529-hs-voucher,tid=da.gif\\',\\'nameOnCard\\':\\'\\',\\'durationOnCard\\':\\'1 day\\',\\'details\\':[\\'<ul><li>Can be used for up to 24 hours after initial login<\\\\/li><li>No data volume restriction<\\\\/li><li>No subscription required<\\\\/li><\\\\/ul>\\']},{\\'voucherID\\':\\'PASS_604800_0_EUR\\',\\'serviceID\\':0,\\'name\\':\\'1 week \\',\\'image\\':\\'<img height=\\\\\"163\\\\\" width=\\\\\"250\\\\\" src=\\\\\"/shared/ecom3/assets/img/payment/bilder/pi-150529-hs-voucher,tid=da.gif\\\\\" />\\',\\'imageUrl\\':\\'/shared/ecom3/assets/img/payment/bilder/pi-150529-hs-voucher,tid=da.gif\\',\\'nameOnCard\\':\\'\\',\\'durationOnCard\\':\\'1 week\\',\\'details\\':[\\'<ul><li>Can be used for up to 7 days after initial login<\\\\/li><li>No data volume restriction<\\\\/li><li>No subscription required<\\\\/li><\\\\/ul>\\']},{\\'voucherID\\':\\'PASS_2592000_0_EUR\\',\\'serviceID\\':0,\\'name\\':\\'1 month \\',\\'image\\':\\'<img height=\\\\\"163\\\\\" width=\\\\\"250\\\\\" src=\\\\\"/shared/ecom3/assets/img/payment/bilder/pi-150529-hs-voucher,tid=da.gif\\\\\" />\\',\\'imageUrl\\':\\'/shared/ecom3/assets/img/payment/bilder/pi-150529-hs-voucher,tid=da.gif\\',\\'nameOnCard\\':\\'\\',\\'durationOnCard\\':\\'1 month\\',\\'details\\':[\\'<ul><li>Get unlimited Internet access for 30 days<\\\\/li><li>No data volume restriction<\\\\/li><li>No subscription required<\\\\/li><\\\\/ul>\\']}]);\\n\\t\\t\\t\\tapp.value(\\'purchase.vouchers\\', [{\\'voucherID\\':\\'PASS_86400_0_EUR\\',\\'serviceID\\':602,\\'name\\':\\'1 day \\',\\'image\\':\\'<img height=\\\\\"163\\\\\" width=\\\\\"250\\\\\" src=\\\\\"/shared/ecom3/assets/img/payment/bilder/pi-150529-hs-voucher,tid=da.gif\\\\\" />\\',\\'imageUrl\\':\\'/shared/ecom3/assets/img/payment/bilder/pi-150529-hs-voucher,tid=da.gif\\',\\'nameOnCard\\':\\'\\',\\'durationOnCard\\':\\'1 day\\',\\'details\\':[\\'<ul class=\\\\\"ul\\\\\"><li>Can be used for up to 24 hours after initial login<\\\\/li><li>No data volume restriction<\\\\/li><li>No subscription required<\\\\/li><\\\\/ul>\\']},{\\'voucherID\\':\\'PASS_604800_0_EUR\\',\\'serviceID\\':0,\\'name\\':\\'1 week \\',\\'image\\':\\'<img height=\\\\\"163\\\\\" width=\\\\\"250\\\\\" src=\\\\\"/shared/ecom3/assets/img/payment/bilder/pi-150529-hs-voucher,tid=da.gif\\\\\" />\\',\\'imageUrl\\':\\'/shared/ecom3/assets/img/payment/bilder/pi-150529-hs-voucher,tid=da.gif\\',\\'nameOnCard\\':\\'\\',\\'durationOnCard\\':\\'1 week\\',\\'details\\':[\\'<ul><li>Can be used for up to 7 days after initial login<\\\\/li><li>No data volume restriction<\\\\/li><li>No subscription required<\\\\/li><\\\\/ul>\\']},{\\'voucherID\\':\\'PASS_2592000_0_EUR\\',\\'serviceID\\':0,\\'name\\':\\'1 month \\',\\'image\\':\\'<img height=\\\\\"163\\\\\" width=\\\\\"250\\\\\" src=\\\\\"/shared/ecom3/assets/img/payment/bilder/pi-150529-hs-voucher,tid=da.gif\\\\\" />\\',\\'imageUrl\\':\\'/shared/ecom3/assets/img/payment/bilder/pi-150529-hs-voucher,tid=da.gif\\',\\'nameOnCard\\':\\'\\',\\'durationOnCard\\':\\'1 month\\',\\'details\\':[\\'<ul><li>Get unlimited Internet access for 30 days<\\\\/li><li>No data volume restriction<\\\\/li><li>No subscription required<\\\\/li><\\\\/ul>\\']}]);\\n\\t\\t\\t\\tapp.value(\\'purchase.favoriteCountries\\', [{\\'name\\':\\'Germany\\',\\'name2\\':\\'Germany\\',\\'phonePrefix\\':\\'Germany (+49)\\',\\'phonePrefixShort\\':\\'+49\\',\\'countryCode\\':\\'DE\\'},{\\'name\\':\\'USA\\',\\'name2\\':\\'United States of America\\',\\'phonePrefix\\':\\'USA (+1)\\',\\'phonePrefixShort\\':\\'+1\\',\\'countryCode\\':\\'US\\'},{\\'name\\':\\'United Kingdom\\',\\'name2\\':\\'United Kingdom\\',\\'phonePrefix\\':\\'United Kingdom (+44 )\\',\\'phonePrefixShort\\':\\'+44\\',\\'countryCode\\':\\'GB\\',\\'isDefault\\':true},{\\'name\\':\\'France\\',\\'name2\\':\\'France\\',\\'phonePrefix\\':\\'France (+33 )\\',\\'phonePrefixShort\\':\\'+33\\',\\'countryCode\\':\\'FR\\'}]);\\n\\t\\t\\t\\tapp.value(\\'purchase.paymentMethods\\', [{\\'displayFastPayCheckbox\\':true,\\'displayTitle\\':false,\\'id\\':\\'paypal\\',\\'images\\':[\\'paypal\\'],\\'infoText\\':\\'Use PayPal to pay for HotSpot Pass.\\',\\'isDefault\\':false,\\'paymentHandleText\\':\\'Save your PayPal data.\\',\\'title\\':\\'PayPal\\'},{\\'displayFastPayCheckbox\\':true,\\'displayTitle\\':false,\\'id\\':\\'kreditkarte\\',\\'images\\':[\\'visa\\',\\'master\\',\\'amex\\',\\'jcb\\',\\'dinersclub\\',\\'discover_card\\',\\'unionpay\\'],\\'infoText\\':\\'We accept Visa, Mastercard, American Express, JCB, Diners Club and China UnionPay.\\',\\'isDefault\\':false,\\'paymentHandleText\\':\\'Save credit card data (without credit card verification code).\\',\\'title\\':\\'Credit Card\\'},{\\'displayFastPayCheckbox\\':true,\\'displayTitle\\':false,\\'id\\':\\'clickandbuy\\',\\'images\\':[\\'clickandbuy\\'],\\'infoText\\':\\'Use ClickandBuy to pay for HotSpot Pass. Use existing credit on your ClickandBuy account for payment. For technical reasons, it is not possible to top up your account by credit card or Maestro on the HotSpot.\\',\\'isDefault\\':false,\\'paymentHandleText\\':\\'Save your ClickandBuy data.\\',\\'title\\':\\'ClickandBuy\\'},{\\'displayFastPayCheckbox\\':false,\\'displayTitle\\':false,\\'id\\':\\'mobile_aperto\\',\\'images\\':[\\'mobile_aperto\\'],\\'infoText\\':\\'As a customer of E\\\\xA0 Plus, O2, Vodafone,\\\\xA0 or partner of these services you can pay with your mobile phone. The accrued amount is paid via your mobile phone bill.\\',\\'isDefault\\':false,\\'paymentHandleText\\':\\'\\',\\'title\\':\\'Mobile\\'},{\\'displayFastPayCheckbox\\':true,\\'displayTitle\\':false,\\'id\\':\\'jalcard\\',\\'images\\':[\\'jal\\'],\\'infoText\\':\\'10% off with the following credit card, JAL Card, JAL USA CARD, JAL-Shanghai Pudong Development Bank Card!\\',\\'isDefault\\':false,\\'paymentHandleText\\':\\'Save credit card data (without credit card verifaction code).\\',\\'title\\':\\'JAL-Card\\'},{\\'displayFastPayCheckbox\\':true,\\'displayTitle\\':false,\\'id\\':\\'milesandmore\\',\\'images\\':[\\'milesandmore\\'],\\'infoText\\':\\'As a Miles & More customer you can pay with miles.\\',\\'isDefault\\':false,\\'paymentHandleText\\':\\'Save your Miles & More data.\\',\\'title\\':\\'Miles and More\\'},{\\'displayFastPayCheckbox\\':true,\\'displayTitle\\':false,\\'id\\':\\'micromoney\\',\\'images\\':[\\'micromoney\\'],\\'infoText\\':\\'Use Telefonkarte Comfort (TKC) to pay for HotSpot Pass.\\',\\'isDefault\\':false,\\'paymentHandleText\\':\\'Telefonkarte Comfort\\',\\'title\\':\\'Telefonkarte Comfort\\'},{\\'displayFastPayCheckbox\\':true,\\'displayTitle\\':false,\\'id\\':\\'maybank\\',\\'images\\':[\\'maybank\\'],\\'infoText\\':\\'10% off when you use your Maybank Card\\',\\'isDefault\\':false,\\'paymentHandleText\\':\\'Save credit card data (without credit card verifaction code).\\',\\'title\\':\\'Maybank Card\\'}]);\\n\\t\\t\\t})();\\n        </script>\\n    \\n    <div>\\n\\t\\t<div id=\"root\">\\n\\t\\t\\t<script data-id=\"strings\" type=\"application/json\">\\n\\t\\t\\t/*<![CDATA[*/\\n\\t\\t\\t\\t{\\n\\t\\t\\t\\t\\t\"common\": {\\'footer.copyright\\':\\'&copy; Telekom\\',\\'telekom.providedBy\\':\\'Service provided by\\',\\'partnerLogoText\\':\\'Presented by\\',\\'redirect.partner\\':\\'You will be redirected to our partner...\\',\\'telekom.claim\\':\\'Life is for sharing.\\'},\\n\\t\\t\\t\\t\\t\"legal\": {\\'acceptTermsAndConditions.linkText\\':\\'Terms & Conditions\\',\\'privacy.url\\':\\'http://hotspot.de/csa/agb/pdf/en_GB/Notes_on_data_privacy,tid=da.pdf\\',\\'termsAndConditions.forFree.linkText\\':\\'Terms for Using Hotspot Free of Charge of T-Mobile HotSpot GmbH\\',\\'termsAndConditions.forFree.url\\':\\'https://www.hotspot.de/csa/agb/pdf/en_GB/Terms_and_Conditions_for_the_Use_T-Mobile_HotSpot_GmbH,tid=da.pdf\\',\\'acceptTermsAndConditions.prefix\\':\\'I accept the\\',\\'privacy.linkText\\':\\'Notes on data privacy for the HotSpot offerings of T-Mobile HotSpot GmbH\\',\\'termsAndConditions.url\\':\\'https://hotspot.t-mobile.net/TD/en_GB/web/terms_conditions/index.html\\',\\'headline\\':\\'Legal documents\\',\\'acceptTermsAndConditions.suffix\\':\\'from Telekom Deutschland.\\',\\'termsAndConditions.linkText\\':\\'General Terms and Conditions and Prices T-Mobile HotSpot GmbH\\'},\\n\\t\\t\\t\\t\\t\"start\": {\\'priceShock.td.buttonAccept\\':\\'Connect\\',\\'survey.title\\':\\'Answer a few questions and enjoy free Internet access!\\',\\'voucher.volume\\':\\'Volume\\',\\'priceShock.lh.option1.text\\':\\'Use your existing HotSpot-Tarif\\',\\'tab.dc\\':\\'Voucher code\\',\\'survey.completed\\':\\'Thank you for your time - use your free Internet access now!\\',\\'voucher.details\\':\\'Details\\',\\'priceShock.lh.option1.info\\':\\'\\\\u20AC | per 10 Minutes\\',\\'buy.title.timeLimited\\':\\'Surf longer with a HotSpot pass\\',\\'login.username.label\\':\\'E-mail address / Username\\',\\'roaming.title\\':\\'WiFi Roaming Partner\\',\\'buy.title.bwLimited\\':\\'Surf faster with a HotSpot pass\\',\\'tab.free\\':\\'Free surfing\\',\\'priceShock.td.buttonDecline\\':\\'Back\\',\\'forFree.title\\':\\'Free surfing with HotSpot\\',\\'partnerReg.register\\':\\'Register\\',\\'partnerReg.title.timeLimited\\':\\'{{timeLimit}} free surfing with HotSpot\\',\\'login.forgotPassword\\':\\'Forgot password?\\',\\'login.title\\':\\'HotSpot Login\\',\\'login.error\\':\\'Your e-mail address / username or password is incorrect.\\',\\'button.goOnline\\':\\'Go online\\',\\'login.separator\\':\\'or\\',\\'rememberMePlus.link.text\\':\\'MAC address\\',\\'dc.title\\':\\'Redeem a voucher\\',\\'login.rememberMe\\':\\'Remember me\\',\\'survey.startSurvey\\':\\'To the survey\\',\\'partnerReg.email.label\\':\\'E-mail address\\',\\'survey.title.timeLimited\\':\\'Answer a few questions and enjoy free Internet access for {{timeLimit}}!\\',\\'rememberMePlus.prefix\\':\\'I would like to start surfing directly at my next visit. Therefore, I agree that Telekom can store my \\',\\'priceShock.lh.buttonDecline\\':\\'Back\\',\\'partnerReg.login\\':\\'I&apos;m already registered\\',\\'partnerReg.title\\':\\'Free surfing with HotSpot\\',\\'voucher.duration\\':\\'Duration\\',\\'tab.login\\':\\'Login\\',\\'forFree.title.timeLimited\\':\\'{{timeLimit}} free surfing with HotSpot\\',\\'video.skip\\':\\'Skip ad\\',\\'rememberMePlus.suffix\\':\\' for redetection, up to 30 days from my last HotSpot visit. I can revoke the consent at any time by disconnecting the connection.\\',\\'login.wbaButton\\':\\'Login via WBA Partner\\',\\'priceShock.lh.option1.price\\':\\'1,49\\',\\'video.remaining\\':\\'Commercial ({{remaining}}/{{total}})\\',\\'voucher.choose\\':\\'Choose Pass\\',\\'rememberMePlus.link.tooltip\\':\\'A unique hardware address that serves as an identifier for computers on a network.\\',\\'priceShock.lh.buttonConfirm\\':\\'Confirm selection\\',\\'tab.roaming\\':\\'Roaming\\',\\'partnerReg.email\\':\\'Your e-mail address\\',\\'login.loggedIn\\':\\'You&apos;re logged in with your HotSpot-Account\\',\\'login.logout\\':\\'Logout\\',\\'buy.expired\\':\\'Your pass has expired, please purchase another one to continue surfing.\\',\\'login.passwordEmailSent\\':\\'An e-mail with further instructions on how to re-set your password, has been sent.\\',\\'priceShock.lh.introtext\\':\\'How would you like to proceed?\\',\\'roaming.text\\':\\'HotSpot is member of the Wireless Broadband Alliance. Please choose your Wifi roaming partner to get online.\\',\\'video.skipCountdown\\':\\'Skip ad in {{countdown}}s\\',\\'form.group.required\\':\\'These fields cannot be empty.\\',\\'priceShock.td.introtext\\':\\'Standard price for telecom customers is 9 ct / min. If your mobile tariff includes a HotSpot-Flatrate, you can enjoy unlimited free internet.\\',\\'partnerReg.email.text\\':\\'Please use the e-mail address you used for the registration.\\',\\'partnerReg.back\\':\\'Back\\',\\'form.field.required\\':\\'This field is mandatory.\\',\\'buy.title\\':\\'Buy a HotSpot Pass\\',\\'dc.code.redeem\\':\\'Redeem\\',\\'priceShock.lh.headline\\':\\'For using HotSpot during flight there are some extra fees\\',\\'dc.code.label\\':\\'Enter voucher code\\',\\'priceShock.td.headline\\':\\'Note for Telekom customers\\',\\'tab.buy\\':\\'Buy access\\',\\'partnerReg.completed\\':\\'You are successfully registered with this e-mail address:\\',\\'priceShock.lh.option2.text\\':\\'Buy a HotSpot Pass\\',\\'priceShock.lh.option2.info\\':\\'better if your surftime will be more than 70 minutes.\\',\\'login.password.label\\':\\'Password\\'},\\n\\t\\t\\t\\t\\t\"errors\": {\\'WP_FASTTRACK_NO_VOUCHER\\':\\'Sorry, something seems to have gone wrong. Please try again.\\',\\'WP_VOUCHER_INVALID_AT_LOCATION\\':\\'Promotion code not valid at this location.\\',\\'WP_INVALID_EMAIL\\':\\'The email address is invalid. Please enter a different e-mail address.\\',\\'WP_INVALID_USERNAME\\':\\'This username cannot be used. Please enter a different e-mail address.\\',\\'A1\\':\\'Promotion code not valid for this Pass\\',\\'A2\\':\\'Promotion code not valid at this location\\',\\'default\\':\\'An error has occurred. Please try again later.\\',\\'A3\\':\\'Promotion code is already reserved\\',\\'A4\\':\\'Promotion code expired\\',\\'455\\':\\'The cell phone number you have entered is invalid\\',\\'DEF_REGISTER_ERROR\\':\\'The chosen account name or password is invalid. Please review your data.\\',\\'A5\\':\\'Promotion code was already redeemed\\',\\'A6\\':\\'Promotion code not valid for this payment method\\',\\'A7\\':\\'Sorry, something seems to have gone wrong.(A7) Please try again.\\',\\'A8\\':\\'Sorry, something seems to have gone wrong.(A8) Please try again.\\',\\'A9\\':\\'Promotion code does not exist\\',\\'WP_FASTTRACK_NOT_SUPPORTED\\':\\'Sorry, something seems to have gone wrong. Please try again.\\',\\'WP_NO_DISCOUNT_PREVIOUSLY_APPLIED\\':\\'Promotion code was already redeemed.\\',\\'WP_DISCOUNTS_NOT_SUPPORTED\\':\\'Promotion code not valid at this location.\\',\\'99\\':\\'Roaming partner authorisation failed.\\',\\'WP_INVALID_PAYMENT_METHOD\\':\\'Promotion code not valid for this payment method.\\',\\'WP_DISCOUNTCODE_USED\\':\\'Maximum number of redemptions has been reached.\\',\\'A10\\':\\'Maximum number of redemptions has been reached\\',\\'A11\\':\\'Sorry, something seems to have gone wrong.(A11) Please try again.\\',\\'16\\':\\'Your free access quota is already exhausted.\\',\\'WP_DISCOUNTS_DISABLED_BY_MONITORING\\':\\'Promotion code not valid at this location.\\',\\'MA_MSISDN_INVALID\\':\\'The format of your mobile number is invalid.\\',\\'WP_DISCOUNTCODE_INVALID\\':\\'Promotion code does not exist.\\',\\'1\\':\\'Wrong username or password entered.\\',\\'WP_DISCOUNTTYPE_INVALID\\':\\'Sorry, something seems to have gone wrong. Please try again.\\',\\'2\\':\\'Your location is not available for free access. Please buy a HotSpot Pass.\\',\\'MA_MANDATORY_FIELD_EMPTY\\':\\'Please fill in all mandatory fields.\\',\\'3\\':\\'Please wait a minute before the next retry\\',\\'5\\':\\'Your account was temporarily disabled due to too many login attempts.\\',\\'7\\':\\'The voucher code is not valid.\\',\\'MA_NAME_INVALID\\':\\'This account name is invalid. Please choose another one.\\',\\'WP_NO_EMAIL_FOR_RECEIPT\\':\\'No contact e-mail address available.\\'}\\n\\t\\t\\t\\t}\\n\\t\\t\\t/*]]>*/\\n\\t\\t\\t</script>\\n\\t\\t</div>\\n\\t</div>\\n\\n    <script type=\"text/javascript\">\\n        if (!navigator.cookieEnabled) $(\\'#dtag-cookies-check\\').removeAttr(\\'style\\');\\n    </script>\\n</body>\\n</html>'"
      ]
     },
     "execution_count": 5,
     "metadata": {},
     "output_type": "execute_result"
    }
   ],
   "source": [
    "html_contents"
   ]
  },
  {
   "cell_type": "code",
   "execution_count": 6,
   "metadata": {
    "slideshow": {
     "slide_type": "slide"
    }
   },
   "outputs": [
    {
     "data": {
      "text/plain": [
       "b'<!DOCTYPE html>\\n\\n<html data-ng-app=\"hotspotApp\" data-ng-controller=\"PageCtrl as page\">\\n<head>\\n    <m'"
      ]
     },
     "execution_count": 6,
     "metadata": {},
     "output_type": "execute_result"
    }
   ],
   "source": [
    "html_contents[:100]"
   ]
  },
  {
   "cell_type": "markdown",
   "metadata": {
    "slideshow": {
     "slide_type": "slide"
    }
   },
   "source": [
    "# Any Questions?"
   ]
  }
 ],
 "metadata": {
  "celltoolbar": "Slideshow",
  "kernelspec": {
   "display_name": "Python 3",
   "language": "python",
   "name": "python3"
  },
  "language_info": {
   "codemirror_mode": {
    "name": "ipython",
    "version": 3
   },
   "file_extension": ".py",
   "mimetype": "text/x-python",
   "name": "python",
   "nbconvert_exporter": "python",
   "pygments_lexer": "ipython3",
   "version": "3.6.0"
  }
 },
 "nbformat": 4,
 "nbformat_minor": 2
}
